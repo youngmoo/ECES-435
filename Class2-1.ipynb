{
  "nbformat": 4,
  "nbformat_minor": 0,
  "metadata": {
    "colab": {
      "provenance": [],
      "collapsed_sections": [],
      "toc_visible": true,
      "include_colab_link": true
    },
    "kernelspec": {
      "display_name": "Python 3",
      "name": "python3"
    }
  },
  "cells": [
    {
      "cell_type": "markdown",
      "metadata": {
        "id": "view-in-github",
        "colab_type": "text"
      },
      "source": [
        "<a href=\"https://colab.research.google.com/github/youngmoo/ECES-435/blob/main/Class2-1\" target=\"_parent\"><img src=\"https://colab.research.google.com/assets/colab-badge.svg\" alt=\"Open In Colab\"/></a>"
      ]
    },
    {
      "cell_type": "markdown",
      "metadata": {
        "id": "tdusLm5n4gYt"
      },
      "source": [
        "# **ECES-435: Class 2.1**\n",
        "Welcome to Week 2! This week, we dive into all aspects of the Discrete Fourier Transform!\n",
        "\n"
      ]
    },
    {
      "cell_type": "markdown",
      "source": [
        "# Before we start: install `ipympl`\n",
        "\n",
        "* This module is needed to enable interactive Matplotlib figures\n",
        "* This installs packages that will require a restart of the runtime, so run this cell first."
      ],
      "metadata": {
        "id": "mIDulQoea077"
      }
    },
    {
      "cell_type": "code",
      "source": [
        "!pip install ipympl   # Also installs a more recent version of matplot (v3.5.3)"
      ],
      "metadata": {
        "id": "s4IrpVQoa6Pt"
      },
      "execution_count": null,
      "outputs": []
    },
    {
      "cell_type": "markdown",
      "source": [
        "## The usual imports\n",
        "Let's start by importing the \"usual\" modules we'll be using..."
      ],
      "metadata": {
        "id": "sw5xe4Xpa-Ho"
      }
    },
    {
      "cell_type": "code",
      "metadata": {
        "id": "eDaoDgqCs1mp"
      },
      "source": [
        "import numpy as np                # Load the NumPy module, using the abbreviation 'np'.\n",
        "import matplotlib.pyplot as plt   # Load the Matplotlib module, abbreviated as 'plt'\n",
        "import IPython.display as ipd     # Load the Interactive Python display module, abbreviated as 'ipd'\n",
        "import soundfile as sf            # Load the 'librosa' module for working with sound files and more\n",
        "\n",
        "# Define a variable that's the directory path to our shared Google Drive folder\n",
        "path = '/content/drive/MyDrive/eces435-work/class2.1/'"
      ],
      "execution_count": null,
      "outputs": []
    },
    {
      "cell_type": "code",
      "metadata": {
        "id": "gIio921uLomj"
      },
      "source": [
        "# ENTER YOUR USERNAME\n",
        "username = 'zyx321'\n",
        "\n",
        "from google.colab import drive\n",
        "drive.mount('/content/drive')"
      ],
      "execution_count": null,
      "outputs": []
    },
    {
      "cell_type": "markdown",
      "source": [
        "# Enable interactive Matplotlib figures\n",
        "\n",
        "It's annoying that Colab's Matplotlib doesn't have this by default, but with a little work, we can enable basic figure interaction:\n",
        "* Pan\n",
        "* Zoom in/out\n",
        "* Display of cursor coordinates"
      ],
      "metadata": {
        "id": "ZRo1vqu--5k8"
      }
    },
    {
      "cell_type": "code",
      "source": [
        "from google.colab import output\n",
        "output.enable_custom_widget_manager()\n",
        "%matplotlib widget"
      ],
      "metadata": {
        "id": "DiOV4i9Ez01u"
      },
      "execution_count": null,
      "outputs": []
    },
    {
      "cell_type": "markdown",
      "source": [
        "## My plotting style defaults (optional)\n",
        "Feel free to adjust these to your liking."
      ],
      "metadata": {
        "id": "4St7ipii0RXG"
      }
    },
    {
      "cell_type": "code",
      "source": [
        "from matplotlib import rc\n",
        "\n",
        "rc('figure', figsize=(12,4))\n",
        "rc('figure', facecolor='#aaaaaa')     # Better figure background for dark mode\n",
        "\n",
        "rc('font', family='Liberation Serif') # Nicer font\n",
        "rc('font', size=20)                   # Larger font size for labels"
      ],
      "metadata": {
        "id": "Itwlskvbz4C1"
      },
      "execution_count": null,
      "outputs": []
    },
    {
      "cell_type": "markdown",
      "source": [
        "## `myPlot()` function\n",
        "A quick time-domain signal plot function with my default figure settings and a time x-axis (in seconds).\n",
        "* Required arguments:\n",
        "  * `sig` Input signal (first argument)\n",
        "* Optional arguments:\n",
        "  * `N=#` Number of samples to plot (default: length of signal)\n",
        "  * `fs=#` Sample rate of signal (default: 44100 Hz)\n",
        "  * `fig_size=(W,H)` Change figure dimensions (width, height)\n",
        "  * `x_ax=True/False` Show x-axis (default: True)\n",
        "  * `y_ax=True/False` Show y-axis (default: True)\n",
        "  * `lw=#` Change linewdith of signal (default: 1)\n",
        "  * `fmt='...'` Plot format string (default: none)"
      ],
      "metadata": {
        "id": "fM8Dr6GG0nF6"
      }
    },
    {
      "cell_type": "code",
      "source": [
        "def myPlot(sig, N=0, fs=44100, fig_size=(16,4), x_ax=True, y_ax=True, lw=1, fmt=''):\n",
        "  if N==0:\n",
        "    N = len(sig)\n",
        "\n",
        "  fig = plt.figure(figsize=fig_size)\n",
        "  t = np.arange(N)/fs\n",
        "\n",
        "  plt.plot( # Fill in this part )\n",
        "\n",
        "  plt.xlabel('Time (sec)')\n",
        "  ax = plt.gca()    # gca(): \"Get current axis\", the graph object that's currently plotted\n",
        "  \n",
        "  if x_ax == False:\n",
        "    ax.xaxis.set_visible(False)\n",
        "  if y_ax == False:\n",
        "    ax.yaxis.set_visible(False)\n",
        "\n",
        "  fig.tight_layout()\n",
        "  plt.ion()\n",
        "\n",
        "  # Returning the figure causes issues with interactive matplotlib\n",
        "  #return fig\n",
        "  # For saving the figure, use the interactive buton, instead.\n",
        "  # For further customization and command-line saving, more changes are required."
      ],
      "metadata": {
        "id": "rxGEYgTQdXuI"
      },
      "execution_count": null,
      "outputs": []
    },
    {
      "cell_type": "markdown",
      "metadata": {
        "id": "cWj0eW-qEjxf"
      },
      "source": [
        "#Let's load up some music..."
      ]
    },
    {
      "cell_type": "code",
      "metadata": {
        "id": "xMUmfBZ0-9XL"
      },
      "source": [
        "filepath = path + 'aha.wav'\n",
        "[aha, fs] = sf.read(filepath)\n",
        "print('sampling rate:' , fs)\n",
        "\n",
        "ipd.Audio(aha,rate=fs)"
      ],
      "execution_count": null,
      "outputs": []
    },
    {
      "cell_type": "markdown",
      "source": [
        "## Test out your `myPlot()` function\n",
        "* Try zooming in / out\n",
        "* Pan around the signal\n",
        "* Save / download the figure"
      ],
      "metadata": {
        "id": "v23kqxhK2MkH"
      }
    },
    {
      "cell_type": "code",
      "source": [
        "myPlot(aha)"
      ],
      "metadata": {
        "id": "erIxjlqj1wXV"
      },
      "execution_count": null,
      "outputs": []
    },
    {
      "cell_type": "markdown",
      "source": [
        "# Frequency analysis via the Fourier Series\n",
        "\n",
        "Remember, according to Fourier, any signal can be composed out of a *sum of sinusoids* (frequencies).\n",
        "* We've seen how sinusoids can be added to become *complex tones*.\n",
        "* How do we do the *opposite*, meaning how do we determine the amount of a particular frequency within a signal? The *Fourier Series* gives us this:\n",
        "\n",
        "  * $X(\\omega) = \\sum x[n] e^{-j \\omega n} =\\sum \\left(\\cos[\\omega n] - j \\sin[\\omega n]\\right)$\n",
        "    * where $\\omega = \\frac{2 \\pi f}{f_s}$, then...\n",
        "  * $a = X_{Real}(\\omega) = \\sum x[n] \\cos\\left[\\frac{2\\pi f n}{f_s}\\right]$\n",
        "  * $b = -X_{Imag}(\\omega) = \\sum x[n] \\sin\\left[\\frac{2\\pi f}{f_s}\\right]$\n",
        "  * Magnitude $c = |X(\\omega)| = \\sqrt{a_k^2 + b_k^2}$\n",
        "\n",
        "Write a function that takes a signal `x` and *one frequency* `f` as inputs and computes `a`, `b`, and `c`. \n"
      ],
      "metadata": {
        "id": "fabYhwiU2saq"
      }
    },
    {
      "cell_type": "code",
      "source": [
        "def frequencyAnalysis(x, f, fs=44100):\n",
        "  n = # An array of sample indexes\n",
        "  \n",
        "  sin_f = np.sin(2*np.pi*f*n / fs)\n",
        "  cos_f = np.cos(2*np.pi*f*n / fs)\n",
        "\n",
        "  myPlot(x*cos_f, fmt='g')\n",
        "  myPlot(x*sin_f, fmt='r')\n",
        "\n",
        "  a = # Real part of Fourier series coefficient\n",
        "  b = # Imaginary part of Fourier series coefficient\n",
        "  c = # Magnitude of the Fourier series coefficient\n",
        "\n",
        "  return a, b, c"
      ],
      "metadata": {
        "id": "uzv47jDh53dx"
      },
      "execution_count": null,
      "outputs": []
    },
    {
      "cell_type": "markdown",
      "source": [
        "Test out your `frequencyAnalysis` function"
      ],
      "metadata": {
        "id": "K-A-bcI3jOLD"
      }
    },
    {
      "cell_type": "code",
      "source": [
        "a, b, c = frequencyAnalysis(aha, 100)\n",
        "print(a, b, c)"
      ],
      "metadata": {
        "id": "q631uAef7dXh"
      },
      "execution_count": null,
      "outputs": []
    },
    {
      "cell_type": "markdown",
      "source": [
        "## Create a simple bar graph for your Fourier Series magnitude coefficient\n",
        "* Matplotlib's `bar` is a basic vertical bar graph"
      ],
      "metadata": {
        "id": "tha3m33E3TAS"
      }
    },
    {
      "cell_type": "code",
      "source": [
        "def plotMag(f, c):\n",
        "  fig = plt.figure(figsize=(12,8))\n",
        "  plt.bar(f, c)\n",
        "  plt.ylim(0,300)   # This range is kind of arbitrary, for now\n",
        "  return fig"
      ],
      "metadata": {
        "id": "4eiAkTh8-QD6"
      },
      "execution_count": null,
      "outputs": []
    },
    {
      "cell_type": "markdown",
      "source": [
        "I will assign you a frequency for `my_f`"
      ],
      "metadata": {
        "id": "gDDFnEI9jTtO"
      }
    },
    {
      "cell_type": "code",
      "source": [
        "my_f = # Input your assigned frequency\n",
        "\n",
        "a, b, c = frequencyAnalysis(aha, my_f)\n",
        "print(a, b, c)\n",
        "figpath = path + 'freqs/' + str(my_f) + '-mag.png'\n",
        "fig1 = plotMag(my_f, c)\n",
        "\n",
        "# When you're ready, uncomment the next line to save the figure to Google Drive\n",
        "#fig1.savefig(figpath)"
      ],
      "metadata": {
        "id": "c9N6Huyk-krP"
      },
      "execution_count": null,
      "outputs": []
    },
    {
      "cell_type": "markdown",
      "source": [
        "# *==Pause here while everyone generates their figures==*"
      ],
      "metadata": {
        "id": "lUxmAuLhg99c"
      }
    },
    {
      "cell_type": "markdown",
      "source": [
        "# The Fourier Series and Periodicity\n",
        "\n",
        "Any signal can be composed out of a *sum of sinusoids* (frequencies), but the *Fourier Series* actually goes further:\n",
        "* Every *periodic* signal is composed of sum of *harmonic* sinusoids (frequencies at integer multiples of a fundamental frequency, $f_0$).\n",
        "* But the signal we just looked at *isn't periodic*! What did we do?!?!? 😱\n",
        "\n",
        "Our previous frequency analysis was for the whole sample (~17 seconds).\n",
        "* We just *assume* the full sample is our \"period\". What was the fundamental frequency, $f_0$?\n"
      ],
      "metadata": {
        "id": "oJTLFbbk1Nth"
      }
    },
    {
      "cell_type": "code",
      "source": [
        "N = len(aha)  # total number of samples in our file\n",
        "T0 = N / fs   # our \"fundamental\" period (in seconds)\n",
        "print(\"Period:\", T0, \"seconds\")\n",
        "f0 = 1/T0     # our \"fundamental\" frequency\n",
        "print(\"Fundamental:\", f0, \"Hz\")"
      ],
      "metadata": {
        "id": "xYbS4cmp6KEi"
      },
      "execution_count": null,
      "outputs": []
    },
    {
      "cell_type": "markdown",
      "metadata": {
        "id": "EeEAPOloScED"
      },
      "source": [
        "## Can we determine *when* a frequency happens?\n",
        "\n",
        "Using the entire music sample doesn't tell us much about *when* those frequencies occur (or how they change over time).\n",
        "* Instead, what if we take a short clip (20 ms) of the music? Let's call this an analysis *frame*.\n",
        "* Then, we know any frequencies present in the frame occur within that short amount of time (20 ms).\n",
        "\n",
        "How many samples give us 20 ms?"
      ]
    },
    {
      "cell_type": "code",
      "metadata": {
        "id": "mIwrus3fS19X"
      },
      "source": [
        "dur = 0.02\n",
        "dur * fs    # Number of samples?"
      ],
      "execution_count": null,
      "outputs": []
    },
    {
      "cell_type": "markdown",
      "source": [
        "Create a frame that we'll call `clip`.\n",
        "* Have a listen (it's *really* short!)"
      ],
      "metadata": {
        "id": "7y8uAWbMfhBO"
      }
    },
    {
      "cell_type": "code",
      "metadata": {
        "id": "3GPuMCFMTpE9"
      },
      "source": [
        "frameSize = int(fs * dur)   # We want to use this as an array index, so we cast it to int (otherwise you get an error)\n",
        "clip = aha[fs : fs + frameSize]   # Let's clip a 0.02 sec segment, starting at 1 sec\n",
        "\n",
        "myPlot(clip)\n",
        "ipd.Audio(clip, rate=fs)"
      ],
      "execution_count": null,
      "outputs": []
    },
    {
      "cell_type": "markdown",
      "source": [
        "## Periodic extension\n",
        "Remember, the Fourier Series requires an infinitely-long periodic signal. \n",
        "\n",
        "* Let's extend our frame periodidically to approximate what the Fourier Series is actually analyzing:"
      ],
      "metadata": {
        "id": "rCjRjahz7HqO"
      }
    },
    {
      "cell_type": "code",
      "metadata": {
        "id": "v6qEECZVD35Z"
      },
      "source": [
        "clip_rep = np.tile(clip,50)\n",
        "myPlot(clip_rep)\n",
        "\n",
        "ipd.Audio(clip_rep,rate=fs)"
      ],
      "execution_count": null,
      "outputs": []
    },
    {
      "cell_type": "markdown",
      "source": [
        "## Now, what's our \"fundamental\" analysis frequency?"
      ],
      "metadata": {
        "id": "tk8lcRDz7RqH"
      }
    },
    {
      "cell_type": "code",
      "source": [
        "T0 = frameSize / fs   # Our \"fundamental\" period hould be 20 ms\n",
        "print(\"Period:\",T0,\"seconds\")\n",
        "f0 = # Fill in the relationship between frequency and period\n",
        "print(\"Fundamental:\",f0,\"Hz\")"
      ],
      "metadata": {
        "id": "oW6EnGkfernD"
      },
      "execution_count": null,
      "outputs": []
    },
    {
      "cell_type": "markdown",
      "metadata": {
        "id": "XzGFV8VVaE1x"
      },
      "source": [
        "# A straightforward implementation of the Fourier Transform\n",
        "* The Fourier Transform is simply the Fourier Series of the periodic extension of our analysis *frame*.\n",
        "  * Our fundamental analysis frequency, $f_0$ is determined by the number of samples in our frame (our \"period\").\n",
        "  * The Fourier Series coefficients give us the amount of frequency at the harmonics of $f_0$."
      ]
    },
    {
      "cell_type": "markdown",
      "source": [
        "\n",
        "  * $X[\\omega_k] = \\sum_{n=0}^{N-1} x[n] e^{-j \\omega_k n} =\\sum_{n=0}^{N-1} x[n] \\left(\\cos[\\omega_k n] - j \\sin[\\omega_k n]\\right)$\n",
        "    * $\\omega_k = 2 \\pi f_k / f_s$\n",
        "    * $N$ is the period (in samples), then…\n",
        "  * $a_k = X_{Re}[\\omega_k] = \\sum_{n=0}^{N-1} x[n] \\cos\\left[\\frac{2\\pi f_k n}{f_s}\\right]$\n",
        "  * $b_k = -X_{Im}[\\omega_k] = \\sum_{n=0}^{N-1} x[n] \\sin\\left[\\frac{2\\pi f_k n}{f_s}\\right]$\n",
        "  * Magnitude $c_k = |X[\\omega_k]| = \\sqrt{a_k^2 + b_k^2}$\n",
        "\n",
        "Write a function that takes a signal `x`, `fs`, and `K` (the number of Fourier coefficients to compute) as inputs and computes `a_k, b_k, and c_k`, the Fourier coefficients as outputs. \n"
      ],
      "metadata": {
        "id": "_1u99ntN5dCm"
      }
    },
    {
      "cell_type": "code",
      "source": [
        "def myFourierTransform(x, fs, K=16):\n",
        "  a_k = np.zeros(K)   # array for cos() weights\n",
        "  b_k = np.zeros(K)   # array for sin() weights\n",
        "  c_k = np.zeros(K)   # array for magnitude weights: sqrt(a**2 + b**2)\n",
        "\n",
        "  fig = plt.figure(figsize = (20, 8))\n",
        "  y_lim = 0.5;\n",
        "\n",
        "  n = np.arange(len(x))\n",
        "\n",
        "  for k in range(K):\n",
        "    f_k =   # The current analysis frequency\n",
        "    sin_k = \n",
        "    cos_k = \n",
        "\n",
        "    a_k[k] = \n",
        "    b_k[k] = \n",
        "    c_k[k] = \n",
        "\n",
        "    # Everything else in the loop is to make nice looking plots\n",
        "    plt.subplot(3,K,k+1)      # Subplots are indexed starting at 1, a la MATLAB ?!?!?\n",
        "    plt.plot(n,x*cos_k-0.1,'g')\n",
        "    plt.fill_between(n,x*cos_k-0.1,-0.1,facecolor='g',alpha=0.5)\n",
        "    plt.ylim(-y_lim,y_lim)\n",
        "    plt.axis('off')\n",
        "    \n",
        "    plt.subplot(3,K,K + k+1)\n",
        "    plt.plot(n,x,'c',n,0.1*cos_k+0.4 ,'g',n,0.1*sin_k-0.49,'r')\n",
        "    plt.ylim(-0.6,0.6)\n",
        "    plt.axis('off')\n",
        "\n",
        "    plt.subplot(3,K,2*K + k+1)\n",
        "    plt.plot(n,x*sin_k+0.1,'r')\n",
        "    plt.fill_between(n,x*sin_k+0.1,0.1,facecolor='r',alpha=0.5)\n",
        "    plt.ylim(-y_lim,y_lim)\n",
        "    plt.axis('off')\n",
        "\n",
        "  plt.show()\n",
        "\n",
        "  # Plot the a and b arrays\n",
        "  fig1 = plt.figure(figsize=(20,4))\n",
        "  plt.bar(np.arange(K)-0.15, a_k, width=0.3,color='g')\n",
        "  plt.bar(np.arange(K)+0.15, b_k, width=0.3,color='r')\n",
        "  plt.show()\n",
        "\n",
        "  # Plot the c array\n",
        "  fig2 = plt.figure(figsize=(20,4))\n",
        "  plt.bar(np.arange(K)*f0, c_k, width=30, color='b')\n",
        "  plt.show()\n",
        "\n",
        "  # Ouput c\n",
        "  return a_k, b_k, c_k"
      ],
      "metadata": {
        "id": "DMYLhjWkAybG"
      },
      "execution_count": null,
      "outputs": []
    },
    {
      "cell_type": "markdown",
      "source": [
        "## Let's use our Fourier Transform!"
      ],
      "metadata": {
        "id": "0ykfxoNzBEdO"
      }
    },
    {
      "cell_type": "code",
      "source": [
        "a_k, b_k, c_k = myFourierTransform(clip, fs)"
      ],
      "metadata": {
        "id": "-sWi-d8XAAqY"
      },
      "execution_count": null,
      "outputs": []
    },
    {
      "cell_type": "markdown",
      "source": [
        "Print your `c_k` output for later comparison."
      ],
      "metadata": {
        "id": "geocYSuMe9p6"
      }
    },
    {
      "cell_type": "code",
      "source": [
        "c_k"
      ],
      "metadata": {
        "id": "8M-DH7S1XNxk"
      },
      "execution_count": null,
      "outputs": []
    },
    {
      "cell_type": "markdown",
      "metadata": {
        "id": "4QF1D9dIaVR9"
      },
      "source": [
        "##The (Discrete) Fourier Transform\n",
        "\n",
        "Based on what we just did, this should look familiar:\n",
        "* $X[k] = \\sum_{n=0}^{N-1}x[n] e^\\frac{-j 2 \\pi f_k n}{N}$\n",
        "\n",
        "Aside: Can you prove that using $\\sin[2\\pi f_k n]$ and $\\cos[2\\pi f_k n]$ is the same as $e^{-j2\\pi f_k n}$ ?"
      ]
    },
    {
      "cell_type": "code",
      "source": [
        "def myDFT(x, fs, K=16):\n",
        "  X_k = np.zeros(K) * 1j    # Initialize the output as an array of complex numbers\n",
        "  n = np.arange(len(x))\n",
        "\n",
        "  for k in range(K):\n",
        "    f_k = f0*k\n",
        "    X_k[k] =  # Compute the Fourier output for f_k\n",
        "              # Try using np.exp() instead of np.sin() and np.cos()\n",
        "\n",
        "  return X_k"
      ],
      "metadata": {
        "id": "8bC5TYWLfGcv"
      },
      "execution_count": null,
      "outputs": []
    },
    {
      "cell_type": "code",
      "source": [
        "C1 = myDFT(clip, fs)\n",
        "np.abs(C1)"
      ],
      "metadata": {
        "id": "dnFQtpOJFiI7"
      },
      "execution_count": null,
      "outputs": []
    },
    {
      "cell_type": "markdown",
      "metadata": {
        "id": "XDAXO9ZzbHwH"
      },
      "source": [
        "##Dude, isn't there an *easier* way to compute the Fourier transform?\n",
        "Yes, the Fast Fourier Transform (FFT) is a *much* more efficient algorithm for computing the Discrete Fourier Transform (DFT). Lots of people say 'FFT' when they actually mean 'DFT'."
      ]
    },
    {
      "cell_type": "code",
      "metadata": {
        "id": "xcnpQcq7Nnf_"
      },
      "source": [
        "C2 = np.fft.fft(clip)     # FFT: 'Fast Fourier Transform'\n",
        "np.abs(C2[:16])"
      ],
      "execution_count": null,
      "outputs": []
    },
    {
      "cell_type": "markdown",
      "metadata": {
        "id": "WJ3GLyM3ZKVh"
      },
      "source": [
        "##What does the full DFT look like?\n",
        "\n",
        "* Plot the real and imaginary outputs of the DFT.\n",
        "* Add the magnitude of the DFT, $|X[k]|$?\n",
        "* Separately, plot the magnitude in decibels (dB)?\n",
        "  * $20 \\log_{10} |X[k]|$"
      ]
    },
    {
      "cell_type": "code",
      "source": [
        "N = len(clip)\n",
        "fig = plt.figure(figsize=(20,4))\n",
        "f = np.arange(N)*fs/N             # Frequency array, corresponding to Fourier frequencies (spaced at 50 Hz)\n",
        "\n",
        "plt.plot(f, # Fill in this statement\n",
        "\n",
        "#plt.xlim(0,fs/2)   # Try uncommenting this line"
      ],
      "metadata": {
        "id": "_XFwQQpWgUKF"
      },
      "execution_count": null,
      "outputs": []
    },
    {
      "cell_type": "markdown",
      "metadata": {
        "id": "UptGLO2LcsPm"
      },
      "source": [
        "# But I *need* more frequency resolution!\n",
        "\n",
        "Our frequency values are based on our \"fundamental\" period (the length of our frame), which is currently 50 Hz.\n",
        "* What happens if you zero-pad (add zeros to the end of the signal)?\n",
        "* Try different amounts of zero-padding"
      ]
    },
    {
      "cell_type": "code",
      "source": [
        "N_z = 2048    # Zero-padded length of the frame\n",
        "clip_z = np.append(clip, np.zeros(N_z - N)) # Zero-padded signal\n",
        "f_z = np.arange(N_z) * fs / N_z   # Frequency vector (extended to zero-padded length)\n",
        "\n",
        "C_z =  # Fill this in: the DFT of zero-padded signal\n",
        "\n",
        "fig1 = plt.figure(figsize=(20,4))\n",
        "plt.plot(clip_z)\n",
        "\n",
        "fig2 = plt.figure(figsize=(20,4))\n",
        "plt.plot(f_z, 20*np.log10(np.abs(C_z)))\n",
        "plt.xlabel('Frequency (Hz)')\n",
        "plt.xlim(0,fs/2)"
      ],
      "metadata": {
        "id": "m-11hxdRgtgP"
      },
      "execution_count": null,
      "outputs": []
    },
    {
      "cell_type": "markdown",
      "metadata": {
        "id": "0e95e0dfEZmx"
      },
      "source": [
        "## Periodic extension of a zero-padded frame"
      ]
    },
    {
      "cell_type": "code",
      "metadata": {
        "id": "ghgbl0f8shFC"
      },
      "source": [
        "clip_z_rep = np.tile(clip_z,15)\n",
        "myPlot(clip_z_rep)\n",
        "ipd.Audio(clip_z_rep,rate=fs)"
      ],
      "execution_count": null,
      "outputs": []
    },
    {
      "cell_type": "markdown",
      "metadata": {
        "id": "mYPt4m1taAt9"
      },
      "source": [
        "## Analysis windows\n",
        "Let's apply a window function to *taper* the edges of the analysis frame to reduce sidelobes in the frequency output. Some window functions (all built into NumPy):\n",
        "* `hanning` (Hann window)\n",
        "* `bartlett` (Triangle window)\n",
        "* `hamming` (Raised cosine variation)\n",
        "* `blackman` (High sidelobe reduction)"
      ]
    },
    {
      "cell_type": "code",
      "metadata": {
        "id": "CNy-J9KbYAI8"
      },
      "source": [
        "clip_w = clip[:N] * np.hanning(N)       # Actually a 'Hann' function\n",
        "#clip_w = clip[:N] * np.bartlett(N)     # Fancy name for a triangle\n",
        "#clip_w = clip[:N] * np.hamming(N)      # Another sinusoidal window\n",
        "#clip_w = clip[:N] * np.blackman(N)     # Another window with different tradeoffs\n",
        "\n",
        "clip_wz = clip_z      # The whole frame (with zero-padding)\n",
        "clip_wz[:N] = clip_w  # The windowed part of the frame\n",
        "\n",
        "C_wz = np.fft.fft(clip_wz)\n",
        "\n",
        "fig1 = plt.figure(figsize=(16,4))\n",
        "plt.plot(clip_wz)\n",
        "\n",
        "fig2 = plt.figure(figsize=(16,8))\n",
        "#plt.plot(f, np.abs(X))\n",
        "plt.plot(f_z, 20*np.log10(np.abs(C_wz)))\n",
        "\n",
        "#plt.xlim(0,fs/2)\n",
        "plt.xlim(0,10000)"
      ],
      "execution_count": null,
      "outputs": []
    },
    {
      "cell_type": "code",
      "source": [
        "fig2.savefig(path + 'winDFT/' + username + '-winDFT.png')"
      ],
      "metadata": {
        "id": "a3ln_rV-hmvB"
      },
      "execution_count": null,
      "outputs": []
    },
    {
      "cell_type": "markdown",
      "source": [
        "#*==Pause here while everyone saves their figures==*"
      ],
      "metadata": {
        "id": "dQMsfUqnkoD1"
      }
    },
    {
      "cell_type": "markdown",
      "metadata": {
        "id": "bDiEEemGrXVN"
      },
      "source": [
        "# Adding more DFT samples \n",
        "Adding more zeros increases the frequency resolution\n",
        "* We do this so often, it's a parameter of the `fft` function.\n"
      ]
    },
    {
      "cell_type": "code",
      "metadata": {
        "id": "GWujjcwVO5u0"
      },
      "source": [
        "N_fft = 8192\n",
        "C_w = np.fft.fft(clip_w)\n",
        "C_wz = np.fft.fft(clip_w, n=N_fft)\n",
        "\n",
        "fig = plt.figure(figsize=(16,4))\n",
        "#ax = plt.axes(xlim=(-20,5020), ylim=(0, 90))\n",
        "\n",
        "plt.plot(np.arange(N_fft)*fs/N_fft, 20*np.log10(np.abs(C_wz)),'.')\n",
        "plt.plot(np.arange(N)*fs/N,20*np.log10(np.abs(C_w)),'.',markersize=15)\n",
        "plt.xlim(0,5000)\n",
        "\n",
        "#fig.savefig(path + 'Fourier Transform-windowed.png', dpi=200, transparent=True)"
      ],
      "execution_count": null,
      "outputs": []
    },
    {
      "cell_type": "markdown",
      "metadata": {
        "id": "bSK1pKjA3CzV"
      },
      "source": [
        "#Fourier Transform of a long signal"
      ]
    },
    {
      "cell_type": "code",
      "source": [
        "AHA =           # DFT (FFT) of the full 'aha' signal\n",
        "N =             # Number of samples in the 'aha' signal\n",
        "\n",
        "fig1 = plt.figure()\n",
        "n = np.arange(N)          # Sample index for signal\n",
        "plt.plot(n/fs, aha)       # Plot the whole signal\n",
        "plt.xlabel('Time (sec)')\n",
        "\n",
        "fig2 = plt.figure()\n",
        "plt.plot(np.arange(N)*fs/N, 20*np.log10(np.abs(AHA)))   # Plot the magnitude DFT\n",
        "plt.xlim(0, fs/2)\n",
        "plt.xlabel('Frequency (Hz)')"
      ],
      "metadata": {
        "id": "T7fO2n8ubNks"
      },
      "execution_count": null,
      "outputs": []
    },
    {
      "cell_type": "markdown",
      "source": [
        "## myPlotFFT\n",
        "Plot the magnitude frequency response (in dB FS) of a signal with my default figure settings and a frequency x-axis (in Hz), based on the Nyquist rate.\n",
        "* Required arguments:\n",
        "  * `sig` Input signal (first argument)\n",
        "* Optional arguments:\n",
        "  * `n_fft=#` The size of FFT to use (default: length of input signal)\n",
        "  * `n_win=#` The length of Hann (hanning) window to use (default: length of input)\n",
        "  * `fs=#` Sample rate of signal (default: 44100 Hz)\n",
        "  * `x_lim=# or (#,#)` Frequency axis limits (max or range, in Hz)\n",
        "  * `fig_size=(W,H)` Change figure dimensions (width, height)\n",
        "  * `x_ax=True/False` Show x-axis (default: True)\n",
        "  * `y_ax=True/False` Show y-axis (default: True)\n",
        "  * `lw=#` Change linewdith of signal (default: 1)\n",
        "  * `fmt='...'` Change plot formatting (default: none)"
      ],
      "metadata": {
        "id": "PfrlcTkKcFc_"
      }
    },
    {
      "cell_type": "code",
      "source": [
        "def myPlotFFT(sig, fs=44100, n_fft=0, n_win=0, x_lim=0, fig_size=(16,4),x_ax=True, y_ax=True, lw=1, fmt=''):\n",
        "  \n",
        "  if n_fft==0:\n",
        "    n_fft = len(sig)\n",
        "  \n",
        "  if n_win==0:\n",
        "    n_win = len(sig)  \n",
        "  win = np.hanning(n_win)\n",
        "\n",
        "  S = # Fill this in\n",
        "\n",
        "  N = len(S)\n",
        "  f = np.arange(N) * fs / N\n",
        "  S_mag = 4*np.abs(S) / n_fft     # Frequency magnitude, normalized by length\n",
        "                                  #    x2 because cos(w) = 0.5e^jw + 0.5e^-jw\n",
        "                                  #    x2 because Hanning window has 0.5 average\n",
        "  S_mag += 0.0000001              # Add a small offset to avoid log(0) errors\n",
        "  S_dBFS = 20*np.log10(S_mag)     # Freq. magnitude in dB full scale (dB FS):\n",
        "                                  #    cos(w) -> 0 dBFS peak at w\n",
        "  fig = plt.figure(figsize=fig_size)\n",
        "  \n",
        "  plt.plot( # Fill this in\n",
        "           \n",
        "  if np.isscalar(x_lim):\n",
        "    if x_lim == 0:\n",
        "      x_lim = fs/2\n",
        "    plt.xlim(0, x_lim)\n",
        "  else:\n",
        "    plt.xlim(x_lim)\n",
        "  plt.xlabel('Frequency (Hz)')\n",
        "  plt.ylabel('Magnitude (dB)')\n",
        "\n",
        "  ax = plt.gca()\n",
        "  if x_ax == False:\n",
        "    ax.xaxis.set_visible(False)\n",
        "  if y_ax == False:\n",
        "    ax.yaxis.set_visible(False)\n",
        "  fig.tight_layout()\n",
        "\n",
        "  # Returning the figure causes issues with interactive matplotlib\n",
        "  #return fig\n",
        "  # For saving the figure, use the interactive buton, instead.\n",
        "  # For further customization and command-line saving, more changes are required."
      ],
      "metadata": {
        "id": "QQhzp-iZlHt6"
      },
      "execution_count": null,
      "outputs": []
    },
    {
      "cell_type": "code",
      "source": [
        "myPlotFFT(aha)"
      ],
      "metadata": {
        "id": "sXzDJMggcRp_"
      },
      "execution_count": null,
      "outputs": []
    },
    {
      "cell_type": "markdown",
      "metadata": {
        "id": "UN-4Ag_Nv-ZB"
      },
      "source": [
        "#Let's make a (FFT) movie!"
      ]
    },
    {
      "cell_type": "code",
      "metadata": {
        "id": "M0th-ks3haOh"
      },
      "source": [
        "# More modules required for animation\n",
        "from matplotlib import animation, rc\n",
        "from IPython.display import HTML\n",
        "\n",
        "n_o = 0\n",
        "f_size = int(fs*0.02)\n",
        "n_hop = f_size / 2\n",
        "N_fft = 4096\n",
        "f = np.arange(N_fft) * fs / N_fft\n",
        "\n",
        "# First set up the figure, the axis, and the plot element we want to animate\n",
        "fig = plt.figure(figsize=(14,6))\n",
        "ax = plt.axes(xlim=(0,5000),ylim=(-100,100))\n",
        "plt.close()   # Don't output the final figure separately\n",
        "\n",
        "line, = ax.plot([], [])\n",
        "\n",
        "# initialization function: plot the background of each frame\n",
        "def init():\n",
        "    line.set_data([], [])\n",
        "    return (line,)\n",
        "\n",
        "# animation function. This is called sequentially  \n",
        "def animate(i):\n",
        "    n1 = int(n_o + n_hop*i)\n",
        "    n2 = int(n_o + n_hop*i + f_size)\n",
        "\n",
        "    x_i = ycagwyw[n1:n2]\n",
        "    X_i = np.fft.fft(x_i * np.hanning(len(x_i)), n=N_fft)\n",
        "    X_mag = 20*np.log(np.abs(X_i))\n",
        "\n",
        "    line.set_data(f, X_mag)\n",
        "    return (line,)  \n",
        "\n",
        "anim = animation.FuncAnimation(fig, animate, init_func=init, frames=50, interval=20, blit=True)\n",
        "\n",
        "# Note: below is the part which makes it work on Colab\n",
        "rc('animation', html='jshtml')\n",
        "anim"
      ],
      "execution_count": null,
      "outputs": []
    }
  ]
}
