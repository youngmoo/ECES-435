{
  "nbformat": 4,
  "nbformat_minor": 0,
  "metadata": {
    "colab": {
      "provenance": [],
      "collapsed_sections": [],
      "toc_visible": true,
      "include_colab_link": true
    },
    "kernelspec": {
      "name": "python3",
      "display_name": "Python 3"
    },
    "language_info": {
      "name": "python"
    }
  },
  "cells": [
    {
      "cell_type": "markdown",
      "metadata": {
        "id": "view-in-github",
        "colab_type": "text"
      },
      "source": [
        "<a href=\"https://colab.research.google.com/github/youngmoo/ECES-435/blob/main/Lab_3.ipynb\" target=\"_parent\"><img src=\"https://colab.research.google.com/assets/colab-badge.svg\" alt=\"Open In Colab\"/></a>"
      ]
    },
    {
      "cell_type": "markdown",
      "source": [
        "# Lab Overview\n",
        "\n",
        "In this weeks classes and video, you learned about sampling and quantization. In this lab you will learn to quantize an input signal to a specific quantization level, and interpret the effects of quantization on a signal."
      ],
      "metadata": {
        "id": "SFuQim1rvTOS"
      }
    },
    {
      "cell_type": "markdown",
      "metadata": {
        "id": "0SyWV0NZqihH"
      },
      "source": [
        "## Set Up Your Colab Enviornment"
      ]
    },
    {
      "cell_type": "markdown",
      "metadata": {
        "id": "jCDKfwvgp8Da"
      },
      "source": [
        "\n",
        "First, mount google drive so that you can access the shared class drive and files. (You may want to check the notebooks from lecture for a reminder of how this is done.)"
      ]
    },
    {
      "cell_type": "code",
      "execution_count": null,
      "metadata": {
        "colab": {
          "base_uri": "https://localhost:8080/"
        },
        "id": "FeOyEWz1k6zm",
        "outputId": "19a7a112-ac77-41c2-f3ab-de67040b52b7"
      },
      "outputs": [
        {
          "output_type": "stream",
          "name": "stdout",
          "text": [
            "Mounted at /content/drive\n"
          ]
        }
      ],
      "source": [
        "from google.colab import drive\n",
        "drive.mount('/content/drive')"
      ]
    },
    {
      "cell_type": "markdown",
      "metadata": {
        "id": "N9e4v2S4m5s8"
      },
      "source": [
        "Import the libraries you'll be using:\n",
        "\n",
        "\n",
        "*   `soundfile as sf` for audio signal processing\n",
        "*   `IPython.display as ipd ` for audio playback\n",
        "*   `matplotlib as rc` for figure customization\n",
        "*   `matplotlib.pyplot as plt` for plotting\n",
        "*   `numpy as np` for some math functions\n",
        "* `scipy` for STFT calculations\n",
        "* from `scipy` import `signal` for STFT calculations"
      ]
    },
    {
      "cell_type": "code",
      "execution_count": null,
      "metadata": {
        "id": "0um89XU4nS5p"
      },
      "outputs": [],
      "source": [
        "#Your code here\n",
        "import soundfile as sf\n",
        "import IPython.display as ipd\n",
        "import matplotlib as rc\n",
        "import matplotlib.pyplot as plt\n",
        "import numpy as np\n",
        "import scipy\n",
        "from scipy import signal"
      ]
    },
    {
      "cell_type": "markdown",
      "metadata": {
        "id": "iwqQ53Wtnja9"
      },
      "source": [
        "Tip: To quickly view documentation for a function, you can use the help function. See below."
      ]
    },
    {
      "cell_type": "code",
      "execution_count": null,
      "metadata": {
        "id": "4PauIZPTn4cm"
      },
      "outputs": [],
      "source": [
        "#help(ipd.Audio)"
      ]
    },
    {
      "cell_type": "markdown",
      "metadata": {
        "id": "Y-4mN-1pT66S"
      },
      "source": [
        "Tip: To quickly and neatly hide code cell outputs, press Ctrl + C + M + O (for Windows) or Cmnd + C + M + O (for Mac)."
      ]
    },
    {
      "cell_type": "markdown",
      "source": [
        "Run your Helper Functions to be used later in the lab:"
      ],
      "metadata": {
        "id": "m-ECTThIFIvY"
      }
    },
    {
      "cell_type": "code",
      "source": [
        "def myPlot(sig, N=0, fs=44100, fig_size=(16,4), x_ax=True, y_ax=True, lw=1, fmt=''):\n",
        "  if N==0:\n",
        "    N = len(sig)\n",
        "\n",
        "  fig = plt.figure(figsize=fig_size)\n",
        "  t = np.arange(N)/fs\n",
        "  plt.plot(t[:N],sig[:N],fmt,linewidth=lw)\n",
        "  plt.xlabel('Time (sec)')\n",
        "  ax = plt.gca()\n",
        "  \n",
        "  if x_ax == False:\n",
        "    ax.xaxis.set_visible(False)\n",
        "  if y_ax == False:\n",
        "    ax.yaxis.set_visible(False)\n",
        "\n",
        "  fig.tight_layout()\n",
        "  plt.ion()\n",
        "\n",
        "  # Returning the figure causes issues with interactive matplotlib\n",
        "  #return fig\n",
        "  # For saving the figure, use the interactive buton, instead.\n",
        "  # For further customization and command-line saving, more changes are required."
      ],
      "metadata": {
        "id": "VE49_3JDXcoC"
      },
      "execution_count": null,
      "outputs": []
    },
    {
      "cell_type": "code",
      "source": [
        "def mySpectrogram(sig, fs=44100, win='hann', n_win=1024, olap=512, n_fft=1024, x_lim=0, y_lim=0, fig_size=(12,6), x_ax=True, y_ax=True):\n",
        "  f1, t1, Sxx = signal.spectrogram(sig, fs, window=win, nperseg=n_win, noverlap=olap, nfft=n_fft)\n",
        "\n",
        "  fig = plt.figure(figsize=fig_size)\n",
        "  S_mag = 4*np.abs(Sxx) + 0.0000000001    # See myPlotFFT for explanation\n",
        "  S_dBFS = 20*np.log10(S_mag)\n",
        "  plt.pcolormesh(t1, f1, S_dBFS)\n",
        "  plt.ylabel('Frequency (Hz)')\n",
        "  plt.xlabel('Time (sec)')\n",
        "\n",
        "  if np.isscalar(x_lim):\n",
        "    if x_lim == 0:\n",
        "      x_lim = len(sig) / fs\n",
        "    plt.xlim(0, x_lim)\n",
        "  else:\n",
        "    plt.xlim(x_lim)\n",
        "\n",
        "  if np.isscalar(y_lim):\n",
        "    if y_lim == 0:\n",
        "      y_lim = fs/2\n",
        "    plt.ylim(0, y_lim)\n",
        "  else:\n",
        "    plt.ylim(y_lim)\n",
        "\n",
        "  ax = plt.gca()\n",
        "  if x_ax == False:\n",
        "    ax.xaxis.set_visible(False)\n",
        "  if y_ax == False:\n",
        "    ax.yaxis.set_visible(False)\n",
        "  fig.tight_layout()\n",
        "\n",
        "  plt.ion()\n",
        "  \n",
        "  # Returning the figure causes issues with interactive matplotlib\n",
        "  #return fig\n",
        "  # For saving the figure, use the interactive buton, instead.\n",
        "  # For further customization and command-line saving, more changes are required."
      ],
      "metadata": {
        "id": "RF1PMyhAAhQg"
      },
      "execution_count": null,
      "outputs": []
    },
    {
      "cell_type": "markdown",
      "metadata": {
        "id": "SsqJf1leakHt"
      },
      "source": [
        "#Part 1: Visualizing Quantization\n",
        "\n"
      ]
    },
    {
      "cell_type": "markdown",
      "source": [
        "## 1. Generate a Sinusoid\n",
        "Generate a sine wave using the the built in sin() function with the inputs t (time vector), f (fundamental frequency), and A (amplitude)."
      ],
      "metadata": {
        "id": "1x-onnOnwY9F"
      }
    },
    {
      "cell_type": "code",
      "source": [
        "#Your code here\n",
        "f = 440                             # Frequency (in Hz)\n",
        "A = 1.0                             # Amplitude of your sinusoid (try varying this between 0 and 1.0)\n",
        "duration = 0.01                     # Duration of sound (in seconds)\n",
        "fs = 44100                         # Sampling rate (in Hz)\n",
        "t =  # Vector of time samples\n",
        "# Create a sine wave using the parameters above\n",
        "s = "
      ],
      "metadata": {
        "id": "6-d9jv2lXVTy"
      },
      "execution_count": null,
      "outputs": []
    },
    {
      "cell_type": "markdown",
      "source": [
        "## 2. Plot Sinusoid (myPlot)\n",
        "\n",
        "Use `myPlot()` to plot the time domain signal you just imported with your favorite settings."
      ],
      "metadata": {
        "id": "nFN12-E5wdZE"
      }
    },
    {
      "cell_type": "code",
      "source": [
        "#Finish up this call to myPlot so you can see the audio\n",
        "myPlot()"
      ],
      "metadata": {
        "id": "50LpMdrp19Yk"
      },
      "execution_count": null,
      "outputs": []
    },
    {
      "cell_type": "markdown",
      "source": [
        "## 3. Create a Quantization Function\n",
        "\n",
        "In class you learned that when digitising a signal it is important to sample it above the Nyquist Frequency so that you retain all the relevent frequency information. The Sampling Rate controls the resolution of a signal in the the frequency domain. <br>\n",
        "\n",
        "In this lab, you will look at how Quantization affects music signals. Quantization controlls the amplitude resolution of a signal by discritizing the range of amplitudes encoded for a sampled signal. \n",
        "\n",
        "You learned that for audio we generally use 16 bit audio sampled at 44.1 KHz for high quality sound. In this section, you will create a function that quantizes an input signal to a specific number of quantization levels:\n",
        "\n",
        "* Create a function called `quantize()` with inputs `x` (the signal to quantize, normalized between -1 to 1), and `quant_level` (the number of quantization levels of the output signal.** Note: we are going to make a simple function that work only for even quantization levels since practically when qquantizing to a specific number of bits, the number of levels is a power of 2**)\n",
        "* The function should output `x_quantized` (the input signal quantized to quant_level number of quantization levels).\n",
        "* Within the function:\n",
        "\n",
        " * Divide `quant_level` by 2 since we will go from -(quant_level/2) to (quant_level/2)\n",
        " * Use quant_level, `x `and `np.floor()` to compute the quantized signal and output it to `x_quantized()`\n",
        " * `quant_level` should be an *even number!*"
      ],
      "metadata": {
        "id": "3c9uvaN8fn4l"
      }
    },
    {
      "cell_type": "code",
      "source": [
        "def quantize(x, quant_level=5):\n",
        "    quant_level = \n",
        "    x_quantized = \n",
        "    return x_quantized\n"
      ],
      "metadata": {
        "id": "_v8z5MS8YQb2"
      },
      "execution_count": null,
      "outputs": []
    },
    {
      "cell_type": "markdown",
      "source": [
        "## 4. Plot and Compare Your Quantized Sinusoid\n",
        "\n",
        "Create a function plot_signal_quant() that plots the original and quantized signal together. \n",
        "* Required Inputs:`x`, `t`, `x_quant`, `figsize`\n",
        "* Plot Requirements: \n",
        " * Plot Original and Quantized signal in the same plot in different colors\n",
        " * Include Legend with Labels\n",
        " * Include X (*Time (sec)*) and Y (`Amplitude`) axis labels"
      ],
      "metadata": {
        "id": "j1gaAE5kwh-a"
      }
    },
    {
      "cell_type": "code",
      "source": [
        "def plot_signal_quant(x, t, x_quant, figsize=(8, 2)):\n",
        "    plt.figure(figsize=figsize)\n",
        "\n",
        "\n",
        "    plt.tight_layout()\n",
        "    plt.show()"
      ],
      "metadata": {
        "id": "JsgmDOaAZ01o"
      },
      "execution_count": null,
      "outputs": []
    },
    {
      "cell_type": "markdown",
      "source": [
        "Now, use the above function and plot the original and quantized signals for quant_level of 6, 10, 20"
      ],
      "metadata": {
        "id": "8QlUjQO5wIm5"
      }
    },
    {
      "cell_type": "code",
      "source": [
        "quant_level = 5\n",
        "x_quant = \n",
        "plot_signal_quant()\n",
        "\n",
        "quant_level = 10\n",
        "x_quant = \n",
        "plot_signal_quant()\n",
        "\n",
        "quant_level = 20\n",
        "x_quant = \n",
        "plot_signal_quant()"
      ],
      "metadata": {
        "id": "zuJZHzeC16fo"
      },
      "execution_count": null,
      "outputs": []
    },
    {
      "cell_type": "markdown",
      "metadata": {
        "id": "YKHefvwiv_GU"
      },
      "source": [
        "#Part 2: Try It Out with Music\n",
        "\n",
        "\n",
        "Now, lets grab an audio clip. Run the following code to load load the audio and its sampling rate from the Lab 3 folder, and then listen to the tune you will be using for the rest of the Lab.\n",
        "\n"
      ]
    },
    {
      "cell_type": "code",
      "source": [
        "load_path = '/content/drive/MyDrive/eces435-work/Labs/Lab3/data/JazzySample.wav'\n",
        "y, fs = sf.read(load_path)\n",
        "ipd.Audio(y, rate=fs)"
      ],
      "metadata": {
        "id": "D9oSAckT2A2S"
      },
      "execution_count": null,
      "outputs": []
    },
    {
      "cell_type": "markdown",
      "source": [
        "## 5. Quantize the Signal\n",
        "Above, you created a function which quantizes a signal to a specific number of quanatization levels. In audio, you usually deal with quantization levels in terms of bits. For $N$ bits used to quantize a signal, you are able to obtain $2^N$ quantization levels. \n",
        "\n",
        "Create a function quantize_audio() with inputs `x` (the audio to quantize), Fs (the sampling rate), and `number_of_bits` (the number of bits, 1 to 16 generally, used to quantize the signal). Within the function:\n",
        "* Use `number_of_bits` to calulate `quant_level` to be used in `quantize()`\n",
        "* Refer to `quantize(x,quant_level)` and the class notes on how to quantize an audio signal in terms of bits to compute `x_quantized`. (Note: When you multiply the [-1,1] audio by `quant_level` euqal to $2^{N_{bits} - 1}$, this will scale the audio to have $2^{N_{bits}}$ quantization levels, as seen in class and the videos).\n",
        "* Use `display(ipd.Audio(quantized signal, Fs))` to play your newly quantized signal (the display around the call to ipd.Audio will make is so that you can call `quantize_audio()` multiple times in a cell and output each audio one after the other)"
      ],
      "metadata": {
        "id": "dK4bKVhmvzPy"
      }
    },
    {
      "cell_type": "code",
      "source": [
        "def quantize_audio(x, Fs, number_of_bits):\n",
        "    quant_level =  #Set quantization level according to number of bits\n",
        "    x_quantized =  \n",
        "    print('Signal after uniform quantization (%d bits) :'%number_of_bits)\n",
        "    display(  ) #Allows to display multiple outputs in same code block\n",
        "    return x_quantized"
      ],
      "metadata": {
        "id": "iuPJCS0AjEOr"
      },
      "execution_count": null,
      "outputs": []
    },
    {
      "cell_type": "markdown",
      "source": [
        "## 6. Evaluate the Results"
      ],
      "metadata": {
        "id": "Up-KrmI2i8If"
      }
    },
    {
      "cell_type": "markdown",
      "source": [
        "### a. Perception\n",
        "\n",
        "First, you will perform a perceptual evaluation. Listen to the original audio clip and then quantize it to various different numbers of bits. (At least try: 12, 8, 4, 2)\n",
        "\n",
        "Explain the differences you hear as you decrease the number of bits used for Quantization. Is there a certian number of bits below 16 that you still find acceptable to listen to?\n",
        "\n",
        "*Your response here:*\n",
        "\n"
      ],
      "metadata": {
        "id": "qdr-zfdzi93L"
      }
    },
    {
      "cell_type": "code",
      "source": [
        "print('Original audio signal (16 bits):')\n",
        "display( ipd.Audio(y, rate=fs) )\n",
        "#Now Quantize:\n",
        "y_quant_12 = \n",
        "y_quant_8 =\n",
        "y_quant_4 =\n",
        "y_quant_2 = "
      ],
      "metadata": {
        "id": "sbcqPE7N2Cv7"
      },
      "execution_count": null,
      "outputs": []
    },
    {
      "cell_type": "markdown",
      "source": [
        "### b. Compare Spectrogram\n",
        "\n",
        "Use the `mySpectrogram()` function to plot the spectrogram for the original and each of the quantized audio signals (12,8,4,2). \n",
        "\n",
        "What are some of the main differences you see in the spectrogram outputs before and after different levels of quantization?\n",
        "\n",
        "**Your answers here:**\n",
        "\n"
      ],
      "metadata": {
        "id": "vcvOC_zMy_Mt"
      }
    },
    {
      "cell_type": "code",
      "source": [
        "#Plot all Spectrograms"
      ],
      "metadata": {
        "id": "skJ2nX1_2VWo"
      },
      "execution_count": null,
      "outputs": []
    },
    {
      "cell_type": "markdown",
      "source": [
        "### c. Calculate Signal-to-Noise\n",
        "\n",
        "Signal-to-noise ratio provides a way to measure the similarity between two signals.\n",
        "\n",
        "Create a function` SNR()` which takes in the inputSig (audio before Quantization), and outputSig (audio after Quantization) and outputs the Signal-to-noise ratio in dB. Follow these steps to compute SNR and report your value in dB below:\n",
        "\n",
        "* Create a variable `noise` and set it equal to the difference (subtraction) between the `inputSig` and your `outputSig`.\n",
        "* Compute the power for the `inputSig` and `noise`. \n",
        "* To calculate power, square all the values and take the `np.mean()`.\n",
        "* Find the signal-to-noise ratio by dividing the signal power over the noise power.\n",
        "* Finally, compute 10 * np.log10 (ratio) to get the SNR in decibels.\n",
        "<br>\n",
        "<br>\n",
        "Report your SNR below for 12, 8, 4 and 2 bits: <br>\n",
        "* \n",
        "* \n",
        "* \n",
        "* "
      ],
      "metadata": {
        "id": "iiYC7z4aypzn"
      }
    },
    {
      "cell_type": "code",
      "source": [
        "def SNR(inputSig, outputSig):\n",
        "    noise = \n",
        "\n",
        "    snr = \n",
        "\n",
        "    return snr"
      ],
      "metadata": {
        "id": "eSL82YrBhAaf"
      },
      "execution_count": null,
      "outputs": []
    },
    {
      "cell_type": "code",
      "source": [
        "#Compute SNR"
      ],
      "metadata": {
        "id": "1c-Su0VP2hT2"
      },
      "execution_count": null,
      "outputs": []
    },
    {
      "cell_type": "markdown",
      "source": [
        "### d. Calculate the Compression Ratio\n",
        "\n",
        "When quantizing your signal to a smaller number of bits, you save memory size and compress the signal. \n",
        "Calculate the compression ratio where:<br>\n",
        "CompressionRatio = (the number of bytes in the compressed signal)/(the number of bytes in the compressed signal)\n",
        "\n",
        "* Calulate the number of bytes in the original and compressed signal. \n",
        "* Note: 8 bits = 1 byte\n",
        "* To find the bits used for a signal use the bit number used for compression (1,16, not quant_level) and multiply by the number of samples in the signal.\n",
        "\n",
        "* Report the Compression Ratio when going fro 16 bits to 12,8,4, and 2 bits:\n"
      ],
      "metadata": {
        "id": "FriWG5ByB2dk"
      }
    },
    {
      "cell_type": "markdown",
      "source": [
        "* Your answers here:\n",
        " * 12\n",
        "   * Size:\n",
        "   * Compression Ratio:\n",
        " * 8\n",
        "   * Size:\n",
        "   * Compression Ratio:\n",
        " * 4\n",
        "   * Size:\n",
        "   * Compression Ratio:\n",
        " * 2\n",
        "   * Size:\n",
        "   * Compression Ratio:\n"
      ],
      "metadata": {
        "id": "qBdZZrleDnZv"
      }
    },
    {
      "cell_type": "code",
      "source": [
        "#Find Size and Compression Ratio"
      ],
      "metadata": {
        "id": "fTOrjnFSFAdv"
      },
      "execution_count": null,
      "outputs": []
    },
    {
      "cell_type": "markdown",
      "source": [
        "# Completing the Lab\n",
        "\n",
        "To submit this lab *share the notebook with charis.cochran@excitecenter.org* AND *submit the link as a text submission on the Lab3 assignment on BbLearn* to receive credit for this lab. (ONLY share with charis.cochran@excitecenter.org)\n",
        "\n",
        "*Ensure all cells and plots have been run and are visible in the notebook before submitting. Also, make sure you responded to the short answer question about the Spectrogram plot. Submiting the link to BbLearn means the lab has been submitted and is ready for grading. DO THIS LAST. "
      ],
      "metadata": {
        "id": "HWrTJwIss9zw"
      }
    }
  ]
}