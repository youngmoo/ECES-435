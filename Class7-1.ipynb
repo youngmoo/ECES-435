{
  "nbformat": 4,
  "nbformat_minor": 0,
  "metadata": {
    "colab": {
      "provenance": [],
      "collapsed_sections": [
        "leCBR9y1whNm",
        "qw76fQQBw3rZ"
      ],
      "toc_visible": true,
      "include_colab_link": true
    },
    "kernelspec": {
      "display_name": "Python 3",
      "name": "python3"
    }
  },
  "cells": [
    {
      "cell_type": "markdown",
      "metadata": {
        "id": "view-in-github",
        "colab_type": "text"
      },
      "source": [
        "<a href=\"https://colab.research.google.com/github/youngmoo/ECES-435/blob/main/Class7-1.ipynb\" target=\"_parent\"><img src=\"https://colab.research.google.com/assets/colab-badge.svg\" alt=\"Open In Colab\"/></a>"
      ]
    },
    {
      "cell_type": "markdown",
      "metadata": {
        "id": "qHxN8R_ItyXz"
      },
      "source": [
        "# **ECES-435: Class 7.1**\n",
        "\n",
        "**Announcements**\n",
        "* If you haven't already, please watch Video No. 9: *The z-Transform*.\n",
        "* Next PHL MTL event, tomorrow!\n",
        "  * Tue, Nov. 1 at 5pm\n",
        "  * Music Industry Recording STUDIO ONE\n",
        "  * [Register here (by end of day)](https://bit.ly/phl-mtl)\n"
      ]
    },
    {
      "cell_type": "markdown",
      "source": [
        "# Optional stuff"
      ],
      "metadata": {
        "id": "LNs1mQ6RwalY"
      }
    },
    {
      "cell_type": "markdown",
      "source": [
        "## Interactive Matplotlib\n",
        "\n",
        "Install `ipympl` for  Matplotlib\n"
      ],
      "metadata": {
        "id": "leCBR9y1whNm"
      }
    },
    {
      "cell_type": "code",
      "source": [
        "#!pip install ipympl   # Also installs a more recent version of matplotlib (v3.5.3)"
      ],
      "metadata": {
        "id": "ez5UrP3WwWa-"
      },
      "execution_count": null,
      "outputs": []
    },
    {
      "cell_type": "markdown",
      "source": [
        "Enable interactive Matplotlib figures"
      ],
      "metadata": {
        "id": "rIs1kGVvw1hn"
      }
    },
    {
      "cell_type": "code",
      "source": [
        "# from google.colab import output\n",
        "# output.enable_custom_widget_manager()\n",
        "# %matplotlib widget"
      ],
      "metadata": {
        "id": "lryCz_51wldf"
      },
      "execution_count": null,
      "outputs": []
    },
    {
      "cell_type": "markdown",
      "source": [
        "## My plot style defaults"
      ],
      "metadata": {
        "id": "qw76fQQBw3rZ"
      }
    },
    {
      "cell_type": "code",
      "source": [
        "from matplotlib import rc\n",
        "\n",
        "rc('figure', figsize=(12,4))\n",
        "rc('figure', facecolor='#aaaaaa')     # Better figure background for dark mode\n",
        "\n",
        "rc('font', family='Liberation Serif') # Nicer font\n",
        "rc('font', size=20)                   # Larger font size for labels"
      ],
      "metadata": {
        "id": "NE9dlTZIwt_e"
      },
      "execution_count": null,
      "outputs": []
    },
    {
      "cell_type": "markdown",
      "source": [
        "# Setup\n",
        "The usual modules..."
      ],
      "metadata": {
        "id": "ljWJhD2HwY3v"
      }
    },
    {
      "cell_type": "code",
      "metadata": {
        "id": "eDaoDgqCs1mp"
      },
      "source": [
        "import numpy as np\n",
        "import matplotlib.pyplot as plt\n",
        "import IPython.display as ipd\n",
        "import soundfile as sf\n",
        "from matplotlib import animation, rc\n",
        "from scipy import signal\n",
        "import numpy.fft as fft\n",
        "import pickle\n",
        "\n",
        "rc('animation', html='jshtml')\n",
        "\n",
        "path = '/content/drive/My Drive/eces435-work/class7.1/'"
      ],
      "execution_count": null,
      "outputs": []
    },
    {
      "cell_type": "code",
      "metadata": {
        "id": "QUiMfqMhOWCI"
      },
      "source": [
        "# CHANGE THIS to your Drexel username!!\n",
        "username = 'ou812'"
      ],
      "execution_count": null,
      "outputs": []
    },
    {
      "cell_type": "code",
      "metadata": {
        "id": "7f-OzFc_mN4w"
      },
      "source": [
        "from google.colab import drive\n",
        "drive.mount('/content/drive')"
      ],
      "execution_count": null,
      "outputs": []
    },
    {
      "cell_type": "markdown",
      "source": [
        "## Helper functions"
      ],
      "metadata": {
        "id": "eOs9hdwgz95L"
      }
    },
    {
      "cell_type": "markdown",
      "source": [
        "`myPlot()`\n",
        "\n",
        "A quick time-domain signal plot function with my default figure settings and a time x-axis (in seconds).\n",
        "* Required arguments:\n",
        "  * `sig` Input signal (first argument)\n",
        "* Optional arguments:\n",
        "  * `N=#` Number of samples to plot (default: length of signal)\n",
        "  * `fs=#` Sample rate of signal (default: 44100 Hz)\n",
        "  * `fig_size=(W,H)` Change figure dimensions (width, height)\n",
        "  * `x_ax=True/False` Show x-axis (default: True)\n",
        "  * `y_ax=True/False` Show y-axis (default: True)\n",
        "  * `lw=#` Change linewdith of signal (default: 1)\n",
        "  * `fmt='...'` Plot format string (default: none)\n",
        "  * *New* `x_lim=#` or `x_lim=[x1,x2]` Specify the x-axis limit(s) of the plot\n",
        "  * *New* `y_lim=#` or `y_lim=[y1,y2]` Specificy the y-axis limit(s) of the plot"
      ],
      "metadata": {
        "id": "7N_b3ft0ch_9"
      }
    },
    {
      "cell_type": "code",
      "source": [
        "def myPlot(sig, N=0, fs=44100, fig_size=(16,4), x_ax=True, y_ax=True, lw=1, fmt='', x_lim=0, y_lim=0):\n",
        "  if N==0:\n",
        "    N = len(sig)\n",
        "\n",
        "  fig = plt.figure(figsize=fig_size)\n",
        "  t = np.arange(N)/fs\n",
        "\n",
        "  plt.plot( t[:N], sig[:N], fmt, linewidth=lw)\n",
        "\n",
        "  plt.xlabel('Time (sec)')\n",
        "  ax = plt.gca()    # gca(): \"Get current axis\", the graph object that's currently plotted\n",
        "  \n",
        "  if x_ax == False:\n",
        "    ax.xaxis.set_visible(False)\n",
        "  if y_ax == False:\n",
        "    ax.yaxis.set_visible(False)\n",
        "\n",
        "  if np.isscalar(x_lim):\n",
        "    if x_lim == 0:\n",
        "      x_lim2 = N/fs   # End of input signal\n",
        "    else:\n",
        "      x_lim2 = x_lim\n",
        "    plt.xlim(0, x_lim2)\n",
        "  else:\n",
        "    plt.xlim(x_lim)\n",
        "\n",
        "  if np.isscalar(y_lim):\n",
        "    if y_lim != 0:\n",
        "      plt.ylim(-y_lim, y_lim)\n",
        "  else:\n",
        "    plt.ylim(y_lim)\n",
        "\n",
        "  fig.tight_layout()\n",
        "  #plt.ion()\n",
        "  plt.close()\n",
        "\n",
        "  # Returning the figure causes issues with interactive matplotlib\n",
        "  return fig\n",
        "  # For saving the figure, use the interactive buton, instead.\n",
        "  # For further customization and command-line saving, more changes are required."
      ],
      "metadata": {
        "id": "aNLccM7sz9SE"
      },
      "execution_count": null,
      "outputs": []
    },
    {
      "cell_type": "markdown",
      "source": [
        "`myPlotFFT()`\n",
        "\n",
        "Plot the magnitude frequency response (in dB FS) of a signal with my default figure settings and a frequency x-axis (in Hz), based on the Nyquist rate.\n",
        "* Required arguments:\n",
        "  * `sig` Input signal (first argument)\n",
        "* Optional arguments:\n",
        "  * `n_fft=#` The size of FFT to use (default: length of input signal)\n",
        "  * `n_win=#` The length of window to use (default: length of input)\n",
        "  * `win='hann'` The type of window to use (default: `hann`, or `rect`)\n",
        "  * `fs=#` Sample rate of signal (default: 44100 Hz)\n",
        "  * `x_lim=# or (#,#)` Frequency axis limits (max or range, in Hz)\n",
        "  * `fig_size=(W,H)` Change figure dimensions (width, height)\n",
        "  * `x_ax=True/False` Show x-axis (default: True)\n",
        "  * `y_ax=True/False` Show y-axis (default: True)\n",
        "  * `lw=#` Change linewdith of signal (default: 1)\n",
        "  * `fmt='...'` Change plot formatting (default: none)"
      ],
      "metadata": {
        "id": "7jSL6pxMXfgi"
      }
    },
    {
      "cell_type": "code",
      "source": [
        "def myPlotFFT(sig, fs=44100, n_fft=0, n_win=0, win='hann', neg_f=False, x_lim=0, y_lim=0, fig_size=(16,6),x_ax=True, y_ax=True, lw=1, fmt=''):\n",
        "  if n_fft==0:\n",
        "    n_fft = len(sig)\n",
        "  if n_win==0:\n",
        "    n_win = len(sig)\n",
        "\n",
        "  if win=='hann':  \n",
        "    win = np.hanning(n_win)\n",
        "    win_scale = 2\n",
        "  else:\n",
        "    win = np.ones(n_win)\n",
        "    win_scale = 1\n",
        "\n",
        "  S = np.fft.fft(sig * win, n_fft)\n",
        "  N = len(S)\n",
        "  f = np.arange(N) * fs / N\n",
        "  if neg_f:\n",
        "    f = f - (fs/2)\n",
        "    S = np.fft.fftshift(S)\n",
        "\n",
        "  S_mag = 2*win_scale*np.abs(S) / n_win     # Frequency magnitude, normalized by length\n",
        "                                            #    x2 because cos(w) = 0.5e^jw + 0.5e^-jw\n",
        "                                            #    x2 for Hann because window has 0.5 average\n",
        "\n",
        "  S_mag += 1e-15                  # Add a small offset to avoid log(0) errors\n",
        "  S_dBFS = 20*np.log10(S_mag)     # Freq. magnitude in dB full scale (dB FS):\n",
        "                                  #    cos(w) -> 0 dBFS peak at w\n",
        "\n",
        "\n",
        "  fig = plt.figure(figsize=fig_size)\n",
        "  plt.plot(f, S_dBFS, fmt, linewidth=lw) \n",
        "  if np.isscalar(x_lim):\n",
        "    if x_lim == 0:\n",
        "      x_lim2 = fs/2\n",
        "    if neg_f:\n",
        "      x_lim = -fs/2\n",
        "    plt.xlim(x_lim, x_lim2)\n",
        "  else:\n",
        "    plt.xlim(x_lim)\n",
        "\n",
        "  if np.isscalar(y_lim):\n",
        "    if y_lim < 0:\n",
        "      plt.ylim(y_lim, 0)\n",
        "    elif y_lim > 0:\n",
        "      plt.ylim(0, y_lim)\n",
        "  else:\n",
        "    plt.ylim(y_lim)\n",
        "\n",
        "  plt.xlabel('Frequency (Hz)')\n",
        "  plt.ylabel('Magnitude (dB FS)')\n",
        "\n",
        "  ax = plt.gca()\n",
        "  if x_ax == False:\n",
        "    ax.xaxis.set_visible(False)\n",
        "  if y_ax == False:\n",
        "    ax.yaxis.set_visible(False)\n",
        "  fig.tight_layout()\n",
        "\n",
        "  # Returning the figure causes issues with interactive matplotlib\n",
        "  return fig\n",
        "  # For saving the figure, use the interactive buton, instead.\n",
        "  # For further customization and command-line saving, more changes are required."
      ],
      "metadata": {
        "id": "wKGq7SuNXTeS"
      },
      "execution_count": null,
      "outputs": []
    },
    {
      "cell_type": "markdown",
      "source": [
        "`mySpectrogram()`\n",
        "\n",
        "A simple wrapper to compute and plot the spectrogram of a signal with my default figure settings, a time x-axis (in seconds) and a frequency y-axis (in Hz), based on the Nyquist rate.\n",
        "* Required arguments:\n",
        "  * `sig` Input signal (first argument)\n",
        "* Optional arguments:\n",
        "  * `fs=#` Sample rate of signal (default: 44100 Hz)\n",
        "  * `win='window_name'` The type of analysis window to use (default: 'hann')\n",
        "  * `n_win=#` The length of window to use per frame (default: 1024)\n",
        "  * `n_fft=#` The size of FFT to use (default: 1024)\n",
        "  * `x_lim=# or (#,#)` x-axis limit or range (in seconds)\n",
        "  * `y_lim=# or (#,#)` y-axis limit or range (in Hz)\n",
        "  * `fig_size=(W,H)` Change figure dimensions (width, height)\n",
        "  * `x-ax=True/False` Show x-axis (default: True)\n",
        "  * `y-ax=True/False` Show y-axis (default: True)"
      ],
      "metadata": {
        "id": "kAxTI9wgkEs8"
      }
    },
    {
      "cell_type": "code",
      "source": [
        "def mySpectrogram(sig, fs=44100, win='hann', n_win=1024, olap=512, n_fft=1024, x_lim=0, y_lim=0, fig_size=(12,6), x_ax=True, y_ax=True):\n",
        "  f1, t1, Sxx = signal.stft(sig, fs, window=win, nperseg=n_win, noverlap=olap, nfft=n_fft)\n",
        "\n",
        "  fig = plt.figure(figsize=fig_size)\n",
        "\n",
        "  S_mag = 4*np.abs(Sxx) + 1e-15\n",
        "  S_dBFS = 20*np.log10(S_mag)\n",
        "  \n",
        "  plt.pcolormesh(t1, f1, S_dBFS)\n",
        "  plt.ylabel('Frequency (Hz)')\n",
        "  plt.xlabel('Time (sec)')\n",
        "\n",
        "  if np.isscalar(x_lim):\n",
        "    if x_lim == 0:\n",
        "      x_lim = len(sig) / fs\n",
        "    plt.xlim(0, x_lim)\n",
        "  else:\n",
        "    plt.xlim(x_lim)\n",
        "\n",
        "  if np.isscalar(y_lim):\n",
        "    if y_lim == 0:\n",
        "      y_lim = fs/2\n",
        "    plt.ylim(0, y_lim)\n",
        "  else:\n",
        "    plt.ylim(y_lim)\n",
        "\n",
        "  ax = plt.gca()\n",
        "  if x_ax == False:\n",
        "    ax.xaxis.set_visible(False)\n",
        "  if y_ax == False:\n",
        "    ax.yaxis.set_visible(False)\n",
        "  fig.tight_layout()\n",
        "\n",
        "  # plt.ion()\n",
        "  \n",
        "  # Returning the figure causes issues with interactive matplotlib\n",
        "  # return fig\n",
        "  # For saving the figure, use the interactive buton, instead.\n",
        "  # For further customization and command-line saving, more changes are required."
      ],
      "metadata": {
        "id": "gaonAlsvmEbT"
      },
      "execution_count": null,
      "outputs": []
    },
    {
      "cell_type": "markdown",
      "metadata": {
        "id": "cWj0eW-qEjxf"
      },
      "source": [
        "# Load audio sample\n",
        "\n",
        "* Happy Halloween!"
      ]
    },
    {
      "cell_type": "code",
      "metadata": {
        "id": "xMUmfBZ0-9XL"
      },
      "source": [
        "x, fs44 = sf.read(path + 'MJ.wav')\n",
        "ipd.Audio(x, rate=fs44)"
      ],
      "execution_count": null,
      "outputs": []
    },
    {
      "cell_type": "markdown",
      "source": [
        "# Midterm: A general approach to STFT compression"
      ],
      "metadata": {
        "id": "dobJoxWPkiKq"
      }
    },
    {
      "cell_type": "code",
      "source": [
        "f1, t1, X = signal.stft(x, fs44, nperseg=1024, noverlap=512, nfft=1024)\n",
        "\n",
        "S_mag = np.abs(X) + 1e-15\n",
        "S_dB = 20*np.log10(S_mag)\n",
        "\n",
        "plt.pcolormesh(t1, f1, S_dB)\n",
        "plt.ylabel('Frequency (Hz)')\n",
        "plt.xlabel('Time (sec)')"
      ],
      "metadata": {
        "id": "KTuBcMH6kdiD"
      },
      "execution_count": null,
      "outputs": []
    },
    {
      "cell_type": "markdown",
      "source": [
        "## Naive strategy (from class)"
      ],
      "metadata": {
        "id": "O8NEq2nCm5_c"
      }
    },
    {
      "cell_type": "code",
      "source": [
        "remove_idx = np.where(S_dB < -45)\n",
        "X_c = np.copy(X)\n",
        "X_c[remove_idx] = 0\n",
        "\n",
        "plt.pcolormesh(t1, f1, 20*np.log10(np.abs(X_c)+1e-15))\n",
        "plt.ylabel('Frequency (Hz)')\n",
        "plt.xlabel('Time (sec)')"
      ],
      "metadata": {
        "id": "KST81F1il7e-"
      },
      "execution_count": null,
      "outputs": []
    },
    {
      "cell_type": "markdown",
      "source": [
        "## Find the largest magnitudes per frame"
      ],
      "metadata": {
        "id": "y6F8xHErmBMR"
      }
    },
    {
      "cell_type": "code",
      "source": [
        "X_sort = np.sort(np.abs(X), axis=0)\n",
        "X_sort[-10:,100]"
      ],
      "metadata": {
        "id": "GB0FmvP-h2jS"
      },
      "execution_count": null,
      "outputs": []
    },
    {
      "cell_type": "code",
      "source": [
        "f2 = 513 - np.arange(513)\n",
        "plt.pcolormesh(t1, f2, 20*np.log10(X_sort+1e-15))"
      ],
      "metadata": {
        "id": "VriWlrnXppDT"
      },
      "execution_count": null,
      "outputs": []
    },
    {
      "cell_type": "code",
      "source": [
        "x_idx = np.argsort(np.abs(X), axis=0)\n",
        "x_idx[-10:,100]"
      ],
      "metadata": {
        "id": "0QKWqjHZZlJz"
      },
      "execution_count": null,
      "outputs": []
    },
    {
      "cell_type": "code",
      "source": [
        "def encode(x):\n",
        "  f1, t1, X = signal.stft(x, 44100, nperseg=1024, noverlap=512, nfft=1024)\n",
        "  n_freqs, n_frames = np.shape(X)\n",
        "  N_c = 60\n",
        "\n",
        "  X_mag = np.abs(X)\n",
        "  x_sortIdx = np.argsort(X_mag, axis=0)\n",
        "  \n",
        "  fft_idx = np.int16(x_sortIdx[-N_c:,:])\n",
        "  fft_real = np.zeros([N_c, n_frames], dtype='float16')\n",
        "  fft_imag = np.zeros([N_c, n_frames], dtype='float16')\n",
        "\n",
        "  for n in range(n_frames):\n",
        "    X_sort = X[fft_idx[:,n], n]\n",
        " \n",
        "    fft_real[:,n] = np.real(X_sort)\n",
        "    fft_imag[:,n] = np.imag(X_sort)\n",
        "\n",
        "  y_compressed = [fft_idx, fft_real, fft_imag]\n",
        "  return y_compressed"
      ],
      "metadata": {
        "id": "oNnsUkwSYoxu"
      },
      "execution_count": null,
      "outputs": []
    },
    {
      "cell_type": "code",
      "source": [
        "Y_c = encode(x)"
      ],
      "metadata": {
        "id": "BAAUD8WWb9OW"
      },
      "execution_count": null,
      "outputs": []
    },
    {
      "cell_type": "code",
      "source": [
        "stream = pickle.dumps(Y_c)\n",
        "c_bytes = len(stream)\n",
        "orig_bytes = len(x) * 2\n",
        "print('Compressed bytes: ', c_bytes )\n",
        "print('Original bytes: ', orig_bytes )\n",
        "print('Compression ratio: ', c_bytes / orig_bytes )"
      ],
      "metadata": {
        "id": "3PDW12XpcBvs"
      },
      "execution_count": null,
      "outputs": []
    },
    {
      "cell_type": "code",
      "source": [
        "def decode(y_compressed):\n",
        "  fft_idx = y_compressed[0]\n",
        "  fft_real = y_compressed[1]\n",
        "  fft_imag = y_compressed[2]\n",
        "\n",
        "  n_freqs, n_frames = np.shape(fft_idx)\n",
        "  X_c = 1j * np.zeros([513, n_frames])\n",
        "\n",
        "  for n in range(n_frames):\n",
        "    X_c[fft_idx[:,n],n] = fft_real[:,n] + 1j*fft_imag[:,n]\n",
        "\n",
        "  t_c, x_c = signal.istft(X_c, 44100, nperseg=1024, noverlap=512, nfft=1024)\n",
        "\n",
        "  return x_c, X_c"
      ],
      "metadata": {
        "id": "7R8wnTalcWfs"
      },
      "execution_count": null,
      "outputs": []
    },
    {
      "cell_type": "code",
      "source": [
        "x_c, X_c = decode(Y_c)\n",
        "ipd.Audio(x_c, rate=fs44)"
      ],
      "metadata": {
        "id": "4DLDSQE7diGk"
      },
      "execution_count": null,
      "outputs": []
    },
    {
      "cell_type": "code",
      "source": [
        "plt.pcolormesh(t1, f1, 20*np.log10(np.abs(X_c)+1e-15))"
      ],
      "metadata": {
        "id": "tgC8jD72eguC"
      },
      "execution_count": null,
      "outputs": []
    },
    {
      "cell_type": "markdown",
      "source": [
        "# `firwin()` *Window* method of FIR filter design"
      ],
      "metadata": {
        "id": "RNe1oySRIFh8"
      }
    },
    {
      "cell_type": "code",
      "source": [
        "N = 128\n",
        "f_c = 0.15\n",
        "A_lp = signal.firwin(N, f_c)\n",
        "plt.plot(A_lp)"
      ],
      "metadata": {
        "id": "148i_sLpIE5i"
      },
      "execution_count": null,
      "outputs": []
    },
    {
      "cell_type": "code",
      "source": [
        "fig = myPlotFFT(A_lp, n_fft=2048)"
      ],
      "metadata": {
        "id": "GRvdRsyqFjNe"
      },
      "execution_count": null,
      "outputs": []
    },
    {
      "cell_type": "markdown",
      "source": [
        "## A sidenote on *side lobes*\n",
        "\n",
        "The window is a multiplication in the time-domain\n",
        "* $h_w[n] = h[n] \\cdot w[n]$\n",
        "\n",
        "That's a *convolution* in the frequency domain:\n",
        "* $H_w[k] = H[k] * W[k]$\n",
        "\n",
        "  * $H[k]$: The ideal filter response (brick wall)\n",
        "  * $W[k]$: The DFT of the window"
      ],
      "metadata": {
        "id": "rV3UqEPMwcRp"
      }
    },
    {
      "cell_type": "code",
      "source": [
        "# Ideal filter\n",
        "L = 128\n",
        "\n",
        "H_id = np.zeros(L)\n",
        "n_c = f_c * L  # Convert Hz to a DFT index\n",
        "print(n_c)\n",
        "\n",
        "H_id[:int(n_c)] = 1\n",
        "H_id[-int(n_c):] = 1\n",
        "\n",
        "f = fs44 * np.arange(L) / L\n",
        "plt.plot(f, H_id)\n",
        "plt.xlabel('Frequency (Hz)')"
      ],
      "metadata": {
        "id": "jON_hL3Bwqir"
      },
      "execution_count": null,
      "outputs": []
    },
    {
      "cell_type": "code",
      "source": [
        "# Window (boxcar or rect function)\n",
        "fig = myPlotFFT(np.ones(128), n_fft=2048)"
      ],
      "metadata": {
        "id": "2lqgFgs3v6Z4"
      },
      "execution_count": null,
      "outputs": []
    },
    {
      "cell_type": "code",
      "source": [
        "# Hanning window\n",
        "fig = myPlotFFT(np.hanning(128), n_fft=2048)"
      ],
      "metadata": {
        "id": "tNOKrbF2x6rc"
      },
      "execution_count": null,
      "outputs": []
    },
    {
      "cell_type": "markdown",
      "source": [
        "## The impulse response"
      ],
      "metadata": {
        "id": "EV5l3k88yJKo"
      }
    },
    {
      "cell_type": "code",
      "source": [
        "delta = np.zeros(256)\n",
        "delta[0] = 1\n",
        "\n",
        "h_lp = signal.lfilter(A_lp, 1, delta)\n",
        "plt.plot(h_lp)"
      ],
      "metadata": {
        "id": "y0Z52ntyGQMh"
      },
      "execution_count": null,
      "outputs": []
    },
    {
      "cell_type": "code",
      "source": [
        "t = np.arange(256) / 10000\n",
        "sine100 = np.sin(2 * np.pi * 100 * t)\n",
        "plt.plot(sine100)"
      ],
      "metadata": {
        "id": "FGWsImHuyh56"
      },
      "execution_count": null,
      "outputs": []
    },
    {
      "cell_type": "code",
      "source": [
        "y100 = signal.lfilter(A_lp, 1, sine100)\n",
        "n = np.arange(256)\n",
        "plt.plot(n,sine100, n, y100)"
      ],
      "metadata": {
        "id": "m8VY6vejy64o"
      },
      "execution_count": null,
      "outputs": []
    },
    {
      "cell_type": "code",
      "source": [
        "f0 = 250\n",
        "\n",
        "mySine = np.sin(2 * np.pi * f0 * t)\n",
        "\n",
        "y500 = signal.lfilter(A_lp, 1, mySine)\n",
        "fig = plt.figure()\n",
        "plt.plot(n, mySine, n, y500)"
      ],
      "metadata": {
        "id": "6xa1ZEAszUf9"
      },
      "execution_count": null,
      "outputs": []
    },
    {
      "cell_type": "code",
      "source": [
        "filename = '-' + str(f0) + '.png'\n",
        "fig.savefig(path + 'figures/' + username + filename)"
      ],
      "metadata": {
        "id": "vpJ-NGq1zvOF"
      },
      "execution_count": null,
      "outputs": []
    },
    {
      "cell_type": "markdown",
      "source": [
        "## Phase: what is it?\n",
        "* Shift in output\n",
        "* Relationship to frequency"
      ],
      "metadata": {
        "id": "hIuLomEt3PSj"
      }
    },
    {
      "cell_type": "code",
      "source": [
        "H_lp = fft.fft(A_lp, n=2048)\n",
        "H_phase = np.angle(H_lp)\n",
        "plt.plot(H_phase)\n",
        "# plt.plot(np.unwrap(H_phase))"
      ],
      "metadata": {
        "id": "Kxz1FvcCF0md"
      },
      "execution_count": null,
      "outputs": []
    },
    {
      "cell_type": "markdown",
      "source": [
        "# Why use FIR Filters?\n",
        "Pros:\n",
        "* Easy to design\n",
        "* Stable\n",
        "* Can be linear phase\n",
        "\n",
        "Cons:\n",
        "* Need longer filters for sharp transitions\n",
        "* Sidelobes, never flat or smooth stopband responses"
      ],
      "metadata": {
        "id": "zgOLQsY6Z8Tx"
      }
    },
    {
      "cell_type": "markdown",
      "source": [
        "# Why use IIR filters?\n",
        "\n",
        "Pros:\n",
        "* Sharper responses with fewer coefficients, due to feedback\n",
        "* Smooth(er) magnitude response: Can eliminate side lobes\n",
        "\n",
        "Cons:\n",
        "* Can be unstable (due to feedback)\n",
        "* Harder to design\n",
        "\n"
      ],
      "metadata": {
        "id": "QXOCy1hAZiF6"
      }
    }
  ]
}