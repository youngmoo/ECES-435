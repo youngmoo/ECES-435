{
  "nbformat": 4,
  "nbformat_minor": 0,
  "metadata": {
    "colab": {
      "provenance": [],
      "collapsed_sections": [
        "leCBR9y1whNm",
        "qw76fQQBw3rZ",
        "eOs9hdwgz95L",
        "7N_b3ft0ch_9"
      ],
      "toc_visible": true,
      "include_colab_link": true
    },
    "kernelspec": {
      "display_name": "Python 3",
      "name": "python3"
    }
  },
  "cells": [
    {
      "cell_type": "markdown",
      "metadata": {
        "id": "view-in-github",
        "colab_type": "text"
      },
      "source": [
        "<a href=\"https://colab.research.google.com/github/youngmoo/ECES-435/blob/main/Class4-1.ipynb\" target=\"_parent\"><img src=\"https://colab.research.google.com/assets/colab-badge.svg\" alt=\"Open In Colab\"/></a>"
      ]
    },
    {
      "cell_type": "markdown",
      "metadata": {
        "id": "qHxN8R_ItyXz"
      },
      "source": [
        "# **ECES-435: Class 4.1**\n",
        "\n",
        "**Announcements**\n",
        "* For next class (Mon 10/17), watch Video No. 7: *The Convolution Theorem*\n",
        "* Lab 4 is a bit more intensive than Lab 3.\n",
        "* Reminder: Next week's lab (No. 5) is the Midterm Lab (20% of final grade)\n",
        "\n",
        "\n"
      ]
    },
    {
      "cell_type": "markdown",
      "source": [
        "# Optional stuff"
      ],
      "metadata": {
        "id": "LNs1mQ6RwalY"
      }
    },
    {
      "cell_type": "markdown",
      "source": [
        "## Interactive Matplotlib\n",
        "\n",
        "Install `ipympl` for  Matplotlib\n"
      ],
      "metadata": {
        "id": "leCBR9y1whNm"
      }
    },
    {
      "cell_type": "code",
      "source": [
        "#!pip install ipympl   # Also installs a more recent version of matplotlib (v3.5.3)"
      ],
      "metadata": {
        "id": "ez5UrP3WwWa-"
      },
      "execution_count": null,
      "outputs": []
    },
    {
      "cell_type": "markdown",
      "source": [
        "Enable interactive Matplotlib figures"
      ],
      "metadata": {
        "id": "rIs1kGVvw1hn"
      }
    },
    {
      "cell_type": "code",
      "source": [
        "# from google.colab import output\n",
        "# output.enable_custom_widget_manager()\n",
        "# %matplotlib widget"
      ],
      "metadata": {
        "id": "lryCz_51wldf"
      },
      "execution_count": null,
      "outputs": []
    },
    {
      "cell_type": "markdown",
      "source": [
        "## My plot style defaults"
      ],
      "metadata": {
        "id": "qw76fQQBw3rZ"
      }
    },
    {
      "cell_type": "code",
      "source": [
        "from matplotlib import rc\n",
        "\n",
        "rc('figure', figsize=(12,4))\n",
        "rc('figure', facecolor='#aaaaaa')     # Better figure background for dark mode\n",
        "\n",
        "rc('font', family='Liberation Serif') # Nicer font\n",
        "rc('font', size=20)                   # Larger font size for labels"
      ],
      "metadata": {
        "id": "NE9dlTZIwt_e"
      },
      "execution_count": null,
      "outputs": []
    },
    {
      "cell_type": "markdown",
      "source": [
        "# Setup\n",
        "As always, start by importing the \"usual\" modules we'll be using..."
      ],
      "metadata": {
        "id": "ljWJhD2HwY3v"
      }
    },
    {
      "cell_type": "code",
      "metadata": {
        "id": "eDaoDgqCs1mp"
      },
      "source": [
        "import numpy as np\n",
        "import matplotlib.pyplot as plt\n",
        "import IPython.display as ipd\n",
        "import soundfile as sf\n",
        "from matplotlib import animation, rc\n",
        "from scipy import signal\n",
        "\n",
        "rc('animation', html='jshtml')\n",
        "\n",
        "path = '/content/drive/My Drive/eces435-work/class4.1/'"
      ],
      "execution_count": null,
      "outputs": []
    },
    {
      "cell_type": "code",
      "metadata": {
        "id": "QUiMfqMhOWCI"
      },
      "source": [
        "# CHANGE THIS to your Drexel username!!\n",
        "username = 'tr505'"
      ],
      "execution_count": null,
      "outputs": []
    },
    {
      "cell_type": "code",
      "metadata": {
        "id": "7f-OzFc_mN4w"
      },
      "source": [
        "from google.colab import drive\n",
        "drive.mount('/content/drive')"
      ],
      "execution_count": null,
      "outputs": []
    },
    {
      "cell_type": "markdown",
      "source": [
        "# Helper functions"
      ],
      "metadata": {
        "id": "eOs9hdwgz95L"
      }
    },
    {
      "cell_type": "markdown",
      "source": [
        "## `myPlot()`\n",
        "A quick time-domain signal plot function with my default figure settings and a time x-axis (in seconds).\n",
        "* Required arguments:\n",
        "  * `sig` Input signal (first argument)\n",
        "* Optional arguments:\n",
        "  * `N=#` Number of samples to plot (default: length of signal)\n",
        "  * `fs=#` Sample rate of signal (default: 44100 Hz)\n",
        "  * `fig_size=(W,H)` Change figure dimensions (width, height)\n",
        "  * `x_ax=True/False` Show x-axis (default: True)\n",
        "  * `y_ax=True/False` Show y-axis (default: True)\n",
        "  * `lw=#` Change linewdith of signal (default: 1)\n",
        "  * `fmt='...'` Plot format string (default: none)\n",
        "  * *New* `x_lim=#` or `x_lim=[x1,x2]` Specify the x-axis limit(s) of the plot\n",
        "  * *New* `y_lim=#` or `y_lim=[y1,y2]` Specificy the y-axis limit(s) of the plot"
      ],
      "metadata": {
        "id": "7N_b3ft0ch_9"
      }
    },
    {
      "cell_type": "code",
      "source": [
        "def myPlot(sig, N=0, fs=44100, fig_size=(16,4), x_ax=True, y_ax=True, lw=1, fmt='', x_lim=0, y_lim=0):\n",
        "  if N==0:\n",
        "    N = len(sig)\n",
        "\n",
        "  fig = plt.figure(figsize=fig_size)\n",
        "  t = np.arange(N)/fs\n",
        "\n",
        "  plt.plot( t[:N], sig[:N], fmt, linewidth=lw)\n",
        "\n",
        "  plt.xlabel('Time (sec)')\n",
        "  ax = plt.gca()    # gca(): \"Get current axis\", the graph object that's currently plotted\n",
        "  \n",
        "  if x_ax == False:\n",
        "    ax.xaxis.set_visible(False)\n",
        "  if y_ax == False:\n",
        "    ax.yaxis.set_visible(False)\n",
        "\n",
        "  if np.isscalar(x_lim):\n",
        "    if x_lim == 0:\n",
        "      x_lim2 = N/fs   # End of input signal\n",
        "    else:\n",
        "      x_lim2 = x_lim\n",
        "    plt.xlim(0, x_lim2)\n",
        "  else:\n",
        "    plt.xlim(x_lim)\n",
        "\n",
        "  if np.isscalar(y_lim):\n",
        "    if y_lim != 0:\n",
        "      plt.ylim(-y_lim, y_lim)\n",
        "  else:\n",
        "    plt.ylim(y_lim)\n",
        "\n",
        "  fig.tight_layout()\n",
        "  #plt.ion()\n",
        "  plt.close()\n",
        "\n",
        "  # Returning the figure causes issues with interactive matplotlib\n",
        "  return fig\n",
        "  # For saving the figure, use the interactive buton, instead.\n",
        "  # For further customization and command-line saving, more changes are required."
      ],
      "metadata": {
        "id": "aNLccM7sz9SE"
      },
      "execution_count": null,
      "outputs": []
    },
    {
      "cell_type": "markdown",
      "source": [
        "## `myPlotFFT()`\n",
        "Plot the magnitude frequency response (in dB FS) of a signal with my default figure settings and a frequency x-axis (in Hz), based on the Nyquist rate.\n",
        "* Required arguments:\n",
        "  * `sig` Input signal (first argument)\n",
        "* Optional arguments:\n",
        "  * `n_fft=#` The size of FFT to use (default: length of input signal)\n",
        "  * `n_win=#` The length of window to use (default: length of input)\n",
        "  * `win='hann'` The type of window to use (default: `hann`, or `rect`)\n",
        "  * `fs=#` Sample rate of signal (default: 44100 Hz)\n",
        "  * `x_lim=# or (#,#)` Frequency axis limits (max or range, in Hz)\n",
        "  * `fig_size=(W,H)` Change figure dimensions (width, height)\n",
        "  * `x_ax=True/False` Show x-axis (default: True)\n",
        "  * `y_ax=True/False` Show y-axis (default: True)\n",
        "  * `lw=#` Change linewdith of signal (default: 1)\n",
        "  * `fmt='...'` Change plot formatting (default: none)"
      ],
      "metadata": {
        "id": "7jSL6pxMXfgi"
      }
    },
    {
      "cell_type": "code",
      "source": [
        "def myPlotFFT(sig, fs=44100, n_fft=0, n_win=0, win='hann', neg_f=False, x_lim=0, y_lim=0, fig_size=(16,6),x_ax=True, y_ax=True, lw=1, fmt=''):\n",
        "  if n_fft==0:\n",
        "    n_fft = len(sig)\n",
        "  if n_win==0:\n",
        "    n_win = len(sig)\n",
        "\n",
        "  if win=='hann':  \n",
        "    win = np.hanning(n_win)\n",
        "    win_scale = 2\n",
        "  else:\n",
        "    win = np.ones(n_win)\n",
        "    win_scale = 1\n",
        "\n",
        "  S = np.fft.fft(sig * win, n_fft)\n",
        "  N = len(S)\n",
        "  f = np.arange(N) * fs / N\n",
        "  if neg_f:\n",
        "    f = f - (fs/2)\n",
        "    S = np.fft.fftshift(S)\n",
        "\n",
        "  S_mag = 2*win_scale*np.abs(S) / n_win     # Frequency magnitude, normalized by length\n",
        "                                            #    x2 because cos(w) = 0.5e^jw + 0.5e^-jw\n",
        "                                            #    x2 for Hann because window has 0.5 average\n",
        "\n",
        "  S_mag += 1e-15                  # Add a small offset to avoid log(0) errors\n",
        "  S_dBFS = 20*np.log10(S_mag)     # Freq. magnitude in dB full scale (dB FS):\n",
        "                                  #    cos(w) -> 0 dBFS peak at w\n",
        "\n",
        "\n",
        "  fig = plt.figure(figsize=fig_size)\n",
        "  plt.plot(f, S_dBFS, fmt, linewidth=lw) \n",
        "  if np.isscalar(x_lim):\n",
        "    if x_lim == 0:\n",
        "      x_lim2 = fs/2\n",
        "    if neg_f:\n",
        "      x_lim = -fs/2\n",
        "    plt.xlim(x_lim, x_lim2)\n",
        "  else:\n",
        "    plt.xlim(x_lim)\n",
        "\n",
        "  if np.isscalar(y_lim):\n",
        "    if y_lim < 0:\n",
        "      plt.ylim(y_lim, 0)\n",
        "    elif y_lim > 0:\n",
        "      plt.ylim(0, y_lim)\n",
        "  else:\n",
        "    plt.ylim(y_lim)\n",
        "\n",
        "  plt.xlabel('Frequency (Hz)')\n",
        "  plt.ylabel('Magnitude (dB FS)')\n",
        "\n",
        "  ax = plt.gca()\n",
        "  if x_ax == False:\n",
        "    ax.xaxis.set_visible(False)\n",
        "  if y_ax == False:\n",
        "    ax.yaxis.set_visible(False)\n",
        "  fig.tight_layout()\n",
        "\n",
        "  # Returning the figure causes issues with interactive matplotlib\n",
        "  #return fig\n",
        "  # For saving the figure, use the interactive buton, instead.\n",
        "  # For further customization and command-line saving, more changes are required."
      ],
      "metadata": {
        "id": "wKGq7SuNXTeS"
      },
      "execution_count": null,
      "outputs": []
    },
    {
      "cell_type": "markdown",
      "metadata": {
        "id": "cWj0eW-qEjxf"
      },
      "source": [
        "# Load this week's audio sample\n",
        "*New clip for Week 4!*\n",
        "\n",
        "* 44.1 kHz sampling rate"
      ]
    },
    {
      "cell_type": "code",
      "metadata": {
        "id": "xMUmfBZ0-9XL"
      },
      "source": [
        "fc44,fs44 = sf.read(path + 'FinalCountdown-44kHz.wav')\n",
        "ipd.Audio(fc44,rate=fs44)"
      ],
      "execution_count": null,
      "outputs": []
    },
    {
      "cell_type": "code",
      "metadata": {
        "id": "AvhFkx6JZL9T"
      },
      "source": [
        "myPlot(fc44)"
      ],
      "execution_count": null,
      "outputs": []
    },
    {
      "cell_type": "markdown",
      "source": [
        "# Quantization"
      ],
      "metadata": {
        "id": "A1xN5b8MZrKF"
      }
    },
    {
      "cell_type": "markdown",
      "source": [
        "### `quantize()` (from last Class & Lab)\n",
        "\n",
        "Quantize an input signal to a specified precision per sample (in bits).\n",
        "* Required arguments:\n",
        "  * `sig` Input signal (first argument)\n",
        "  * `n_bits` The number of bits per sample\n",
        "* Optional arguments:\n",
        "  * `norm=True/False` Normalize the quantized signal and noise outputs to be within $\\pm1$ (default: `True`)\n",
        "* Outputs:\n",
        "  * `sig_q` The quantized signal\n",
        "  * `q_noise` The quantization noise"
      ],
      "metadata": {
        "id": "Rvb7tGFyR9kd"
      }
    },
    {
      "cell_type": "code",
      "source": [
        "def quantize(sig, n_bits, norm=True):\n",
        "  q_scale = 2**(n_bits-1)\n",
        "\n",
        "  sig_q = np.floor(sig * q_scale)\n",
        "  q_noise = sig * q_scale - sig_q\n",
        "\n",
        "  if norm:\n",
        "    sig_q = sig_q / q_scale\n",
        "    q_noise = q_noise / q_scale\n",
        "\n",
        "  return sig_q, q_noise"
      ],
      "metadata": {
        "id": "BhdSZt0mZqh_"
      },
      "execution_count": null,
      "outputs": []
    },
    {
      "cell_type": "markdown",
      "source": [
        "### Quantize sample to 4 bits"
      ],
      "metadata": {
        "id": "sUV6_dNLumgE"
      }
    },
    {
      "cell_type": "code",
      "source": [
        "n_bits = 4\n",
        "\n",
        "fc44_q, q_noise = quantize(fc44, n_bits, norm=False)\n",
        "ipd.Audio(fc44_q, rate=fs44)"
      ],
      "metadata": {
        "id": "GyrdZmcHTo9A"
      },
      "execution_count": null,
      "outputs": []
    },
    {
      "cell_type": "code",
      "source": [
        "myPlot(fc44_q, x_lim=[12,12.1], y_lim=[-3,3])"
      ],
      "metadata": {
        "id": "pvX1gNUMUUzQ"
      },
      "execution_count": null,
      "outputs": []
    },
    {
      "cell_type": "markdown",
      "source": [
        "## What does quantization do in the frequency domain?"
      ],
      "metadata": {
        "id": "BJM2qvADYbgV"
      }
    },
    {
      "cell_type": "markdown",
      "source": [
        "### Time to write a `mySpectrogram()` function\n",
        "A simple wrapper to compute and plot the spectrogram of a signal with my default figure settings, a time x-axis (in seconds) and a frequency y-axis (in Hz), based on the Nyquist rate.\n",
        "* Required arguments:\n",
        "  * `sig` Input signal (first argument)\n",
        "* Optional arguments:\n",
        "  * `fs=#` Sample rate of signal (default: 44100 Hz)\n",
        "  * `win='window_name'` The type of analysis window to use (default: 'hann')\n",
        "  * `n_win=#` The length of window to use per frame (default: 1024)\n",
        "  * `n_fft=#` The size of FFT to use (default: 1024)\n",
        "  * `x_lim=# or (#,#)` x-axis limit or range (in seconds)\n",
        "  * `y_lim=# or (#,#)` y-axis limit or range (in Hz)\n",
        "  * `fig_size=(W,H)` Change figure dimensions (width, height)\n",
        "  * `x-ax=True/False` Show x-axis (default: True)\n",
        "  * `y-ax=True/False` Show y-axis (default: True)"
      ],
      "metadata": {
        "id": "kAxTI9wgkEs8"
      }
    },
    {
      "cell_type": "code",
      "source": [
        "def mySpectrogram(sig, fs=44100, win='hann', n_win=1024, olap=512, n_fft=1024, x_lim=0, y_lim=0, fig_size=(12,6), x_ax=True, y_ax=True):\n",
        "  f1, t1, Sxx = signal.spectrogram(sig, fs, window=win, nperseg=n_win, noverlap=olap, nfft=n_fft)\n",
        "\n",
        "  fig = plt.figure(figsize=fig_size)\n",
        "\n",
        "  S_mag = \n",
        "  S_dBFS = \n",
        "  \n",
        "  plt.pcolormesh(t1, f1, S_dBFS)\n",
        "  plt.ylabel('Frequency (Hz)')\n",
        "  plt.xlabel('Time (sec)')\n",
        "\n",
        "  if np.isscalar(x_lim):\n",
        "    if x_lim == 0:\n",
        "      x_lim = len(sig) / fs\n",
        "    plt.xlim(0, x_lim)\n",
        "  else:\n",
        "    plt.xlim(x_lim)\n",
        "\n",
        "  if np.isscalar(y_lim):\n",
        "    if y_lim == 0:\n",
        "      y_lim = fs/2\n",
        "    plt.ylim(0, y_lim)\n",
        "  else:\n",
        "    plt.ylim(y_lim)\n",
        "\n",
        "  ax = plt.gca()\n",
        "  if x_ax == False:\n",
        "    ax.xaxis.set_visible(False)\n",
        "  if y_ax == False:\n",
        "    ax.yaxis.set_visible(False)\n",
        "  fig.tight_layout()\n",
        "\n",
        "  plt.ion()\n",
        "  \n",
        "  # Returning the figure causes issues with interactive matplotlib\n",
        "  return fig\n",
        "  # For saving the figure, use the interactive buton, instead.\n",
        "  # For further customization and command-line saving, more changes are required."
      ],
      "metadata": {
        "id": "gaonAlsvmEbT"
      },
      "execution_count": null,
      "outputs": []
    },
    {
      "cell_type": "markdown",
      "source": [
        "### Spectrogram of original clip"
      ],
      "metadata": {
        "id": "QsWtvzyT45Hw"
      }
    },
    {
      "cell_type": "code",
      "source": [
        "mySpectrogram(fc44)"
      ],
      "metadata": {
        "id": "Sw_NbP72z1YN"
      },
      "execution_count": null,
      "outputs": []
    },
    {
      "cell_type": "markdown",
      "source": [
        "### Spectrogram of quantized clip"
      ],
      "metadata": {
        "id": "jurcYzV6489V"
      }
    },
    {
      "cell_type": "code",
      "source": [
        "fig1 = mySpectrogram(fc44_q)\n",
        "fig1"
      ],
      "metadata": {
        "id": "r-0JZ-IKypIR"
      },
      "execution_count": null,
      "outputs": []
    },
    {
      "cell_type": "markdown",
      "source": [
        "### Save figure to Google Drive\n",
        "\n",
        "After you're satisfied with the spectrogram figure."
      ],
      "metadata": {
        "id": "yyBu0BH25RRy"
      }
    },
    {
      "cell_type": "code",
      "source": [
        "fig1.savefig(path+'spectrogram/'+username+'fc_q'+str(n_bits)+'.png')"
      ],
      "metadata": {
        "id": "S0i6LoRT4hEk"
      },
      "execution_count": null,
      "outputs": []
    },
    {
      "cell_type": "markdown",
      "source": [
        "# Bitrate\n",
        "\n",
        "What's the bitrate for these various quantizations?\n",
        "* $b_r = f_s \\cdot B \\cdot C$ in bits / second\n",
        "  * $f_s$ is the sampling rate\n",
        "  * $B$ is bits per sample\n",
        "  * $C$ is the number of channels"
      ],
      "metadata": {
        "id": "2j593hkzZXQQ"
      }
    },
    {
      "cell_type": "code",
      "source": [
        "n_bits = 16\n",
        "\n",
        "br44_16 = fs44 * n_bits\n",
        "print(br44_16)"
      ],
      "metadata": {
        "id": "A0aEosnOZrof"
      },
      "execution_count": null,
      "outputs": []
    },
    {
      "cell_type": "markdown",
      "source": [
        "## What are other bitrates?\n",
        "\n",
        "Compute some variations\n",
        "* Different sampling rates\n",
        "* Different bit depths (quantization levels)\n",
        "\n",
        "*And what is a typical streaming bitrate (Spotify, Apple Music, etc.)?*"
      ],
      "metadata": {
        "id": "NdfB4LpAaLaA"
      }
    },
    {
      "cell_type": "code",
      "source": [
        "my_br = "
      ],
      "metadata": {
        "id": "317dZvjnawG9"
      },
      "execution_count": null,
      "outputs": []
    },
    {
      "cell_type": "markdown",
      "source": [
        "# Sample Rate Conversion: The easy way\n",
        "\n",
        "* What if we need to change the sampling rate of a signal?"
      ],
      "metadata": {
        "id": "wAEEs5R9Ii0f"
      }
    },
    {
      "cell_type": "markdown",
      "metadata": {
        "id": "69W9BiAtNvEg"
      },
      "source": [
        "## Create 11025 Hz sample rate version\n",
        "\n",
        "* The easy way (downsampling)\n"
      ]
    },
    {
      "cell_type": "code",
      "source": [
        "fs11 = fs44 / 4\n",
        "fc11 =                      # Downsample by factor of 4\n",
        "ipd.Audio(fc11,rate=fs11)"
      ],
      "metadata": {
        "id": "Ag3rNimxEQ84"
      },
      "execution_count": null,
      "outputs": []
    },
    {
      "cell_type": "markdown",
      "source": [
        "Check the spectrogram of your downsampled signal"
      ],
      "metadata": {
        "id": "XpwYDGxj5qh_"
      }
    },
    {
      "cell_type": "code",
      "metadata": {
        "id": "mGnf6L4cq-UI"
      },
      "source": [
        "mySpectrogram(fc11, fs11, y_lim=[0,22050])"
      ],
      "execution_count": null,
      "outputs": []
    },
    {
      "cell_type": "markdown",
      "source": [
        "## Upsampling\n",
        "\n",
        "* Insert zeros between existing samples"
      ],
      "metadata": {
        "id": "JqgTzoIYkoPU"
      }
    },
    {
      "cell_type": "code",
      "source": [
        "L = 4\n",
        "up4 = np.zeros( len(fc11)*L - (L-1) )\n",
        "up4[::4] = fc11                # Put our 11 kHz wave every 4th sample\n",
        "\n",
        "ipd.Audio(up4, rate=fs44)"
      ],
      "metadata": {
        "id": "4K1elF9X2WB8"
      },
      "execution_count": null,
      "outputs": []
    },
    {
      "cell_type": "code",
      "source": [
        "myPlot(up4[:500])"
      ],
      "metadata": {
        "id": "R2pF6zAwJHMJ"
      },
      "execution_count": null,
      "outputs": []
    },
    {
      "cell_type": "code",
      "source": [
        "mySpectrogram(up4)"
      ],
      "metadata": {
        "id": "Fns693VI1Ps0"
      },
      "execution_count": null,
      "outputs": []
    },
    {
      "cell_type": "markdown",
      "source": [
        "## Smoothing: Moving average"
      ],
      "metadata": {
        "id": "pmzkvpvf0XGp"
      }
    },
    {
      "cell_type": "code",
      "source": [
        "L = 9  # Number of samples to average\n",
        "\n",
        "N = len(up4)\n",
        "s_ma = np.zeros(N)               # Create an output array of zeros\n",
        "\n",
        "for n in range(N - L):\n",
        "  s_ma[n] = np.sum(up4[n:n+L]) / L   # Compute moving average of L samples"
      ],
      "metadata": {
        "id": "q9bKNvb60BoT"
      },
      "execution_count": null,
      "outputs": []
    },
    {
      "cell_type": "code",
      "source": [
        "myPlot(s_ma[:500])"
      ],
      "metadata": {
        "id": "OzH36WLJ1dvI"
      },
      "execution_count": null,
      "outputs": []
    },
    {
      "cell_type": "code",
      "source": [
        "ipd.Audio(s_ma, rate=fs44)"
      ],
      "metadata": {
        "id": "yu3E32cJ1vEm"
      },
      "execution_count": null,
      "outputs": []
    },
    {
      "cell_type": "code",
      "source": [
        "h_ma = np.ones(L) / L\n",
        "\n",
        "myPlotFFT(4*h_ma, n_fft=2048, win='rect')"
      ],
      "metadata": {
        "id": "zesyr-rD3yrV"
      },
      "execution_count": null,
      "outputs": []
    },
    {
      "cell_type": "code",
      "source": [
        "myPlotFFT(s_ma)"
      ],
      "metadata": {
        "id": "pfuT3-pG2VrL"
      },
      "execution_count": null,
      "outputs": []
    },
    {
      "cell_type": "code",
      "source": [
        "mySpectrogram(s_ma)"
      ],
      "metadata": {
        "id": "R3yXPH8H2ADf"
      },
      "execution_count": null,
      "outputs": []
    },
    {
      "cell_type": "markdown",
      "source": [
        "## Smoothing: Weighted moving average"
      ],
      "metadata": {
        "id": "Mdwv8K7UVGg0"
      }
    },
    {
      "cell_type": "code",
      "source": [
        "L = 9  # Number of samples to average\n",
        "h_tri = np.bartlett(L)\n",
        "\n",
        "s_tri = np.zeros(N)               # Create an output array of zeros\n",
        "\n",
        "for n in range(N - L):\n",
        "  s_tri[n] = np.sum( up4[n:n+L] * h_tri )   # Compute weighted average of L samples"
      ],
      "metadata": {
        "id": "FFJIJ9teVkIH"
      },
      "execution_count": null,
      "outputs": []
    },
    {
      "cell_type": "code",
      "source": [
        "plt.plot(h_tri, '.')"
      ],
      "metadata": {
        "id": "XFyECs8xKKi4"
      },
      "execution_count": null,
      "outputs": []
    },
    {
      "cell_type": "code",
      "source": [
        "myPlot(s_tri[:500])"
      ],
      "metadata": {
        "id": "mR4o4-keV6BN"
      },
      "execution_count": null,
      "outputs": []
    },
    {
      "cell_type": "code",
      "source": [
        "ipd.Audio(s_tri, rate=fs44)"
      ],
      "metadata": {
        "id": "WgpRApMqWHgh"
      },
      "execution_count": null,
      "outputs": []
    },
    {
      "cell_type": "code",
      "source": [
        "myPlotFFT(h_tri, n_fft=2048, win='rect', y_lim=-100)"
      ],
      "metadata": {
        "id": "rJeeG8VXWKi3"
      },
      "execution_count": null,
      "outputs": []
    },
    {
      "cell_type": "code",
      "source": [
        "mySpectrogram(s_tri)"
      ],
      "metadata": {
        "id": "NRuchF33WUHo"
      },
      "execution_count": null,
      "outputs": []
    },
    {
      "cell_type": "code",
      "source": [
        "myPlotFFT(s_tri, win='rect')"
      ],
      "metadata": {
        "id": "ndBU9iSDWZ2T"
      },
      "execution_count": null,
      "outputs": []
    },
    {
      "cell_type": "markdown",
      "source": [
        "## Write your own smoothing function, `smoothie()`\n",
        "\n",
        "Inputs:\n",
        "* `x` signal to be smoothed\n",
        "* `h` smoothing function (window)\n",
        "\n",
        "Output:\n",
        "* `s` smoothed signal"
      ],
      "metadata": {
        "id": "cIBQlbLk6WgU"
      }
    },
    {
      "cell_type": "code",
      "source": [
        "def smoothie(x, h):\n",
        "  N = len(x)\n",
        "  L = len(h)\n",
        "\n",
        "  s = np.zeros(N)                   # Create an output array of zeros\n",
        "  for n in range(N - L):\n",
        "    s[n] = \n",
        "\n",
        "  return s"
      ],
      "metadata": {
        "id": "1z9iKWBf6VK5"
      },
      "execution_count": null,
      "outputs": []
    },
    {
      "cell_type": "markdown",
      "source": [
        "#### Test out your function"
      ],
      "metadata": {
        "id": "ZkLFH-Oa8fQn"
      }
    },
    {
      "cell_type": "code",
      "source": [
        "L = 17  # Number of samples to average\n",
        "h_hann = np.hanning(L)\n",
        "\n",
        "s_hann = smoothie(up4, h_hann)"
      ],
      "metadata": {
        "id": "fcoGoMaNg-ty"
      },
      "execution_count": null,
      "outputs": []
    },
    {
      "cell_type": "code",
      "source": [
        "fig2 = myPlot(s_hann[:1500])\n",
        "fig2"
      ],
      "metadata": {
        "id": "3z0WDUlwhW-d"
      },
      "execution_count": null,
      "outputs": []
    },
    {
      "cell_type": "code",
      "source": [
        "fig2.savefig(path + 'smoothing/' + username + '-hann.png')"
      ],
      "metadata": {
        "id": "wHAdXTli7BTs"
      },
      "execution_count": null,
      "outputs": []
    },
    {
      "cell_type": "code",
      "source": [
        "ipd.Audio(s_hann, rate=fs44)"
      ],
      "metadata": {
        "id": "UlcLr6PR2K4m"
      },
      "execution_count": null,
      "outputs": []
    },
    {
      "cell_type": "code",
      "source": [
        "myPlotFFT(h_hann, n_fft=2048, win='rect', y_lim=-100)"
      ],
      "metadata": {
        "id": "0vQ98vOQhUSK"
      },
      "execution_count": null,
      "outputs": []
    },
    {
      "cell_type": "code",
      "source": [
        "myPlotFFT(s_hann, win='rect')"
      ],
      "metadata": {
        "id": "UHzZXv4qhn-d"
      },
      "execution_count": null,
      "outputs": []
    },
    {
      "cell_type": "code",
      "source": [
        "mySpectrogram(s_hann)"
      ],
      "metadata": {
        "id": "KEtDnh_llvA8"
      },
      "execution_count": null,
      "outputs": []
    },
    {
      "cell_type": "markdown",
      "source": [
        "# Sampling Rate Conversion: Strategy\n",
        "\n",
        "To convert from one sampling rate, $M$, to a different sampling rate $L$, here's a strategy:\n",
        "* Upsample by $L$\n",
        "* Filter (smooth) with a cutoff of $1/L$ or $1/M$, whichever is smaller.\n",
        "* Downsample by $M$"
      ],
      "metadata": {
        "id": "c-7_Wu_n2LEd"
      }
    },
    {
      "cell_type": "markdown",
      "source": [
        "## Convert from 11kHz to 16kHz"
      ],
      "metadata": {
        "id": "wlG6FCCT2uAb"
      }
    },
    {
      "cell_type": "markdown",
      "source": [
        "### Upsample by 16"
      ],
      "metadata": {
        "id": "vTzRIoXL2xn6"
      }
    },
    {
      "cell_type": "code",
      "source": [
        "L = 16\n",
        "up16 = np.zeros( len(fc11)*L - (L-1) )\n",
        "up16[::L] = fc11                # Put our 11 kHz wave every Lth sample\n",
        "myPlot(up16[:500*L])"
      ],
      "metadata": {
        "id": "fkDn8SFD2Ko3"
      },
      "execution_count": null,
      "outputs": []
    },
    {
      "cell_type": "markdown",
      "source": [
        "### Smoothing (filtering)\n",
        "\n",
        "* The lowpass cutuff should be either $1/M$ or $1/L$ in normalized frequency (where 1.0 is the Nyquist frequency), whichever is smaller (depends if you're going to a higher rate or a lower rate).\n",
        "\n",
        "* In this case (going from 11kHz to 16 kHz) the cutoff is approximately 1/16 (in normalized frequency)."
      ],
      "metadata": {
        "id": "ioOdildL3PqF"
      }
    },
    {
      "cell_type": "code",
      "source": [
        "1/L"
      ],
      "metadata": {
        "id": "l5RAzbMI4DE-"
      },
      "execution_count": null,
      "outputs": []
    },
    {
      "cell_type": "code",
      "source": [
        "N_win =\n",
        "hann = np.hanning(N_win)\n",
        "\n",
        "myPlotFFT(hann, fs=2, win='rect', n_fft=2048, y_lim=-100)"
      ],
      "metadata": {
        "id": "8BLWOxwH7WnH"
      },
      "execution_count": null,
      "outputs": []
    },
    {
      "cell_type": "code",
      "source": [
        "up16_s = smoothie(up16, hann)\n",
        "\n",
        "myPlot(up16_s[:500*L])"
      ],
      "metadata": {
        "id": "soBgS89r41wq"
      },
      "execution_count": null,
      "outputs": []
    },
    {
      "cell_type": "code",
      "source": [
        "myPlotFFT(up16, fs=2)"
      ],
      "metadata": {
        "id": "I9osZuEgAp0k"
      },
      "execution_count": null,
      "outputs": []
    },
    {
      "cell_type": "code",
      "source": [
        "myPlotFFT(up16_s, fs=2)"
      ],
      "metadata": {
        "id": "uhxupdFkA7k_"
      },
      "execution_count": null,
      "outputs": []
    },
    {
      "cell_type": "markdown",
      "source": [
        "### Downsample by 11"
      ],
      "metadata": {
        "id": "02dk3TMH5wtm"
      }
    },
    {
      "cell_type": "code",
      "source": [
        "fc16 = up16_s[::11]\n",
        "myPlot(fc16[:500])"
      ],
      "metadata": {
        "id": "cwsXYd3_5vJ6"
      },
      "execution_count": null,
      "outputs": []
    },
    {
      "cell_type": "code",
      "source": [
        "ipd.Audio(fc16, rate=16000)"
      ],
      "metadata": {
        "id": "0Yh7gkL_57kp"
      },
      "execution_count": null,
      "outputs": []
    },
    {
      "cell_type": "code",
      "source": [
        "myPlotFFT(fc16, fs=16000)"
      ],
      "metadata": {
        "id": "Id5iNKUv7MdU"
      },
      "execution_count": null,
      "outputs": []
    },
    {
      "cell_type": "code",
      "source": [
        "mySpectrogram(fc16, fs=16000)"
      ],
      "metadata": {
        "id": "Ncq_mBXD7Vv-"
      },
      "execution_count": null,
      "outputs": []
    }
  ]
}