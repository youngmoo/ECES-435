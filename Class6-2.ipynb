{
  "nbformat": 4,
  "nbformat_minor": 0,
  "metadata": {
    "colab": {
      "provenance": [],
      "collapsed_sections": [
        "leCBR9y1whNm",
        "qw76fQQBw3rZ",
        "7N_b3ft0ch_9"
      ],
      "toc_visible": true,
      "include_colab_link": true
    },
    "kernelspec": {
      "display_name": "Python 3",
      "name": "python3"
    }
  },
  "cells": [
    {
      "cell_type": "markdown",
      "metadata": {
        "id": "view-in-github",
        "colab_type": "text"
      },
      "source": [
        "<a href=\"https://colab.research.google.com/github/youngmoo/ECES-435/blob/main/Class6-2.ipynb\" target=\"_parent\"><img src=\"https://colab.research.google.com/assets/colab-badge.svg\" alt=\"Open In Colab\"/></a>"
      ]
    },
    {
      "cell_type": "markdown",
      "metadata": {
        "id": "qHxN8R_ItyXz"
      },
      "source": [
        "# **ECES-435: Class 6.2**\n",
        "\n",
        "**Announcements**\n",
        "* No lab this week (enjoy the break!)\n",
        "* For next class, please watch Video No. 9: *The z-Transform*.\n",
        "\n"
      ]
    },
    {
      "cell_type": "markdown",
      "source": [
        "# Optional stuff"
      ],
      "metadata": {
        "id": "LNs1mQ6RwalY"
      }
    },
    {
      "cell_type": "markdown",
      "source": [
        "## Interactive Matplotlib\n",
        "\n",
        "Install `ipympl` for  Matplotlib\n"
      ],
      "metadata": {
        "id": "leCBR9y1whNm"
      }
    },
    {
      "cell_type": "code",
      "source": [
        "#!pip install ipympl   # Also installs a more recent version of matplotlib (v3.5.3)"
      ],
      "metadata": {
        "id": "ez5UrP3WwWa-"
      },
      "execution_count": null,
      "outputs": []
    },
    {
      "cell_type": "markdown",
      "source": [
        "Enable interactive Matplotlib figures"
      ],
      "metadata": {
        "id": "rIs1kGVvw1hn"
      }
    },
    {
      "cell_type": "code",
      "source": [
        "# from google.colab import output\n",
        "# output.enable_custom_widget_manager()\n",
        "# %matplotlib widget"
      ],
      "metadata": {
        "id": "lryCz_51wldf"
      },
      "execution_count": null,
      "outputs": []
    },
    {
      "cell_type": "markdown",
      "source": [
        "## My plot style defaults"
      ],
      "metadata": {
        "id": "qw76fQQBw3rZ"
      }
    },
    {
      "cell_type": "code",
      "source": [
        "from matplotlib import rc\n",
        "\n",
        "rc('figure', figsize=(12,4))\n",
        "rc('figure', facecolor='#aaaaaa')     # Better figure background for dark mode\n",
        "\n",
        "rc('font', family='Liberation Serif') # Nicer font\n",
        "rc('font', size=20)                   # Larger font size for labels"
      ],
      "metadata": {
        "id": "NE9dlTZIwt_e"
      },
      "execution_count": null,
      "outputs": []
    },
    {
      "cell_type": "markdown",
      "source": [
        "# Setup\n",
        "A few new modules we'll be using..."
      ],
      "metadata": {
        "id": "ljWJhD2HwY3v"
      }
    },
    {
      "cell_type": "code",
      "metadata": {
        "id": "eDaoDgqCs1mp"
      },
      "source": [
        "import numpy as np\n",
        "import matplotlib.pyplot as plt\n",
        "import IPython.display as ipd\n",
        "import soundfile as sf\n",
        "from matplotlib import animation, rc\n",
        "from scipy import signal\n",
        "import numpy.fft as fft\n",
        "# import pickle    # NEW: For serializing objects & data\n",
        "\n",
        "rc('animation', html='jshtml')\n",
        "\n",
        "path = '/content/drive/My Drive/eces435-work/class6.1/'"
      ],
      "execution_count": null,
      "outputs": []
    },
    {
      "cell_type": "code",
      "metadata": {
        "id": "QUiMfqMhOWCI"
      },
      "source": [
        "# CHANGE THIS to your Drexel username!!\n",
        "username = 'ncc1864'"
      ],
      "execution_count": null,
      "outputs": []
    },
    {
      "cell_type": "code",
      "metadata": {
        "id": "7f-OzFc_mN4w"
      },
      "source": [
        "from google.colab import drive\n",
        "drive.mount('/content/drive')"
      ],
      "execution_count": null,
      "outputs": []
    },
    {
      "cell_type": "markdown",
      "source": [
        "## Helper functions"
      ],
      "metadata": {
        "id": "eOs9hdwgz95L"
      }
    },
    {
      "cell_type": "markdown",
      "source": [
        "`myPlot()`\n",
        "\n",
        "A quick time-domain signal plot function with my default figure settings and a time x-axis (in seconds).\n",
        "* Required arguments:\n",
        "  * `sig` Input signal (first argument)\n",
        "* Optional arguments:\n",
        "  * `N=#` Number of samples to plot (default: length of signal)\n",
        "  * `fs=#` Sample rate of signal (default: 44100 Hz)\n",
        "  * `fig_size=(W,H)` Change figure dimensions (width, height)\n",
        "  * `x_ax=True/False` Show x-axis (default: True)\n",
        "  * `y_ax=True/False` Show y-axis (default: True)\n",
        "  * `lw=#` Change linewdith of signal (default: 1)\n",
        "  * `fmt='...'` Plot format string (default: none)\n",
        "  * *New* `x_lim=#` or `x_lim=[x1,x2]` Specify the x-axis limit(s) of the plot\n",
        "  * *New* `y_lim=#` or `y_lim=[y1,y2]` Specificy the y-axis limit(s) of the plot"
      ],
      "metadata": {
        "id": "7N_b3ft0ch_9"
      }
    },
    {
      "cell_type": "code",
      "source": [
        "def myPlot(sig, N=0, fs=44100, fig_size=(16,4), x_ax=True, y_ax=True, lw=1, fmt='', x_lim=0, y_lim=0):\n",
        "  if N==0:\n",
        "    N = len(sig)\n",
        "\n",
        "  fig = plt.figure(figsize=fig_size)\n",
        "  t = np.arange(N)/fs\n",
        "\n",
        "  plt.plot( t[:N], sig[:N], fmt, linewidth=lw)\n",
        "\n",
        "  plt.xlabel('Time (sec)')\n",
        "  ax = plt.gca()    # gca(): \"Get current axis\", the graph object that's currently plotted\n",
        "  \n",
        "  if x_ax == False:\n",
        "    ax.xaxis.set_visible(False)\n",
        "  if y_ax == False:\n",
        "    ax.yaxis.set_visible(False)\n",
        "\n",
        "  if np.isscalar(x_lim):\n",
        "    if x_lim == 0:\n",
        "      x_lim2 = N/fs   # End of input signal\n",
        "    else:\n",
        "      x_lim2 = x_lim\n",
        "    plt.xlim(0, x_lim2)\n",
        "  else:\n",
        "    plt.xlim(x_lim)\n",
        "\n",
        "  if np.isscalar(y_lim):\n",
        "    if y_lim != 0:\n",
        "      plt.ylim(-y_lim, y_lim)\n",
        "  else:\n",
        "    plt.ylim(y_lim)\n",
        "\n",
        "  fig.tight_layout()\n",
        "  #plt.ion()\n",
        "  plt.close()\n",
        "\n",
        "  # Returning the figure causes issues with interactive matplotlib\n",
        "  return fig\n",
        "  # For saving the figure, use the interactive buton, instead.\n",
        "  # For further customization and command-line saving, more changes are required."
      ],
      "metadata": {
        "id": "aNLccM7sz9SE"
      },
      "execution_count": null,
      "outputs": []
    },
    {
      "cell_type": "markdown",
      "source": [
        "`myPlotFFT()`\n",
        "\n",
        "Plot the magnitude frequency response (in dB FS) of a signal with my default figure settings and a frequency x-axis (in Hz), based on the Nyquist rate.\n",
        "* Required arguments:\n",
        "  * `sig` Input signal (first argument)\n",
        "* Optional arguments:\n",
        "  * `n_fft=#` The size of FFT to use (default: length of input signal)\n",
        "  * `n_win=#` The length of window to use (default: length of input)\n",
        "  * `win='hann'` The type of window to use (default: `hann`, or `rect`)\n",
        "  * `fs=#` Sample rate of signal (default: 44100 Hz)\n",
        "  * `x_lim=# or (#,#)` Frequency axis limits (max or range, in Hz)\n",
        "  * `fig_size=(W,H)` Change figure dimensions (width, height)\n",
        "  * `x_ax=True/False` Show x-axis (default: True)\n",
        "  * `y_ax=True/False` Show y-axis (default: True)\n",
        "  * `lw=#` Change linewdith of signal (default: 1)\n",
        "  * `fmt='...'` Change plot formatting (default: none)"
      ],
      "metadata": {
        "id": "7jSL6pxMXfgi"
      }
    },
    {
      "cell_type": "code",
      "source": [
        "def myPlotFFT(sig, fs=44100, n_fft=0, n_win=0, win='hann', neg_f=False, x_lim=0, y_lim=0, fig_size=(16,6),x_ax=True, y_ax=True, lw=1, fmt=''):\n",
        "  if n_fft==0:\n",
        "    n_fft = len(sig)\n",
        "  if n_win==0:\n",
        "    n_win = len(sig)\n",
        "\n",
        "  if win=='hann':  \n",
        "    win = np.hanning(n_win)\n",
        "    win_scale = 2\n",
        "  else:\n",
        "    win = np.ones(n_win)\n",
        "    win_scale = 1\n",
        "\n",
        "  S = np.fft.fft(sig * win, n_fft)\n",
        "  N = len(S)\n",
        "  f = np.arange(N) * fs / N\n",
        "  if neg_f:\n",
        "    f = f - (fs/2)\n",
        "    S = np.fft.fftshift(S)\n",
        "\n",
        "  S_mag = 2*win_scale*np.abs(S) / n_win     # Frequency magnitude, normalized by length\n",
        "                                            #    x2 because cos(w) = 0.5e^jw + 0.5e^-jw\n",
        "                                            #    x2 for Hann because window has 0.5 average\n",
        "\n",
        "  S_mag += 1e-15                  # Add a small offset to avoid log(0) errors\n",
        "  S_dBFS = 20*np.log10(S_mag)     # Freq. magnitude in dB full scale (dB FS):\n",
        "                                  #    cos(w) -> 0 dBFS peak at w\n",
        "\n",
        "\n",
        "  fig = plt.figure(figsize=fig_size)\n",
        "  plt.plot(f, S_dBFS, fmt, linewidth=lw) \n",
        "  if np.isscalar(x_lim):\n",
        "    if x_lim == 0:\n",
        "      x_lim2 = fs/2\n",
        "    if neg_f:\n",
        "      x_lim = -fs/2\n",
        "    plt.xlim(x_lim, x_lim2)\n",
        "  else:\n",
        "    plt.xlim(x_lim)\n",
        "\n",
        "  if np.isscalar(y_lim):\n",
        "    if y_lim < 0:\n",
        "      plt.ylim(y_lim, 0)\n",
        "    elif y_lim > 0:\n",
        "      plt.ylim(0, y_lim)\n",
        "  else:\n",
        "    plt.ylim(y_lim)\n",
        "\n",
        "  plt.xlabel('Frequency (Hz)')\n",
        "  plt.ylabel('Magnitude (dB FS)')\n",
        "\n",
        "  ax = plt.gca()\n",
        "  if x_ax == False:\n",
        "    ax.xaxis.set_visible(False)\n",
        "  if y_ax == False:\n",
        "    ax.yaxis.set_visible(False)\n",
        "  fig.tight_layout()\n",
        "\n",
        "  # Returning the figure causes issues with interactive matplotlib\n",
        "  return fig\n",
        "  # For saving the figure, use the interactive buton, instead.\n",
        "  # For further customization and command-line saving, more changes are required."
      ],
      "metadata": {
        "id": "wKGq7SuNXTeS"
      },
      "execution_count": null,
      "outputs": []
    },
    {
      "cell_type": "markdown",
      "source": [
        "`mySpectrogram()`\n",
        "\n",
        "A simple wrapper to compute and plot the spectrogram of a signal with my default figure settings, a time x-axis (in seconds) and a frequency y-axis (in Hz), based on the Nyquist rate.\n",
        "* Required arguments:\n",
        "  * `sig` Input signal (first argument)\n",
        "* Optional arguments:\n",
        "  * `fs=#` Sample rate of signal (default: 44100 Hz)\n",
        "  * `win='window_name'` The type of analysis window to use (default: 'hann')\n",
        "  * `n_win=#` The length of window to use per frame (default: 1024)\n",
        "  * `n_fft=#` The size of FFT to use (default: 1024)\n",
        "  * `x_lim=# or (#,#)` x-axis limit or range (in seconds)\n",
        "  * `y_lim=# or (#,#)` y-axis limit or range (in Hz)\n",
        "  * `fig_size=(W,H)` Change figure dimensions (width, height)\n",
        "  * `x-ax=True/False` Show x-axis (default: True)\n",
        "  * `y-ax=True/False` Show y-axis (default: True)"
      ],
      "metadata": {
        "id": "kAxTI9wgkEs8"
      }
    },
    {
      "cell_type": "code",
      "source": [
        "def mySpectrogram(sig, fs=44100, win='hann', n_win=1024, olap=512, n_fft=1024, x_lim=0, y_lim=0, fig_size=(12,6), x_ax=True, y_ax=True):\n",
        "  f1, t1, Sxx = signal.stft(sig, fs, window=win, nperseg=n_win, noverlap=olap, nfft=n_fft)\n",
        "\n",
        "  fig = plt.figure(figsize=fig_size)\n",
        "\n",
        "  S_mag = 4*np.abs(Sxx) + 1e-15\n",
        "  S_dBFS = 20*np.log10(S_mag)\n",
        "  \n",
        "  plt.pcolormesh(t1, f1, S_dBFS)\n",
        "  plt.ylabel('Frequency (Hz)')\n",
        "  plt.xlabel('Time (sec)')\n",
        "\n",
        "  if np.isscalar(x_lim):\n",
        "    if x_lim == 0:\n",
        "      x_lim = len(sig) / fs\n",
        "    plt.xlim(0, x_lim)\n",
        "  else:\n",
        "    plt.xlim(x_lim)\n",
        "\n",
        "  if np.isscalar(y_lim):\n",
        "    if y_lim == 0:\n",
        "      y_lim = fs/2\n",
        "    plt.ylim(0, y_lim)\n",
        "  else:\n",
        "    plt.ylim(y_lim)\n",
        "\n",
        "  ax = plt.gca()\n",
        "  if x_ax == False:\n",
        "    ax.xaxis.set_visible(False)\n",
        "  if y_ax == False:\n",
        "    ax.yaxis.set_visible(False)\n",
        "  fig.tight_layout()\n",
        "\n",
        "  # plt.ion()\n",
        "  \n",
        "  # Returning the figure causes issues with interactive matplotlib\n",
        "  # return fig\n",
        "  # For saving the figure, use the interactive buton, instead.\n",
        "  # For further customization and command-line saving, more changes are required."
      ],
      "metadata": {
        "id": "gaonAlsvmEbT"
      },
      "execution_count": null,
      "outputs": []
    },
    {
      "cell_type": "markdown",
      "metadata": {
        "id": "cWj0eW-qEjxf"
      },
      "source": [
        "# Load audio sample\n",
        "\n",
        "* Go, Phillies!"
      ]
    },
    {
      "cell_type": "code",
      "metadata": {
        "id": "xMUmfBZ0-9XL"
      },
      "source": [
        "x, fs44 = sf.read(path + 'GoPhils.wav')\n",
        "ipd.Audio(x, rate=fs44)"
      ],
      "execution_count": null,
      "outputs": []
    },
    {
      "cell_type": "code",
      "source": [
        "myPlot(x)"
      ],
      "metadata": {
        "id": "L2r6OZiIkXiP"
      },
      "execution_count": null,
      "outputs": []
    },
    {
      "cell_type": "markdown",
      "source": [
        "# Revisiting STFT data requirements"
      ],
      "metadata": {
        "id": "dobJoxWPkiKq"
      }
    },
    {
      "cell_type": "code",
      "source": [
        "f1, t1, X = signal.stft(x, fs44, nperseg=2048, noverlap=0, nfft=2048, window='boxcar')\n",
        "\n",
        "S_mag = np.abs(X) + 1e-15\n",
        "S_dB = 20*np.log10(S_mag)\n",
        "\n",
        "plt.pcolormesh(t1, f1, S_dB)\n",
        "plt.ylabel('Frequency (Hz)')\n",
        "plt.xlabel('Time (sec)')\n",
        "plt.xlim(0,5)\n",
        "# plt.ylim(0,15000)"
      ],
      "metadata": {
        "id": "KTuBcMH6kdiD"
      },
      "execution_count": null,
      "outputs": []
    },
    {
      "cell_type": "code",
      "source": [
        "n_freqs, n_frames = np.shape(X)\n",
        "print('Frequency bins: ', n_freqs)\n",
        "print('Time frames: ', n_frames)"
      ],
      "metadata": {
        "id": "k2JpE2ZtlPxU"
      },
      "execution_count": null,
      "outputs": []
    },
    {
      "cell_type": "code",
      "source": [
        "n_freqs * n_frames"
      ],
      "metadata": {
        "id": "Iv-CijrDlRZE"
      },
      "execution_count": null,
      "outputs": []
    },
    {
      "cell_type": "code",
      "source": [
        "len(x)"
      ],
      "metadata": {
        "id": "zajlI7o3le8L"
      },
      "execution_count": null,
      "outputs": []
    },
    {
      "cell_type": "code",
      "source": [
        "t2, x2 = signal.istft(X, fs44, nperseg=2048, noverlap=0, nfft=2048, window='boxcar')\n",
        "myPlot(x2)"
      ],
      "metadata": {
        "id": "dYVA-PTvlzpT"
      },
      "execution_count": null,
      "outputs": []
    },
    {
      "cell_type": "code",
      "source": [
        "remove_idx = np.where(S_dB < -75)\n",
        "X_c = np.copy(X)\n",
        "X_c[remove_idx] = 0\n",
        "\n",
        "plt.pcolormesh(t1, f1, 20*np.log10(np.abs(X_c)+1e-15))\n",
        "plt.ylabel('Frequency (Hz)')\n",
        "plt.xlabel('Time (sec)')"
      ],
      "metadata": {
        "id": "KST81F1il7e-"
      },
      "execution_count": null,
      "outputs": []
    },
    {
      "cell_type": "code",
      "source": [
        "t_c, x_c = signal.istft(X_c, fs44, nperseg=2048, noverlap=0, nfft=2048, window='boxcar')"
      ],
      "metadata": {
        "id": "W49qyWWImdWf"
      },
      "execution_count": null,
      "outputs": []
    },
    {
      "cell_type": "code",
      "source": [
        "myPlot(x_c)"
      ],
      "metadata": {
        "id": "dKX5Z1ynmjCW"
      },
      "execution_count": null,
      "outputs": []
    },
    {
      "cell_type": "code",
      "source": [
        "ipd.Audio(x_c, rate=fs44)"
      ],
      "metadata": {
        "id": "QcafSHMfmk6L"
      },
      "execution_count": null,
      "outputs": []
    },
    {
      "cell_type": "code",
      "source": [
        "n1,n2 = np.shape(remove_idx)\n",
        "print('Size (bytes): ', (n_freqs*n_frames - n2) * 4)"
      ],
      "metadata": {
        "id": "mVQoGD14nFXt"
      },
      "execution_count": null,
      "outputs": []
    },
    {
      "cell_type": "markdown",
      "source": [
        "# Previously: Filtering = Multiplying in the frequency-domain\n",
        "  * $H_{id} = 1$, $f \\leq f_c$\n",
        "  * $H_{id} = 0$, $f > f_c$"
      ],
      "metadata": {
        "id": "6LDhF_C4DQuV"
      }
    },
    {
      "cell_type": "code",
      "source": [
        "L = 512\n",
        "\n",
        "H_id = np.zeros(L)\n",
        "f_c = 1000              # in Hz\n",
        "n_c = f_c/fs44 * L  # Convert Hz to a DFT index\n",
        "print(n_c)\n",
        "\n",
        "H_id[:int(n_c)] = 1\n",
        "H_id[-int(n_c):] = 1\n",
        "\n",
        "f = fs44 * np.arange(L) / L\n",
        "plt.plot(f, H_id)\n",
        "plt.xlabel('Frequency (Hz)')"
      ],
      "metadata": {
        "id": "eufvOtKSjfp9"
      },
      "execution_count": null,
      "outputs": []
    },
    {
      "cell_type": "code",
      "source": [
        "h_id = fft.ifft(H_id)\n",
        "h_id = fft.fftshift(h_id)\n",
        "plt.plot(h_id)"
      ],
      "metadata": {
        "id": "LRsST2qbovSD"
      },
      "execution_count": null,
      "outputs": []
    },
    {
      "cell_type": "code",
      "source": [
        "x1 = x[:512]\n",
        "x1z = np.zeros(1024)\n",
        "x1z[:512] = x1\n",
        "plt.plot(x1z)"
      ],
      "metadata": {
        "id": "Sx_bRGrWw0DZ"
      },
      "execution_count": null,
      "outputs": []
    },
    {
      "cell_type": "code",
      "source": [
        "y = signal.convolve(x1, h_id)\n",
        "plt.plot(y)"
      ],
      "metadata": {
        "id": "zSuwCcIoCnsz"
      },
      "execution_count": null,
      "outputs": []
    },
    {
      "cell_type": "code",
      "source": [
        "y1 = signal.lfilter(h_id, 1, x1z)\n",
        "plt.plot(y1)"
      ],
      "metadata": {
        "id": "gwvb-Sy9CPze"
      },
      "execution_count": null,
      "outputs": []
    },
    {
      "cell_type": "code",
      "source": [
        "fig1 = myPlotFFT(h_id)\n",
        "# myPlotFFT(h_id, n_fft=2048)"
      ],
      "metadata": {
        "id": "Y6Sm0540Dayu"
      },
      "execution_count": null,
      "outputs": []
    },
    {
      "cell_type": "markdown",
      "source": [
        "## High-pass filter"
      ],
      "metadata": {
        "id": "OwS7amHSDGEP"
      }
    },
    {
      "cell_type": "code",
      "source": [
        "H_hp = np.zeros(L)\n",
        "f_c2 = 4000\n",
        "n_c2 = f_c2/fs44 * L\n",
        "\n",
        "H_hp[int(n_c2):-int(n_c2)] = 1\n",
        "\n",
        "f = fs44 * np.arange(L) / L\n",
        "plt.plot(f, H_hp)\n",
        "plt.xlabel('Frequency (Hz)')"
      ],
      "metadata": {
        "id": "FXKlcxJlGeN_"
      },
      "execution_count": null,
      "outputs": []
    },
    {
      "cell_type": "code",
      "source": [
        "h_hp = fft.ifft(H_hp)\n",
        "h_hp = fft.fftshift(h_hp)\n",
        "plt.plot(h_hp)"
      ],
      "metadata": {
        "id": "LdrsTYNuG4D7"
      },
      "execution_count": null,
      "outputs": []
    },
    {
      "cell_type": "code",
      "source": [
        "y_hp = signal.lfilter(h_hp, 1, x1z)\n",
        "plt.plot(y_hp)"
      ],
      "metadata": {
        "id": "RFoRvDisDNLP"
      },
      "execution_count": null,
      "outputs": []
    },
    {
      "cell_type": "markdown",
      "source": [
        "## Band-pass filter"
      ],
      "metadata": {
        "id": "LyZCmDORDLkk"
      }
    },
    {
      "cell_type": "code",
      "source": [
        "L = 512\n",
        "\n",
        "H_bp = np.zeros(L)\n",
        "f_c1 = 2000              # in Hz\n",
        "n_c1 = f_c1/fs44 * L  # Convert Hz to a DFT index\n",
        "\n",
        "f_c2 = 8000\n",
        "n_c2 = f_c2/fs44 * L\n",
        "\n",
        "H_bp[int(n_c1):int(n_c2)] = 1\n",
        "H_bp[-int(n_c2):-int(n_c1)] = 1\n",
        "\n",
        "f = fs44 * np.arange(L) / L\n",
        "plt.plot(f, H_bp)\n",
        "plt.xlabel('Frequency (Hz)')"
      ],
      "metadata": {
        "id": "8F4vYPX4EulP"
      },
      "execution_count": null,
      "outputs": []
    },
    {
      "cell_type": "code",
      "source": [
        "h_bp = fft.ifft(H_bp)\n",
        "h_bp = fft.fftshift(h_bp)\n",
        "plt.plot(h_bp)"
      ],
      "metadata": {
        "id": "PaZKixleFE1T"
      },
      "execution_count": null,
      "outputs": []
    },
    {
      "cell_type": "code",
      "source": [
        "y_bp = signal.lfilter(h_bp, 1, x1z)\n",
        "plt.plot(y_bp)"
      ],
      "metadata": {
        "id": "5ERKPt-VDu8e"
      },
      "execution_count": null,
      "outputs": []
    },
    {
      "cell_type": "markdown",
      "source": [
        "# FIR filter design: *window* method"
      ],
      "metadata": {
        "id": "RNe1oySRIFh8"
      }
    },
    {
      "cell_type": "code",
      "source": [
        "N = 128\n",
        "f_c = 0.15\n",
        "A_lp = signal.firwin(N, f_c)\n",
        "plt.plot(A_lp)"
      ],
      "metadata": {
        "id": "148i_sLpIE5i"
      },
      "execution_count": null,
      "outputs": []
    },
    {
      "cell_type": "code",
      "source": [
        "fig = myPlotFFT(A_lp, n_fft=2048)"
      ],
      "metadata": {
        "id": "GRvdRsyqFjNe"
      },
      "execution_count": null,
      "outputs": []
    },
    {
      "cell_type": "code",
      "source": [
        "y_lp = signal.lfilter(A_lp, 1, x)\n",
        "ipd.Audio(y_lp, rate=fs44)"
      ],
      "metadata": {
        "id": "y0Z52ntyGQMh"
      },
      "execution_count": null,
      "outputs": []
    },
    {
      "cell_type": "code",
      "source": [
        "N = 127\n",
        "f_c = 0.25\n",
        "A_hp = signal.firwin(N, f_c, pass_zero='highpass')\n",
        "plt.plot(A_hp)"
      ],
      "metadata": {
        "id": "uyO17Ow0E-Hh"
      },
      "execution_count": null,
      "outputs": []
    },
    {
      "cell_type": "code",
      "source": [
        "fig = myPlotFFT(A_hp, n_fft=2048)"
      ],
      "metadata": {
        "id": "U1aV0yXEFcLb"
      },
      "execution_count": null,
      "outputs": []
    },
    {
      "cell_type": "code",
      "source": [
        "y_hp = signal.lfilter(A_hp, 1, x)\n",
        "ipd.Audio(y_hp, rate=fs44)"
      ],
      "metadata": {
        "id": "YobO_dPhGFAQ"
      },
      "execution_count": null,
      "outputs": []
    },
    {
      "cell_type": "code",
      "source": [
        "N = 128\n",
        "f_c = [0.1, 0.4]\n",
        "A_bp = signal.firwin(N, f_c, pass_zero='bandpass')\n",
        "plt.plot(A_bp)"
      ],
      "metadata": {
        "id": "wytHZmO8sDEU"
      },
      "execution_count": null,
      "outputs": []
    },
    {
      "cell_type": "code",
      "source": [
        "fig = myPlotFFT(A_bp, n_fft=2048)"
      ],
      "metadata": {
        "id": "3N6rp4o0FT4H"
      },
      "execution_count": null,
      "outputs": []
    },
    {
      "cell_type": "code",
      "source": [
        "y_bp = signal.lfilter(A_bp, 1, x)\n",
        "ipd.Audio(y_bp, rate=fs44)"
      ],
      "metadata": {
        "id": "Kxz1FvcCF0md"
      },
      "execution_count": null,
      "outputs": []
    }
  ]
}