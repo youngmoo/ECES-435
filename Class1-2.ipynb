{
  "nbformat": 4,
  "nbformat_minor": 0,
  "metadata": {
    "colab": {
      "provenance": [],
      "collapsed_sections": [],
      "toc_visible": true,
      "mount_file_id": "1szWOsWiS1g_Mnwoi0lAG2wg2ltXSc0TU",
      "authorship_tag": "ABX9TyM1sQgfCZnrkR6ZkaChB/nx",
      "include_colab_link": true
    },
    "kernelspec": {
      "name": "python3",
      "display_name": "Python 3"
    }
  },
  "cells": [
    {
      "cell_type": "markdown",
      "metadata": {
        "id": "view-in-github",
        "colab_type": "text"
      },
      "source": [
        "<a href=\"https://colab.research.google.com/github/youngmoo/ECES-435/blob/main/Class1-2.ipynb\" target=\"_parent\"><img src=\"https://colab.research.google.com/assets/colab-badge.svg\" alt=\"Open In Colab\"/></a>"
      ]
    },
    {
      "cell_type": "markdown",
      "source": [
        "# **Class 1.2: Announcements**\n",
        "\n",
        "* Lab 1 available in GitHub after class\n",
        "  * Due Monday, Sept. 26 before the start of class.\n",
        "* TA office hours (this week only)\n",
        "  * Thursday 10am-12pm\n",
        "  * None on Friday\n",
        "  * Monday 10am-12pm\n",
        "  * We'll also try to answer any questions on Discord.\n",
        "* Also watch [Video No. 3 on the Short-Time Fourier Transform](https://youtu.be/ua2Fn1vkVqY) for Monday's class.\n",
        "\n"
      ],
      "metadata": {
        "id": "zj_y7RhJmLUJ"
      }
    },
    {
      "cell_type": "markdown",
      "source": [
        "# Google Drive Setup\n",
        "\n",
        "## *From last class:* How to connect to Google Drive\n",
        "\n",
        "For this class we use a *shared* Google Drive folder to load and save sound files.\n",
        "\n",
        "*If you haven't already linked our class folder at the top level of your Google Drive:*\n",
        "\n",
        "1.   Open the link to [this Google Drive folder](https://drive.google.com/drive/folders/1eL0DgtfN9sitV_1V7nwexzxaalXoWM-V?usp=sharing).\n",
        "2.   Within Google Drive:\n",
        "  * For the shared folder (`eces-435-work`) select \"Add shortcut to Drive\" and add it to your top-level directory, `My Drive`.\n",
        "  * (This is so we can all use the same directory path for loading and saving files.)\n"
      ],
      "metadata": {
        "id": "LxSqqLZiovzz"
      }
    },
    {
      "cell_type": "markdown",
      "source": [
        "## From last class: Add the shared Google Drive folder to Colab\n",
        "Next, we mount the Google Drive folder you just added within colab. Run the next code block, which will:\n",
        "\n",
        "*   Ask  you for permission to access your Google Drive.\n",
        "*   Once you give permission, your Google Drive will be available at:\n",
        "  * `/content/drive/MyDrive/`"
      ],
      "metadata": {
        "id": "Fz57aefVpN64"
      }
    },
    {
      "cell_type": "code",
      "source": [
        "from google.colab import drive\n",
        "drive.mount('/content/drive')"
      ],
      "metadata": {
        "id": "9KPJqhKjpU7k"
      },
      "execution_count": null,
      "outputs": []
    },
    {
      "cell_type": "markdown",
      "source": [
        "You should now see `drive` lised under your files (folder icon in the left toolbar).\n",
        "* *If you don't see it, let the instructor know.*\n",
        "\n",
        "Once your Google Drive is hooked up, enter your Drexel username in the code below:\n",
        "  * We use this to keep your filenames unique."
      ],
      "metadata": {
        "id": "U_F2b_hBpUH9"
      }
    },
    {
      "cell_type": "code",
      "source": [
        "# ENTER YOUR USERNAME\n",
        "username = 'xyz123'\n",
        "\n",
        "# Define a variable that's the directory path to our directory for today:\n",
        "path = '/content/drive/MyDrive/eces435-work/class1.2/'"
      ],
      "metadata": {
        "id": "rsDZ1H7LpoGZ"
      },
      "execution_count": null,
      "outputs": []
    },
    {
      "cell_type": "markdown",
      "source": [
        "# Python setup"
      ],
      "metadata": {
        "id": "AZcM_1KUrfbP"
      }
    },
    {
      "cell_type": "markdown",
      "source": [
        "Start by importing the modules we introduced last class."
      ],
      "metadata": {
        "id": "bTlcAA4ZqUU0"
      }
    },
    {
      "cell_type": "code",
      "source": [
        "import numpy as np                # Load the NumPy module, using the abbreviation 'np'.\n",
        "import matplotlib.pyplot as plt   # Load the Matplotlib module, abbreviated as 'plt'\n"
      ],
      "metadata": {
        "id": "ScpTCDvJohp3"
      },
      "execution_count": null,
      "outputs": []
    },
    {
      "cell_type": "code",
      "metadata": {
        "id": "ZXEYThlD6S7V"
      },
      "source": [
        "#import IPython.display as ipd     # Load the Interactive Python display module, abbreviated as 'ipd'\n",
        "import librosa                    # Load the 'librosa' module for working with sound files and more"
      ],
      "execution_count": null,
      "outputs": []
    },
    {
      "cell_type": "markdown",
      "source": [
        "# Let's make some noise(s)\n",
        "Run the next cell to set up some initial parameters:\n",
        "\n",
        "*   Sampling rate: $f_s = 44100$ Hz\n",
        "*   Initial frequency of sinusoid: $f = 440$ Hz (the musical note `A4`)\n",
        "*   Duration of sound: 1.0 seconds\n",
        "\n",
        "Create a new vector $t$, which is the time of each sample of our sound signal.\n"
      ],
      "metadata": {
        "id": "Ry8znVoxuB80"
      }
    },
    {
      "cell_type": "code",
      "source": [
        "f = 440                             # Frequency (in Hz)\n",
        "A = 1.0                             # Amplitude of your sinusoid (try varying this between 0 and 1.0)\n",
        "duration = 1.0                      # Duration of sound (in seconds)\n",
        "f_s = 44100                         # Sampling rate (in Hz)\n",
        "t = np.arange(duration * f_s) / f_s # Vector of time samples"
      ],
      "metadata": {
        "id": "dsTHX-IHuKcn"
      },
      "execution_count": null,
      "outputs": []
    },
    {
      "cell_type": "markdown",
      "source": [
        "## Create a sine wave\n",
        "Let's call it $s$. Use the parameters above."
      ],
      "metadata": {
        "id": "Zlv6Z_JHuRT_"
      }
    },
    {
      "cell_type": "code",
      "source": [
        "# Create a sine wave using the parameters above\n",
        "\n",
        "s = "
      ],
      "metadata": {
        "id": "U0lzxFe9r9GK"
      },
      "execution_count": null,
      "outputs": []
    },
    {
      "cell_type": "markdown",
      "metadata": {
        "id": "E6F0cPtwgj2C"
      },
      "source": [
        "## Using just part of a signal array\n",
        "In NumPy, you access a range of elements in an array using brackets, colons, and commas. Each line below shows a different way of accessing values of the array.\n",
        "\n",
        "* Colab will only show the last output of the block. If we want to display multiple results, use `print` statements."
      ]
    },
    {
      "cell_type": "code",
      "metadata": {
        "id": "DpJkgQy4W6i9"
      },
      "source": [
        "print( t[0:4] )\n",
        "print( t[:4] )              \n",
        "print( t[1000:1004] )\n",
        "print( t[ [1000, 1003] ])\n",
        "print( t[-1] )              # What does this one do?"
      ],
      "execution_count": null,
      "outputs": []
    },
    {
      "cell_type": "markdown",
      "source": [
        "## Plot *only* the first 100 milliseconds\n",
        "\n",
        "The code below will plot the full duration of the signal. Change it to plot just the first 0.1 seconds."
      ],
      "metadata": {
        "id": "KsUemzU5RorR"
      }
    },
    {
      "cell_type": "code",
      "source": [
        "fig1 = plt.figure(figsize = (12, 4))   # Set the size of your figure (in \"inches\")\n",
        "\n",
        "# Change this to plot just the first 100 milliseconds (0.1 seconds) of your signal\n",
        "plt.plot(t, s)\n",
        "plt.xlabel(\"Time (sec)\")\n",
        "\n",
        "# Also add a label for the y-axis"
      ],
      "metadata": {
        "id": "4bOG20rXuMT4"
      },
      "execution_count": null,
      "outputs": []
    },
    {
      "cell_type": "markdown",
      "source": [
        "## Vary the style of the plot\n",
        "* Font, font size\n",
        "* [Linestyles](https://matplotlib.org/stable/gallery/lines_bars_and_markers/linestyles.html)\n",
        "* [Colors](https://matplotlib.org/stable/gallery/color/named_colors.html)\n",
        "* Line width"
      ],
      "metadata": {
        "id": "6KXRc1dNSDQu"
      }
    },
    {
      "cell_type": "markdown",
      "source": [
        "### *Just for fun:* List the available fonts"
      ],
      "metadata": {
        "id": "XGcWjELgpLXi"
      }
    },
    {
      "cell_type": "code",
      "source": [
        "import matplotlib.font_manager\n",
        "from IPython.core.display import HTML\n",
        "\n",
        "def make_html(fontname):\n",
        "    #return \"<p>{font}: <span style='font-family:{font}; font-size: 20px;'>{font}</p>\".format(font=fontname)\n",
        "    return \"<p>{font}</p>\".format(font=fontname)\n",
        "\n",
        "code = \"\\n\".join([make_html(font) for font in sorted(set([f.name for f in matplotlib.font_manager.fontManager.ttflist]))])\n",
        "HTML(\"<div style='column-count: 2;'>{}</div>\".format(code))"
      ],
      "metadata": {
        "id": "HH4aeW15oxUE"
      },
      "execution_count": null,
      "outputs": []
    },
    {
      "cell_type": "code",
      "source": [
        "# Some linestyles to try: '--', '-.', ':', '.', 'x'\n",
        "\n",
        "fig2 = plt.figure(figsize=(12,4))\n",
        "\n",
        "plt.rc('font', size=20)\n",
        "plt.rc('font', family='Liberation Serif') # Nicer font\n",
        "\n",
        "# Change this to still plot just the first 100 milliseconds\n",
        "plt.plot(t, s, '--', color='green', linewidth=5)"
      ],
      "metadata": {
        "id": "R15MCHoRRPDW"
      },
      "execution_count": null,
      "outputs": []
    },
    {
      "cell_type": "markdown",
      "source": [
        "## Save your figure to our class directory on Google Drive\n",
        "* Note how we combine the `path` and your `username` to create the overall filepath."
      ],
      "metadata": {
        "id": "kxuBZZ2AS_ar"
      }
    },
    {
      "cell_type": "code",
      "source": [
        "filename = path + username + '-sine.png'\n",
        "print(filename)\n",
        "\n",
        "fig1.savefig(filename)"
      ],
      "metadata": {
        "id": "S1W5jnAfS5tZ"
      },
      "execution_count": null,
      "outputs": []
    },
    {
      "cell_type": "markdown",
      "source": [
        "## Can you hear me...?\n",
        "[But wouldn't it be nice](https://youtu.be/dmcNbsLCpBQ) to be able to listen to the sine wave you just created? The Interactive Python (IPython) module `display` makes this really easy.\n",
        "* After we import the module as `ipd` we can output any signal as an audio file to listen to!\n",
        "* It's always important to provide both your signal and the sampling rate (`rate=`)."
      ],
      "metadata": {
        "id": "abCHrqYtuV1E"
      }
    },
    {
      "cell_type": "code",
      "source": [
        "import IPython.display as ipd\n",
        "\n",
        "ipd.Audio(s, rate=f_s)"
      ],
      "metadata": {
        "id": "cIpKRUdZuS6a"
      },
      "execution_count": null,
      "outputs": []
    },
    {
      "cell_type": "markdown",
      "source": [
        "# *Pause here while everyone is generating and saving their files.*"
      ],
      "metadata": {
        "id": "CahXRQDsukBp"
      }
    },
    {
      "cell_type": "markdown",
      "metadata": {
        "id": "PxjlVohxT8-F"
      },
      "source": [
        "# Let's make some music\n",
        "\n",
        "Now, let's use a sampling rate of\n",
        "* $f_s$ = 22050 $Hz$\n",
        "* Duration of sound: 0.5 seconds\n",
        "\n",
        "Start with an array of time samples $t$. \n",
        "* Use NumPy's `arange` (rather than `linspace`... you'll see why shortly):"
      ]
    },
    {
      "cell_type": "code",
      "metadata": {
        "id": "RhHBZ0XJ6tgA"
      },
      "source": [
        "fs22 = 22050\n",
        "dur = 0.5\n",
        "\n",
        "# Create an array of time samples with sample rate 'fs22' for duration 'dur'\n",
        "# Use 'arange'\n",
        "t1 = \n",
        "\n",
        "# Verify the size/shape of your samples array\n",
        "print( np.shape(t1) )\n",
        "print( np.size(t1) )\n",
        "print( len(t1) )"
      ],
      "execution_count": null,
      "outputs": []
    },
    {
      "cell_type": "markdown",
      "metadata": {
        "id": "MHDay7Z6eErJ"
      },
      "source": [
        "### *Aside:* why you shouldn't use `linspace`\n",
        "Here's why I __really don't__ like *linspace*.\n",
        "* Let's create a different array of time samples..."
      ]
    },
    {
      "cell_type": "code",
      "metadata": {
        "id": "4XzA9v2rUqGB"
      },
      "source": [
        "num_samples = int(dur * fs22)\n",
        "t2 = np.linspace(0, dur, num_samples)\n",
        "print( len(t2) )\n",
        "t2[ -1 ]"
      ],
      "execution_count": null,
      "outputs": []
    },
    {
      "cell_type": "markdown",
      "metadata": {
        "id": "E1OjeJ9HUp07"
      },
      "source": [
        "*Linspace* is **inclusive** of the endpoint, by default. So it gives us something that's not really not a sampling rate of 22050, it's a sampling rate of:"
      ]
    },
    {
      "cell_type": "code",
      "metadata": {
        "id": "f31Rq3bDfCjw"
      },
      "source": [
        "print( \"t1 interval:\", t[1]-t[0], \" sampling rate:\", 1/(t1[1]-t1[0]) )\n",
        "print( \"t2 interval:\", t2[1]-t2[0], \" sampling rate:\", 1/(t2[1]-t2[0]) )"
      ],
      "execution_count": null,
      "outputs": []
    },
    {
      "cell_type": "markdown",
      "metadata": {
        "id": "aidJsnpDlmZ-"
      },
      "source": [
        "# Scale\n",
        "Let's make a musical scale! On a piano keyboard in modern tuning, each note is $2^{1/12} Hz$ above the previous note, meaning that every 12 notes (we call these 'half-steps'), we double the frequency.\n",
        "* Let's write this as a function that we can use again."
      ]
    },
    {
      "cell_type": "code",
      "metadata": {
        "id": "1Gq3YgsIllOP"
      },
      "source": [
        "# A function to make a scale\n",
        "\n",
        "def scale():\n",
        "  f0 = 220          # This is an A3 on the piano keyboard\n",
        "  A = 0.25          # Let's decrease the volume\n",
        "  dur = 0.5\n",
        "  notes = []        # An empty array, for now (we'll add the notes here)\n",
        "  t = np.arange(fs22*dur) / fs22\n",
        "\n",
        "  for n in range(13):\n",
        "      f_n = f0 *                      # The frequency of the next note\n",
        "      x_n =                           # Generate the new note\n",
        "      notes = np.append(notes, x_n)   # Add the new note, x_n, to the notes array\n",
        "  return notes\n"
      ],
      "execution_count": null,
      "outputs": []
    },
    {
      "cell_type": "markdown",
      "source": [
        "### Run your function"
      ],
      "metadata": {
        "id": "H9WS6a2TsU5m"
      }
    },
    {
      "cell_type": "code",
      "source": [
        "sc = scale()\n",
        "ipd.Audio(sc, rate=fs22)"
      ],
      "metadata": {
        "id": "exgR4pG9sK6F"
      },
      "execution_count": null,
      "outputs": []
    },
    {
      "cell_type": "markdown",
      "metadata": {
        "id": "UOuSkMzSZe7s"
      },
      "source": [
        "## A major scale\n",
        "How might we make a more musical scale? A *major* scale starts with a note and then ascends 2,4,5,7,9, and 11 half-steps ($2^{1/12}$ intervals) from the starting note.\n",
        "\n",
        "* Use `note_n` given below to change your scale function to produce a major scale."
      ]
    },
    {
      "cell_type": "code",
      "metadata": {
        "id": "u7-42PWFZ6i4"
      },
      "source": [
        "note_n = [0,2,4,5,7,8,11,12]"
      ],
      "execution_count": null,
      "outputs": []
    },
    {
      "cell_type": "code",
      "source": [
        "major_scale = scale()\n",
        "ipd.Audio(major_scale, rate=fs22)"
      ],
      "metadata": {
        "id": "UGywtFt-skAq"
      },
      "execution_count": null,
      "outputs": []
    },
    {
      "cell_type": "markdown",
      "metadata": {
        "id": "DYhAQfoei86W"
      },
      "source": [
        "# Harmonics and complex tones\n",
        "Most notes are not pure tones (single frequencies).\n",
        "* They are composed of different frequencies called harmonics (multiples of the *fundamental frequency*).\n",
        "* Adding these harmonics together creates more interesting, musical notes.\n",
        "* Write a function to create a complex tone with 10 harmonics.\n",
        "* The input should be the note number (scale degree from 0 to 12)\n"
      ]
    },
    {
      "cell_type": "code",
      "metadata": {
        "id": "JZFSobOLi_Cv"
      },
      "source": [
        "def complexTone(note, amps=[1], fs=22050):\n",
        "  f0 = 220 *                  # Find the frequency of the input note\n",
        "  duration = 0.5\n",
        "\n",
        "  t = np.arange( fs*duration ) / fs\n",
        "  x = np.zeros( np.size(t) )\n",
        "\n",
        "  for k in range(len(amps)):\n",
        "    x = x +                     # Add in each harmonic, weighted by amps[k]\n",
        "\n",
        "  return x"
      ],
      "execution_count": 130,
      "outputs": []
    },
    {
      "cell_type": "code",
      "source": [
        "my_note = complexTone(2, amps=[1, 0.5, 0.25, 0.1, 0.05])\n",
        "\n",
        "ipd.Audio(my_note, rate=fs22)"
      ],
      "metadata": {
        "id": "OVWj8hJVuKdf"
      },
      "execution_count": null,
      "outputs": []
    },
    {
      "cell_type": "markdown",
      "source": [
        "## Save your sound to a WAV file\n",
        "This sound file is only temporary (it will disappear once you quit or lose your connection to Colab). Once you are happy with your frequency and amplitude choices, let's save the sound as a .wav file to the shared Google Drive folder.\n",
        "\n",
        "For this, we need another Python module, `soundfile`, which we import with the abbreviation `sf`. In this case, we'll use it to write our signal to a .wav file (an uncompressed audio format that saves each sample)."
      ],
      "metadata": {
        "id": "RZWyfUgRubqf"
      }
    },
    {
      "cell_type": "code",
      "source": [
        "import soundfile as sf       # Import the soundfile module\n",
        "\n",
        "filepath = path + 'OurSong/' + username + '.wav'\n",
        "print(filepath)   # Output the full file path\n",
        "\n",
        "sf.write(filepath, my_note, fs22)"
      ],
      "metadata": {
        "id": "RC4_uVWZuYpR"
      },
      "execution_count": null,
      "outputs": []
    },
    {
      "cell_type": "markdown",
      "source": [
        "# Let's make a song!\n",
        "Now, let's combine all of your files into one signal to create 'Our Song'. We'll use the Operating System (os) module to access the shared directory in Google Drive."
      ],
      "metadata": {
        "id": "_WZHUp6xuu6z"
      }
    },
    {
      "cell_type": "markdown",
      "source": [
        "## Remount Google Drive\n",
        "This is a bit of a hack to refresh the files from Google Drive."
      ],
      "metadata": {
        "id": "wR8PN9V7upp6"
      }
    },
    {
      "cell_type": "code",
      "source": [
        "# Remount Google Drive\n",
        "drive.mount('/content/drive', force_remount=True)"
      ],
      "metadata": {
        "id": "TqMM6NCBuh1R"
      },
      "execution_count": null,
      "outputs": []
    },
    {
      "cell_type": "code",
      "source": [
        "import os\n",
        "\n",
        "# Open a file\n",
        "OurSong_path = path + 'OurSong/'\n",
        "filelist = os.listdir( OurSong_path )\n",
        "filelist"
      ],
      "metadata": {
        "id": "HqxX2p0eusdz"
      },
      "execution_count": null,
      "outputs": []
    },
    {
      "cell_type": "markdown",
      "source": [
        "Next we use the `soundfile` module to concatenate all your sound files into one signal."
      ],
      "metadata": {
        "id": "hUUGpyXduzzl"
      }
    },
    {
      "cell_type": "code",
      "source": [
        "y = []  # The array for our song\n",
        "\n",
        "for filename in filelist:\n",
        "    if filename.endswith('.wav'):\n",
        "        filepath = OurSong_path + filename\n",
        "        print(filepath)\n",
        "        this_y, this_f_s = sf.read(filepath)\n",
        "        y = np.append(y, this_y)\n",
        "\n",
        "np.shape(y)"
      ],
      "metadata": {
        "id": "R6_J5I3_uxZq"
      },
      "execution_count": null,
      "outputs": []
    },
    {
      "cell_type": "code",
      "source": [
        "ipd.Audio(y, rate=fs22)"
      ],
      "metadata": {
        "id": "Pe081ST21uOH"
      },
      "execution_count": null,
      "outputs": []
    },
    {
      "cell_type": "markdown",
      "source": [
        "# Working with actual music files\n",
        "Let's load some music from a WAV file in our shared class folder. Note that `soundfile` will try to load the *sample rate* of the file automatically (it's generally stored within the WAV file)."
      ],
      "metadata": {
        "id": "Cn3Yu_8yvGRH"
      }
    },
    {
      "cell_type": "code",
      "source": [
        "music_file = path + 'sample.wav'\n",
        "[m, fs_m] = sf.read(music_file)\n",
        "fs_m"
      ],
      "metadata": {
        "id": "z20z3eAVvDwj"
      },
      "execution_count": null,
      "outputs": []
    },
    {
      "cell_type": "code",
      "source": [
        "ipd.Audio(music_file, rate=fs_m)"
      ],
      "metadata": {
        "id": "BCmv6fHPxydl"
      },
      "execution_count": null,
      "outputs": []
    },
    {
      "cell_type": "markdown",
      "source": [
        "## Plot the music signal"
      ],
      "metadata": {
        "id": "aMovsH6qyCl-"
      }
    },
    {
      "cell_type": "code",
      "source": [
        "fig3 = plt.figure(figsize=[12,4])\n",
        "plt.plot(m)"
      ],
      "metadata": {
        "id": "_kaxWgh8x4BO"
      },
      "execution_count": null,
      "outputs": []
    },
    {
      "cell_type": "markdown",
      "metadata": {
        "id": "Unsr4_CwqO7J"
      },
      "source": [
        "# A poor implementation of Fourier Series\n",
        "\n",
        "Can we find which frequencies are in this music?"
      ]
    },
    {
      "cell_type": "code",
      "metadata": {
        "id": "sUw5vbOdtaOf"
      },
      "source": [
        "def frequencyAnalysis(x, f_k=100, fs=44100):\n",
        "  t = np.arange(len(x))/fs\n",
        "\n",
        "  sin_k = np.sin(2*np.pi*f_k*t)\n",
        "  cos_k = np.cos(2*np.pi*f_k*t)\n",
        "  print( len(t) )\n",
        "  print( len(cos_k))\n",
        "\n",
        "  fig = plt.figure(figsize=(12,8))\n",
        "  plt.subplot(311)\n",
        "  plt.plot(t,x*cos_k,'g')\n",
        "  plt.subplot(312)\n",
        "  plt.plot(t,x,'c')\n",
        "  plt.subplot(313)\n",
        "  plt.plot(t,x*sin_k,'r')\n",
        "  plt.show()\n",
        "\n",
        "  a_k = np.sum(x*cos_k)\n",
        "  b_k = np.sum(x*sin_k)\n",
        "  print('a:', a_k)\n",
        "  print('b:', b_k)\n",
        "  print('|c|:', np.sqrt(a_k**2 + b_k**2))\n",
        "  return fig"
      ],
      "execution_count": null,
      "outputs": []
    },
    {
      "cell_type": "code",
      "source": [
        "my_frequency = 500\n",
        "fig5 = frequencyAnalysis(m, my_frequency)"
      ],
      "metadata": {
        "id": "T9OmohG2zWyl"
      },
      "execution_count": null,
      "outputs": []
    }
  ]
}