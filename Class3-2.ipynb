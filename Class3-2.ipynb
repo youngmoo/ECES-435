{
  "nbformat": 4,
  "nbformat_minor": 0,
  "metadata": {
    "colab": {
      "provenance": [],
      "collapsed_sections": [
        "leCBR9y1whNm"
      ],
      "toc_visible": true,
      "include_colab_link": true
    },
    "kernelspec": {
      "display_name": "Python 3",
      "name": "python3"
    }
  },
  "cells": [
    {
      "cell_type": "markdown",
      "metadata": {
        "id": "view-in-github",
        "colab_type": "text"
      },
      "source": [
        "<a href=\"https://colab.research.google.com/github/youngmoo/ECES-435/blob/main/Class3-2.ipynb\" target=\"_parent\"><img src=\"https://colab.research.google.com/assets/colab-badge.svg\" alt=\"Open In Colab\"/></a>"
      ]
    },
    {
      "cell_type": "markdown",
      "metadata": {
        "id": "qHxN8R_ItyXz"
      },
      "source": [
        "# **ECES-435: Class 3.2**\n",
        "\n",
        "**Announcements**\n",
        "* No class on Monday (University Holiday, *Indigenous Peoples' Day*)\n",
        "* Lab 3: Available later today\n",
        "  * Still due Mon 10/10, anytime\n",
        "* For next class (Wed 10/12), watch Video No. 6: *Digital Low-pass Filters*\n",
        "\n",
        "\n",
        "\n"
      ]
    },
    {
      "cell_type": "markdown",
      "source": [
        "# Optional stuff"
      ],
      "metadata": {
        "id": "LNs1mQ6RwalY"
      }
    },
    {
      "cell_type": "markdown",
      "source": [
        "## Interactive Matplotlib\n",
        "\n",
        "Install `ipympl` for  Matplotlib\n"
      ],
      "metadata": {
        "id": "leCBR9y1whNm"
      }
    },
    {
      "cell_type": "code",
      "source": [
        "#!pip install ipympl   # Also installs a more recent version of matplotlib (v3.5.3)"
      ],
      "metadata": {
        "id": "ez5UrP3WwWa-"
      },
      "execution_count": null,
      "outputs": []
    },
    {
      "cell_type": "markdown",
      "source": [
        "Enable interactive Matplotlib figures"
      ],
      "metadata": {
        "id": "rIs1kGVvw1hn"
      }
    },
    {
      "cell_type": "code",
      "source": [
        "# from google.colab import output\n",
        "# output.enable_custom_widget_manager()\n",
        "# %matplotlib widget"
      ],
      "metadata": {
        "id": "lryCz_51wldf"
      },
      "execution_count": null,
      "outputs": []
    },
    {
      "cell_type": "markdown",
      "source": [
        "## My plot style defaults"
      ],
      "metadata": {
        "id": "qw76fQQBw3rZ"
      }
    },
    {
      "cell_type": "code",
      "source": [
        "from matplotlib import rc\n",
        "\n",
        "rc('figure', figsize=(12,4))\n",
        "rc('figure', facecolor='#aaaaaa')     # Better figure background for dark mode\n",
        "\n",
        "rc('font', family='Liberation Serif') # Nicer font\n",
        "rc('font', size=20)                   # Larger font size for labels"
      ],
      "metadata": {
        "id": "NE9dlTZIwt_e"
      },
      "execution_count": null,
      "outputs": []
    },
    {
      "cell_type": "markdown",
      "source": [
        "# Setup\n",
        "As always, start by importing the \"usual\" modules we'll be using..."
      ],
      "metadata": {
        "id": "ljWJhD2HwY3v"
      }
    },
    {
      "cell_type": "code",
      "metadata": {
        "id": "eDaoDgqCs1mp"
      },
      "source": [
        "import numpy as np\n",
        "import matplotlib.pyplot as plt\n",
        "import IPython.display as ipd\n",
        "import soundfile as sf\n",
        "from matplotlib import animation, rc\n",
        "from scipy import signal\n",
        "\n",
        "rc('animation', html='jshtml')\n",
        "\n",
        "path = '/content/drive/My Drive/eces435-work/class3.2/'"
      ],
      "execution_count": null,
      "outputs": []
    },
    {
      "cell_type": "code",
      "metadata": {
        "id": "QUiMfqMhOWCI"
      },
      "source": [
        "# CHANGE THIS to your Drexel username!!\n",
        "username = 'dx21'"
      ],
      "execution_count": null,
      "outputs": []
    },
    {
      "cell_type": "code",
      "metadata": {
        "id": "7f-OzFc_mN4w"
      },
      "source": [
        "from google.colab import drive\n",
        "drive.mount('/content/drive')"
      ],
      "execution_count": null,
      "outputs": []
    },
    {
      "cell_type": "markdown",
      "source": [
        "# Helper functions"
      ],
      "metadata": {
        "id": "eOs9hdwgz95L"
      }
    },
    {
      "cell_type": "markdown",
      "source": [
        "## `myPlot()` *Updated*\n",
        "A quick time-domain signal plot function with my default figure settings and a time x-axis (in seconds).\n",
        "* Required arguments:\n",
        "  * `sig` Input signal (first argument)\n",
        "* Optional arguments:\n",
        "  * `N=#` Number of samples to plot (default: length of signal)\n",
        "  * `fs=#` Sample rate of signal (default: 44100 Hz)\n",
        "  * `fig_size=(W,H)` Change figure dimensions (width, height)\n",
        "  * `x_ax=True/False` Show x-axis (default: True)\n",
        "  * `y_ax=True/False` Show y-axis (default: True)\n",
        "  * `lw=#` Change linewdith of signal (default: 1)\n",
        "  * `fmt='...'` Plot format string (default: none)\n",
        "  * *New* `x_lim=#` or `x_lim=[x1,x2]` Specify the x-axis limit(s) of the plot\n",
        "  * *New* `y_lim=#` or `y_lim=[y1,y2]` Specificy the y-axis limit(s) of the plot"
      ],
      "metadata": {
        "id": "7N_b3ft0ch_9"
      }
    },
    {
      "cell_type": "code",
      "source": [
        "def myPlot(sig, N=0, fs=44100, fig_size=(16,4), x_ax=True, y_ax=True, lw=1, fmt='', x_lim=0, y_lim=0):\n",
        "  if N==0:\n",
        "    N = len(sig)\n",
        "\n",
        "  fig = plt.figure(figsize=fig_size)\n",
        "  t = np.arange(N)/fs\n",
        "\n",
        "  plt.plot( t[:N], sig[:N], fmt, linewidth=lw)\n",
        "\n",
        "  plt.xlabel('Time (sec)')\n",
        "  ax = plt.gca()    # gca(): \"Get current axis\", the graph object that's currently plotted\n",
        "  \n",
        "  if x_ax == False:\n",
        "    ax.xaxis.set_visible(False)\n",
        "  if y_ax == False:\n",
        "    ax.yaxis.set_visible(False)\n",
        "\n",
        "  if np.isscalar(x_lim):\n",
        "    if x_lim == 0:\n",
        "      x_lim2 = N/fs   # End of input signal\n",
        "    else:\n",
        "      x_lim2 = x_lim\n",
        "    plt.xlim(0, x_lim2)\n",
        "  else:\n",
        "    plt.xlim(x_lim)\n",
        "\n",
        "  if np.isscalar(y_lim):\n",
        "    if y_lim != 0:\n",
        "      plt.ylim(-y_lim, y_lim)\n",
        "  else:\n",
        "    plt.ylim(y_lim)\n",
        "\n",
        "  fig.tight_layout()\n",
        "  #plt.ion()\n",
        "  plt.close()\n",
        "\n",
        "  # Returning the figure causes issues with interactive matplotlib\n",
        "  return fig\n",
        "  # For saving the figure, use the interactive buton, instead.\n",
        "  # For further customization and command-line saving, more changes are required."
      ],
      "metadata": {
        "id": "aNLccM7sz9SE"
      },
      "execution_count": null,
      "outputs": []
    },
    {
      "cell_type": "markdown",
      "source": [
        "## `myPlotFFT()`\n",
        "Plot the magnitude frequency response (in dB FS) of a signal with my default figure settings and a frequency x-axis (in Hz), based on the Nyquist rate.\n",
        "* Required arguments:\n",
        "  * `sig` Input signal (first argument)\n",
        "* Optional arguments:\n",
        "  * `n_fft=#` The size of FFT to use (default: length of input signal)\n",
        "  * `n_win=#` The length of window to use (default: length of input)\n",
        "  * `win='hann'` The type of window to use (default: `hann`, or `rect`)\n",
        "  * `fs=#` Sample rate of signal (default: 44100 Hz)\n",
        "  * `x_lim=# or (#,#)` Frequency axis limits (max or range, in Hz)\n",
        "  * `fig_size=(W,H)` Change figure dimensions (width, height)\n",
        "  * `x_ax=True/False` Show x-axis (default: True)\n",
        "  * `y_ax=True/False` Show y-axis (default: True)\n",
        "  * `lw=#` Change linewdith of signal (default: 1)\n",
        "  * `fmt='...'` Change plot formatting (default: none)"
      ],
      "metadata": {
        "id": "7jSL6pxMXfgi"
      }
    },
    {
      "cell_type": "code",
      "source": [
        "def myPlotFFT(sig, fs=44100, n_fft=0, n_win=0, win='hann', neg_f=False, x_lim=0, fig_size=(16,6),x_ax=True, y_ax=True, lw=1, fmt=''):\n",
        "  if n_fft==0:\n",
        "    n_fft = len(sig)\n",
        "  if n_win==0:\n",
        "    n_win = len(sig)\n",
        "\n",
        "  if win=='hann':  \n",
        "    win = np.hanning(n_win)\n",
        "    win_scale = 2\n",
        "  else:\n",
        "    win = np.ones(n_win)\n",
        "    win_scale = 1\n",
        "\n",
        "  S = np.fft.fft(sig * win, n_fft)\n",
        "  N = len(S)\n",
        "  f = np.arange(N) * fs / N\n",
        "  if neg_f:\n",
        "    f = f - (fs/2)\n",
        "    S = np.fft.fftshift(S)\n",
        "\n",
        "  S_mag = 2*win_scale*np.abs(S) / n_win     # Frequency magnitude, normalized by length\n",
        "                                            #    x2 because cos(w) = 0.5e^jw + 0.5e^-jw\n",
        "                                            #    x2 for Hann because window has 0.5 average\n",
        "\n",
        "  S_mag += 1e-15                  # Add a small offset to avoid log(0) errors\n",
        "  S_dBFS = 20*np.log10(S_mag)     # Freq. magnitude in dB full scale (dB FS):\n",
        "                                  #    cos(w) -> 0 dBFS peak at w\n",
        "\n",
        "\n",
        "  fig = plt.figure(figsize=fig_size)\n",
        "  plt.plot(f, S_dBFS, fmt, linewidth=lw) \n",
        "  if np.isscalar(x_lim):\n",
        "    if x_lim == 0:\n",
        "      x_lim2 = fs/2\n",
        "    if neg_f:\n",
        "      x_lim = -fs/2\n",
        "    plt.xlim(x_lim, x_lim2)\n",
        "  else:\n",
        "    plt.xlim(x_lim)\n",
        "  plt.xlabel('Frequency (Hz)')\n",
        "  plt.ylabel('Magnitude (dB)')\n",
        "\n",
        "  ax = plt.gca()\n",
        "  if x_ax == False:\n",
        "    ax.xaxis.set_visible(False)\n",
        "  if y_ax == False:\n",
        "    ax.yaxis.set_visible(False)\n",
        "  fig.tight_layout()\n",
        "\n",
        "  # Returning the figure causes issues with interactive matplotlib\n",
        "  #return fig\n",
        "  # For saving the figure, use the interactive buton, instead.\n",
        "  # For further customization and command-line saving, more changes are required."
      ],
      "metadata": {
        "id": "wKGq7SuNXTeS"
      },
      "execution_count": null,
      "outputs": []
    },
    {
      "cell_type": "markdown",
      "metadata": {
        "id": "cWj0eW-qEjxf"
      },
      "source": [
        "# Load this week's audio sample\n",
        "Yo Yo Ma: Bach Cello Suite No. 1\n",
        "* 44.1 kHz sampling rate"
      ]
    },
    {
      "cell_type": "code",
      "metadata": {
        "id": "xMUmfBZ0-9XL"
      },
      "source": [
        "yy44,fs44 = sf.read(path + 'YoYoMa-44kHz.wav')\n",
        "ipd.Audio(yy44,rate=fs44)"
      ],
      "execution_count": null,
      "outputs": []
    },
    {
      "cell_type": "code",
      "metadata": {
        "id": "AvhFkx6JZL9T"
      },
      "source": [
        "myPlot(yy44)"
      ],
      "execution_count": null,
      "outputs": []
    },
    {
      "cell_type": "markdown",
      "source": [
        "# Quantization"
      ],
      "metadata": {
        "id": "A1xN5b8MZrKF"
      }
    },
    {
      "cell_type": "code",
      "source": [
        "yy44_q = np.floor(yy44 * 512)\n",
        "\n",
        "myPlot(yy44_q, x_lim=[1,1.1], y_lim=[-512,512])\n",
        "ipd.Audio(yy44_q, rate=fs44)"
      ],
      "metadata": {
        "id": "fvQsN5OaOPYs"
      },
      "execution_count": null,
      "outputs": []
    },
    {
      "cell_type": "code",
      "source": [
        "q_noise = yy44*512 - yy44_q \n",
        "myPlot(q_noise, x_lim=[1,1.1], y_lim=[-1, 2])\n",
        "ipd.Audio(q_noise, rate=fs44)"
      ],
      "metadata": {
        "id": "22iWM9r_QT6e"
      },
      "execution_count": null,
      "outputs": []
    },
    {
      "cell_type": "markdown",
      "source": [
        "More examples of different quantization levels, *now with normalization*"
      ],
      "metadata": {
        "id": "-NwF3zB7t4ex"
      }
    },
    {
      "cell_type": "code",
      "source": [
        "yy_q16 = np.floor(yy44 * 32768) / 32768\n",
        "yy_q8 = np.floor(yy44 * 512) / 512\n",
        "yy_q4 = np.floor(yy44 * 8) / 8"
      ],
      "metadata": {
        "id": "SPDv4g0XW_th"
      },
      "execution_count": null,
      "outputs": []
    },
    {
      "cell_type": "code",
      "source": [
        "myPlot(yy_q4, x_lim=[1,1.1])"
      ],
      "metadata": {
        "id": "9ecmh49HXXh4"
      },
      "execution_count": null,
      "outputs": []
    },
    {
      "cell_type": "code",
      "source": [
        "ipd.Audio(yy_q4, rate=fs44)"
      ],
      "metadata": {
        "id": "8ig37nUSuVbz"
      },
      "execution_count": null,
      "outputs": []
    },
    {
      "cell_type": "markdown",
      "source": [
        "## Write a quantization function"
      ],
      "metadata": {
        "id": "OZbTDw9GSrNk"
      }
    },
    {
      "cell_type": "markdown",
      "source": [
        "### `quantize()`\n",
        "\n",
        "Quantize an input signal to a specified precision per sample (in bits).\n",
        "* Required arguments:\n",
        "  * `sig` Input signal (first argument)\n",
        "  * `n_bits` The number of bits per sample\n",
        "* Optional arguments:\n",
        "  * `norm=True/False` Normalize the quantized signal and noise outputs to be within $\\pm1$ (default: `True`)\n",
        "* Outputs:\n",
        "  * `sig_q` The quantized signal\n",
        "  * `q_noise` The quantization noise"
      ],
      "metadata": {
        "id": "Rvb7tGFyR9kd"
      }
    },
    {
      "cell_type": "code",
      "source": [
        "def quantize(sig, n_bits, norm=True):\n",
        "  q_scale = \n",
        "\n",
        "  sig_q = \n",
        "  q_noise = \n",
        "\n",
        "  if norm:\n",
        "    sig_q = sig_q / \n",
        "    q_noise = q_noise / \n",
        "\n",
        "  return sig_q, q_noise"
      ],
      "metadata": {
        "id": "q6DcxUTbubGH"
      },
      "execution_count": null,
      "outputs": []
    },
    {
      "cell_type": "markdown",
      "source": [
        "### Test your `quantize()` function"
      ],
      "metadata": {
        "id": "sUV6_dNLumgE"
      }
    },
    {
      "cell_type": "code",
      "source": [
        "n_bits = 8    # Try different numbers\n",
        "\n",
        "yy_q, q_noise = quantize(yy44, n_bits, norm=False)\n",
        "ipd.Audio(yy_q, rate=fs44)"
      ],
      "metadata": {
        "id": "GyrdZmcHTo9A"
      },
      "execution_count": null,
      "outputs": []
    },
    {
      "cell_type": "code",
      "source": [
        "fig1 = myPlot(yy_q, x_lim=[5,5.1], y_lim=[ ]) # Adjust y-axis limits\n",
        "fig1"
      ],
      "metadata": {
        "id": "pvX1gNUMUUzQ"
      },
      "execution_count": null,
      "outputs": []
    },
    {
      "cell_type": "markdown",
      "source": [
        "When you're ready, save your image to the class Google Drive folder"
      ],
      "metadata": {
        "id": "WmWk7Yh_3D84"
      }
    },
    {
      "cell_type": "code",
      "source": [
        "filename = 'sig_q' + str(n_bits) + '.png'\n",
        "fig1.savefig(path + username + filename)"
      ],
      "metadata": {
        "id": "Ru-fvJ8qWEd_"
      },
      "execution_count": null,
      "outputs": []
    },
    {
      "cell_type": "code",
      "source": [
        "myPlot(q_noise, x_lim=[5,5.1], y_lim=[-0.5,1.5])"
      ],
      "metadata": {
        "id": "HCaJSPcfVxYs"
      },
      "execution_count": null,
      "outputs": []
    },
    {
      "cell_type": "markdown",
      "source": [
        "## Signal to (Quantization) Noise Ratio"
      ],
      "metadata": {
        "id": "ZdY1_0iLxThT"
      }
    },
    {
      "cell_type": "code",
      "source": [
        "num_bits = 4    # Try different numbers\n",
        "\n",
        "yy_q2, q_noise2 = quantize(yy44, num_bits, norm=True)\n",
        "\n",
        "sig_pow = np.sum(yy44**2) / len(yy44)\n",
        "noise_pow = np.sum(q_noise2**2) / len(q_noise2)\n",
        "\n",
        "sqnr = sig_pow / noise_pow\n",
        "print('SQNR:', sqnr)"
      ],
      "metadata": {
        "id": "e5KcRJXwxS56"
      },
      "execution_count": null,
      "outputs": []
    },
    {
      "cell_type": "markdown",
      "source": [
        "Do we really need to divide by the number of samples?"
      ],
      "metadata": {
        "id": "j7d4WUPoy9II"
      }
    },
    {
      "cell_type": "code",
      "source": [
        "sig_pow2 = np.sum(yy44**2)\n",
        "noise_pow2 = np.sum(q_noise2**2)\n",
        "\n",
        "sqnr = sig_pow2 / noise_pow2\n",
        "print('SQNR 2:', sqnr)"
      ],
      "metadata": {
        "id": "K27VUnf8yveR"
      },
      "execution_count": null,
      "outputs": []
    },
    {
      "cell_type": "code",
      "source": [
        "sqnr_dB = 20 * np.log10(sqnr)\n",
        "print('SQNR (dB):', sqnr_dB)"
      ],
      "metadata": {
        "id": "_1anbO3uyGVs"
      },
      "execution_count": null,
      "outputs": []
    },
    {
      "cell_type": "markdown",
      "source": [
        "Remember, SNR is a *ratio*\n",
        "* $\\log\\left(\\frac{a}{b}\\right) = \\log(a) - \\log(b)$\n",
        "\n",
        "Rewrite SNR as a *subtraction*."
      ],
      "metadata": {
        "id": "cttsKfwxzEPp"
      }
    },
    {
      "cell_type": "code",
      "source": [
        "sqnr_dB2 = \n",
        "print('SQNR 2 (dB):', sqnr_dB2)"
      ],
      "metadata": {
        "id": "BmKsB701yfIp"
      },
      "execution_count": null,
      "outputs": []
    },
    {
      "cell_type": "markdown",
      "source": [
        "So, how much SNR do we gain, *per each bit* of quantization?"
      ],
      "metadata": {
        "id": "jOa62jy4ztV3"
      }
    },
    {
      "cell_type": "code",
      "source": [
        "sqnr_per_bit_dB = \n",
        "print('SQNR per bit (dB):', sqnr_per_bit_dB)"
      ],
      "metadata": {
        "id": "YwwsbnVRzh_o"
      },
      "execution_count": null,
      "outputs": []
    },
    {
      "cell_type": "markdown",
      "source": [
        "## What does quantization do in the frequency domain?"
      ],
      "metadata": {
        "id": "BJM2qvADYbgV"
      }
    },
    {
      "cell_type": "code",
      "source": [
        "myPlotFFT(yy44)"
      ],
      "metadata": {
        "id": "qOE4qAhHWzNk"
      },
      "execution_count": null,
      "outputs": []
    },
    {
      "cell_type": "code",
      "source": [
        "myPlotFFT(yy_q2)"
      ],
      "metadata": {
        "id": "ROzEU1uRWNEK"
      },
      "execution_count": null,
      "outputs": []
    },
    {
      "cell_type": "markdown",
      "source": [
        "### Spectrograms"
      ],
      "metadata": {
        "id": "mFL5nrVakInc"
      }
    },
    {
      "cell_type": "code",
      "source": [
        "f1, t1, Sxx = signal.spectrogram(yy44, fs44, window='hann', nperseg=2048, noverlap=2048-512, nfft=4096)\n",
        "\n",
        "fig = plt.figure(figsize=(16,6))\n",
        "\n",
        "plt.pcolormesh(t1, f1, 20*np.log10(np.abs(Sxx)+1e-15))\n",
        "plt.ylabel('Frequency (Hz)')\n",
        "plt.xlabel('Time (sec)')"
      ],
      "metadata": {
        "id": "ZL6ficqdYp6M"
      },
      "execution_count": null,
      "outputs": []
    },
    {
      "cell_type": "code",
      "metadata": {
        "id": "CgIwbrdHZuDT"
      },
      "source": [
        "f1, t1, Sxx = signal.spectrogram(yy_q, fs44, window='hann', nperseg=2048, noverlap=2048-512, nfft=4096)\n",
        "\n",
        "fig = plt.figure(figsize=(16,6))\n",
        "\n",
        "plt.pcolormesh(t1, f1, 20*np.log10(np.abs(Sxx)+1e-15))\n",
        "plt.ylabel('Frequency (Hz)')\n",
        "plt.xlabel('Time (sec)')"
      ],
      "execution_count": null,
      "outputs": []
    },
    {
      "cell_type": "markdown",
      "source": [
        "### Time to write a `mySpectrogram()` function\n",
        "A simple wrapper to compute and plot the spectrogram of a signal with my default figure settings, a time x-axis (in seconds) and a frequency y-axis (in Hz), based on the Nyquist rate.\n",
        "* Required arguments:\n",
        "  * `sig` Input signal (first argument)\n",
        "* Optional arguments:\n",
        "  * `fs=#` Sample rate of signal (default: 44100 Hz)\n",
        "  * `win='window_name'` The type of analysis window to use (default: 'hann')\n",
        "  * `n_win=#` The length of window to use per frame (default: 1024)\n",
        "  * `n_fft=#` The size of FFT to use (default: 1024)\n",
        "  * `x_lim=# or (#,#)` x-axis limit or range (in seconds)\n",
        "  * `y_lim=# or (#,#)` y-axis limit or range (in Hz)\n",
        "  * `fig_size=(W,H)` Change figure dimensions (width, height)\n",
        "  * `x-ax=True/False` Show x-axis (default: True)\n",
        "  * `y-ax=True/False` Show y-axis (default: True)"
      ],
      "metadata": {
        "id": "kAxTI9wgkEs8"
      }
    },
    {
      "cell_type": "code",
      "source": [
        "def mySpectrogram(sig, fs=44100, win='hann', n_win=1024, olap=512, n_fft=1024, x_lim=0, y_lim=0, fig_size=(12,6), x_ax=True, y_ax=True):\n",
        "  f1, t1, Sxx = signal.spectrogram(sig, fs, window=win, nperseg=n_win, noverlap=olap, nfft=n_fft)\n",
        "\n",
        "  fig = plt.figure(figsize=fig_size)\n",
        "\n",
        "  S_mag = \n",
        "  S_dBFS = \n",
        "  \n",
        "  plt.pcolormesh(t1, f1, S_dBFS)\n",
        "  plt.ylabel('Frequency (Hz)')\n",
        "  plt.xlabel('Time (sec)')\n",
        "\n",
        "  if np.isscalar(x_lim):\n",
        "    if x_lim == 0:\n",
        "      x_lim = len(sig) / fs\n",
        "    plt.xlim(0, x_lim)\n",
        "  else:\n",
        "    plt.xlim(x_lim)\n",
        "\n",
        "  if np.isscalar(y_lim):\n",
        "    if y_lim == 0:\n",
        "      y_lim = fs/2\n",
        "    plt.ylim(0, y_lim)\n",
        "  else:\n",
        "    plt.ylim(y_lim)\n",
        "\n",
        "  ax = plt.gca()\n",
        "  if x_ax == False:\n",
        "    ax.xaxis.set_visible(False)\n",
        "  if y_ax == False:\n",
        "    ax.yaxis.set_visible(False)\n",
        "  fig.tight_layout()\n",
        "\n",
        "  plt.ion()\n",
        "  \n",
        "  # Returning the figure causes issues with interactive matplotlib\n",
        "  return fig\n",
        "  # For saving the figure, use the interactive buton, instead.\n",
        "  # For further customization and command-line saving, more changes are required."
      ],
      "metadata": {
        "id": "gaonAlsvmEbT"
      },
      "execution_count": null,
      "outputs": []
    },
    {
      "cell_type": "code",
      "source": [
        "mySpectrogram(yy44)"
      ],
      "metadata": {
        "id": "Sw_NbP72z1YN"
      },
      "execution_count": null,
      "outputs": []
    },
    {
      "cell_type": "code",
      "source": [
        "mySpectrogram(yy_q16)"
      ],
      "metadata": {
        "id": "r-0JZ-IKypIR"
      },
      "execution_count": null,
      "outputs": []
    },
    {
      "cell_type": "markdown",
      "source": [
        "# Bitrate\n",
        "\n",
        "What's the bitrate for these various quantizations?\n",
        "* $b_r = f_s \\cdot B \\cdot C$ in bits / second\n",
        "  * $f_s$ is the sampling rate\n",
        "  * $B$ is bits per sample\n",
        "  * $C$ is the number of channels"
      ],
      "metadata": {
        "id": "2j593hkzZXQQ"
      }
    },
    {
      "cell_type": "code",
      "source": [
        "br44_16 = fs44 * 16\n",
        "print(br44_16)"
      ],
      "metadata": {
        "id": "A0aEosnOZrof"
      },
      "execution_count": null,
      "outputs": []
    },
    {
      "cell_type": "markdown",
      "source": [
        "## What are other bitrates?\n",
        "\n",
        "Compute some variations\n",
        "* Different sampling rates\n",
        "* Different bit depths (quantization levels)\n",
        "\n",
        "*And what is a typical streaming bitrate (Spotify, Apple Music, etc.)?*"
      ],
      "metadata": {
        "id": "NdfB4LpAaLaA"
      }
    },
    {
      "cell_type": "code",
      "source": [
        "my_br = "
      ],
      "metadata": {
        "id": "317dZvjnawG9"
      },
      "execution_count": null,
      "outputs": []
    },
    {
      "cell_type": "markdown",
      "metadata": {
        "id": "69W9BiAtNvEg"
      },
      "source": [
        "# Load low sampling rate version (11025 Hz sampling)"
      ]
    },
    {
      "cell_type": "code",
      "metadata": {
        "id": "iqpNiFORNuNI"
      },
      "source": [
        "yy11,fs11 = sf.read(path + 'YoYoMa-11kHz.wav')\n",
        "ipd.Audio(yy11,rate=fs11)"
      ],
      "execution_count": null,
      "outputs": []
    },
    {
      "cell_type": "code",
      "metadata": {
        "id": "mGnf6L4cq-UI"
      },
      "source": [
        "mySpectrogram(yy11, fs11, y_lim=[0,22050])"
      ],
      "execution_count": null,
      "outputs": []
    },
    {
      "cell_type": "markdown",
      "metadata": {
        "id": "7dMX-Z4j3Y3i"
      },
      "source": [
        "#Sample rate conversion: done poorly\n"
      ]
    },
    {
      "cell_type": "markdown",
      "source": [
        "## Upsampling: insert zeros between existing samples"
      ],
      "metadata": {
        "id": "JqgTzoIYkoPU"
      }
    },
    {
      "cell_type": "code",
      "source": [
        "L = 4\n",
        "yy11_44u = np.zeros( len(yy11)*L - (L-1) )\n",
        "yy11_44u[::4] = yy11                # Put our 11 kHz wave every 4th sample\n",
        "\n",
        "ipd.Audio(yy11_44u,rate=fs44)"
      ],
      "metadata": {
        "id": "4K1elF9X2WB8"
      },
      "execution_count": null,
      "outputs": []
    },
    {
      "cell_type": "code",
      "source": [
        "mySpectrogram(yy11_44u)"
      ],
      "metadata": {
        "id": "Fns693VI1Ps0"
      },
      "execution_count": null,
      "outputs": []
    },
    {
      "cell_type": "markdown",
      "source": [
        "# Moving average smoothing"
      ],
      "metadata": {
        "id": "pmzkvpvf0XGp"
      }
    },
    {
      "cell_type": "code",
      "source": [
        "L = 7  # Number of samples to average\n",
        "#L = 17  # Number of samples to average\n",
        "\n",
        "yy11_44_ma = np.zeros(len(yy11_44u))            # Create an output array of zeros\n",
        "\n",
        "for n in range(len(yy11_44u)-L):\n",
        "  yy11_44_ma[n] = np.sum(yy11_44u[n:n+L]) / L   # Compute moving average of L samples"
      ],
      "metadata": {
        "id": "q9bKNvb60BoT"
      },
      "execution_count": null,
      "outputs": []
    },
    {
      "cell_type": "code",
      "source": [
        "myPlot(yy11_44_ma[:200])"
      ],
      "metadata": {
        "id": "OzH36WLJ1dvI"
      },
      "execution_count": null,
      "outputs": []
    },
    {
      "cell_type": "code",
      "source": [
        "ipd.Audio(yy11_44_ma, rate=44100)"
      ],
      "metadata": {
        "id": "yu3E32cJ1vEm"
      },
      "execution_count": null,
      "outputs": []
    },
    {
      "cell_type": "code",
      "source": [
        "mv_avg = np.ones(L)\n",
        "\n",
        "myPlotFFT(mv_avg, n_fft=2048, win='rect')"
      ],
      "metadata": {
        "id": "zesyr-rD3yrV"
      },
      "execution_count": null,
      "outputs": []
    },
    {
      "cell_type": "code",
      "source": [
        "myPlotFFT(yy11_44_ma)"
      ],
      "metadata": {
        "id": "pfuT3-pG2VrL"
      },
      "execution_count": null,
      "outputs": []
    },
    {
      "cell_type": "code",
      "source": [
        "mySpectrogram(yy11_44_ma)"
      ],
      "metadata": {
        "id": "R3yXPH8H2ADf"
      },
      "execution_count": null,
      "outputs": []
    },
    {
      "cell_type": "markdown",
      "source": [
        "## Weighted average smoothing"
      ],
      "metadata": {
        "id": "_oJc9_H13i7-"
      }
    },
    {
      "cell_type": "code",
      "source": [
        "L = 17  # Number of samples to average\n",
        "wt_avg = np.hanning(L)\n",
        "\n",
        "yy11_44_wt = np.zeros(len(yy11_44u))                  # Create an output array of zeros\n",
        "\n",
        "for n in range(len(yy11_44u)-L):\n",
        "  yy11_44_wt[n] = np.sum( yy11_44u[n:n+L] * wt_avg )  # Compute weighted average of L samples"
      ],
      "metadata": {
        "id": "fcoGoMaNg-ty"
      },
      "execution_count": null,
      "outputs": []
    },
    {
      "cell_type": "code",
      "source": [
        "myPlot(yy11_44_wt[:200])"
      ],
      "metadata": {
        "id": "3z0WDUlwhW-d"
      },
      "execution_count": null,
      "outputs": []
    },
    {
      "cell_type": "code",
      "source": [
        "ipd.Audio(yy11_44_wt, rate=44100)"
      ],
      "metadata": {
        "id": "UlcLr6PR2K4m"
      },
      "execution_count": null,
      "outputs": []
    },
    {
      "cell_type": "code",
      "source": [
        "myPlotFFT(wt_avg, n_fft=2048, win='rect')"
      ],
      "metadata": {
        "id": "0vQ98vOQhUSK"
      },
      "execution_count": null,
      "outputs": []
    },
    {
      "cell_type": "code",
      "source": [
        "mySpectrogram(yy11_44_wt)"
      ],
      "metadata": {
        "id": "KEtDnh_llvA8"
      },
      "execution_count": null,
      "outputs": []
    },
    {
      "cell_type": "code",
      "source": [
        "myPlotFFT(yy11_44_wt, win='rect')"
      ],
      "metadata": {
        "id": "UHzZXv4qhn-d"
      },
      "execution_count": null,
      "outputs": []
    }
  ]
}