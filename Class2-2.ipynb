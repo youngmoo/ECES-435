{
  "nbformat": 4,
  "nbformat_minor": 0,
  "metadata": {
    "colab": {
      "provenance": [],
      "collapsed_sections": [],
      "toc_visible": true,
      "include_colab_link": true
    },
    "kernelspec": {
      "display_name": "Python 3",
      "name": "python3"
    }
  },
  "cells": [
    {
      "cell_type": "markdown",
      "metadata": {
        "id": "view-in-github",
        "colab_type": "text"
      },
      "source": [
        "<a href=\"https://colab.research.google.com/github/youngmoo/ECES-435/blob/main/Class2-2.ipynb\" target=\"_parent\"><img src=\"https://colab.research.google.com/assets/colab-badge.svg\" alt=\"Open In Colab\"/></a>"
      ]
    },
    {
      "cell_type": "markdown",
      "metadata": {
        "id": "tdusLm5n4gYt"
      },
      "source": [
        "# **ECES-435: Class 2.2**\n",
        "Today: All about the DFT and STFT.\n",
        "\n"
      ]
    },
    {
      "cell_type": "markdown",
      "source": [
        "# *Optional*: install `ipympl` for  Matplotlib\n",
        "\n",
        "* This module is needed to enable *interactive* Matplotlib figures\n",
        "* This installs packages that will require a restart of the runtime, so run this cell first."
      ],
      "metadata": {
        "id": "mIDulQoea077"
      }
    },
    {
      "cell_type": "code",
      "source": [
        "!pip install ipympl   # Also installs a more recent version of matplot (v3.5.3)"
      ],
      "metadata": {
        "id": "s4IrpVQoa6Pt"
      },
      "execution_count": null,
      "outputs": []
    },
    {
      "cell_type": "markdown",
      "source": [
        "# *Optional stuff*\n",
        "\n",
        "## Enable interactive Matplotlib figures\n",
        "\n",
        "It's annoying that Colab's Matplotlib doesn't have this by default, but with a little work, we can enable basic figure interaction:\n",
        "* Pan\n",
        "* Zoom in/out\n",
        "* Display of cursor coordinates"
      ],
      "metadata": {
        "id": "ZRo1vqu--5k8"
      }
    },
    {
      "cell_type": "code",
      "source": [
        "from google.colab import output\n",
        "output.enable_custom_widget_manager()\n",
        "%matplotlib widget"
      ],
      "metadata": {
        "id": "DiOV4i9Ez01u"
      },
      "execution_count": null,
      "outputs": []
    },
    {
      "cell_type": "markdown",
      "source": [
        "## My plotting style defaults\n",
        "Feel free to adjust these to your liking."
      ],
      "metadata": {
        "id": "4St7ipii0RXG"
      }
    },
    {
      "cell_type": "code",
      "source": [
        "from matplotlib import rc\n",
        "\n",
        "rc('figure', figsize=(12,4))\n",
        "rc('figure', facecolor='#aaaaaa')     # Better figure background for dark mode\n",
        "\n",
        "rc('font', family='Liberation Serif') # Nicer font\n",
        "rc('font', size=20)                   # Larger font size for labels"
      ],
      "metadata": {
        "id": "Itwlskvbz4C1"
      },
      "execution_count": null,
      "outputs": []
    },
    {
      "cell_type": "markdown",
      "source": [
        "# The usual setup\n",
        "Let's start by importing the \"usual\" modules we'll be using..."
      ],
      "metadata": {
        "id": "sw5xe4Xpa-Ho"
      }
    },
    {
      "cell_type": "code",
      "metadata": {
        "id": "eDaoDgqCs1mp"
      },
      "source": [
        "import numpy as np                # Load the NumPy module, using the abbreviation 'np'.\n",
        "import matplotlib.pyplot as plt   # Load the Matplotlib module, abbreviated as 'plt'\n",
        "import IPython.display as ipd     # Load the Interactive Python display module, abbreviated as 'ipd'\n",
        "import soundfile as sf            # Load the 'librosa' module for working with sound files and more\n",
        "\n",
        "# Define a variable that's the directory path to our shared Google Drive folder\n",
        "path = '/content/drive/MyDrive/eces435-work/class2.2/'"
      ],
      "execution_count": null,
      "outputs": []
    },
    {
      "cell_type": "code",
      "metadata": {
        "id": "gIio921uLomj"
      },
      "source": [
        "# ENTER YOUR USERNAME\n",
        "username = 'tk421'\n",
        "\n",
        "from google.colab import drive\n",
        "drive.mount('/content/drive')"
      ],
      "execution_count": null,
      "outputs": []
    },
    {
      "cell_type": "markdown",
      "source": [
        "# Helper functions"
      ],
      "metadata": {
        "id": "6AGSBTnPF74Q"
      }
    },
    {
      "cell_type": "markdown",
      "source": [
        "\n",
        "## `myPlot()` function\n",
        "A quick time-domain signal plot function with my default figure settings and a time x-axis (in seconds).\n",
        "* Required arguments:\n",
        "  * `sig` Input signal (first argument)\n",
        "* Optional arguments:\n",
        "  * `N=#` Number of samples to plot (default: length of signal)\n",
        "  * `fs=#` Sample rate of signal (default: 44100 Hz)\n",
        "  * `fig_size=(W,H)` Change figure dimensions (width, height)\n",
        "  * `x_ax=True/False` Show x-axis (default: True)\n",
        "  * `y_ax=True/False` Show y-axis (default: True)\n",
        "  * `lw=#` Change linewdith of signal (default: 1)\n",
        "  * `fmt='...'` Plot format string (default: none)"
      ],
      "metadata": {
        "id": "fM8Dr6GG0nF6"
      }
    },
    {
      "cell_type": "code",
      "source": [
        "def myPlot(sig, N=0, fs=44100, fig_size=(16,4), x_ax=True, y_ax=True, lw=1, fmt=''):\n",
        "  if N==0:\n",
        "    N = len(sig)\n",
        "\n",
        "  fig = plt.figure(figsize=fig_size)\n",
        "  t = np.arange(N)/fs\n",
        "\n",
        "  plt.plot( t[:N], sig[:N], fmt, linewidth=lw)\n",
        "\n",
        "  plt.xlabel('Time (sec)')\n",
        "  ax = plt.gca()    # gca(): \"Get current axis\", the graph object that's currently plotted\n",
        "  \n",
        "  if x_ax == False:\n",
        "    ax.xaxis.set_visible(False)\n",
        "  if y_ax == False:\n",
        "    ax.yaxis.set_visible(False)\n",
        "\n",
        "  fig.tight_layout()\n",
        "  plt.ion()\n",
        "\n",
        "  # Returning the figure causes issues with interactive matplotlib\n",
        "  #return fig\n",
        "  # For saving the figure, use the interactive buton, instead.\n",
        "  # For further customization and command-line saving, more changes are required."
      ],
      "metadata": {
        "id": "BcuzuPEylvaw"
      },
      "execution_count": null,
      "outputs": []
    },
    {
      "cell_type": "markdown",
      "metadata": {
        "id": "EeEAPOloScED"
      },
      "source": [
        "# *From last class: Can we determine *when* a frequency happens?\n"
      ]
    },
    {
      "cell_type": "markdown",
      "metadata": {
        "id": "cWj0eW-qEjxf"
      },
      "source": [
        "## Let's reload the music..."
      ]
    },
    {
      "cell_type": "code",
      "metadata": {
        "id": "xMUmfBZ0-9XL"
      },
      "source": [
        "filepath = path + 'aha.wav'\n",
        "[aha, fs] = sf.read(filepath)\n",
        "print('sampling rate:' , fs)\n",
        "\n",
        "ipd.Audio(aha,rate=fs)"
      ],
      "execution_count": null,
      "outputs": []
    },
    {
      "cell_type": "markdown",
      "source": [
        "Using the entire music sample doesn't tell us much about *when* those frequencies occur (or how they change over time).\n",
        "* Instead, what if we take a short clip (20 ms) of the music? Let's call this an analysis *frame*.\n",
        "* Then, we know any frequencies present in the frame occur within that short amount of time (20 ms).\n",
        "\n",
        "How many samples give us 20 ms?"
      ],
      "metadata": {
        "id": "YM-_au0-vdBY"
      }
    },
    {
      "cell_type": "code",
      "metadata": {
        "id": "mIwrus3fS19X"
      },
      "source": [
        "dur = 0.02\n",
        "dur * fs    # Number of samples?"
      ],
      "execution_count": null,
      "outputs": []
    },
    {
      "cell_type": "markdown",
      "source": [
        "Create a frame that we'll call `clip`.\n",
        "* Have a listen (it's *really* short!)"
      ],
      "metadata": {
        "id": "7y8uAWbMfhBO"
      }
    },
    {
      "cell_type": "code",
      "metadata": {
        "id": "3GPuMCFMTpE9"
      },
      "source": [
        "frameSize = int(fs * dur)   # We want to use this as an array index, so we cast it to int (otherwise you get an error)\n",
        "clip = aha[fs : fs + frameSize]   # Let's clip a 0.02 sec segment, starting at 1 sec\n",
        "\n",
        "myPlot(clip)\n",
        "ipd.Audio(clip, rate=fs)"
      ],
      "execution_count": null,
      "outputs": []
    },
    {
      "cell_type": "markdown",
      "source": [
        "## Now, what's our \"fundamental\" analysis frequency?"
      ],
      "metadata": {
        "id": "tk8lcRDz7RqH"
      }
    },
    {
      "cell_type": "code",
      "metadata": {
        "id": "l1Bt0z8rBOFi"
      },
      "source": [
        "T0 = frameSize / fs   # Should be 20 ms\n",
        "print(\"Period:\",T0,\"seconds\")\n",
        "f0 = 1/T0\n",
        "print(\"Fundamental:\",f0,\"Hz\")"
      ],
      "execution_count": null,
      "outputs": []
    },
    {
      "cell_type": "markdown",
      "metadata": {
        "id": "XzGFV8VVaE1x"
      },
      "source": [
        "## A literal implementation of the Fourier Transform\n",
        "* The Fourier Transform is simply a Fourier Series with the following constraints...\n",
        "  * Our fundamental analysis frequency, $f_0$ is determined by the number of samples we give it (our \"period\").\n",
        "  * The Fourier Series coefficients give us the amount of frequency at the harmonics of $f_0$, so $f_k = k \\cdot f_0$."
      ]
    },
    {
      "cell_type": "markdown",
      "source": [
        "\n",
        "  * $X[\\omega_k] = \\sum_{n=0}^{N-1} x[n] e^{-j \\omega_k n} =\\sum_{n=0}^{N-1} x[n] \\left(\\cos[\\omega_k n] - j \\sin[\\omega_k n]\\right)$\n",
        "    * $\\omega_k = 2 \\pi f_k / f_s$\n",
        "    * $N$ is the period (in samples), then…\n",
        "  * $a_k = X_{Re}[\\omega_k] = \\sum_{n=0}^{N-1} x[n] \\cos\\left[\\frac{2\\pi f_k n}{f_s}\\right]$\n",
        "  * $b_k = -X_{Im}[\\omega_k] = \\sum_{n=0}^{N-1} x[n] \\sin\\left[\\frac{2\\pi f_k n}{f_s}\\right]$\n",
        "  * Magnitude $c_k = |X[\\omega_k]| = \\sqrt{a_k^2 + b_k^2}$\n",
        "\n",
        "Write a function that takes a signal `x`, `fs`, and `K` (the number of Fourier coefficients to compute) as inputs and computes `a_k, b_k, and c_k`, the Fourier coefficients as outputs. \n"
      ],
      "metadata": {
        "id": "_1u99ntN5dCm"
      }
    },
    {
      "cell_type": "code",
      "metadata": {
        "id": "-2Tu2slCMd2-"
      },
      "source": [
        "def myFourierTransform(x, fs, K=16):\n",
        "  a_k = np.zeros(K)   # array for cos() weights\n",
        "  b_k = np.zeros(K)   # array for sin() weights\n",
        "  c_k = np.zeros(K)   # array for magnitude weights: sqrt(a**2 + b**2)\n",
        "\n",
        "  fig = plt.figure(figsize = (20, 8))\n",
        "  y_lim = 0.5;\n",
        "\n",
        "  n = np.arange(len(x))\n",
        "\n",
        "  for k in range(K):\n",
        "    f_k = f0*k \n",
        "    sin_k = np.sin(2*np.pi*f_k*n / fs)\n",
        "    cos_k = np.cos(2*np.pi*f_k*n / fs)\n",
        "\n",
        "    a_k[k] = np.sum(x*cos_k)\n",
        "    b_k[k] = np.sum(x*sin_k)\n",
        "    c_k[k] = np.sqrt(a_k[k]**2 + b_k[k]**2)\n",
        "\n",
        "    # Everything else in the loop is to make nice looking plots\n",
        "    plt.subplot(3,K,k+1)      # Subplots are indexed starting at 1, a la MATLAB ?!?!?\n",
        "    plt.plot(n,x*cos_k-0.1,'g')\n",
        "    plt.fill_between(n,x*cos_k-0.1,-0.1,facecolor='g',alpha=0.5)\n",
        "    plt.ylim(-y_lim,y_lim)\n",
        "    plt.axis('off')\n",
        "    \n",
        "    plt.subplot(3,K,K + k+1)\n",
        "    plt.plot(n,x,'c',n,0.1*cos_k+0.4 ,'g',n,0.1*sin_k-0.49,'r')\n",
        "    plt.ylim(-0.6,0.6)\n",
        "    plt.axis('off')\n",
        "\n",
        "    plt.subplot(3,K,2*K + k+1)\n",
        "    plt.plot(n,x*sin_k+0.1,'r')\n",
        "    plt.fill_between(n,x*sin_k+0.1,0.1,facecolor='r',alpha=0.5)\n",
        "    plt.ylim(-y_lim,y_lim)\n",
        "    plt.axis('off')\n",
        "\n",
        "  plt.show()\n",
        "\n",
        "  # Plot the a and b arrays\n",
        "  fig1 = plt.figure(figsize=(20,4))\n",
        "  plt.bar(np.arange(K)-0.15, a_k, width=0.3,color='g')\n",
        "  plt.bar(np.arange(K)+0.15, b_k, width=0.3,color='r')\n",
        "  plt.show()\n",
        "\n",
        "  # Plot the c array\n",
        "  fig2 = plt.figure(figsize=(20,4))\n",
        "  plt.bar(np.arange(K)*f0, c_k, width=30, color='b')\n",
        "  plt.show()\n",
        "\n",
        "  # Ouput c\n",
        "  return a_k, b_k, c_k"
      ],
      "execution_count": null,
      "outputs": []
    },
    {
      "cell_type": "markdown",
      "source": [
        "## Let's use our Fourier Transform!"
      ],
      "metadata": {
        "id": "0ykfxoNzBEdO"
      }
    },
    {
      "cell_type": "code",
      "source": [
        "a_k, b_k, c_k = myFourierTransform(clip, fs)"
      ],
      "metadata": {
        "id": "-sWi-d8XAAqY"
      },
      "execution_count": null,
      "outputs": []
    },
    {
      "cell_type": "markdown",
      "source": [
        "Print your `c_k` output for later comparison."
      ],
      "metadata": {
        "id": "geocYSuMe9p6"
      }
    },
    {
      "cell_type": "code",
      "source": [
        "c_k"
      ],
      "metadata": {
        "id": "8M-DH7S1XNxk"
      },
      "execution_count": null,
      "outputs": []
    },
    {
      "cell_type": "markdown",
      "metadata": {
        "id": "4QF1D9dIaVR9"
      },
      "source": [
        "# The (Discrete) Fourier Transform\n",
        "* $X[k] = \\sum_{n=0}^{N-1}x[n] e^\\frac{-j 2 \\pi f_k n}{N}$\n",
        "\n",
        "Aside: Can you prove that using $\\sin[2\\pi f_k n]$ and $\\cos[2\\pi f_k n]$ is the same as $e^{-j2\\pi f_k n}$ ?"
      ]
    },
    {
      "cell_type": "code",
      "source": [
        "def myDFT(x, fs, K=16):\n",
        "  X_k = np.zeros(K) * 1j    # Initialize the output as an array of complex numbers\n",
        "  n = np.arange(len(x))\n",
        "\n",
        "  for k in range(K):\n",
        "    f_k = f0*k\n",
        "    X_k[k] =  # Compute the Fourier output for f_k\n",
        "              # Try using np.exp() instead of np.sin() and np.cos()\n",
        "\n",
        "  return X_k"
      ],
      "metadata": {
        "id": "8bC5TYWLfGcv"
      },
      "execution_count": null,
      "outputs": []
    },
    {
      "cell_type": "code",
      "source": [
        "%%time\n",
        "C1 = myDFT(clip, fs)"
      ],
      "metadata": {
        "id": "dnFQtpOJFiI7"
      },
      "execution_count": null,
      "outputs": []
    },
    {
      "cell_type": "code",
      "source": [
        "np.abs(C1)"
      ],
      "metadata": {
        "id": "xez9fuP27A_h"
      },
      "execution_count": null,
      "outputs": []
    },
    {
      "cell_type": "markdown",
      "metadata": {
        "id": "XDAXO9ZzbHwH"
      },
      "source": [
        "##Dude, isn't there an *easier* way to compute the Fourier transform?\n",
        "Yes, the Fast Fourier Transform (FFT) is a *much* more efficient algorithm for computing the Discrete Fourier Transform (DFT). Lots of people say 'FFT' when they actually mean 'DFT'."
      ]
    },
    {
      "cell_type": "code",
      "metadata": {
        "id": "xcnpQcq7Nnf_"
      },
      "source": [
        "%%time\n",
        "C2 = np.fft.fft(clip)     # FFT: 'Fast Fourier Transform'"
      ],
      "execution_count": null,
      "outputs": []
    },
    {
      "cell_type": "code",
      "source": [
        "np.abs(C2[:16])"
      ],
      "metadata": {
        "id": "vs1tyneP7Dw_"
      },
      "execution_count": null,
      "outputs": []
    },
    {
      "cell_type": "markdown",
      "metadata": {
        "id": "WJ3GLyM3ZKVh"
      },
      "source": [
        "##What does the full DFT look like?\n",
        "\n",
        "* Plot the real and imaginary outputs of the DFT.\n",
        "* Add the magnitude of the DFT, $|X[k]|$?\n",
        "* Separately, plot the magnitude in decibels (dB)?\n",
        "  * $20 \\log_{10} |X[k]|$"
      ]
    },
    {
      "cell_type": "code",
      "source": [
        "N = len(clip)\n",
        "fig0 = plt.figure(figsize=(20,4))\n",
        "f = np.arange(N)*fs/N             # Frequency array, corresponding to Fourier frequencies (spaced at 50 Hz)\n",
        "\n",
        "plt.plot(f,   # Fill in this statement\n",
        "\n",
        "#plt.xlim(0,fs/2)   # Try uncommenting this line\n"
      ],
      "metadata": {
        "id": "_XFwQQpWgUKF"
      },
      "execution_count": null,
      "outputs": []
    },
    {
      "cell_type": "markdown",
      "source": [
        "When you're ready, save your DFT to the class folder."
      ],
      "metadata": {
        "id": "VyRyvgMQ1LZD"
      }
    },
    {
      "cell_type": "code",
      "source": [
        "fig0.savefig(path + 'DFT/' + username + '-DFT.png')"
      ],
      "metadata": {
        "id": "nDM3B1E01Ir4"
      },
      "execution_count": null,
      "outputs": []
    },
    {
      "cell_type": "markdown",
      "metadata": {
        "id": "UptGLO2LcsPm"
      },
      "source": [
        "## I *need* more frequency resolution!\n",
        "\n",
        "Our frequency values are based on our \"fundamental\" period (the length of our frame), which is currently 50 Hz.\n",
        "* What happens if you zero-pad (add zeros to the end of the signal)?\n",
        "* Try different amounts of zero-padding"
      ]
    },
    {
      "cell_type": "code",
      "source": [
        "N_z = 2048    # Zero-padded length of the frame\n",
        "clip_z = np.append(clip, np.zeros(N_z - N)) # Zero-padded signal\n",
        "f_z = np.arange(N_z) * fs / N_z   # Frequency vector (extended to zero-padded length)\n",
        "\n",
        "C_z =  # Fill this in: the DFT of zero-padded signal\n",
        "\n",
        "fig1 = plt.figure(figsize=(20,4))\n",
        "plt.plot(clip_z)\n",
        "\n",
        "fig2 = plt.figure(figsize=(20,4))\n",
        "plt.plot(f_z, 20*np.log10(np.abs(C_z)))\n",
        "plt.xlabel('Frequency (Hz)')\n",
        "plt.xlim(0,fs/2)"
      ],
      "metadata": {
        "id": "m-11hxdRgtgP"
      },
      "execution_count": null,
      "outputs": []
    },
    {
      "cell_type": "markdown",
      "metadata": {
        "id": "0e95e0dfEZmx"
      },
      "source": [
        "## Periodic extension of a zero-padded frame"
      ]
    },
    {
      "cell_type": "code",
      "metadata": {
        "id": "ghgbl0f8shFC"
      },
      "source": [
        "clip_z_rep = np.tile(clip_z,15)\n",
        "\n",
        "ipd.Audio(clip_z_rep,rate=fs)"
      ],
      "execution_count": null,
      "outputs": []
    },
    {
      "cell_type": "markdown",
      "metadata": {
        "id": "mYPt4m1taAt9"
      },
      "source": [
        "## Analysis windows\n",
        "Let's apply a window function to *taper* the edges of the analysis frame to reduce sidelobes in the frequency output. Some window functions (all built into NumPy):\n",
        "* `hanning` (Hann window)\n",
        "* `bartlett` (Triangle window)\n",
        "* `hamming` (Raised cosine variation)\n",
        "* `blackman` (High sidelobe reduction)"
      ]
    },
    {
      "cell_type": "code",
      "metadata": {
        "id": "CNy-J9KbYAI8"
      },
      "source": [
        "clip_w = clip[:N] * np.hanning(N)       # Actually a 'Hann' function\n",
        "#clip_w = clip[:N] * np.bartlett(N)     # Fancy name for a triangle\n",
        "#clip_w = clip[:N] * np.hamming(N)      # Another sinusoidal window\n",
        "#clip_w = clip[:N] * np.blackman(N)     # Another window with different tradeoffs\n",
        "\n",
        "clip_wz = clip_z      # The whole frame (with zero-padding)\n",
        "clip_wz[:N] = clip_w  # The windowed part of the frame\n",
        "\n",
        "C_wz = np.fft.fft(clip_wz)\n",
        "\n",
        "fig1 = plt.figure(figsize=(16,4))\n",
        "plt.plot(clip_wz)\n",
        "\n",
        "fig2 = plt.figure(figsize=(16,8))\n",
        "#plt.plot(f, np.abs(X))\n",
        "plt.plot(f_z, 20*np.log10(np.abs(C_wz)))\n",
        "\n",
        "#plt.xlim(0,fs/2)\n",
        "plt.xlim(0,10000)"
      ],
      "execution_count": null,
      "outputs": []
    },
    {
      "cell_type": "code",
      "source": [
        "fig2.savefig(path + 'winDFT/' + username + '-winDFT.png')"
      ],
      "metadata": {
        "id": "a3ln_rV-hmvB"
      },
      "execution_count": null,
      "outputs": []
    },
    {
      "cell_type": "markdown",
      "metadata": {
        "id": "bDiEEemGrXVN"
      },
      "source": [
        "## Increase frequency resolution (again)\n",
        "* `fft(..., n=N_fft)`: This automatically zero-pads to the requested length (`N_fft`), adding more frequency samples."
      ]
    },
    {
      "cell_type": "code",
      "metadata": {
        "id": "GWujjcwVO5u0"
      },
      "source": [
        "N_fft = 8192\n",
        "C_w = np.fft.fft(clip_w)\n",
        "C_wz = np.fft.fft(clip_w, n=N_fft)\n",
        "\n",
        "fig = plt.figure(figsize=(16,4))\n",
        "#ax = plt.axes(xlim=(-20,5020), ylim=(0, 90))\n",
        "\n",
        "# Plot the zero-padded \"high resolution\" DFT (length N_fft)\n",
        "plt.plot(np.arange(N_fft)*fs/N_fft, 20*np.log10(np.abs(C_wz)) )\n",
        "\n",
        "# Plot our original DFT samples (\"low res\") as big orange dots\n",
        "plt.plot(np.arange(N)*fs/N,20*np.log10(np.abs(C_w)),'.',markersize=15)\n",
        "plt.xlim(0,5000)\n",
        "\n",
        "#fig.savefig(path + 'Fourier Transform-windowed.png', dpi=200, transparent=True)"
      ],
      "execution_count": null,
      "outputs": []
    },
    {
      "cell_type": "markdown",
      "metadata": {
        "id": "bSK1pKjA3CzV"
      },
      "source": [
        "## DFT of a long signal"
      ]
    },
    {
      "cell_type": "code",
      "source": [
        "AHA =           # DFT (FFT) of the full 'aha' signal\n",
        "N = len(aha)    # Number of samples in the 'aha' signal\n",
        "\n",
        "fig1 = plt.figure()\n",
        "n = np.arange(N)          # Sample index for signal\n",
        "plt.plot(n/fs, aha)       # Plot the whole signal\n",
        "plt.xlabel('Time (sec)')\n",
        "\n",
        "fig2 = plt.figure()\n",
        "plt.plot(np.arange(N)*fs/N, 20*np.log10(np.abs(AHA)))   # Plot the magnitude DFT\n",
        "plt.xlim(0, fs/2)\n",
        "plt.xlabel('Frequency (Hz)')"
      ],
      "metadata": {
        "id": "T7fO2n8ubNks"
      },
      "execution_count": null,
      "outputs": []
    },
    {
      "cell_type": "markdown",
      "metadata": {
        "id": "UN-4Ag_Nv-ZB"
      },
      "source": [
        "#Let's make a (DFT) movie!\n",
        "The DFT of the entire music sample isn't all that helpful. We would like to know how the frequencies change over time.\n",
        "* Instead, we take a series of short *frames* and plot each corresponding DFT.\n",
        "* We advance the frame to overlap with the previous frame (by 50% or more), so we don't miss anything.\n",
        "* We can compile each DFT frame into an animation and watch it as it evolves.\n"
      ]
    },
    {
      "cell_type": "code",
      "source": [
        "# Module required for animation\n",
        "from matplotlib import animation\n",
        "# Note: below is the part which makes it work on Colab\n",
        "rc('animation', html='jshtml')\n",
        "\n",
        "# Function to compile DFT frames into an animation\n",
        "def fftMovie(input, num_frames=60, frame_rate=30, sample_rate=44100):\n",
        "\n",
        "  # Compute and plot the DFT (called for each frame):\n",
        "  def nextFrameFFT(f_num):\n",
        "    win = np.hanning(frame_size)        # For now, we always use a Hanning (Hann) window    \n",
        "    n_hop = int(sample_rate/frame_rate)\n",
        "    n1 = int(n_hop * f_num)\n",
        "    n2 = int(n_hop * f_num + frame_size)\n",
        "    x_n = input[n1:n2]                  # Current frame of the input\n",
        "\n",
        "    X_n = ...  # Fill this in: the FFT of the current frame (windowed)\n",
        "    \n",
        "    N = len(X_n)\n",
        "    f = np.arange(N) * sample_rate / N\n",
        "    X_mag = np.abs(X_n) + 1.0e-15   # Add a very small offset to avoid log(0) errors\n",
        "    X_dB = 20*np.log10(X_mag)       # Freq. magnitude in dB\n",
        "\n",
        "    fftLine.set_data(f, X_dB)    \n",
        "\n",
        "    return fftLine,\n",
        "\n",
        "  frame_size = int(fs*0.02)\n",
        "  N_fft = 2048\n",
        "  f = np.arange(N_fft) * fs / N_fft\n",
        "\n",
        "  # First set up the figure, the axis, and the plot element we want to animate\n",
        "  fftFig = plt.figure(figsize=(14,6))\n",
        "  ax = plt.axes(xlim=(0,10000),ylim=(-100,50))\n",
        "  fftLine, = ax.plot([], [])\n",
        "\n",
        "  fftFig.tight_layout()\n",
        "  plt.close()   # Don't output the final figure separately\n",
        "\n",
        "  frame_period_in_ms = 1000 / frame_rate\n",
        "\n",
        "  fftAnim = animation.FuncAnimation(fftFig, nextFrameFFT, frames=num_frames, interval=frame_period_in_ms, blit=True)\n",
        "\n",
        "  return fftAnim"
      ],
      "metadata": {
        "id": "BUiBgNkLm5N_"
      },
      "execution_count": null,
      "outputs": []
    },
    {
      "cell_type": "code",
      "source": [
        "movie_dur = 5   # Movie length in seconds\n",
        "fftMov = fftMovie(aha, num_frames=30*movie_dur, sample_rate=fs)\n",
        "fftMov"
      ],
      "metadata": {
        "id": "PBAPTiZK2z7d"
      },
      "execution_count": null,
      "outputs": []
    },
    {
      "cell_type": "markdown",
      "source": [
        "## For now, let's magically add audio to the animation\n",
        "\n",
        "Not going into the details of how this works, right now."
      ],
      "metadata": {
        "id": "g2knC8Nf4T4E"
      }
    },
    {
      "cell_type": "code",
      "source": [
        "def animWithSound(anim_frames, audio_data, sample_rate=44100):\n",
        "  # This is just a hack to create unique filenames (based on the current timestamp)\n",
        "  dt_suffix = str( int( np.datetime64('now').astype(np.timedelta64) / np.timedelta64(1, 's') ) ) # Current date/time in seconds\n",
        "  anim_filename = 'temp_anim_' + dt_suffix + '.mp4'\n",
        "  audio_filename = 'temp_audio_' + dt_suffix + '.wav'\n",
        "  output_filename = 'temp+sound_' + dt_suffix + '.mp4'\n",
        "  \n",
        "  anim_frames.save(anim_filename)\n",
        "  sf.write(audio_filename, audio_data, sample_rate)\n",
        "  !ffmpeg -i $anim_filename -i $audio_filename -map 0 -map 1:a -c:v copy -shortest $output_filename -hide_banner -loglevel error\n",
        "  return output_filename  # Return the filename of the temp output"
      ],
      "metadata": {
        "id": "3W11gLW34TEx"
      },
      "execution_count": null,
      "outputs": []
    },
    {
      "cell_type": "code",
      "source": [
        "fftMov_file = animWithSound(fftMov, aha[:fs*movie_dur], fs)\n",
        "ipd.Video(fftMov_file, embed=True)"
      ],
      "metadata": {
        "id": "smJ9n8wL4ZMw"
      },
      "execution_count": null,
      "outputs": []
    },
    {
      "cell_type": "markdown",
      "source": [
        "# A different view of the same data: *spectrogram*"
      ],
      "metadata": {
        "id": "xQkIRfF2yxnJ"
      }
    },
    {
      "cell_type": "code",
      "source": [
        "from scipy import signal\n",
        "\n",
        "f1, t1, Sxx = signal.spectrogram(aha, fs, window='hann', nperseg=882, noverlap=441, nfft=1024)\n",
        "#f1, t1, Sxx = signal.spectrogram(aha, fs, window='bartlett', nperseg=882, noverlap=441, nfft=1024)\n",
        "\n",
        "fig = plt.figure(figsize=(16,6))\n",
        "\n",
        "plt.pcolormesh(t1, f1, 20*np.log10(np.abs(Sxx))) #, shading='gouraud')\n",
        "plt.ylabel('Frequency (Hz)')\n",
        "plt.xlabel('Time (sec)')\n",
        "\n",
        "#plt.xlim(0,4)\n",
        "#plt.ylim(0,5000)\n",
        "\n",
        "plt.show()\n",
        "ipd.Audio(aha,rate=fs)"
      ],
      "metadata": {
        "id": "8M-cLnrDyw5V"
      },
      "execution_count": null,
      "outputs": []
    }
  ]
}