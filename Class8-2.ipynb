{
  "cells": [
    {
      "cell_type": "markdown",
      "metadata": {
        "id": "view-in-github",
        "colab_type": "text"
      },
      "source": [
        "<a href=\"https://colab.research.google.com/github/youngmoo/ECES-435/blob/main/Class8-2.ipynb\" target=\"_parent\"><img src=\"https://colab.research.google.com/assets/colab-badge.svg\" alt=\"Open In Colab\"/></a>"
      ]
    },
    {
      "cell_type": "markdown",
      "metadata": {
        "id": "qHxN8R_ItyXz"
      },
      "source": [
        "# **ECES-435: Class 8.2**\n",
        "\n",
        "**Announcements**\n",
        "* Code for your Final Project will be due Monday, Nov. 21\n",
        "* The perceptual tests will be released on Monday, Nov. 28 (right after Thanksgiving break)\n",
        "  * Will take 1/2 hour to an hour\n",
        "  * Due in 24 hours\n",
        "* Final project writeup due at end of Finals Week \n",
        "  * Report template will be available next week"
      ]
    },
    {
      "cell_type": "markdown",
      "source": [
        "# **Final Project: Codec Evaluator**"
      ],
      "metadata": {
        "id": "NyP9DhL1-Fl_"
      }
    },
    {
      "cell_type": "code",
      "source": [
        "#@title Provided imports\n",
        "\n",
        "import soundfile as sf\n",
        "import IPython.display as ipd\n",
        "import numpy as np\n",
        "from scipy import signal\n",
        "import time\n",
        "import pickle"
      ],
      "metadata": {
        "id": "1XymhqaL84dX"
      },
      "execution_count": null,
      "outputs": []
    },
    {
      "cell_type": "code",
      "source": [
        "#@title Mount Google Drive to access audio samples\n",
        "from google.colab import drive\n",
        "drive.mount('/content/drive')"
      ],
      "metadata": {
        "id": "q9B-TsMj9bTY"
      },
      "execution_count": null,
      "outputs": []
    },
    {
      "cell_type": "code",
      "source": [
        "load_path_1 = '/content/drive/MyDrive/eces435-work/Labs/Lab5/data/CoolSong_mono.wav'\n",
        "load_path_2 = '/content/drive/MyDrive/eces435-work/Labs/Lab5/data/WildSong_mono.wav'\n",
        "load_path_3 = '/content/drive/MyDrive/eces435-work/Labs/Lab5/data/ChillSong_mono.wav'\n",
        "paths = [load_path_1,load_path_2,load_path_3]"
      ],
      "metadata": {
        "id": "5lq4-sZd9c3k"
      },
      "execution_count": null,
      "outputs": []
    },
    {
      "cell_type": "markdown",
      "source": [
        "## Load audio files into list `y`\n",
        "* This loads the first 20 seconds only"
      ],
      "metadata": {
        "id": "NPdGwsLM9fPl"
      }
    },
    {
      "cell_type": "code",
      "source": [
        "y = []\n",
        "fs = []\n",
        "dur = 20    # Load first 20 seconds\n",
        "\n",
        "for p in paths:\n",
        "  y_i, fs_i = sf.read(p)\n",
        "  y_i = np.float16(y_i) #This will make sure that the audio you are comparing with for the project is 16 bit\n",
        "  display(ipd.Audio(y_i[0:fs_i*dur], rate=fs_i))\n",
        "  y.append(y_i[0:fs_i*dur])\n",
        "  fs.append(fs_i)"
      ],
      "metadata": {
        "id": "RrARysrR9erj"
      },
      "execution_count": null,
      "outputs": []
    },
    {
      "cell_type": "markdown",
      "source": [
        "## Your Codec System\n",
        "\n",
        "*Your code goes here*"
      ],
      "metadata": {
        "id": "RBTEmMiH9mgd"
      }
    },
    {
      "cell_type": "code",
      "source": [
        "#@title Your IMPORTS\n",
        "'''\n",
        "If you use any additional imports put them in this cell,\n",
        "along with a comment about why you're using it\n",
        "(what's its purpose?)\n",
        "'''\n"
      ],
      "metadata": {
        "id": "D6yLgsu79kBu"
      },
      "execution_count": null,
      "outputs": []
    },
    {
      "cell_type": "code",
      "source": [
        "#@title Your ENCODER \n",
        "\n",
        "def encode(y, fs): \n",
        "  #Paste Encoder Code here. Inputs and Outputs MUST be the same as seen here.\n",
        "  \n",
        "  f1, t1, X = signal.stft(y, 44100, nperseg=1024, noverlap=512, nfft=1024)\n",
        "  n_freqs, n_frames = np.shape(X)\n",
        "  N_c = 60\n",
        "\n",
        "  X_mag = np.abs(X)\n",
        "  x_sortIdx = np.argsort(X_mag, axis=0)\n",
        "  \n",
        "  fft_idx = np.int16(x_sortIdx[-N_c:,:])\n",
        "  fft_real = np.zeros([N_c, n_frames], dtype='float16')\n",
        "  fft_imag = np.zeros([N_c, n_frames], dtype='float16')\n",
        "\n",
        "  for n in range(n_frames):\n",
        "    X_sort = X[fft_idx[:,n], n]\n",
        " \n",
        "    fft_real[:,n] = np.real(X_sort)\n",
        "    fft_imag[:,n] = np.imag(X_sort)\n",
        "\n",
        "  y_compressed = [fft_idx, fft_real, fft_imag]\n",
        "  return y_compressed              "
      ],
      "metadata": {
        "id": "WV2Sdfb89pzY"
      },
      "execution_count": null,
      "outputs": []
    },
    {
      "cell_type": "code",
      "source": [
        "#@title Your DECODER\n",
        "\n",
        "def decode(y_compressed):\n",
        "  #Paste Decoder Code here. Inputs and Outputs MUST be the same as seen here.\n",
        "\n",
        "  fft_idx = y_compressed[0]\n",
        "  fft_real = y_compressed[1]\n",
        "  fft_imag = y_compressed[2]\n",
        "\n",
        "  n_freqs, n_frames = np.shape(fft_idx)\n",
        "  X_c = 1j * np.zeros([513, n_frames])\n",
        "\n",
        "  for n in range(n_frames):\n",
        "    X_c[fft_idx[:,n],n] = fft_real[:,n] + 1j*fft_imag[:,n]\n",
        "\n",
        "  t_c, y_reconstructed = signal.istft(X_c, 44100, nperseg=1024, noverlap=512, nfft=1024)\n",
        "\n",
        "  return y_reconstructed"
      ],
      "metadata": {
        "id": "af2WJHhP9sPf"
      },
      "execution_count": null,
      "outputs": []
    },
    {
      "cell_type": "markdown",
      "source": [
        "## Test Your Codec"
      ],
      "metadata": {
        "id": "5anUFPva9xew"
      }
    },
    {
      "cell_type": "code",
      "source": [
        "#@title Run Codec on Audio Samples\n",
        "ert_ave = 0\n",
        "drt_ave = 0\n",
        "\n",
        "y_compressed = []\n",
        "y_reconstructed = []\n",
        "# S_reconstructed = []\n",
        "\n",
        "for i in [0,1,2]:                       # Loops through the test audio samples\n",
        "  sample = y[i]\n",
        "  rate = fs[i]\n",
        "\n",
        "  encodeStartTime = time.time()         # Starts the execution timer\n",
        "  y_compressed_i = encode(sample,rate)  # Encode the audio sample\n",
        "  ert = time.time() - encodeStartTime   # Saves the encoder execution time\n",
        "  y_compressed.append(y_compressed_i)\n",
        "\n",
        "  decodeStartTime = time.time()         # Start the execution timer\n",
        "  y_reconstructed_i = decode(y_compressed_i)  # Decode the compressed audio\n",
        "  drt = time.time() - decodeStartTime   # Saves the decoder execution time\n",
        "\n",
        "  y_reconstructed.append(y_reconstructed_i)\n",
        "  \n",
        "  ert_ave += ert                        # Sum the encode exectution time\n",
        "  drt_ave += drt                        # Sum the decode execution time\n",
        "\n",
        "ert_ave /= 3                            # Average encode execution times\n",
        "drt_ave /= 3                            # Average decode execution times\n",
        "print(ert_ave)\n",
        "print(drt_ave)"
      ],
      "metadata": {
        "id": "Bwm5vQwD9vcu"
      },
      "execution_count": null,
      "outputs": []
    },
    {
      "cell_type": "code",
      "source": [
        "#@title Compute Compression Ratio\n",
        "\n",
        "def compression(song, song_compressed):\n",
        "  Size_y = len(pickle.dumps(song))\n",
        "  print('Size of original file: ', Size_y)\n",
        "  Size_y_compressed = len(pickle.dumps(song_compressed))\n",
        "  print('Size of compressed file: ', Size_y_compressed)\n",
        "  Comp_Ratio = Size_y_compressed / Size_y\n",
        "  print('Compression ratio: ', Comp_Ratio)\n",
        "  \n",
        "  return Comp_Ratio\n",
        "\n",
        "comp_ave = 0\n",
        "\n",
        "for i in [0,1,2]:\n",
        "  Compression_Ratio = compression(y[i], y_compressed[i])\n",
        "  comp_ave += Compression_Ratio\n",
        "\n",
        "comp_ave /= 3\n",
        "print(\"Average Compression Ratio: \", comp_ave)"
      ],
      "metadata": {
        "id": "I2McRPoq92In"
      },
      "execution_count": null,
      "outputs": []
    },
    {
      "cell_type": "code",
      "source": [
        "#@title Compute SNR\n",
        "\n",
        "def SNR(original, output):\n",
        "    # Normalize\n",
        "    # original = original/np.max(np.abs(original)) # Normalize to -1 to 1\n",
        "    # output =  output/np.max(np.abs(output)) # Normalize to -1 to 1\n",
        "    \n",
        "    # Find the shorter of the original vs. output\n",
        "    L = min(len(original), len(output))\n",
        "\n",
        "    # Compute SNR\n",
        "    noise = original[:L] - output[:L]\n",
        "    \n",
        "    powS = np.mean(original**2)\n",
        "    powN = np.mean(noise**2)\n",
        "\n",
        "    snr = powS/powN\n",
        "    snr = 10*np.log10(snr)\n",
        "    return snr\n",
        "\n",
        "snr_ave = 0\n",
        "\n",
        "for i in [0,1,2]:\n",
        "  snr = SNR(y[i],y_reconstructed[i])\n",
        "  print(\"SNR for compressed audio: \", snr)\n",
        "\n",
        "  snr_ave += snr\n",
        "\n",
        "snr_ave /= 3\n",
        "print(\"Average SNR: \", snr_ave)"
      ],
      "metadata": {
        "id": "-PPIuKPe939E"
      },
      "execution_count": null,
      "outputs": []
    },
    {
      "cell_type": "markdown",
      "source": [
        "## Codec Overall Scores"
      ],
      "metadata": {
        "id": "Bz5-vAHN99BG"
      }
    },
    {
      "cell_type": "code",
      "source": [
        "#@title Display Overall Codec Results\n",
        "print(\"Results Averaged over Three Test Samples:\")\n",
        "print(\"--------------------------------------------\")\n",
        "print(\"Avg. Compression Ratio\")\n",
        "print(comp_ave)\n",
        "print()\n",
        "print(\"Avg. SNR\")\n",
        "print(snr_ave)\n",
        "print()\n",
        "print(\"Avg. Run Time \")\n",
        "print(\"Encode:\", ert, \"      Decode:\", drt)\n",
        "print()\n",
        "print(\"Audio for Perception Test\")\n",
        "display(ipd.Audio(y_reconstructed[0], rate=fs[0]))\n",
        "display(ipd.Audio(y_reconstructed[1], rate=fs[1]))\n",
        "display(ipd.Audio(y_reconstructed[2], rate=fs[2]))"
      ],
      "metadata": {
        "id": "hJLH4mAg98OC"
      },
      "execution_count": null,
      "outputs": []
    },
    {
      "cell_type": "markdown",
      "metadata": {
        "id": "ljWJhD2HwY3v"
      },
      "source": [
        "# Setup\n",
        "The usual modules..."
      ]
    },
    {
      "cell_type": "code",
      "execution_count": null,
      "metadata": {
        "id": "JrrK2TXwV4mp"
      },
      "outputs": [],
      "source": [
        "import numpy as np\n",
        "import matplotlib.pyplot as plt\n",
        "import IPython.display as ipd\n",
        "import soundfile as sf\n",
        "from matplotlib import animation, rc\n",
        "from scipy import signal\n",
        "import numpy.fft as fft\n",
        "import pickle\n",
        "import matplotlib.patches as patches\n",
        "import matplotlib.colors\n",
        "import matplotlib.cm\n",
        "\n",
        "rc('animation', html='jshtml')\n",
        "rc('animation', embed_limit=2**30)\n",
        "\n",
        "path = '/content/drive/My Drive/eces435-work/class8.1/'"
      ]
    },
    {
      "cell_type": "code",
      "execution_count": null,
      "metadata": {
        "id": "QUiMfqMhOWCI"
      },
      "outputs": [],
      "source": [
        "# CHANGE THIS to your Drexel username!!\n",
        "username = 'ub40'"
      ]
    },
    {
      "cell_type": "code",
      "execution_count": null,
      "metadata": {
        "id": "7f-OzFc_mN4w"
      },
      "outputs": [],
      "source": [
        "from google.colab import drive\n",
        "drive.mount('/content/drive')"
      ]
    },
    {
      "cell_type": "markdown",
      "metadata": {
        "id": "qw76fQQBw3rZ"
      },
      "source": [
        "## My plot style defaults"
      ]
    },
    {
      "cell_type": "code",
      "execution_count": null,
      "metadata": {
        "id": "NE9dlTZIwt_e"
      },
      "outputs": [],
      "source": [
        "from matplotlib import rc\n",
        "\n",
        "rc('figure', figsize=(12,4))\n",
        "rc('figure', facecolor='#aaaaaa')     # Better figure background for dark mode\n",
        "\n",
        "rc('font', family='Liberation Serif') # Nicer font\n",
        "rc('font', size=20)                   # Larger font size for labels"
      ]
    },
    {
      "cell_type": "markdown",
      "source": [
        "# Psychoacoustic Masking"
      ],
      "metadata": {
        "id": "m0p5z_rV_tnl"
      }
    },
    {
      "cell_type": "code",
      "source": [
        "def ptcAnimFunc(f_num):\n",
        "  # global out\n",
        "  \n",
        "  # print(f_num)\n",
        "  freqs = np.arange(100,3000,250)\n",
        "  f_c = freqs[f_num]\n",
        "\n",
        "  fs = 44100\n",
        "\n",
        "  A0 = 0.01\n",
        "  f0 = 1000\n",
        "  t = np.arange(fs) / fs\n",
        "  N = len(t)\n",
        "  win = np.hanning(N)\n",
        "  s0 = A0 * np.sin(2*np.pi*f0*t) * win\n",
        "  n_fft = N\n",
        "\n",
        "  noise = np.random.uniform(-1, 1, N)\n",
        "  f1 = max(f_c - 100, 1.0 ) / (fs/2)\n",
        "  f2 = (f_c + 100) / (fs/2)\n",
        "  B,A  = signal.butter(2, [f1,f2], btype='bandpass')\n",
        "  n_f = signal.lfilter(B,A,noise) * win\n",
        "  x_n = s0 + n_f\n",
        "  # out = np.append(out, x_n)\n",
        "\n",
        "  X_n = np.fft.fft(x_n * win, n_fft)  # The FFT of the current frame (windowed)\n",
        "  N = len(X_n)\n",
        "  f = np.arange(N) * fs / N\n",
        "  X_mag = 4*np.abs(X_n) / n_fft   # Frequency magnitude, normalized by length\n",
        "                                  #    x2 because cos(w) = 0.5e^jw + 0.5e^-jw\n",
        "                                  #    x2 because hanning window has 0.5 average\n",
        "  X_mag += 1.0e-15                # Add a very small offset to avoid log(0) errors\n",
        "  X_dBFS = 20*np.log10(X_mag)     # Freq. magnitude in dB full scale (dB FS):\n",
        "                                  #    cos(w) -> 0 dBFS peak at w\n",
        "  fftLine.set_data(f, X_dBFS)\n",
        "  return fftLine,"
      ],
      "metadata": {
        "id": "TkvjFmHeLwvS"
      },
      "execution_count": null,
      "outputs": []
    },
    {
      "cell_type": "code",
      "source": [
        "def ptc():\n",
        "  fs = 44100\n",
        "  A0 = 0.01\n",
        "  f0 = 1000\n",
        "  t = np.arange(fs) / fs\n",
        "  N = len(t)\n",
        "  win = np.hanning(N)\n",
        "  s0 = A0 * np.sin(2*np.pi*f0*t) * win\n",
        "  noise = np.random.uniform(-1, 1, N)\n",
        "  out = np.zeros(1)\n",
        "  \n",
        "  for f_c in np.arange(100,3000,250):  \n",
        "    f1 = max(f_c - 100, 1.0 ) / (fs/2)\n",
        "    f2 = (f_c + 100) / (fs/2)\n",
        "    B,A  = signal.butter(2, [f1,f2], btype='bandpass')\n",
        "    n_f = signal.lfilter(B,A,noise) * win\n",
        "    x_n = s0 + n_f\n",
        "    out = np.append(out, x_n)\n",
        "\n",
        "  return out"
      ],
      "metadata": {
        "id": "tKTCUabOVRic"
      },
      "execution_count": null,
      "outputs": []
    },
    {
      "cell_type": "code",
      "source": [
        "# Set up the figure, the axis, and the plot element we want to animate\n",
        "x_lim=[0, 22050]\n",
        "y_lim=[-120,5]\n",
        "out = np.zeros(1)\n",
        "fs = 44100\n",
        "\n",
        "fftFig = plt.figure()\n",
        "ax = plt.axes(xlim=x_lim, ylim=y_lim)\n",
        "fftLine, = ax.plot([], [], linewidth=2)\n",
        "\n",
        "plt.xlabel('Frequency (Hz)')\n",
        "plt.ylabel('Magnitude (dB FS)')\n",
        "fftFig.tight_layout()\n",
        "plt.close()             # Close the plot, so we don't get an extra figure added on\n",
        "\n",
        "# Call the animation iterator (FuncAnimation)\n",
        "animation.FuncAnimation(fftFig, ptcAnimFunc, frames=12, blit=True)"
      ],
      "metadata": {
        "id": "Q8utTsQbMUhb"
      },
      "execution_count": null,
      "outputs": []
    },
    {
      "cell_type": "code",
      "source": [
        "out = ptc()\n",
        "ipd.Audio(out, rate=fs)"
      ],
      "metadata": {
        "id": "MsnzhOpXWSA1"
      },
      "execution_count": null,
      "outputs": []
    }
  ],
  "metadata": {
    "colab": {
      "collapsed_sections": [
        "qw76fQQBw3rZ"
      ],
      "provenance": [],
      "toc_visible": true,
      "include_colab_link": true
    },
    "kernelspec": {
      "display_name": "Python 3",
      "name": "python3"
    }
  },
  "nbformat": 4,
  "nbformat_minor": 0
}