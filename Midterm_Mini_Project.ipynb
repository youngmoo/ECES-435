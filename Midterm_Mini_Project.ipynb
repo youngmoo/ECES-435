{
  "nbformat": 4,
  "nbformat_minor": 0,
  "metadata": {
    "colab": {
      "provenance": [],
      "collapsed_sections": [],
      "toc_visible": true,
      "include_colab_link": true
    },
    "kernelspec": {
      "name": "python3",
      "display_name": "Python 3"
    },
    "language_info": {
      "name": "python"
    }
  },
  "cells": [
    {
      "cell_type": "markdown",
      "metadata": {
        "id": "view-in-github",
        "colab_type": "text"
      },
      "source": [
        "<a href=\"https://colab.research.google.com/github/youngmoo/ECES-435/blob/main/Midterm_Mini_Project.ipynb\" target=\"_parent\"><img src=\"https://colab.research.google.com/assets/colab-badge.svg\" alt=\"Open In Colab\"/></a>"
      ]
    },
    {
      "cell_type": "markdown",
      "source": [
        "# Midterm Mini-Project Overview: Audio Codec\n",
        "\n",
        "In this mini-project you will compress (encode) a music file by saving only select frequencies in the STFT. You will report the compression ratio and observe how it changes for different encoding parameters. Then you will build a decoder for the compressed data and compare your decoded version to the original. "
      ],
      "metadata": {
        "id": "7HmWjaKyjoSc"
      }
    },
    {
      "cell_type": "markdown",
      "metadata": {
        "id": "0SyWV0NZqihH"
      },
      "source": [
        "## Set Up Your Colab Enviornment"
      ]
    },
    {
      "cell_type": "markdown",
      "metadata": {
        "id": "jCDKfwvgp8Da"
      },
      "source": [
        "\n",
        "First, mount Google Drive so that you can access the shared class drive and files. (You may want to check the notebooks from lecture for a reminder of how this is done.)"
      ]
    },
    {
      "cell_type": "code",
      "execution_count": null,
      "metadata": {
        "colab": {
          "base_uri": "https://localhost:8080/"
        },
        "id": "FeOyEWz1k6zm",
        "outputId": "8bc0b4ab-c3fe-45b8-ea74-22a55f464224"
      },
      "outputs": [
        {
          "output_type": "stream",
          "name": "stdout",
          "text": [
            "Mounted at /content/drive\n"
          ]
        }
      ],
      "source": [
        "from google.colab import drive\n",
        "drive.mount('/content/drive')"
      ]
    },
    {
      "cell_type": "markdown",
      "metadata": {
        "id": "N9e4v2S4m5s8"
      },
      "source": [
        "Import the libraries you'll be using:\n",
        "\n",
        "\n",
        "*   `soundfile as sf` for audio signal processing\n",
        "*   `IPython.display as ipd ` for audio playback\n",
        "*   `matplotlib as rc` for figure customization\n",
        "*   `matplotlib.pyplot as plt` for plotting\n",
        "*   `numpy as np` for some math functions\n",
        "* `scipy` for STFT calculations\n",
        "* from `scipy` import `signal` for STFT calculations\n",
        "* `time` for getting compute time of cells and functions\n",
        "* `sys` and `pickle` to find the size of an object and serialize the data"
      ]
    },
    {
      "cell_type": "code",
      "execution_count": null,
      "metadata": {
        "id": "0um89XU4nS5p"
      },
      "outputs": [],
      "source": [
        "#Your code here\n",
        "import soundfile as sf\n",
        "import IPython.display as ipd\n",
        "import matplotlib as rc\n",
        "import matplotlib.pyplot as plt\n",
        "import numpy as np\n",
        "import scipy\n",
        "from scipy import signal\n",
        "import time\n",
        "import sys\n",
        "import pickle"
      ]
    },
    {
      "cell_type": "markdown",
      "metadata": {
        "id": "iwqQ53Wtnja9"
      },
      "source": [
        "Tip: To quickly view documentation for a function, you can use the help function. See below."
      ]
    },
    {
      "cell_type": "code",
      "execution_count": null,
      "metadata": {
        "id": "4PauIZPTn4cm"
      },
      "outputs": [],
      "source": [
        "#help(ipd.Audio)"
      ]
    },
    {
      "cell_type": "markdown",
      "metadata": {
        "id": "Y-4mN-1pT66S"
      },
      "source": [
        "Tip: To quickly and neatly hide code cell outputs, press Ctrl + C + M + O (for Windows) or Cmnd + C + M + O (for Mac)."
      ]
    },
    {
      "cell_type": "markdown",
      "source": [
        "## Load the Test Audio for the Mini-Project\n",
        "\n",
        "In this mini project you are given 3 mono test files. \n",
        "\n",
        "Remember your mini-project will be evaluated on two other files that we haven't given you, so we encourage you to try all test samples and make sure that your Codec works for any sample we could give it. \n"
      ],
      "metadata": {
        "id": "W_s5OhIB0_89"
      }
    },
    {
      "cell_type": "code",
      "source": [
        "load_path_1 = '/content/drive/MyDrive/eces435-work/Labs/Lab5/data/CoolSong_mono.wav'\n",
        "load_path_2 = '/content/drive/MyDrive/eces435-work/Labs/Lab5/data/WildSong_mono.wav'\n",
        "load_path_3 = '/content/drive/MyDrive/eces435-work/Labs/Lab5/data/ChillSong_mono.wav'"
      ],
      "metadata": {
        "id": "x-eJWHxQ1Bqa"
      },
      "execution_count": null,
      "outputs": []
    },
    {
      "cell_type": "code",
      "source": [
        "y, fs = sf.read(load_path_3)\n",
        "y = np.float16(y) #This will make sure that the audio you are comparing with for the project is 16 bit\n",
        "ipd.Audio(y, rate=fs)"
      ],
      "metadata": {
        "id": "oliK5D2zJRQ7"
      },
      "execution_count": null,
      "outputs": []
    },
    {
      "cell_type": "code",
      "source": [
        "print(type(y))\n",
        "print(type(y[0]))"
      ],
      "metadata": {
        "id": "zqPmo8g7o-mC"
      },
      "execution_count": null,
      "outputs": []
    },
    {
      "cell_type": "markdown",
      "source": [
        "# Part 1: Encoder Design\n",
        "\n",
        "To compress a music excerpt, you will save only select frequencies occurring at a given time. This is an example of lossy compression––the song will certainly be losing some information. But the hope is that perceptually relevant info is getting saved.\n",
        "\n",
        "To do this you will create an audio `encode()` function. The goal of your encoder is as follows:\n",
        "\n",
        "* Take in audio and compute the STFT\n",
        "* For each column/time-step in the STFT (remember each column is a DFT for that time window), pick $n$ frequencies which contribute the most relevant information to the audio\n",
        "* You must determine how to choose which frequencies and the number of frequencies to save.\n",
        "  * You might try frequencies with the highest magnitude...or maybe another strategy could provide better audio quality.\n",
        "* Save the relevant information from the STFT for each frequency contribution:\n",
        "  * Remember, the frequency weights are complex. You could save real and imaginary parts (or magnitude and phase) for each frequency.\n",
        "  * Be sure to also save the index of these frequencies (so that your decoder can reconstruct the STFT).\n",
        "* Output a data structure that contains all the encoded information necessary to decode the audio, so that for each time step you have $n$ frequency contributions saved as an index, and then the relevant frequency information\n",
        "\n",
        "<br>\n",
        "\n",
        "You could encode the audio in a variety of ways to increase compression, sound quality, or compute time. Try varying things like $n$ (the number of frequencies you save) and the way you choose relevant frequencies, and find the optimal encoder system. Feel free to refine this even more as you build the decoder."
      ],
      "metadata": {
        "id": "bf8W4-TdkVaI"
      }
    },
    {
      "cell_type": "markdown",
      "source": [
        "## 1. Compute STFT\n",
        "\n",
        "First, use `signal.stft` to compute the Short-time Fourier Transform (STFT) of the song and store it in the variable S."
      ],
      "metadata": {
        "id": "HGVyT-JhnKXt"
      }
    },
    {
      "cell_type": "code",
      "source": [
        "n_fft = \n",
        "n_win = \n",
        "n_hop = \n",
        "f1, t1, S = signal.stft()"
      ],
      "metadata": {
        "id": "D5HoR9KenH_B"
      },
      "execution_count": null,
      "outputs": []
    },
    {
      "cell_type": "markdown",
      "source": [
        "Use the code below to plot the STFT."
      ],
      "metadata": {
        "id": "PRQ4c7raq_B0"
      }
    },
    {
      "cell_type": "code",
      "source": [
        "fig = plt.figure(figsize=(20,8))\n",
        "S_mag = np.abs(S)\n",
        "S_dB = 20*np.log10(S_mag)\n",
        "plt.pcolormesh(t1, f1, S_dB)\n",
        "plt.ylabel('Frequency (Hz)')\n",
        "plt.xlabel('Time (sec)')"
      ],
      "metadata": {
        "id": "BX4TWDNf6OOb"
      },
      "execution_count": null,
      "outputs": []
    },
    {
      "cell_type": "markdown",
      "source": [
        "What are the dimensions of S? Which dimension is for frequency, which for time bins? \n",
        "\n",
        "**Your response here:**\n",
        "\n"
      ],
      "metadata": {
        "id": "MWXe0c4FnXtI"
      }
    },
    {
      "cell_type": "code",
      "source": [
        "#Your code here"
      ],
      "metadata": {
        "id": "nduCD9RP6P-b"
      },
      "execution_count": null,
      "outputs": []
    },
    {
      "cell_type": "markdown",
      "source": [
        "## 2. Create the Encoder\n",
        "Create a function `encode(y)` which performs the encoding task described above. The inputs should be `y `(time domain audio signal)  and `fs` (sample rate) and the output should be `y_compressed` (the data necessary to reconstruct the encoded audio for each STFT frame, and any other information your decoder needs).\n",
        "\n",
        "Inside this function you can try various tequniques to encode the audio, like changing $n$ or your frequency peak picking strategy.\n",
        "\n",
        "*Hint:* The output of signal.stft is a matrix of Python complex numbers. Complex numbers in Python are 128-bits (64-bit floating point numbers for both the real and imaginary components). You don't necessarily need to quantize at such a high resolution (it will definitly affect your compression ratio). Try using `dtype = ` to control the type of data and number of bits used for different elements of `y_compressed`.\n",
        "* [List of NumPy standard data types](https://numpy.org/doc/stable/user/basics.types.html)"
      ],
      "metadata": {
        "id": "sgL86kKLndFh"
      }
    },
    {
      "cell_type": "code",
      "source": [
        "'''\n",
        "Some examples of changing the dtype\n",
        "'''\n",
        "\n",
        "#Setting dtype when creating an array:\n",
        "example_1 = np.zeros((10,10), dtype = 'float16') #Use dtype = 'type'\n",
        "example_1_datatype = type(example_1[0,0]) #Looking at the type of an element in the array (example_1 is type 'numpy.ndarray')\n",
        "print('Element [0,0] of example_1 is ', example_1[0,0], ' a ', example_1_datatype )\n",
        "\n",
        "#Changing dtype of an existing item\n",
        "example_1_f = np.int16(example_1) #Use np.'type'()\n",
        "example_1_f_datatype = type(example_1_f[0,0]) \n",
        "print('Element [0,0] of example_1_f is ', example_1_f[0,0], ' a ', example_1_f_datatype )"
      ],
      "metadata": {
        "colab": {
          "base_uri": "https://localhost:8080/"
        },
        "id": "DKOBS5ScLzwT",
        "outputId": "181d4911-01cb-4e11-cac2-6ce9cc3507e2"
      },
      "execution_count": null,
      "outputs": [
        {
          "output_type": "stream",
          "name": "stdout",
          "text": [
            "Element [0,0] of example_1 is  0.0  a  <class 'numpy.float16'>\n",
            "Element [0,0] of example_1_f is  0  a  <class 'numpy.int16'>\n"
          ]
        }
      ]
    },
    {
      "cell_type": "code",
      "source": [
        "def encode(y, fs): #input is audio and sample rate\n",
        "    f1, t1, S = signal.stft()\n",
        "\n",
        "    y_compressed =  [indices, values, ...]\n",
        "    return y_compressed                          #return all information needed for the decoder you will build"
      ],
      "metadata": {
        "id": "UXezeZXsrhb9"
      },
      "execution_count": null,
      "outputs": []
    },
    {
      "cell_type": "markdown",
      "source": [
        "## 3. Encode the Audio\n",
        "\n",
        "Encode your sample and save the output to `y_compressed`.\n"
      ],
      "metadata": {
        "id": "eOAz5Q6eySoi"
      }
    },
    {
      "cell_type": "code",
      "source": [
        "#Your code here\n",
        "y_compressed = encode(y,fs)"
      ],
      "metadata": {
        "id": "QC95aQNHybxY"
      },
      "execution_count": null,
      "outputs": []
    },
    {
      "cell_type": "markdown",
      "source": [
        "### Compression Ratio\n",
        "You will be using the compression ratio to test the performance of your encoder. So, go ahead and compute it with your current settings and then you may want to experiment to obtain a better compression ratio. <br>\n",
        "\n",
        "Compression ratio is the compressed size over the original size (so that it is a percentage of the original size - smaller will be better).\n",
        "\n",
        "To find the size of a Python object, we first serialize the object into a string of bytes using `pickle.dumps()` and then get its size using `sys.getsizeof()`.\n",
        "\n",
        "For instance to get the size of an array x, do: `sys.getsizeof(pickle.dumps(x))`\n",
        "\n",
        "Reminder: The original audio y you compare to should be 16 bit audio. This should have been taken care of when you loaded in `y` but you can double check the type of a python item using `type()`. The type of `y_compressed` depends on your encdoder. \n"
      ],
      "metadata": {
        "id": "BMDUHFC-Kzzo"
      }
    },
    {
      "cell_type": "code",
      "source": [],
      "metadata": {
        "id": "FnRDAw26OAD_"
      },
      "execution_count": null,
      "outputs": []
    },
    {
      "cell_type": "code",
      "source": [
        "#Your code here\n",
        "Size_y = sys.getsizeof(pickle.dumps(y))\n",
        "print('Size of the original file: ', Size_y)\n",
        "Size_y_compressed = \n",
        "print('Size of the compressed file: ', Size_y_compressed)\n",
        "Compression_Ratio ="
      ],
      "metadata": {
        "id": "oWjre-LzLZYc"
      },
      "execution_count": null,
      "outputs": []
    },
    {
      "cell_type": "markdown",
      "source": [
        "#Part 2: Decoder Design\n",
        "\n",
        "Now you will create a function to decode the encoded signal in `y_compressed`. Remember that the encoding was made by keeping only information from certain frequencies and indices that tell you which frequency the data belongs to.\n",
        "\n",
        "Reconstruct the approximated STFT from your compressed data. Then you can perform an inverse short-time Fourier transform (ISTFT) to get back to time domain audio.\n"
      ],
      "metadata": {
        "id": "1KwVdfAcJmRq"
      }
    },
    {
      "cell_type": "markdown",
      "source": [
        "## 4. Create the Decoder\n",
        "\n",
        "Create a function `decode() ` which takes in the output of the encoder `encode()`  (`y_compressed`) and outputs `S_reconstructed` (the STFT reconstruction which you will use to plot the STFT after compression) and `y_reconstructed` (the audio reconstructed using `signal.istft()`)\n"
      ],
      "metadata": {
        "id": "0yfosRzMO7VV"
      }
    },
    {
      "cell_type": "code",
      "source": [
        "def decode(y_compressed):\n",
        "    \n",
        "    return S_reconstructed, y_reconstructed"
      ],
      "metadata": {
        "id": "Wh3lPwOyxJzV"
      },
      "execution_count": null,
      "outputs": []
    },
    {
      "cell_type": "code",
      "source": [
        "#Decode y_compressed here\n",
        "S_reconstructed, y_reconstructed = decode(y_compressed)"
      ],
      "metadata": {
        "id": "CPHq8ZC99yPF"
      },
      "execution_count": null,
      "outputs": []
    },
    {
      "cell_type": "markdown",
      "source": [
        "## 5. Plot the Reconstructed STFT\n",
        "\n",
        "Plot S_reconstructed using the code below. Compare it to the original to see how much information you are saving in y_compressed vs the original signal."
      ],
      "metadata": {
        "id": "McfNtABCLh76"
      }
    },
    {
      "cell_type": "code",
      "source": [
        "fig = plt.figure(figsize=(20,8))\n",
        "S_mag = np.abs(S_reconstructed)\n",
        "S_dB = 20*np.log10(S_mag)\n",
        "plt.pcolormesh(t1, f1, S_dB)\n",
        "plt.ylabel('Frequency (Hz)')\n",
        "plt.xlabel('Time (sec)')"
      ],
      "metadata": {
        "id": "lq9cEZ-B80Ue"
      },
      "execution_count": null,
      "outputs": []
    },
    {
      "cell_type": "markdown",
      "source": [
        "## 6. Listen to the Reconstructed Audio"
      ],
      "metadata": {
        "id": "9-WJh24dPDOn"
      }
    },
    {
      "cell_type": "code",
      "source": [
        "ipd.Audio(y_reconstructed, rate=fs)"
      ],
      "metadata": {
        "id": "HSJAD5hl84Im"
      },
      "execution_count": null,
      "outputs": []
    },
    {
      "cell_type": "markdown",
      "source": [
        "# Part 3: Evaluate your system"
      ],
      "metadata": {
        "id": "CG05-rhboCcm"
      }
    },
    {
      "cell_type": "markdown",
      "source": [
        "For each of the following evaluations (Perception, Compression Ratio, SNR, and Computation Time) report the results for **all three test samples** provided."
      ],
      "metadata": {
        "id": "qtTKxcJ4h-6N"
      }
    },
    {
      "cell_type": "markdown",
      "source": [
        "## 7. Perception\n",
        "\n",
        "First, you will perform a perceptual evaluation. Listen to the original audio clip and then the audio reconstructed using the decoder.\n",
        "\n",
        "Explain the differences you hear. Try a few parameter settings for the encoder and decoder and explain which ones you think affect reconstructed audio quality the most?\n",
        "\n",
        "**Your response here:** <br>\n"
      ],
      "metadata": {
        "id": "jmU_5C7hy19d"
      }
    },
    {
      "cell_type": "markdown",
      "source": [
        "## 8. Compression Ratio\n",
        "Now, compute the compression ratio of this encoder for the given song and report it below. Refer to the instructions in Part 1.\n",
        "\n",
        "Report on the Conpression Ratio of your encoder in the optimal setting you chose and report those settings.\n",
        "\n",
        "**Your response here:** <br>\n",
        "Compression Ratio:\n",
        "\n",
        "Settings Used:\n",
        "* \n",
        "* <br>\n",
        "..."
      ],
      "metadata": {
        "id": "Lg1HM7AuoSMI"
      }
    },
    {
      "cell_type": "code",
      "source": [
        "#Your code here\n"
      ],
      "metadata": {
        "id": "HMf0zT-b9dbf"
      },
      "execution_count": null,
      "outputs": []
    },
    {
      "cell_type": "markdown",
      "source": [
        "## 9. Signal to Noise Ratio (SNR)\n",
        "Signal-to-noise ratio provides a way to measure the similarity between two signals. Use the `SNR()` function provided to compute SNR between `y` and `y_compressed`.\n",
        "Report your SNR below for the optimal Encoder/Decoder and report those settings. <br>\n",
        "\n",
        "<br>\n",
        "\n",
        "**Your response here:** <br>\n",
        "SNR:\n",
        "\n",
        "Settings: \n",
        "* \n",
        "* <br> \n",
        "...\n"
      ],
      "metadata": {
        "id": "SZVccsUcywyk"
      }
    },
    {
      "cell_type": "code",
      "source": [
        "def SNR(original, output):\n",
        "    # Normalize\n",
        "    original = original/np.max(np.abs(original)) # Normalize to -1 to 1\n",
        "    output =  output/np.max(np.abs(output)) # Normalize to -1 to 1\n",
        "    \n",
        "    # Compute SNR\n",
        "    noise = original-output\n",
        "    \n",
        "    powS = np.mean(original**2)\n",
        "    powN = np.mean(noise**2)\n",
        "\n",
        "    snr = powS/powN\n",
        "    snr = 10*np.log10(snr)\n",
        "    return snr"
      ],
      "metadata": {
        "id": "va_9HYUkhuTK"
      },
      "execution_count": null,
      "outputs": []
    },
    {
      "cell_type": "code",
      "source": [
        "#Your code here"
      ],
      "metadata": {
        "id": "vuEWFt_ozavZ"
      },
      "execution_count": null,
      "outputs": []
    },
    {
      "cell_type": "markdown",
      "source": [
        "## 10. Computation Time"
      ],
      "metadata": {
        "id": "s9MDPmo5za8X"
      }
    },
    {
      "cell_type": "markdown",
      "source": [
        "You can time how long your encoder and decoder take to run by using the `%time` command introduced in Lab 4. Use the code below to evalute the Computation Time for your system."
      ],
      "metadata": {
        "id": "-o_8q8raATN5"
      }
    },
    {
      "cell_type": "code",
      "source": [
        "%time encode(y) #Gets runtime for a line in the cell"
      ],
      "metadata": {
        "id": "jkL4NbBfFH1_"
      },
      "execution_count": null,
      "outputs": []
    },
    {
      "cell_type": "code",
      "source": [
        "%time decode(y_compressed) "
      ],
      "metadata": {
        "id": "t-7StRTs41UU"
      },
      "execution_count": null,
      "outputs": []
    },
    {
      "cell_type": "markdown",
      "source": [
        "Report the runtime for the optimal settings you described in the Compression Ratio and SNR section.\n",
        "\n",
        "**Your response here:** <br>\n",
        "* Encoder Time:\n",
        "* Decoder Time:"
      ],
      "metadata": {
        "id": "UiSi6w6Y46cF"
      }
    },
    {
      "cell_type": "markdown",
      "source": [
        "## 11. Answer the following questions.\n",
        "\n",
        "a. How did you choose the parameters for your Encoder and Decoder? Explain the advantages and tradeoffs of your chosen parameters.\n",
        "\n",
        "b. Did you try other numbers to find the optimal settings? How many?\n",
        "\n",
        "\n",
        "**Your responses here:**\n",
        "\n",
        "a.\n",
        "\n",
        "b.\n"
      ],
      "metadata": {
        "id": "6iriTeePob70"
      }
    },
    {
      "cell_type": "markdown",
      "source": [
        "# Completing the Mini-Project\n",
        "\n",
        "To submit this Mini-Project *share the notebook with charis.cochran@excitecenter.org* AND *share the notebook with youngmoo@excitecenter.org* AND *submit the link as a text submission on the Mini-Project assignment on BbLearn* to receive credit for this lab. (ONLY share with charis.cochran@excitecenter.org AND youngmoo@excitecenter.org)\n",
        "\n",
        "*Ensure all cells and plots have been run and are visible in the notebook before submitting. Also, make sure you responded to the short answer questions. Try the encoder and decoder with all test files to ensure it can work agains the test files we will use (we did not give you the test files we will use for grading!) Submiting the link to BbLearn means the lab has been submitted and is ready for grading. DO THIS LAST. "
      ],
      "metadata": {
        "id": "HWrTJwIss9zw"
      }
    }
  ]
}