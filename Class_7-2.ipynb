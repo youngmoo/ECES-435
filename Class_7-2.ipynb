{
  "nbformat": 4,
  "nbformat_minor": 0,
  "metadata": {
    "colab": {
      "provenance": [],
      "collapsed_sections": [
        "LNs1mQ6RwalY",
        "leCBR9y1whNm",
        "qw76fQQBw3rZ",
        "eOs9hdwgz95L",
        "fIRxwA-ScCdQ",
        "oE_X4MQG17xl",
        "tA8dTX9U3KJT"
      ],
      "toc_visible": true,
      "include_colab_link": true
    },
    "kernelspec": {
      "display_name": "Python 3",
      "name": "python3"
    }
  },
  "cells": [
    {
      "cell_type": "markdown",
      "metadata": {
        "id": "view-in-github",
        "colab_type": "text"
      },
      "source": [
        "<a href=\"https://colab.research.google.com/github/youngmoo/ECES-435/blob/main/Class_7-2.ipynb\" target=\"_parent\"><img src=\"https://colab.research.google.com/assets/colab-badge.svg\" alt=\"Open In Colab\"/></a>"
      ]
    },
    {
      "cell_type": "markdown",
      "metadata": {
        "id": "qHxN8R_ItyXz"
      },
      "source": [
        "# **ECES-435: Class 7.2**\n",
        "\n",
        "**Announcements**\n",
        "* Midterm Lab grades by Friday (drop day)\n",
        "* Lab 6: Released later today\n",
        "  * Due Monday (11/7) before class\n",
        "\n",
        "\n",
        "\n"
      ]
    },
    {
      "cell_type": "markdown",
      "source": [
        "# Optional stuff"
      ],
      "metadata": {
        "id": "LNs1mQ6RwalY"
      }
    },
    {
      "cell_type": "markdown",
      "source": [
        "## Interactive Matplotlib\n",
        "\n",
        "Install `ipympl` for  Matplotlib\n"
      ],
      "metadata": {
        "id": "leCBR9y1whNm"
      }
    },
    {
      "cell_type": "code",
      "source": [
        "#!pip install ipympl   # Also installs a more recent version of matplotlib (v3.5.3)"
      ],
      "metadata": {
        "id": "ez5UrP3WwWa-"
      },
      "execution_count": null,
      "outputs": []
    },
    {
      "cell_type": "markdown",
      "source": [
        "Enable interactive Matplotlib figures"
      ],
      "metadata": {
        "id": "rIs1kGVvw1hn"
      }
    },
    {
      "cell_type": "code",
      "source": [
        "# from google.colab import output\n",
        "# output.enable_custom_widget_manager()\n",
        "# %matplotlib widget"
      ],
      "metadata": {
        "id": "lryCz_51wldf"
      },
      "execution_count": null,
      "outputs": []
    },
    {
      "cell_type": "markdown",
      "source": [
        "## My plot style defaults"
      ],
      "metadata": {
        "id": "qw76fQQBw3rZ"
      }
    },
    {
      "cell_type": "code",
      "source": [
        "from matplotlib import rc\n",
        "\n",
        "rc('figure', figsize=(12,4))\n",
        "rc('figure', facecolor='#aaaaaa')     # Better figure background for dark mode\n",
        "\n",
        "rc('font', family='Liberation Serif') # Nicer font\n",
        "rc('font', size=20)                   # Larger font size for labels"
      ],
      "metadata": {
        "id": "NE9dlTZIwt_e"
      },
      "execution_count": null,
      "outputs": []
    },
    {
      "cell_type": "markdown",
      "source": [
        "# Setup\n",
        "The usual modules..."
      ],
      "metadata": {
        "id": "ljWJhD2HwY3v"
      }
    },
    {
      "cell_type": "code",
      "metadata": {
        "id": "eDaoDgqCs1mp"
      },
      "source": [
        "import numpy as np\n",
        "import matplotlib.pyplot as plt\n",
        "import IPython.display as ipd\n",
        "import soundfile as sf\n",
        "from matplotlib import animation, rc\n",
        "from scipy import signal\n",
        "import numpy.fft as fft\n",
        "import pickle\n",
        "\n",
        "rc('animation', html='jshtml')\n",
        "\n",
        "path = '/content/drive/My Drive/eces435-work/class7.2/'"
      ],
      "execution_count": null,
      "outputs": []
    },
    {
      "cell_type": "code",
      "metadata": {
        "id": "QUiMfqMhOWCI"
      },
      "source": [
        "# CHANGE THIS to your Drexel username!!\n",
        "username = 'ub40'"
      ],
      "execution_count": null,
      "outputs": []
    },
    {
      "cell_type": "code",
      "metadata": {
        "id": "7f-OzFc_mN4w"
      },
      "source": [
        "from google.colab import drive\n",
        "drive.mount('/content/drive')"
      ],
      "execution_count": null,
      "outputs": []
    },
    {
      "cell_type": "markdown",
      "source": [
        "## Helper functions"
      ],
      "metadata": {
        "id": "eOs9hdwgz95L"
      }
    },
    {
      "cell_type": "markdown",
      "source": [
        "`myPlot()`\n",
        "\n",
        "A quick time-domain signal plot function with my default figure settings and a time x-axis (in seconds).\n",
        "* Required arguments:\n",
        "  * `sig` Input signal (first argument)\n",
        "* Optional arguments:\n",
        "  * `N=#` Number of samples to plot (default: length of signal)\n",
        "  * `fs=#` Sample rate of signal (default: 44100 Hz)\n",
        "  * `fig_size=(W,H)` Change figure dimensions (width, height)\n",
        "  * `x_ax=True/False` Show x-axis (default: True)\n",
        "  * `y_ax=True/False` Show y-axis (default: True)\n",
        "  * `lw=#` Change linewdith of signal (default: 1)\n",
        "  * `fmt='...'` Plot format string (default: none)\n",
        "  * *New* `x_lim=#` or `x_lim=[x1,x2]` Specify the x-axis limit(s) of the plot\n",
        "  * *New* `y_lim=#` or `y_lim=[y1,y2]` Specificy the y-axis limit(s) of the plot"
      ],
      "metadata": {
        "id": "7N_b3ft0ch_9"
      }
    },
    {
      "cell_type": "code",
      "source": [
        "def myPlot(sig, N=0, fs=44100, fig_size=(16,4), x_ax=True, y_ax=True, lw=1, fmt='', x_lim=0, y_lim=0):\n",
        "  if N==0:\n",
        "    N = len(sig)\n",
        "\n",
        "  fig = plt.figure(figsize=fig_size)\n",
        "  t = np.arange(N)/fs\n",
        "\n",
        "  plt.plot( t[:N], sig[:N], fmt, linewidth=lw)\n",
        "\n",
        "  plt.xlabel('Time (sec)')\n",
        "  ax = plt.gca()    # gca(): \"Get current axis\", the graph object that's currently plotted\n",
        "  \n",
        "  if x_ax == False:\n",
        "    ax.xaxis.set_visible(False)\n",
        "  if y_ax == False:\n",
        "    ax.yaxis.set_visible(False)\n",
        "\n",
        "  if np.isscalar(x_lim):\n",
        "    if x_lim == 0:\n",
        "      x_lim2 = N/fs   # End of input signal\n",
        "    else:\n",
        "      x_lim2 = x_lim\n",
        "    plt.xlim(0, x_lim2)\n",
        "  else:\n",
        "    plt.xlim(x_lim)\n",
        "\n",
        "  if np.isscalar(y_lim):\n",
        "    if y_lim != 0:\n",
        "      plt.ylim(-y_lim, y_lim)\n",
        "  else:\n",
        "    plt.ylim(y_lim)\n",
        "\n",
        "  fig.tight_layout()\n",
        "  #plt.ion()\n",
        "  plt.close()\n",
        "\n",
        "  # Returning the figure causes issues with interactive matplotlib\n",
        "  return fig\n",
        "  # For saving the figure, use the interactive buton, instead.\n",
        "  # For further customization and command-line saving, more changes are required."
      ],
      "metadata": {
        "id": "aNLccM7sz9SE"
      },
      "execution_count": null,
      "outputs": []
    },
    {
      "cell_type": "markdown",
      "source": [
        "`myPlotFFT()`\n",
        "\n",
        "Plot the magnitude frequency response (in dB FS) of a signal with my default figure settings and a frequency x-axis (in Hz), based on the Nyquist rate.\n",
        "* Required arguments:\n",
        "  * `sig` Input signal (first argument)\n",
        "* Optional arguments:\n",
        "  * `n_fft=#` The size of FFT to use (default: length of input signal)\n",
        "  * `n_win=#` The length of window to use (default: length of input)\n",
        "  * `win='hann'` The type of window to use (default: `hann`, or `rect`)\n",
        "  * `fs=#` Sample rate of signal (default: 44100 Hz)\n",
        "  * `x_lim=# or (#,#)` Frequency axis limits (max or range, in Hz)\n",
        "  * `fig_size=(W,H)` Change figure dimensions (width, height)\n",
        "  * `x_ax=True/False` Show x-axis (default: True)\n",
        "  * `y_ax=True/False` Show y-axis (default: True)\n",
        "  * `lw=#` Change linewdith of signal (default: 1)\n",
        "  * `fmt='...'` Change plot formatting (default: none)"
      ],
      "metadata": {
        "id": "7jSL6pxMXfgi"
      }
    },
    {
      "cell_type": "code",
      "source": [
        "def myPlotFFT(sig, fs=44100, n_fft=0, n_win=0, win='hann', neg_f=False, x_lim=0, y_lim=0, fig_size=(16,6),x_ax=True, y_ax=True, lw=1, fmt=''):\n",
        "  if n_fft==0:\n",
        "    n_fft = len(sig)\n",
        "  if n_win==0:\n",
        "    n_win = len(sig)\n",
        "\n",
        "  if win=='hann':  \n",
        "    win = np.hanning(n_win)\n",
        "    win_scale = 2\n",
        "  else:\n",
        "    win = np.ones(n_win)\n",
        "    win_scale = 1\n",
        "\n",
        "  S = np.fft.fft(sig * win, n_fft)\n",
        "  N = len(S)\n",
        "  f = np.arange(N) * fs / N\n",
        "  if neg_f:\n",
        "    f = f - (fs/2)\n",
        "    S = np.fft.fftshift(S)\n",
        "\n",
        "  S_mag = 2*win_scale*np.abs(S) / n_win     # Frequency magnitude, normalized by length\n",
        "                                            #    x2 because cos(w) = 0.5e^jw + 0.5e^-jw\n",
        "                                            #    x2 for Hann because window has 0.5 average\n",
        "\n",
        "  S_mag += 1e-15                  # Add a small offset to avoid log(0) errors\n",
        "  S_dBFS = 20*np.log10(S_mag)     # Freq. magnitude in dB full scale (dB FS):\n",
        "                                  #    cos(w) -> 0 dBFS peak at w\n",
        "\n",
        "\n",
        "  fig = plt.figure(figsize=fig_size)\n",
        "  plt.plot(f, S_dBFS, fmt, linewidth=lw) \n",
        "  if np.isscalar(x_lim):\n",
        "    if x_lim == 0:\n",
        "      x_lim2 = fs/2\n",
        "    if neg_f:\n",
        "      x_lim = -fs/2\n",
        "    plt.xlim(x_lim, x_lim2)\n",
        "  else:\n",
        "    plt.xlim(x_lim)\n",
        "\n",
        "  if np.isscalar(y_lim):\n",
        "    if y_lim < 0:\n",
        "      plt.ylim(y_lim, 0)\n",
        "    elif y_lim > 0:\n",
        "      plt.ylim(0, y_lim)\n",
        "  else:\n",
        "    plt.ylim(y_lim)\n",
        "\n",
        "  plt.xlabel('Frequency (Hz)')\n",
        "  plt.ylabel('Magnitude (dB FS)')\n",
        "\n",
        "  ax = plt.gca()\n",
        "  if x_ax == False:\n",
        "    ax.xaxis.set_visible(False)\n",
        "  if y_ax == False:\n",
        "    ax.yaxis.set_visible(False)\n",
        "  fig.tight_layout()\n",
        "\n",
        "  # Returning the figure causes issues with interactive matplotlib\n",
        "  return fig\n",
        "  # For saving the figure, use the interactive buton, instead.\n",
        "  # For further customization and command-line saving, more changes are required."
      ],
      "metadata": {
        "id": "wKGq7SuNXTeS"
      },
      "execution_count": null,
      "outputs": []
    },
    {
      "cell_type": "markdown",
      "source": [
        "`mySpectrogram()`\n",
        "\n",
        "A simple wrapper to compute and plot the spectrogram of a signal with my default figure settings, a time x-axis (in seconds) and a frequency y-axis (in Hz), based on the Nyquist rate.\n",
        "* Required arguments:\n",
        "  * `sig` Input signal (first argument)\n",
        "* Optional arguments:\n",
        "  * `fs=#` Sample rate of signal (default: 44100 Hz)\n",
        "  * `win='window_name'` The type of analysis window to use (default: 'hann')\n",
        "  * `n_win=#` The length of window to use per frame (default: 1024)\n",
        "  * `n_fft=#` The size of FFT to use (default: 1024)\n",
        "  * `x_lim=# or (#,#)` x-axis limit or range (in seconds)\n",
        "  * `y_lim=# or (#,#)` y-axis limit or range (in Hz)\n",
        "  * `fig_size=(W,H)` Change figure dimensions (width, height)\n",
        "  * `x-ax=True/False` Show x-axis (default: True)\n",
        "  * `y-ax=True/False` Show y-axis (default: True)"
      ],
      "metadata": {
        "id": "kAxTI9wgkEs8"
      }
    },
    {
      "cell_type": "code",
      "source": [
        "def mySpectrogram(sig, fs=44100, win='hann', n_win=1024, olap=512, n_fft=1024, x_lim=0, y_lim=0, fig_size=(12,6), x_ax=True, y_ax=True):\n",
        "  f1, t1, Sxx = signal.stft(sig, fs, window=win, nperseg=n_win, noverlap=olap, nfft=n_fft)\n",
        "\n",
        "  fig = plt.figure(figsize=fig_size)\n",
        "\n",
        "  S_mag = 4*np.abs(Sxx) + 1e-15\n",
        "  S_dBFS = 20*np.log10(S_mag)\n",
        "  \n",
        "  plt.pcolormesh(t1, f1, S_dBFS)\n",
        "  plt.ylabel('Frequency (Hz)')\n",
        "  plt.xlabel('Time (sec)')\n",
        "\n",
        "  if np.isscalar(x_lim):\n",
        "    if x_lim == 0:\n",
        "      x_lim = len(sig) / fs\n",
        "    plt.xlim(0, x_lim)\n",
        "  else:\n",
        "    plt.xlim(x_lim)\n",
        "\n",
        "  if np.isscalar(y_lim):\n",
        "    if y_lim == 0:\n",
        "      y_lim = fs/2\n",
        "    plt.ylim(0, y_lim)\n",
        "  else:\n",
        "    plt.ylim(y_lim)\n",
        "\n",
        "  ax = plt.gca()\n",
        "  if x_ax == False:\n",
        "    ax.xaxis.set_visible(False)\n",
        "  if y_ax == False:\n",
        "    ax.yaxis.set_visible(False)\n",
        "  fig.tight_layout()\n",
        "\n",
        "  # plt.ion()\n",
        "  \n",
        "  # Returning the figure causes issues with interactive matplotlib\n",
        "  # return fig\n",
        "  # For saving the figure, use the interactive buton, instead.\n",
        "  # For further customization and command-line saving, more changes are required."
      ],
      "metadata": {
        "id": "gaonAlsvmEbT"
      },
      "execution_count": null,
      "outputs": []
    },
    {
      "cell_type": "markdown",
      "metadata": {
        "id": "cWj0eW-qEjxf"
      },
      "source": [
        "# Load audio sample\n",
        "\n",
        "* Happy Halloween!"
      ]
    },
    {
      "cell_type": "code",
      "metadata": {
        "id": "xMUmfBZ0-9XL"
      },
      "source": [
        "x, fs44 = sf.read(path + 'MJ.wav')\n",
        "ipd.Audio(x, rate=fs44)"
      ],
      "execution_count": null,
      "outputs": []
    },
    {
      "cell_type": "markdown",
      "source": [
        "# The z-Transform\n",
        "\n",
        "Just like the Fourier Transform, but with *additional information*.\n",
        "\n",
        "* Where: $z = r \\cdot e^{j\\omega}$\n",
        "\n",
        "\n",
        "$X(z) = \\sum_n x[n] z^{-n} = \\sum_n x[n] ( r \\cdot e^{j\\omega})^{-n} = \\sum_n r^{-n} x[n] e^{-j\\omega n}$\n",
        "\n",
        "\n",
        "\n"
      ],
      "metadata": {
        "id": "nLJuSBjkQ_1i"
      }
    },
    {
      "cell_type": "markdown",
      "source": [
        "## `zplane()` New function to plot system (filter) information in the $z$-plane."
      ],
      "metadata": {
        "id": "IHc8zC710-tR"
      }
    },
    {
      "cell_type": "code",
      "source": [
        "def zplane(zeros=[], poles=[], xy_lim=[-1.5,1.5]):\n",
        "  fig = plt.figure(figsize=(6,6))\n",
        "  ax = plt.axes()\n",
        "\n",
        "  # Create radial coordinates as for unit circle contour\n",
        "  N_pts = 200\n",
        "  w = np.linspace(0, 2*np.pi, N_pts)\n",
        "  z_uc = np.exp(1j*w)\n",
        "  re_uc = np.real(z_uc)\n",
        "  im_uc = np.imag(z_uc)\n",
        "\n",
        "  # Draw unit circle and set axis limits\n",
        "  ax.plot(re_uc, im_uc, 'k:', linewidth=1)\n",
        "  ax.set_ylim(xy_lim)\n",
        "  ax.set_xlim(xy_lim)\n",
        "\n",
        "  # Plot zeros (o) and poles (x)\n",
        "  re_z = np.real(zeros)\n",
        "  im_z = np.imag(zeros)\n",
        "  ax.plot(re_z, im_z, 'bo', markersize=15, fillstyle='none')\n",
        "  re_p = np.real(poles)\n",
        "  im_p = np.imag(poles)\n",
        "  ax.plot(re_p, im_p, 'bx', markersize=13, fillstyle='none')\n",
        "  \n",
        "  # X-Y axis labels\n",
        "  ax.set_xlabel('Real')\n",
        "  ax.set_ylabel('Imag')\n",
        "\n",
        "zplane()"
      ],
      "metadata": {
        "id": "QcU5qTLbYBa3"
      },
      "execution_count": null,
      "outputs": []
    },
    {
      "cell_type": "markdown",
      "source": [
        "# z-Transform of an FIR filter\n",
        "\n",
        "Basic 2-point moving average filter\n",
        "* $y[n] = \\frac{1}{2}x[n] + \\frac{1}{2}x[n-1]$\n",
        "\n",
        "$z$-Transform\n",
        "* $Y(z) = \\frac{1}{2}X(z) + \\frac{1}{2}X(z)z^{-1}$\n",
        "\n",
        "\n"
      ],
      "metadata": {
        "id": "FjQQxi2HZeNt"
      }
    },
    {
      "cell_type": "markdown",
      "source": [
        "## How does this help us?\n",
        "\n",
        "What is the *Transfer Function*, $H(z)$?"
      ],
      "metadata": {
        "id": "fIRxwA-ScCdQ"
      }
    },
    {
      "cell_type": "markdown",
      "source": [
        "* $\\frac{Y(z)}{X(z)} = \\frac{1}{2}(1 + z^{-1}) = H(z)$"
      ],
      "metadata": {
        "id": "ILPP8te-cKFj"
      }
    },
    {
      "cell_type": "markdown",
      "source": [
        "### Where does the transfer function evaluate to...\n",
        "* zero...?\n",
        "* infinity...?\n",
        "\n",
        "$H(z) = \\frac{1}{2}(1 + z^{-1}) = \\frac{B(z)}{A(z)}$\n",
        "* $B(z) = \\frac{1}{2}(1 + z^{-1})$\n",
        "* $A(z) = 1$"
      ],
      "metadata": {
        "id": "oE_X4MQG17xl"
      }
    },
    {
      "cell_type": "code",
      "source": [
        "zplane(-1)"
      ],
      "metadata": {
        "id": "ADK8gBD_ZoiF"
      },
      "execution_count": null,
      "outputs": []
    },
    {
      "cell_type": "markdown",
      "source": [
        "## What is the response of $H(z)$ on the unit circle? "
      ],
      "metadata": {
        "id": "H2V3j8A82eOS"
      }
    },
    {
      "cell_type": "code",
      "source": [
        "B_z = [0.5, 0.5]\n",
        "A_z = [1]\n",
        "\n",
        "w, H_w = signal.freqz(B_z, A_z)\n",
        "H_dB = 20*np.log10(np.abs(H_w))\n",
        "plt.plot(w, H_dB)\n",
        "plt.xlabel('Frequency (rad)')\n",
        "plt.ylabel('dB')"
      ],
      "metadata": {
        "id": "Lp4H_VnAaL5b"
      },
      "execution_count": null,
      "outputs": []
    },
    {
      "cell_type": "markdown",
      "source": [
        "## But, we're missing a lot of the picture..."
      ],
      "metadata": {
        "id": "DS5VPtoV23-w"
      }
    },
    {
      "cell_type": "markdown",
      "source": [
        "### `freqz3D()` A function to visualize the full response across the $z$-plane.\n",
        "\n",
        "Lots of code here, most of it is to handle the graphics."
      ],
      "metadata": {
        "id": "kf3BMO6i28DM"
      }
    },
    {
      "cell_type": "code",
      "source": [
        "def freqz3D(B=[1], A=[1], azim=-60,\n",
        "            x_lim=(-1.5,1.5), y_lim=(-1.5,1.5), z_lim=(-30,10),\n",
        "            x_ticks=(-1,0,1), y_ticks=(-1,0,1),\n",
        "            fig_size=(14,8), lw=2, xy_spacing=0.005, init_elev=45,\n",
        "            draw_uc=True, draw_pz=True, draw_contour=True,\n",
        "            hide_ax=False, hide_z=True, show_fig=True):\n",
        "\n",
        "  fig = plt.figure(figsize=(14,8))\n",
        "  ax = plt.axes(projection='3d') \n",
        "  z_dB_min = z_lim[0]\n",
        "\n",
        "  if show_fig==False:\n",
        "    plt.close()\n",
        "\n",
        "  # Make cartesian grid in z-plane for freqz surface\n",
        "  X = np.arange(-1.5, 1.501, xy_spacing) # dB requires different spacing\n",
        "  Y = np.arange(-1.5, 1.501, xy_spacing) # dB spacing\n",
        "  X, Y = np.meshgrid(X, Y)\n",
        "  R = np.sqrt(X**2 + Y**2)\n",
        "  z = X + Y*1j\n",
        "\n",
        "  # Create radial coordinates as for unit circle contour(s)\n",
        "  w = np.linspace(0, 2*np.pi, 200)\n",
        "  z_c = np.exp(1j*w)\n",
        "  X_c = np.real(z_c)\n",
        "  Y_c = np.imag(z_c)\n",
        "\n",
        "  # If transfer function is provided, plot the freqz surface\n",
        "  if len(B) > 0:\n",
        "    Bz =  B[0] * np.ones(np.shape(z))\n",
        "    Bz_c = B[0] * np.ones(len(z_c))\n",
        "    for n in range(1,len(B)):\n",
        "      Bz = Bz + np.divide( B[n], z**n )\n",
        "      Bz_c = Bz_c + np.divide( B[n], z_c**n )\n",
        "\n",
        "    if len(A) > 0:\n",
        "      Az = A[0] * np.ones(np.shape(z))\n",
        "      Az_c = A[0] * np.ones(len(z_c))\n",
        "      for n in range(1,len(A)):\n",
        "        Az = Az + np.divide( A[n], z**n )\n",
        "        Az_c = Az_c + np.divide( A[n], z_c**n )\n",
        "    else:\n",
        "      Az = 1\n",
        "      Az_c = 1\n",
        "\n",
        "    Hz = Bz / Az\n",
        "    Hz_c = Bz_c / Az_c\n",
        "    Z = np.abs(Hz)\n",
        "    Z_c = np.abs(Hz_c)\n",
        "    Z_dB = 20 * np.log10(Z)\n",
        "    Z_c_dB = 20 * np.log10(Z_c)\n",
        "\n",
        "    # Plot the freqz surface\n",
        "    surf = ax.plot_surface(X, Y, Z_dB, color='lightgoldenrodyellow', alpha=0.4, linewidth=0 )\n",
        "    \n",
        "  Z_proj = np.zeros(len(w))\n",
        "  Z_proj_dB = Z_proj + z_lim[0] # include dB offset, depends on z-axis lower limit\n",
        "\n",
        "  # Draw unit circle at bottom face of z-plane\n",
        "  if draw_uc:\n",
        "    ax.plot3D(X_c, Y_c, Z_proj_dB, 'w',linewidth=1)\n",
        "\n",
        "  # Draw freqz contour on unit circle\n",
        "  an_object, = ax.plot3D(X_c, Y_c, Z_c_dB, 'y',linewidth=lw)\n",
        "  if draw_contour == False:\n",
        "    #Z_c_dB += 200 # Hopefully, +200dB is out of view\n",
        "    an_object.set_linewidth(0.)\n",
        "\n",
        "  # Create placeholder animation object for frequency marker\n",
        "  an_object2, = ax.plot3D([0], [0], [-60], 'w:',linewidth=1)\n",
        "\n",
        "  if draw_pz:\n",
        "    if len(B) > 0:\n",
        "      # Plot pole-zero markers\n",
        "      zeros,poles,k = signal.tf2zpk(B, A)\n",
        "      x_z = np.real(zeros)\n",
        "      y_z = np.imag(zeros)\n",
        "      x_p = np.real(poles)\n",
        "      y_p = np.imag(poles)\n",
        "      z_object, = ax.plot3D(x_z, y_z, z_dB_min*np.ones(len(x_z)), 'wo', markersize=15, fillstyle='none')\n",
        "      p_object, = ax.plot3D(x_p, y_p, z_dB_min*np.ones(len(x_p)), 'wx', markersize=13, fillstyle='none')\n",
        "  else:\n",
        "    # Create empty objects\n",
        "    z_object, = ax.plot3D([0], [0], [z_dB_min], linewidth=0)\n",
        "    p_object, = ax.plot3D([0], [0], [z_dB_min], linewidth=0)\n",
        "\n",
        "\n",
        "  # Set camera view angle\n",
        "  ax.elev = init_elev\n",
        "  ax.azim = azim\n",
        "\n",
        "  # make the panes transparent\n",
        "  ax.xaxis.set_pane_color((1.0, 1.0, 1.0, 0.0))\n",
        "  ax.yaxis.set_pane_color((1.0, 1.0, 1.0, 0.0))\n",
        "  ax.zaxis.set_pane_color((1.0, 1.0, 1.0, 0.05))\n",
        "\n",
        "  # make the grid lines transparent\n",
        "  ax.xaxis._axinfo[\"grid\"]['color'] =  (1,1,1,0)\n",
        "  ax.yaxis._axinfo[\"grid\"]['color'] =  (1,1,1,0)\n",
        "  ax.zaxis._axinfo[\"grid\"]['color'] =  (1,1,1,0)\n",
        "\n",
        "  ax.zaxis.set_alpha(0.5)\n",
        "\n",
        "  ax.set_zlim(z_lim) #dB\n",
        "  ax.set_xlim(x_lim)\n",
        "  ax.set_ylim(y_lim)\n",
        "\n",
        "  if hide_ax:\n",
        "    ax.set_axis_off()\n",
        "  else:\n",
        "    ax.set_xticks(x_ticks)\n",
        "    ax.set_yticks(y_ticks)\n",
        "\n",
        "    ax.tick_params(colors='white')\n",
        "    ax.tick_params(length=10,width=2,labelsize=20)\n",
        "    for tick in ax.get_xticklabels():\n",
        "        tick.set_fontname(\"Liberation Serif\")\n",
        "\n",
        "    for tick in ax.get_yticklabels():\n",
        "        tick.set_fontname(\"Liberation Serif\")\n",
        "\n",
        "    fig.patch.set_facecolor('#111111')    # I think this makes the background dark, for preview in Colab\n",
        "\n",
        "    #ax.set_frame_on(False)\n",
        "    ax.set_facecolor('#212121')\n",
        "    ax.get_xaxis().line.set_color('w')\n",
        "    ax.get_yaxis().line.set_color('w')\n",
        "\n",
        "    # X-Y axis labels\n",
        "    ax.set_xlabel('Re', color='w', size=24, fontname='Liberation Serif')\n",
        "    ax.xaxis.labelpad = 20\n",
        "    ax.set_ylabel('Im', color='w', size=24, fontname='Liberation Serif')\n",
        "    ax.yaxis.labelpad = 20\n",
        "\n",
        "    if hide_z:\n",
        "      ax.zaxis.line.set_lw(0.)\n",
        "      ax.set_zticks([])\n",
        "\n",
        "  fig.tight_layout()\n",
        "\n",
        "#  if show_fig:\n",
        "#    plt.show()\n",
        "\n",
        "  return fig #, ax, an_object, an_object2, surf, p_object, z_object,"
      ],
      "metadata": {
        "id": "PcMAtS75fD5e"
      },
      "execution_count": null,
      "outputs": []
    },
    {
      "cell_type": "markdown",
      "source": [
        "### Visualizing the full $z$-plane response"
      ],
      "metadata": {
        "id": "tA8dTX9U3KJT"
      }
    },
    {
      "cell_type": "code",
      "source": [
        "fig1 = freqz3D(B_z, A_z)"
      ],
      "metadata": {
        "id": "goXJh3lTfK5u"
      },
      "execution_count": null,
      "outputs": []
    },
    {
      "cell_type": "markdown",
      "source": [
        "## What's the impulse response of an FIR transfer function?\n",
        "\n",
        "* $H(z) = 0.5 + 0.5z^{-1}$"
      ],
      "metadata": {
        "id": "WzkvJD6-nytk"
      }
    },
    {
      "cell_type": "markdown",
      "source": [
        "* $h[n] = 0.5\\delta[n] + 0.5\\delta[n-1]$"
      ],
      "metadata": {
        "id": "RljTC9N7oHUw"
      }
    },
    {
      "cell_type": "code",
      "source": [
        "H_z = [0.5, 0.5]\n",
        "d_n = np.zeros(10)\n",
        "d_n[0] = 1\n",
        "h_n = signal.lfilter(H_z, 1, d_n)\n",
        "plt.stem(h_n, basefmt='None')"
      ],
      "metadata": {
        "id": "SyvnBUFgoQaj"
      },
      "execution_count": null,
      "outputs": []
    },
    {
      "cell_type": "markdown",
      "source": [
        "## Let's examine some more complex FIR filters"
      ],
      "metadata": {
        "id": "fK5IiYjRo37p"
      }
    },
    {
      "cell_type": "code",
      "source": [
        "B2_z = np.hanning(9)\n",
        "B2_z = B2_z / np.sum(B2_z)\n",
        "h2 = B2_z\n",
        "plt.stem(h2, basefmt='None')"
      ],
      "metadata": {
        "id": "DERRY_KmhKcD"
      },
      "execution_count": null,
      "outputs": []
    },
    {
      "cell_type": "code",
      "source": [
        "fig1 = freqz3D(B2_z, z_lim=[-90,60])"
      ],
      "metadata": {
        "id": "dX6f51gvpGNt"
      },
      "execution_count": null,
      "outputs": []
    },
    {
      "cell_type": "markdown",
      "source": [
        "### Factor the numerator of the transfer function, $B(z)$ to determine the location of zeros"
      ],
      "metadata": {
        "id": "evM21QyBptPW"
      }
    },
    {
      "cell_type": "code",
      "source": [
        "zeros,poles,k = signal.tf2zpk(B2_z, 1)\n",
        "zplane(zeros, poles)"
      ],
      "metadata": {
        "id": "IMqNySRriMz_"
      },
      "execution_count": null,
      "outputs": []
    },
    {
      "cell_type": "markdown",
      "source": [
        "## How about a filter designed with `firwin()`?"
      ],
      "metadata": {
        "id": "v_9F8rcO4azl"
      }
    },
    {
      "cell_type": "code",
      "source": [
        "h3 = signal.firwin(15, 8000, fs=44100)\n",
        "H3_z = h3\n",
        "z,p,k = signal.tf2zpk(H3_z,1)\n",
        "zplane(z,p)"
      ],
      "metadata": {
        "id": "cysSXbW6ig3P"
      },
      "execution_count": null,
      "outputs": []
    },
    {
      "cell_type": "markdown",
      "source": [
        "Let's view it from different angles…"
      ],
      "metadata": {
        "id": "BIPuO2uu4gHb"
      }
    },
    {
      "cell_type": "code",
      "source": [
        "az = -60\n",
        "fig2 = freqz3D(H3_z, azim=az, z_lim=[-100,40])"
      ],
      "metadata": {
        "id": "NClR7zs0i7zc"
      },
      "execution_count": null,
      "outputs": []
    },
    {
      "cell_type": "code",
      "source": [
        "fig2.savefig(path + 'zplane/' + str(az) + username + '.png')"
      ],
      "metadata": {
        "id": "eXkSKn1IkH6i"
      },
      "execution_count": null,
      "outputs": []
    },
    {
      "cell_type": "markdown",
      "source": [
        "# Can we design a filter by manually placing zeros?\n",
        "\n",
        "Example: What if we want to eliminate a specific frequency?"
      ],
      "metadata": {
        "id": "c3rzXnsUmi72"
      }
    },
    {
      "cell_type": "code",
      "source": [
        "f_notch = 6000      # Frequency of notch\n",
        "w_notch = (f_notch / fs44) * 2 * np.pi  # Notch frequency in radians\n",
        "m_notch = 1.0\n",
        "\n",
        "z_notch = [ m_notch * np.exp(1j*w_notch), m_notch * np.exp(-1j*w_notch) ]\n",
        "zplane(z_notch, [])"
      ],
      "metadata": {
        "id": "X2YUKOiurMlD"
      },
      "execution_count": null,
      "outputs": []
    },
    {
      "cell_type": "code",
      "source": [
        "B_notch, A_notch = signal.zpk2tf(z_notch, [], 1.)\n",
        "print(B_notch, A_notch)\n",
        "fig3 = freqz3D(B_notch, A_notch)"
      ],
      "metadata": {
        "id": "eM86wTd8sNEX"
      },
      "execution_count": null,
      "outputs": []
    },
    {
      "cell_type": "code",
      "source": [
        "w, H_notch = signal.freqz(B_notch, A_notch)\n",
        "\n",
        "plt.plot(w, 20*np.log10(np.abs(H_notch)))"
      ],
      "metadata": {
        "id": "AD5zwfLWszGD"
      },
      "execution_count": null,
      "outputs": []
    },
    {
      "cell_type": "code",
      "source": [
        "N = len(x)\n",
        "t = np.arange(N) / fs44\n",
        "s6k = np.sin(2*np.pi*f_notch*t)\n",
        "ipd.Audio(s6k, rate=fs44)"
      ],
      "metadata": {
        "id": "U_SWQub44vQ9"
      },
      "execution_count": null,
      "outputs": []
    },
    {
      "cell_type": "code",
      "source": [
        "s6k_notch = signal.lfilter(B_notch, A_notch, s6k)\n",
        "plt.plot(t, s6k_notch)\n",
        "plt.xlim([0,0.001])"
      ],
      "metadata": {
        "id": "zgZk_uJs5BmP"
      },
      "execution_count": null,
      "outputs": []
    },
    {
      "cell_type": "code",
      "source": [
        "x_s6k = x + s6k\n",
        "ipd.Audio(x_s6k, rate=fs44)"
      ],
      "metadata": {
        "id": "Y5128A9b55sC"
      },
      "execution_count": null,
      "outputs": []
    },
    {
      "cell_type": "code",
      "source": [
        "x_notch = signal.lfilter(B_notch, A_notch, x_s6k)\n",
        "ipd.Audio(x_notch, rate=fs44)"
      ],
      "metadata": {
        "id": "27aNDQT4tB8J"
      },
      "execution_count": null,
      "outputs": []
    },
    {
      "cell_type": "markdown",
      "source": [
        "# Why FIR Filters?\n",
        "Pros:\n",
        "* Easy to design\n",
        "* Stable\n",
        "* Can be linear phase\n",
        "\n",
        "Cons:\n",
        "* Need longer filters for sharp transitions\n",
        "* Sidelobes, never flat or smooth stopband responses"
      ],
      "metadata": {
        "id": "zgOLQsY6Z8Tx"
      }
    },
    {
      "cell_type": "markdown",
      "source": [
        "# What about the denominator of that transfer function?\n",
        "\n",
        "* $H(z) = \\frac{1}{1 - a_1 z^{-1}}$"
      ],
      "metadata": {
        "id": "FetQwUAB6rIl"
      }
    },
    {
      "cell_type": "code",
      "source": [
        "d_n = np.zeros(100)\n",
        "d_n[0] = 1.\n",
        "a_1 = -0.5\n",
        "\n",
        "B_z = [1]\n",
        "A_z = [1, a_1]\n",
        "\n",
        "h_iir = signal.lfilter(B_z, A_z, d_n)\n",
        "plt.stem(h_iir, basefmt='none')\n",
        "plt.xlim(0,20)"
      ],
      "metadata": {
        "id": "WRCMED0WdNza"
      },
      "execution_count": null,
      "outputs": []
    },
    {
      "cell_type": "code",
      "source": [
        "w, H_z = signal.freqz(B_z,A_z)\n",
        "Hz_dB = 20*np.log10(np.abs(H_z))\n",
        "plt.plot(w, Hz_dB)"
      ],
      "metadata": {
        "id": "rACfSonceeN-"
      },
      "execution_count": null,
      "outputs": []
    },
    {
      "cell_type": "code",
      "source": [
        "plt.plot(w, np.angle(H_z))"
      ],
      "metadata": {
        "id": "np5dhCTJgRhD"
      },
      "execution_count": null,
      "outputs": []
    },
    {
      "cell_type": "code",
      "source": [
        "fig4 = freqz3D(B_z, A_z)"
      ],
      "metadata": {
        "id": "17tJDnQq7iN4"
      },
      "execution_count": null,
      "outputs": []
    },
    {
      "cell_type": "markdown",
      "source": [
        "## Why use IIR filters?\n",
        "\n",
        "Pros:\n",
        "* Sharper responses with fewer coefficients, due to feedback\n",
        "* Smooth(er) magnitude response: Can eliminate side lobes\n",
        "\n",
        "Cons:\n",
        "* Can be unstable (due to feedback)\n",
        "* Harder to design\n",
        "\n"
      ],
      "metadata": {
        "id": "QXOCy1hAZiF6"
      }
    },
    {
      "cell_type": "code",
      "source": [
        "Z = [1]\n",
        "P = [0.9*np.exp(1j*0.5), 0.9*np.exp(-1j*0.5)]\n",
        "\n",
        "zplane(Z,P)"
      ],
      "metadata": {
        "id": "CQ0Rok5-Ht_J"
      },
      "execution_count": null,
      "outputs": []
    },
    {
      "cell_type": "code",
      "source": [
        "B, A = signal.zpk2tf(Z, P, 1.)\n",
        "w, H = signal.freqz(B, A)\n",
        "H_dB = 20*np.log10(np.abs(H))\n",
        "fig = plt.figure(figsize=(14,8))\n",
        "plt.subplot(2,1,1)\n",
        "plt.plot(w, H_dB)\n",
        "plt.subplot(2,1,2)\n",
        "plt.plot(w, np.angle(H))"
      ],
      "metadata": {
        "id": "TtfV4tKEIsUB"
      },
      "execution_count": null,
      "outputs": []
    },
    {
      "cell_type": "markdown",
      "source": [
        "## Danger!"
      ],
      "metadata": {
        "id": "MjoFMbldAXQP"
      }
    },
    {
      "cell_type": "code",
      "source": [
        "d_n = np.zeros(1000)\n",
        "d_n[0] = 1.\n",
        "\n",
        "P_u = [1.2*np.exp(1j*0.5), 1.2*np.exp(-1j*0.5)]\n",
        "zplane([], P_u)"
      ],
      "metadata": {
        "id": "Ay1gLtJB-P5k"
      },
      "execution_count": null,
      "outputs": []
    },
    {
      "cell_type": "code",
      "source": [
        "B_u, A_u = signal.zpk2tf([], P_u, 1.)\n",
        "\n",
        "h2_iir = signal.lfilter(B_u,A_u,d_n)\n",
        "plt.plot(h2_iir)"
      ],
      "metadata": {
        "id": "eieF31ImAcdZ"
      },
      "execution_count": null,
      "outputs": []
    },
    {
      "cell_type": "code",
      "source": [
        "mags = np.array([0.9, 0.95, 0.75, 0.9])\n",
        "freqs = np.array([100, 1000, 5000, 10000])\n",
        "fs = 44100\n",
        "angles = freqs * 2 * np.pi / (fs)\n",
        "\n",
        "P1 = np.multiply(mags, np.exp(1j*angles))\n",
        "P2 = np.multiply(mags, np.exp(-1j*angles))\n",
        "P = np.append(P1,P2)\n",
        "Z = [1]\n",
        "#print(P)\n",
        "zplane(Z,P)"
      ],
      "metadata": {
        "id": "V0nCDk6SKkM9"
      },
      "execution_count": null,
      "outputs": []
    },
    {
      "cell_type": "code",
      "source": [
        "print(np.shape(P))\n",
        "B, A = signal.zpk2tf([1], P, .2)\n",
        "w, H = signal.freqz(B, A)\n",
        "H_dB = 20*np.log10(np.abs(H))\n",
        "fig = plt.figure(figsize=(14,8))\n",
        "plt.subplot(2,1,1)\n",
        "plt.plot(w, H_dB)\n",
        "plt.subplot(2,1,2)\n",
        "plt.plot(w, np.unwrap(np.angle(H)))"
      ],
      "metadata": {
        "id": "U38tcelpMQ7K"
      },
      "execution_count": null,
      "outputs": []
    },
    {
      "cell_type": "code",
      "source": [
        "fig4 = freqz3D(B,A)"
      ],
      "metadata": {
        "id": "qEPHgF9l-EWz"
      },
      "execution_count": null,
      "outputs": []
    },
    {
      "cell_type": "code",
      "source": [
        "H_dB = 20*np.log10(np.abs(H_notch))\n",
        "plt.plot(w, H_dB)"
      ],
      "metadata": {
        "id": "GXyjLNDvhdkU"
      },
      "execution_count": null,
      "outputs": []
    },
    {
      "cell_type": "code",
      "source": [
        "zplane(z_notch, [])"
      ],
      "metadata": {
        "id": "sX0Xq-mSAvPB"
      },
      "execution_count": null,
      "outputs": []
    },
    {
      "cell_type": "markdown",
      "source": [
        "# IIR filter design in the $z$-plane"
      ],
      "metadata": {
        "id": "O4rmxe8X9wyo"
      }
    }
  ]
}