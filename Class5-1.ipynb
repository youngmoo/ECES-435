{
  "nbformat": 4,
  "nbformat_minor": 0,
  "metadata": {
    "colab": {
      "provenance": [],
      "collapsed_sections": [
        "leCBR9y1whNm",
        "qw76fQQBw3rZ"
      ],
      "toc_visible": true,
      "include_colab_link": true
    },
    "kernelspec": {
      "display_name": "Python 3",
      "name": "python3"
    }
  },
  "cells": [
    {
      "cell_type": "markdown",
      "metadata": {
        "id": "view-in-github",
        "colab_type": "text"
      },
      "source": [
        "<a href=\"https://colab.research.google.com/github/youngmoo/ECES-435/blob/main/Class5-1.ipynb\" target=\"_parent\"><img src=\"https://colab.research.google.com/assets/colab-badge.svg\" alt=\"Open In Colab\"/></a>"
      ]
    },
    {
      "cell_type": "markdown",
      "metadata": {
        "id": "qHxN8R_ItyXz"
      },
      "source": [
        "# **ECES-435: Class 5.1**\n",
        "\n",
        "**Announcements**\n",
        "* This wext week's lab (No. 5) is the Midterm Lab (20% of final grade)\n",
        "  * It's a simplified version of the final project (audio codec).\n",
        "  * We'll try to release it tomorrow\n",
        "  * Whenever it's released, you'll have a full week to work on it.\n",
        "\n",
        "\n"
      ]
    },
    {
      "cell_type": "markdown",
      "source": [
        "# Optional stuff"
      ],
      "metadata": {
        "id": "LNs1mQ6RwalY"
      }
    },
    {
      "cell_type": "markdown",
      "source": [
        "## Interactive Matplotlib\n",
        "\n",
        "Install `ipympl` for  Matplotlib\n"
      ],
      "metadata": {
        "id": "leCBR9y1whNm"
      }
    },
    {
      "cell_type": "code",
      "source": [
        "#!pip install ipympl   # Also installs a more recent version of matplotlib (v3.5.3)"
      ],
      "metadata": {
        "id": "ez5UrP3WwWa-"
      },
      "execution_count": null,
      "outputs": []
    },
    {
      "cell_type": "markdown",
      "source": [
        "Enable interactive Matplotlib figures"
      ],
      "metadata": {
        "id": "rIs1kGVvw1hn"
      }
    },
    {
      "cell_type": "code",
      "source": [
        "# from google.colab import output\n",
        "# output.enable_custom_widget_manager()\n",
        "# %matplotlib widget"
      ],
      "metadata": {
        "id": "lryCz_51wldf"
      },
      "execution_count": null,
      "outputs": []
    },
    {
      "cell_type": "markdown",
      "source": [
        "## My plot style defaults"
      ],
      "metadata": {
        "id": "qw76fQQBw3rZ"
      }
    },
    {
      "cell_type": "code",
      "source": [
        "from matplotlib import rc\n",
        "\n",
        "rc('figure', figsize=(12,4))\n",
        "rc('figure', facecolor='#aaaaaa')     # Better figure background for dark mode\n",
        "\n",
        "rc('font', family='Liberation Serif') # Nicer font\n",
        "rc('font', size=20)                   # Larger font size for labels"
      ],
      "metadata": {
        "id": "NE9dlTZIwt_e"
      },
      "execution_count": null,
      "outputs": []
    },
    {
      "cell_type": "markdown",
      "source": [
        "# Setup\n",
        "As always, start by importing the \"usual\" modules we'll be using..."
      ],
      "metadata": {
        "id": "ljWJhD2HwY3v"
      }
    },
    {
      "cell_type": "code",
      "metadata": {
        "id": "eDaoDgqCs1mp"
      },
      "source": [
        "import numpy as np\n",
        "import matplotlib.pyplot as plt\n",
        "import IPython.display as ipd\n",
        "import soundfile as sf\n",
        "from matplotlib import animation, rc\n",
        "from scipy import signal\n",
        "import numpy.fft as fft     # New addition!\n",
        "\n",
        "rc('animation', html='jshtml')\n",
        "\n",
        "path = '/content/drive/My Drive/eces435-work/class5.1/'"
      ],
      "execution_count": null,
      "outputs": []
    },
    {
      "cell_type": "code",
      "metadata": {
        "id": "QUiMfqMhOWCI"
      },
      "source": [
        "# CHANGE THIS to your Drexel username!!\n",
        "username = 'jv24601'"
      ],
      "execution_count": null,
      "outputs": []
    },
    {
      "cell_type": "code",
      "metadata": {
        "id": "7f-OzFc_mN4w"
      },
      "source": [
        "from google.colab import drive\n",
        "drive.mount('/content/drive')"
      ],
      "execution_count": null,
      "outputs": []
    },
    {
      "cell_type": "markdown",
      "source": [
        "# Helper functions"
      ],
      "metadata": {
        "id": "eOs9hdwgz95L"
      }
    },
    {
      "cell_type": "markdown",
      "source": [
        "## `myPlot()`\n",
        "A quick time-domain signal plot function with my default figure settings and a time x-axis (in seconds).\n",
        "* Required arguments:\n",
        "  * `sig` Input signal (first argument)\n",
        "* Optional arguments:\n",
        "  * `N=#` Number of samples to plot (default: length of signal)\n",
        "  * `fs=#` Sample rate of signal (default: 44100 Hz)\n",
        "  * `fig_size=(W,H)` Change figure dimensions (width, height)\n",
        "  * `x_ax=True/False` Show x-axis (default: True)\n",
        "  * `y_ax=True/False` Show y-axis (default: True)\n",
        "  * `lw=#` Change linewdith of signal (default: 1)\n",
        "  * `fmt='...'` Plot format string (default: none)\n",
        "  * *New* `x_lim=#` or `x_lim=[x1,x2]` Specify the x-axis limit(s) of the plot\n",
        "  * *New* `y_lim=#` or `y_lim=[y1,y2]` Specificy the y-axis limit(s) of the plot"
      ],
      "metadata": {
        "id": "7N_b3ft0ch_9"
      }
    },
    {
      "cell_type": "code",
      "source": [
        "def myPlot(sig, N=0, fs=44100, fig_size=(16,4), x_ax=True, y_ax=True, lw=1, fmt='', x_lim=0, y_lim=0):\n",
        "  if N==0:\n",
        "    N = len(sig)\n",
        "\n",
        "  fig = plt.figure(figsize=fig_size)\n",
        "  t = np.arange(N)/fs\n",
        "\n",
        "  plt.plot( t[:N], sig[:N], fmt, linewidth=lw)\n",
        "\n",
        "  plt.xlabel('Time (sec)')\n",
        "  ax = plt.gca()    # gca(): \"Get current axis\", the graph object that's currently plotted\n",
        "  \n",
        "  if x_ax == False:\n",
        "    ax.xaxis.set_visible(False)\n",
        "  if y_ax == False:\n",
        "    ax.yaxis.set_visible(False)\n",
        "\n",
        "  if np.isscalar(x_lim):\n",
        "    if x_lim == 0:\n",
        "      x_lim2 = N/fs   # End of input signal\n",
        "    else:\n",
        "      x_lim2 = x_lim\n",
        "    plt.xlim(0, x_lim2)\n",
        "  else:\n",
        "    plt.xlim(x_lim)\n",
        "\n",
        "  if np.isscalar(y_lim):\n",
        "    if y_lim != 0:\n",
        "      plt.ylim(-y_lim, y_lim)\n",
        "  else:\n",
        "    plt.ylim(y_lim)\n",
        "\n",
        "  fig.tight_layout()\n",
        "  #plt.ion()\n",
        "  plt.close()\n",
        "\n",
        "  # Returning the figure causes issues with interactive matplotlib\n",
        "  return fig\n",
        "  # For saving the figure, use the interactive buton, instead.\n",
        "  # For further customization and command-line saving, more changes are required."
      ],
      "metadata": {
        "id": "aNLccM7sz9SE"
      },
      "execution_count": null,
      "outputs": []
    },
    {
      "cell_type": "markdown",
      "source": [
        "## `myPlotFFT()`\n",
        "Plot the magnitude frequency response (in dB FS) of a signal with my default figure settings and a frequency x-axis (in Hz), based on the Nyquist rate.\n",
        "* Required arguments:\n",
        "  * `sig` Input signal (first argument)\n",
        "* Optional arguments:\n",
        "  * `n_fft=#` The size of FFT to use (default: length of input signal)\n",
        "  * `n_win=#` The length of window to use (default: length of input)\n",
        "  * `win='hann'` The type of window to use (default: `hann`, or `rect`)\n",
        "  * `fs=#` Sample rate of signal (default: 44100 Hz)\n",
        "  * `x_lim=# or (#,#)` Frequency axis limits (max or range, in Hz)\n",
        "  * `fig_size=(W,H)` Change figure dimensions (width, height)\n",
        "  * `x_ax=True/False` Show x-axis (default: True)\n",
        "  * `y_ax=True/False` Show y-axis (default: True)\n",
        "  * `lw=#` Change linewdith of signal (default: 1)\n",
        "  * `fmt='...'` Change plot formatting (default: none)"
      ],
      "metadata": {
        "id": "7jSL6pxMXfgi"
      }
    },
    {
      "cell_type": "code",
      "source": [
        "def myPlotFFT(sig, fs=44100, n_fft=0, n_win=0, win='hann', neg_f=False, x_lim=0, y_lim=0, fig_size=(16,6),x_ax=True, y_ax=True, lw=1, fmt=''):\n",
        "  if n_fft==0:\n",
        "    n_fft = len(sig)\n",
        "  if n_win==0:\n",
        "    n_win = len(sig)\n",
        "\n",
        "  if win=='hann':  \n",
        "    win = np.hanning(n_win)\n",
        "    win_scale = 2\n",
        "  else:\n",
        "    win = np.ones(n_win)\n",
        "    win_scale = 1\n",
        "\n",
        "  S = np.fft.fft(sig * win, n_fft)\n",
        "  N = len(S)\n",
        "  f = np.arange(N) * fs / N\n",
        "  if neg_f:\n",
        "    f = f - (fs/2)\n",
        "    S = np.fft.fftshift(S)\n",
        "\n",
        "  S_mag = 2*win_scale*np.abs(S) / n_win     # Frequency magnitude, normalized by length\n",
        "                                            #    x2 because cos(w) = 0.5e^jw + 0.5e^-jw\n",
        "                                            #    x2 for Hann because window has 0.5 average\n",
        "\n",
        "  S_mag += 1e-15                  # Add a small offset to avoid log(0) errors\n",
        "  S_dBFS = 20*np.log10(S_mag)     # Freq. magnitude in dB full scale (dB FS):\n",
        "                                  #    cos(w) -> 0 dBFS peak at w\n",
        "\n",
        "\n",
        "  fig = plt.figure(figsize=fig_size)\n",
        "  plt.plot(f, S_dBFS, fmt, linewidth=lw) \n",
        "  if np.isscalar(x_lim):\n",
        "    if x_lim == 0:\n",
        "      x_lim2 = fs/2\n",
        "    if neg_f:\n",
        "      x_lim = -fs/2\n",
        "    plt.xlim(x_lim, x_lim2)\n",
        "  else:\n",
        "    plt.xlim(x_lim)\n",
        "\n",
        "  if np.isscalar(y_lim):\n",
        "    if y_lim < 0:\n",
        "      plt.ylim(y_lim, 0)\n",
        "    elif y_lim > 0:\n",
        "      plt.ylim(0, y_lim)\n",
        "  else:\n",
        "    plt.ylim(y_lim)\n",
        "\n",
        "  plt.xlabel('Frequency (Hz)')\n",
        "  plt.ylabel('Magnitude (dB FS)')\n",
        "\n",
        "  ax = plt.gca()\n",
        "  if x_ax == False:\n",
        "    ax.xaxis.set_visible(False)\n",
        "  if y_ax == False:\n",
        "    ax.yaxis.set_visible(False)\n",
        "  fig.tight_layout()\n",
        "\n",
        "  # Returning the figure causes issues with interactive matplotlib\n",
        "  return fig\n",
        "  # For saving the figure, use the interactive buton, instead.\n",
        "  # For further customization and command-line saving, more changes are required."
      ],
      "metadata": {
        "id": "wKGq7SuNXTeS"
      },
      "execution_count": null,
      "outputs": []
    },
    {
      "cell_type": "markdown",
      "source": [
        "## `mySpectrogram()`\n",
        "A simple wrapper to compute and plot the spectrogram of a signal with my default figure settings, a time x-axis (in seconds) and a frequency y-axis (in Hz), based on the Nyquist rate.\n",
        "* Required arguments:\n",
        "  * `sig` Input signal (first argument)\n",
        "* Optional arguments:\n",
        "  * `fs=#` Sample rate of signal (default: 44100 Hz)\n",
        "  * `win='window_name'` The type of analysis window to use (default: 'hann')\n",
        "  * `n_win=#` The length of window to use per frame (default: 1024)\n",
        "  * `n_fft=#` The size of FFT to use (default: 1024)\n",
        "  * `x_lim=# or (#,#)` x-axis limit or range (in seconds)\n",
        "  * `y_lim=# or (#,#)` y-axis limit or range (in Hz)\n",
        "  * `fig_size=(W,H)` Change figure dimensions (width, height)\n",
        "  * `x-ax=True/False` Show x-axis (default: True)\n",
        "  * `y-ax=True/False` Show y-axis (default: True)"
      ],
      "metadata": {
        "id": "kAxTI9wgkEs8"
      }
    },
    {
      "cell_type": "code",
      "source": [
        "def mySpectrogram(sig, fs=44100, win='hann', n_win=1024, olap=512, n_fft=1024, x_lim=0, y_lim=0, fig_size=(12,6), x_ax=True, y_ax=True):\n",
        "  f1, t1, Sxx = signal.stft(sig, fs, window=win, nperseg=n_win, noverlap=olap, nfft=n_fft)\n",
        "\n",
        "  fig = plt.figure(figsize=fig_size)\n",
        "\n",
        "  S_mag = 4*np.abs(Sxx) + 1e-15\n",
        "  S_dBFS = 20*np.log10(S_mag)\n",
        "  \n",
        "  plt.pcolormesh(t1, f1, S_dBFS)\n",
        "  plt.ylabel('Frequency (Hz)')\n",
        "  plt.xlabel('Time (sec)')\n",
        "\n",
        "  if np.isscalar(x_lim):\n",
        "    if x_lim == 0:\n",
        "      x_lim = len(sig) / fs\n",
        "    plt.xlim(0, x_lim)\n",
        "  else:\n",
        "    plt.xlim(x_lim)\n",
        "\n",
        "  if np.isscalar(y_lim):\n",
        "    if y_lim == 0:\n",
        "      y_lim = fs/2\n",
        "    plt.ylim(0, y_lim)\n",
        "  else:\n",
        "    plt.ylim(y_lim)\n",
        "\n",
        "  ax = plt.gca()\n",
        "  if x_ax == False:\n",
        "    ax.xaxis.set_visible(False)\n",
        "  if y_ax == False:\n",
        "    ax.yaxis.set_visible(False)\n",
        "  fig.tight_layout()\n",
        "\n",
        "  # plt.ion()\n",
        "  \n",
        "  # Returning the figure causes issues with interactive matplotlib\n",
        "  return fig\n",
        "  # For saving the figure, use the interactive buton, instead.\n",
        "  # For further customization and command-line saving, more changes are required."
      ],
      "metadata": {
        "id": "gaonAlsvmEbT"
      },
      "execution_count": null,
      "outputs": []
    },
    {
      "cell_type": "markdown",
      "source": [
        "# Bitrate\n",
        "\n",
        "What's the bitrate for these various quantizations?\n",
        "* $b_r = f_s \\cdot B \\cdot C$ in bits / second\n",
        "  * $f_s$ is the sampling rate\n",
        "  * $B$ is bits per sample\n",
        "  * $C$ is the number of channels"
      ],
      "metadata": {
        "id": "2j593hkzZXQQ"
      }
    },
    {
      "cell_type": "code",
      "source": [
        "n_bits = 16\n",
        "fs = 44100\n",
        "\n",
        "br44_16 = fs * n_bits\n",
        "print(br44_16)"
      ],
      "metadata": {
        "id": "A0aEosnOZrof"
      },
      "execution_count": null,
      "outputs": []
    },
    {
      "cell_type": "markdown",
      "metadata": {
        "id": "cWj0eW-qEjxf"
      },
      "source": [
        "# Load today's audio sample\n",
        "\n",
        "* 44.1 kHz sampling rate"
      ]
    },
    {
      "cell_type": "code",
      "metadata": {
        "id": "xMUmfBZ0-9XL"
      },
      "source": [
        "x, fs44 = sf.read(path + 'BigTime.wav')\n",
        "ipd.Audio(x, rate=fs44)"
      ],
      "execution_count": null,
      "outputs": []
    },
    {
      "cell_type": "code",
      "metadata": {
        "id": "AvhFkx6JZL9T"
      },
      "source": [
        "myPlot(x)"
      ],
      "execution_count": null,
      "outputs": []
    },
    {
      "cell_type": "markdown",
      "source": [
        "# Our filter function, `smoothie()`\n",
        "\n",
        "Inputs:\n",
        "* `x` signal to be filtered\n",
        "* `h` filter function\n",
        "\n",
        "Output:\n",
        "* `s` filtered signal\n",
        "\n",
        "What it does:\n",
        "* Implement the following operation:\n",
        "  * $y[n] = \\sum_{m=n}^{n+L} x[m] h[m-n]$"
      ],
      "metadata": {
        "id": "cIBQlbLk6WgU"
      }
    },
    {
      "cell_type": "code",
      "source": [
        "def smoothie(x, h):\n",
        "  N = len(x)\n",
        "  L = len(h)\n",
        "\n",
        "  y = np.zeros(N)                   # Create an output array of zeros\n",
        "  for n in range(N - L):\n",
        "    y[n] = np.sum( x[n:n+L] * h )\n",
        "\n",
        "  return y"
      ],
      "metadata": {
        "id": "1z9iKWBf6VK5"
      },
      "execution_count": null,
      "outputs": []
    },
    {
      "cell_type": "markdown",
      "source": [
        "## Create a low-pass filter"
      ],
      "metadata": {
        "id": "ZkLFH-Oa8fQn"
      }
    },
    {
      "cell_type": "code",
      "source": [
        "L = 17  # Number of samples to average\n",
        "N = 50\n",
        "h = np.zeros(N)\n",
        "h[:L] = np.hanning(L)\n",
        "\n",
        "plt.stem(h, basefmt=' ')"
      ],
      "metadata": {
        "id": "fcoGoMaNg-ty"
      },
      "execution_count": null,
      "outputs": []
    },
    {
      "cell_type": "code",
      "source": [
        "y = smoothie(x, h)"
      ],
      "metadata": {
        "id": "0Ek_tEMj8ip5"
      },
      "execution_count": null,
      "outputs": []
    },
    {
      "cell_type": "code",
      "source": [
        "myPlot(x[:1500])"
      ],
      "metadata": {
        "id": "PDlZU_lW8VQJ"
      },
      "execution_count": null,
      "outputs": []
    },
    {
      "cell_type": "code",
      "source": [
        "myPlot(y[:1500])"
      ],
      "metadata": {
        "id": "3z0WDUlwhW-d"
      },
      "execution_count": null,
      "outputs": []
    },
    {
      "cell_type": "code",
      "source": [
        "ipd.Audio(y, rate=fs44)"
      ],
      "metadata": {
        "id": "UlcLr6PR2K4m"
      },
      "execution_count": null,
      "outputs": []
    },
    {
      "cell_type": "markdown",
      "source": [
        "## What's another way of describing our equation?\n",
        "* $y[n] = \\sum_{m=n}^{n+L}x[m] h[m-n]$ ?\n",
        "* Why do we call the filter function $h[n]$?"
      ],
      "metadata": {
        "id": "22Dc0GBS-NQJ"
      }
    },
    {
      "cell_type": "code",
      "source": [
        "y_c = np.convolve(x, h)\n",
        "myPlot(y_c[:1500])"
      ],
      "metadata": {
        "id": "FFYxm53U-Zs4"
      },
      "execution_count": null,
      "outputs": []
    },
    {
      "cell_type": "markdown",
      "source": [
        "# What's going on in the frequency domain?"
      ],
      "metadata": {
        "id": "7jFf149F90j7"
      }
    },
    {
      "cell_type": "code",
      "source": [
        "myPlotFFT(x, win='rect')"
      ],
      "metadata": {
        "id": "nk1sAokV99e0"
      },
      "execution_count": null,
      "outputs": []
    },
    {
      "cell_type": "code",
      "source": [
        "myPlotFFT(h, n_fft=2048, win='rect', y_lim=-100)"
      ],
      "metadata": {
        "id": "0vQ98vOQhUSK"
      },
      "execution_count": null,
      "outputs": []
    },
    {
      "cell_type": "markdown",
      "source": [
        "Plot the output, $X[k]H[k]$"
      ],
      "metadata": {
        "id": "JVlzUq6tu5SM"
      }
    },
    {
      "cell_type": "code",
      "source": [
        "fig = "
      ],
      "metadata": {
        "id": "XETK2jNfu3ZI"
      },
      "execution_count": null,
      "outputs": []
    },
    {
      "cell_type": "markdown",
      "source": [
        "Save it when you're done"
      ],
      "metadata": {
        "id": "8VD1PyCNu_fn"
      }
    },
    {
      "cell_type": "code",
      "source": [
        "fig.savefig(path + username + '-X[k]H[k].png')"
      ],
      "metadata": {
        "id": "Gd2_imIHukAx"
      },
      "execution_count": null,
      "outputs": []
    },
    {
      "cell_type": "markdown",
      "source": [
        "## What's up with the sidelobes?"
      ],
      "metadata": {
        "id": "3T7S5IVQvPHl"
      }
    },
    {
      "cell_type": "code",
      "source": [
        "W = fft.fft(h, n=128)\n",
        "f = np.arange(128)*fs44/128\n",
        "plt.plot(f,np.real(W),f,np.imag(W))"
      ],
      "metadata": {
        "id": "m_ngyliftTqQ"
      },
      "execution_count": null,
      "outputs": []
    },
    {
      "cell_type": "code",
      "source": [
        "f2 = f-fs44/2\n",
        "plt.plot(f2,fft.fftshift(np.real(W)),f2,fft.fftshift(np.imag(W)))"
      ],
      "metadata": {
        "id": "z8PF2bvyt8iF"
      },
      "execution_count": null,
      "outputs": []
    },
    {
      "cell_type": "code",
      "source": [
        "plt.plot(f2, fft.fftshift(np.abs(W)))"
      ],
      "metadata": {
        "id": "DYim-hPluND7"
      },
      "execution_count": null,
      "outputs": []
    },
    {
      "cell_type": "code",
      "source": [],
      "metadata": {
        "id": "D3kIfhtsufoY"
      },
      "execution_count": null,
      "outputs": []
    },
    {
      "cell_type": "markdown",
      "source": [
        "## So, does multiplying in the frequency domain work?"
      ],
      "metadata": {
        "id": "0Db-8TIeAdF7"
      }
    },
    {
      "cell_type": "code",
      "source": [
        "N = len(x)\n",
        "X = np.fft.fft(x, n=N+L)\n",
        "H = np.fft.fft(h, n=N+L)\n",
        "Y = X * H"
      ],
      "metadata": {
        "id": "dm_0nLu5AcZY"
      },
      "execution_count": null,
      "outputs": []
    },
    {
      "cell_type": "code",
      "source": [
        "Y_dB = 20*np.log10(np.abs(Y))\n",
        "f = fs44 * np.arange(N+L)/ (N+L)\n",
        "plt.plot(f, Y_dB)\n",
        "plt.xlim(0,fs44/2)\n",
        "plt.ylim(-100,100)"
      ],
      "metadata": {
        "id": "AOJwl6M0A4Lo"
      },
      "execution_count": null,
      "outputs": []
    },
    {
      "cell_type": "markdown",
      "source": [
        "## New concept: The *inverse* Discrete Fourier Transform!\n",
        "\n",
        "* $X[k] = \\sum_{n=0}^{N} x[n] \\cdot e^{-j \\frac{2\\pi \\cdot k \\cdot n}{N}}$\n",
        "\n",
        "* $x[n] = \\frac{1}{N} \\sum_{k=0}^{N} X[k] \\cdot e^{+j \\frac{ 2\\pi \\cdot k \\cdot n}{N}}$"
      ],
      "metadata": {
        "id": "BOUZfOBiDc8Y"
      }
    },
    {
      "cell_type": "code",
      "source": [
        "y_i = fft.ifft(Y)"
      ],
      "metadata": {
        "id": "EaYCguspBl_x"
      },
      "execution_count": null,
      "outputs": []
    },
    {
      "cell_type": "code",
      "source": [
        "myPlot(y_i)"
      ],
      "metadata": {
        "id": "ZO_WKIspB4UZ"
      },
      "execution_count": null,
      "outputs": []
    },
    {
      "cell_type": "code",
      "source": [
        "myPlot(np.imag(y_i))"
      ],
      "metadata": {
        "id": "VSAV59u6CEKp"
      },
      "execution_count": null,
      "outputs": []
    },
    {
      "cell_type": "code",
      "source": [
        "ipd.Audio(y_i, rate=fs44)"
      ],
      "metadata": {
        "id": "onlLUgJHB9Dp"
      },
      "execution_count": null,
      "outputs": []
    },
    {
      "cell_type": "markdown",
      "source": [
        "## Longer audio sample"
      ],
      "metadata": {
        "id": "yge0_bWVCtTr"
      }
    },
    {
      "cell_type": "code",
      "source": [
        "x_20, fs44 = sf.read(path + 'BigTime20s.wav')\n",
        "ipd.Audio(x_20, rate=fs44)"
      ],
      "metadata": {
        "id": "nvNmRW3PCsyJ"
      },
      "execution_count": null,
      "outputs": []
    },
    {
      "cell_type": "code",
      "source": [
        "N_20 = len(x_20)\n",
        "X_20 = fft.fft(x_20)\n",
        "H_20 = \n",
        "Y_20 = "
      ],
      "metadata": {
        "id": "LZalBPzxvf-E"
      },
      "execution_count": null,
      "outputs": []
    },
    {
      "cell_type": "code",
      "source": [
        "y_20 = fft.ifft(Y_20)\n",
        "fig2 = myPlot(y_20)"
      ],
      "metadata": {
        "id": "AHHEUXNXDCNA"
      },
      "execution_count": null,
      "outputs": []
    },
    {
      "cell_type": "code",
      "source": [
        "fig2.savefig(path + username + 'y_20[n]')"
      ],
      "metadata": {
        "id": "7Xzz8YhYv2-4"
      },
      "execution_count": null,
      "outputs": []
    },
    {
      "cell_type": "code",
      "source": [
        "ipd.Audio(y_20, rate=fs44)"
      ],
      "metadata": {
        "id": "vz4LeLCZDH3r"
      },
      "execution_count": null,
      "outputs": []
    },
    {
      "cell_type": "markdown",
      "source": [
        "# Let's just multiply by the ideal LPF!\n",
        "  * $H_{id} = 1$, $f \\leq f_c$\n",
        "  * $H_{id} = 0$, $f > f_c$"
      ],
      "metadata": {
        "id": "6LDhF_C4DQuV"
      }
    },
    {
      "cell_type": "code",
      "source": [
        "print(N_20)"
      ],
      "metadata": {
        "id": "gfKmHf8lDO2C"
      },
      "execution_count": null,
      "outputs": []
    },
    {
      "cell_type": "code",
      "source": [
        "2**20"
      ],
      "metadata": {
        "id": "3oP4OkEcjZUd"
      },
      "execution_count": null,
      "outputs": []
    },
    {
      "cell_type": "code",
      "source": [
        "H_id = np.zeros(2**20)\n",
        "f_c = 6000\n",
        "n_c = f_c/fs44 * 2**20\n",
        "print(n_c)\n",
        "H_id[:int(n_c)] = 1\n",
        "f = fs44 * np.arange(2**20) / 2**20\n",
        "plt.plot(f, H_id)\n",
        "plt.xlabel('Frequency (Hz)')"
      ],
      "metadata": {
        "id": "eufvOtKSjfp9"
      },
      "execution_count": null,
      "outputs": []
    },
    {
      "cell_type": "code",
      "source": [
        "H_id[-int(n_c):] = 1\n",
        "plt.plot(f, H_id)\n",
        "plt.xlabel('Frequency (Hz)')"
      ],
      "metadata": {
        "id": "j0RYmtfikcEx"
      },
      "execution_count": null,
      "outputs": []
    },
    {
      "cell_type": "code",
      "source": [
        "h_id = fft.ifft(H_id)\n",
        "plt.plot(h_id)"
      ],
      "metadata": {
        "id": "5tFVcZKakkzO"
      },
      "execution_count": null,
      "outputs": []
    },
    {
      "cell_type": "code",
      "source": [
        "plt.plot(fft.fftshift(h_id))\n",
        "plt.xlim(524000,524600)"
      ],
      "metadata": {
        "id": "3s_dbkZjlMa0"
      },
      "execution_count": null,
      "outputs": []
    },
    {
      "cell_type": "code",
      "source": [
        "X_20_id = fft.fft(x_20, n=2**20)\n",
        "Y_20_id = X_20_id * H_id\n",
        "\n",
        "plt.plot(f, 20*np.log10(np.abs(Y_20_id + 1e-15)))\n",
        "plt.xlim(0, fs44/2)\n",
        "plt.xlabel('Frequency (Hz)')"
      ],
      "metadata": {
        "id": "kSs5fbYJl6gb"
      },
      "execution_count": null,
      "outputs": []
    },
    {
      "cell_type": "code",
      "source": [
        "y_20_id = fft.ifft(Y_20_id)\n",
        "myPlot(y_20_id)"
      ],
      "metadata": {
        "id": "7WsmmjL6meA6"
      },
      "execution_count": null,
      "outputs": []
    },
    {
      "cell_type": "code",
      "source": [
        "ipd.Audio(y_20_id, rate=fs44)"
      ],
      "metadata": {
        "id": "eounBQSWmoXt"
      },
      "execution_count": null,
      "outputs": []
    },
    {
      "cell_type": "markdown",
      "source": [
        "# Working with much longer signals\n",
        "* Use the STFT (and Inverse STFT)"
      ],
      "metadata": {
        "id": "RIRFmftooZ7t"
      }
    },
    {
      "cell_type": "code",
      "source": [
        "mySpectrogram(np.real(y_20_id))"
      ],
      "metadata": {
        "id": "8NPLwmHqnq73"
      },
      "execution_count": null,
      "outputs": []
    },
    {
      "cell_type": "code",
      "source": [
        "f1, t1, S_20 = signal.stft(x_20, fs44, nperseg=256, noverlap=128, nfft=256)\n",
        "\n",
        "S_mag = np.abs(S_20) + 1e-15\n",
        "S_dB = 20*np.log10(S_mag)\n",
        "  \n",
        "plt.pcolormesh(t1, f1, S_dB)\n",
        "plt.ylabel('Frequency (Hz)')\n",
        "plt.xlabel('Time (sec)')"
      ],
      "metadata": {
        "id": "MTLheRjVo7Gb"
      },
      "execution_count": null,
      "outputs": []
    },
    {
      "cell_type": "code",
      "source": [
        "np.shape(S_20)"
      ],
      "metadata": {
        "id": "X9Fxtcv8qsWh"
      },
      "execution_count": null,
      "outputs": []
    },
    {
      "cell_type": "code",
      "source": [
        "S_20[10:, :] = 0"
      ],
      "metadata": {
        "id": "4V-k9mZyqymZ"
      },
      "execution_count": null,
      "outputs": []
    },
    {
      "cell_type": "code",
      "source": [
        "S_mag = np.abs(S_20) + 1e-15\n",
        "S_dB = 20*np.log10(S_mag)\n",
        "  \n",
        "plt.pcolormesh(t1, f1, S_dB)\n",
        "plt.ylabel('Frequency (Hz)')\n",
        "plt.xlabel('Time (sec)')"
      ],
      "metadata": {
        "id": "-DGaMkBoq3wl"
      },
      "execution_count": null,
      "outputs": []
    },
    {
      "cell_type": "code",
      "source": [
        "t2, y2 = signal.istft(S_20, nperseg=256, noverlap=128, nfft=256)\n",
        "plt.plot(t2,y2)"
      ],
      "metadata": {
        "id": "ozJcxRqppuI3"
      },
      "execution_count": null,
      "outputs": []
    },
    {
      "cell_type": "code",
      "source": [
        "ipd.Audio(y2, rate=fs44)"
      ],
      "metadata": {
        "id": "Fb7Pzb2FqkzM"
      },
      "execution_count": null,
      "outputs": []
    },
    {
      "cell_type": "code",
      "source": [
        "mySpectrogram(y2)"
      ],
      "metadata": {
        "id": "-OX_q9a6r_cN"
      },
      "execution_count": null,
      "outputs": []
    }
  ]
}