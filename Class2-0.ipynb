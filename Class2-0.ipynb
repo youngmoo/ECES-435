{
  "cells": [
    {
      "cell_type": "markdown",
      "metadata": {
        "id": "view-in-github",
        "colab_type": "text"
      },
      "source": [
        "<a href=\"https://colab.research.google.com/github/youngmoo/ECES-435/blob/main/Class2-0.ipynb\" target=\"_parent\"><img src=\"https://colab.research.google.com/assets/colab-badge.svg\" alt=\"Open In Colab\"/></a>"
      ]
    },
    {
      "cell_type": "markdown",
      "source": [
        "# Introduction and motivation\n",
        "This is an example notebook for interactive sound control and visualization with sliders (and pseudo-real-time output) in Colab using [ipywidgets](https://ipywidgets.readthedocs.io/).\n",
        "\n",
        "* Re-draws figures (using matplotlib) with parameter changes.\n",
        "* Re-renders and plays sound (using iPython.display) with parameter changes.\n",
        "* ipywidgets is now installed in Colab (no need to install it as a separate package)."
      ],
      "metadata": {
        "id": "JMoirJ7ipS24"
      }
    },
    {
      "cell_type": "markdown",
      "metadata": {
        "id": "QOTjU5C_b672"
      },
      "source": [
        "# Initialization"
      ]
    },
    {
      "cell_type": "code",
      "execution_count": null,
      "metadata": {
        "id": "eDaoDgqCs1mp"
      },
      "outputs": [],
      "source": [
        "import numpy as np\n",
        "import matplotlib.pyplot as plt\n",
        "import IPython.display as ipd\n",
        "%matplotlib inline\n",
        "from ipywidgets import *    # Uses interactive, Layout, widgets, Box\n",
        "from matplotlib import rc\n",
        "\n",
        "# For JavaScript widget animation (animations will not have sound)\n",
        "rc('animation', html='jshtml')\n",
        "rc('animation', embed_limit=2**30)"
      ]
    },
    {
      "cell_type": "markdown",
      "metadata": {
        "id": "K81ikW85djBA"
      },
      "source": [
        "## My plot style defaults (optional)"
      ]
    },
    {
      "cell_type": "code",
      "execution_count": null,
      "metadata": {
        "id": "PSFIdN5_diTt"
      },
      "outputs": [],
      "source": [
        "rc('figure', facecolor='#373838')\n",
        "\n",
        "rc('axes', facecolor='#1e1e1e')\n",
        "rc('axes', edgecolor='w')\n",
        "rc('axes', labelcolor='w')\n",
        "rc('xtick', color='w')\n",
        "rc('ytick', color='w')\n",
        "\n",
        "rc('font', family='Liberation Serif')\n",
        "rc('font', size=20)"
      ]
    },
    {
      "cell_type": "markdown",
      "source": [
        "# Revisiting complex tones: Interactive additive synthesis\n",
        "Synthesize, plot, and play a complex tone with 6 sinusoids (a fundametal frequency with 5 additional harmonics)\n",
        "* The fundamental frequency (pitch) is controled by the `f0` slider (ranging from A1: 55Hz to A5: 880 Hz).\n",
        "* `a1...a6` are the amplitudes of the harmonics (e.g., `a3` is the weight of frequency `3*f0`).\n",
        "* Move a slider to start synthesis (plot and sound)"
      ],
      "metadata": {
        "id": "wAIH4D0OK5C-"
      }
    },
    {
      "cell_type": "code",
      "source": [
        "def complex_tone(f0=220.0, a1=1., a2=0., a3=0., a4=0., a5=0., a6=0.):\n",
        "    w = 2*np.pi*f0*t    # time samples times 2 * pi * fundamental frequency \n",
        "    signal = a1*np.sin(w) + a2*np.sin(2*w) + a3*np.sin(3*w) + a4*np.sin(4*w) + a5*np.sin(5*w) + a6*np.sin(6*w)\n",
        "    line.set_ydata(signal[:plot_pts])   # Set the line object y-data to the new signal samples\n",
        "    display(fig)                        # Display the updated figure (otherwise, the plot will not update)\n",
        "    ipd.display(ipd.Audio(data=signal, rate=fs, autoplay=True))  # 'Display' (and autoplay) the updated sound\n",
        "    return signal\n",
        "\n",
        "# Initial parameters\n",
        "fs = 8000                     # Low sampling rate to minimize computation\n",
        "dur = 3                       # Duration of synthesized tone (in seconds)\n",
        "t = np.linspace(0,dur,dur*fs) # Time samples for rendering\n",
        "plot_pts = 250                # Number of points to plot\n",
        "\n",
        "# Initialize figure\n",
        "fig = plt.figure(figsize=(12,4))\n",
        "ax = plt.axes(xlim=[0, plot_pts/fs], ylim=[-3,3])\n",
        "line, = ax.plot(t[:plot_pts],np.zeros(plot_pts))\n",
        "plt.ylabel('Amplitude')\n",
        "plt.xlabel('Time (sec)')\n",
        "plt.close()\n",
        "\n",
        "# Slider layout templates (for horizontal and vertical layouts)\n",
        "amp_sliders = Layout(display='flex', flex_flow='row', align_items='stretch')\n",
        "f0_slider = Layout(display='flex', flex_flow='column', align_items='stretch')\n",
        "\n",
        "labels = ['a1','a2','a3','a4','a5','a6']\n",
        "# Create a list of amplitude sliders\n",
        "items = [widgets.FloatSlider(description=label, min=0.0, max=1.0, value=0.0, orientation='vertical') for label in labels]\n",
        "items[0].value = 1.0\n",
        "\n",
        "# Use interactive to link the controls and parameters for the complex_tone function\n",
        "controls = interactive(complex_tone, f0=(55.0,880.0), a1=items[0], a2=items[1], a3=items[2], a4=items[3], a5=items[4], a6=items[5])\n",
        "\n",
        "# Create the layout (f0 on top, a1...a6 as vertical sliders beneath)\n",
        "h_slider = Box(children=[controls.children[0]], layout=f0_slider)\n",
        "v_sliders = Box(children=controls.children[1:], layout=amp_sliders)\n",
        "display(h_slider)\n",
        "display(v_sliders)"
      ],
      "metadata": {
        "id": "n9m96ESmuYWU"
      },
      "execution_count": null,
      "outputs": []
    }
  ],
  "metadata": {
    "colab": {
      "collapsed_sections": [],
      "provenance": [],
      "toc_visible": true,
      "include_colab_link": true
    },
    "kernelspec": {
      "display_name": "Python 3",
      "name": "python3"
    }
  },
  "nbformat": 4,
  "nbformat_minor": 0
}