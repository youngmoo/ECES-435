{
  "nbformat": 4,
  "nbformat_minor": 0,
  "metadata": {
    "colab": {
      "provenance": [],
      "collapsed_sections": [],
      "toc_visible": true,
      "include_colab_link": true
    },
    "kernelspec": {
      "name": "python3",
      "display_name": "Python 3"
    },
    "language_info": {
      "name": "python"
    }
  },
  "cells": [
    {
      "cell_type": "markdown",
      "metadata": {
        "id": "view-in-github",
        "colab_type": "text"
      },
      "source": [
        "<a href=\"https://colab.research.google.com/github/youngmoo/ECES-435/blob/main/Lab_1_(09_25_22).ipynb\" target=\"_parent\"><img src=\"https://colab.research.google.com/assets/colab-badge.svg\" alt=\"Open In Colab\"/></a>"
      ]
    },
    {
      "cell_type": "markdown",
      "source": [
        "#***Lab Overview***\n",
        "\n",
        "In this lab you will:\n",
        "* generate sinusoids and complex tones\n",
        "* create a custom plotting function\n",
        "* load, modify and save audio\n",
        "* multiply time domain signals and interpret the results\n",
        "---"
      ],
      "metadata": {
        "id": "7gwbSm64lSw7"
      }
    },
    {
      "cell_type": "markdown",
      "source": [
        "## BEFORE YOU GET STARTED:\n",
        "To modify this notebook you will need to save a copy to your google drive. Rename the copy [Your Drexel Username]_Lab1.ipynb and then at the end of the lab you will share the notebook with TA Charis to get credit for the lab."
      ],
      "metadata": {
        "id": "6TChsKBAsEfQ"
      }
    },
    {
      "cell_type": "markdown",
      "source": [
        "# Part 1: Generating Signals"
      ],
      "metadata": {
        "id": "yUsn1t5Cp3f8"
      }
    },
    {
      "cell_type": "markdown",
      "source": [
        "## Set Up Your Colab Enviornment"
      ],
      "metadata": {
        "id": "0SyWV0NZqihH"
      }
    },
    {
      "cell_type": "markdown",
      "source": [
        "### 1 \n",
        "First, mount google drive so that you can access the shared class drive and files. (You may want to check the notebooks from lecture for a reminder of how this is done.)"
      ],
      "metadata": {
        "id": "jCDKfwvgp8Da"
      }
    },
    {
      "cell_type": "code",
      "execution_count": null,
      "metadata": {
        "id": "FeOyEWz1k6zm"
      },
      "outputs": [],
      "source": [
        "#Your code here"
      ]
    },
    {
      "cell_type": "markdown",
      "source": [
        "### 2\n",
        "Import the libraries you'll be using:\n",
        "\n",
        "\n",
        "\n",
        "*   soundfile (as sf) for audio signal processing\n",
        "*   IPython.display (as ipd) for audio playback\n",
        "*   matplotlib (as rc) for figure customization\n",
        "*   matplotlib.pyplot (as plt) for plotting\n",
        "*   numpy (as np) for some math functions"
      ],
      "metadata": {
        "id": "N9e4v2S4m5s8"
      }
    },
    {
      "cell_type": "code",
      "source": [
        "#Your code here"
      ],
      "metadata": {
        "id": "0um89XU4nS5p"
      },
      "execution_count": null,
      "outputs": []
    },
    {
      "cell_type": "markdown",
      "source": [
        "Tip: To quickly view documentation for a function, you can use the help function. See below."
      ],
      "metadata": {
        "id": "iwqQ53Wtnja9"
      }
    },
    {
      "cell_type": "code",
      "source": [
        "help(ipd.Audio)"
      ],
      "metadata": {
        "id": "4PauIZPTn4cm"
      },
      "execution_count": null,
      "outputs": []
    },
    {
      "cell_type": "markdown",
      "source": [
        "Tip: To quickly and neatly hide code cell outputs, press Ctrl + C + M + O (for Windows) or Cmnd + C + M + O (for Mac)."
      ],
      "metadata": {
        "id": "Y-4mN-1pT66S"
      }
    },
    {
      "cell_type": "markdown",
      "source": [
        "## Generate a simple sine wave"
      ],
      "metadata": {
        "id": "X-NJ4GFCq0B-"
      }
    },
    {
      "cell_type": "markdown",
      "source": [
        "### 3 \n",
        "Generate a sine wave using the the built in sin() function with the inputs t (time vector), f (fundamental frequency), and A (amplitude). Choose a fundamental frequency (You could try something like 220 which is A3 on the piano). **Generate a 3 second long signal with a sampling rate specified as sr.**"
      ],
      "metadata": {
        "id": "GLYsi3DMRvNu"
      }
    },
    {
      "cell_type": "code",
      "source": [
        "#Your code here"
      ],
      "metadata": {
        "id": "Z2Km0bcxSviq"
      },
      "execution_count": null,
      "outputs": []
    },
    {
      "cell_type": "markdown",
      "source": [
        "<font color='red'>Use the ipd.Audio function to listen to your audio."
      ],
      "metadata": {
        "id": "42oRdyB0qYv0"
      }
    },
    {
      "cell_type": "code",
      "source": [
        "#Your code here"
      ],
      "metadata": {
        "id": "oxvZ0hYsUaty"
      },
      "execution_count": null,
      "outputs": []
    },
    {
      "cell_type": "markdown",
      "source": [
        "###4\n",
        "Using the sf.write function, write your signal to a wav file. The file should be named [your drexel username]_[f].wav. It should be saved in the provided path for the shared class drive.\n",
        "\n",
        "Important!: The file must be named correctly (MUST HAVE YOUR DRXEL USERNAME) to be counted for credit."
      ],
      "metadata": {
        "id": "dnb94qzeoS5U"
      }
    },
    {
      "cell_type": "code",
      "source": [
        "YourDrexelUsername = #Be sure to fill this in and include the username in the filename\n",
        "GDrivePath = '/content/drive/MyDrive/eces435-work/Labs/Lab1/'\n",
        "\n",
        "#Your code here"
      ],
      "metadata": {
        "id": "shT5VtLyoS5U"
      },
      "execution_count": null,
      "outputs": []
    },
    {
      "cell_type": "markdown",
      "source": [
        "##Create a Custom Plotting Function"
      ],
      "metadata": {
        "id": "hjMeupDXUm-r"
      }
    },
    {
      "cell_type": "markdown",
      "source": [
        "Now, you will work on building a custom flexible plotting function. "
      ],
      "metadata": {
        "id": "yi2csGeUXRRg"
      }
    },
    {
      "cell_type": "markdown",
      "source": [
        "### 5\n",
        "Create a function which uses matplotlib (use plt.figure and plt.plot) to plot a simple time-domain plot of your 3 second signal with your signal on the Y axis and the time in seconds on the X axis. *Make the inputs signal and sampling rate, and calculate the time vector in your function*\n",
        "\n",
        "Remember: Use help(plt.plot) to quickly see the documentation."
      ],
      "metadata": {
        "id": "TJ8aWQLody4N"
      }
    },
    {
      "cell_type": "code",
      "source": [
        "def PlotSignal(signal, samplingrate):\n",
        "  #Your code here"
      ],
      "metadata": {
        "id": "wFiHo-DGYpUp"
      },
      "execution_count": null,
      "outputs": []
    },
    {
      "cell_type": "markdown",
      "source": [
        "<font color='red'>Plot the simple sine wave signal using your function PlotSignal()."
      ],
      "metadata": {
        "id": "IDZeNTMZZhrY"
      }
    },
    {
      "cell_type": "code",
      "source": [
        "#Your code here"
      ],
      "metadata": {
        "id": "q29J173kZxIj"
      },
      "execution_count": null,
      "outputs": []
    },
    {
      "cell_type": "markdown",
      "source": [
        "### 6\n",
        "Update the function PlotSignal() and add two extra inputs to the function (format and linewidth) which allow you to change the color and linestyle of the signal you plot.\n",
        "\n",
        "\n",
        "**Hint:** Review the documentation for plt.plot. Format options can be specified together, so you can even change the markers if you want!"
      ],
      "metadata": {
        "id": "1rNHsbmYZEjL"
      }
    },
    {
      "cell_type": "markdown",
      "source": [
        "<font color='red'>Using your function, plot the signal again with a different linestyle, color, and linewidth than the basic plot above."
      ],
      "metadata": {
        "id": "Wv1Wl5OqZbu8"
      }
    },
    {
      "cell_type": "code",
      "source": [
        "#Your code here"
      ],
      "metadata": {
        "id": "SdKJDJ7JZzA-"
      },
      "execution_count": null,
      "outputs": []
    },
    {
      "cell_type": "markdown",
      "source": [
        "### 7\n",
        "Update the function again to add a label to the X axis: \"Time (in Seconds)\"  and to the Y axis: \"Amplitude\", and add input parameters to change the figure size of the plot and the font size of the axis labels.\n",
        "Hint: Figure size is specified when creating a plot as figsize."
      ],
      "metadata": {
        "id": "aoSr__yBZ0WH"
      }
    },
    {
      "cell_type": "markdown",
      "source": [
        "<font color='red'>Play with any other customizations avaiable to your figure by looking at the documentation (ex. changing the font of titles like in class), and then plot your signal again with all these new settings."
      ],
      "metadata": {
        "id": "90lEPGpYaKOQ"
      }
    },
    {
      "cell_type": "code",
      "source": [
        "#Your code here"
      ],
      "metadata": {
        "id": "3dWfWJXVaI3E"
      },
      "execution_count": null,
      "outputs": []
    },
    {
      "cell_type": "markdown",
      "source": [
        "#Part 2: Generating Complex Tones"
      ],
      "metadata": {
        "id": "Qon81EkvbXOs"
      }
    },
    {
      "cell_type": "markdown",
      "source": [
        "In this section you will generate a complex tone by adding some harmonics to a note to create a more interesting and musical sounding note."
      ],
      "metadata": {
        "id": "GpYYfbJ7bglw"
      }
    },
    {
      "cell_type": "markdown",
      "source": [
        "## Generate Harmonics"
      ],
      "metadata": {
        "id": "JVtxK2GBdYsG"
      }
    },
    {
      "cell_type": "markdown",
      "source": [
        "If you remember from class, most notes are not pure tones, but instead a complex tone composed of a fundamental and multiple harmonics.\n",
        "\n",
        "\n",
        "### 8\n",
        "Recreate the complexTone() function from class to generate x the complex tone and the added output **tones** (an array of the fundamental and harmonics added to generate the tone). \n",
        "\n",
        "<font color='red'>For this section generate a note with 3 harmonics.\n",
        "\n",
        "Remember: The input should be a note number (0 to 12) so you will need to find the fundamental frequency inside the complexTone function."
      ],
      "metadata": {
        "id": "Ga3sLvgMjW0q"
      }
    },
    {
      "cell_type": "code",
      "source": [
        "#Your code here"
      ],
      "metadata": {
        "id": "9Yu4zwAgnaM4"
      },
      "execution_count": null,
      "outputs": []
    },
    {
      "cell_type": "markdown",
      "source": [
        "<font color='red'>Concatenate the individual tones in \"tones\" so that you can create a *very* simple song, and then listen to it using ipd.Audio()."
      ],
      "metadata": {
        "id": "MjmPfpxlkKVC"
      }
    },
    {
      "cell_type": "code",
      "source": [
        "#Your code here"
      ],
      "metadata": {
        "id": "3ez4STA0knrF"
      },
      "execution_count": null,
      "outputs": []
    },
    {
      "cell_type": "markdown",
      "source": [
        "## Updating PlotSignal\n",
        "\n",
        "Sometimes it is useful to compare two signals by plotting them either together or side by side with matplotlib. "
      ],
      "metadata": {
        "id": "69dI6XBrd8iq"
      }
    },
    {
      "cell_type": "markdown",
      "source": [
        "### 9\n",
        "Modify the PlotSignal function so that it can take in 1 or multiple signals and plot them together with different line formats, in seperate subplots. \n",
        "\n",
        "\n",
        "**Hint:** You can plot all the subplots in one row and index them by plt.subplots(row, column, plot), but *remember* matplotlib indexes subplots starting at 1.\n",
        "\n",
        "**Tip:** Setting things like linewidth and figsize and fontsize everytime you impliment PlotSignal can be time consuming. You can set defaults within the function once you find styles you like for most plots and still change them on the fly when implimenting PlotSignal.)"
      ],
      "metadata": {
        "id": "jxmjxEH1eIR9"
      }
    },
    {
      "cell_type": "code",
      "source": [
        "def PlotSignal(signal, samplingrate, format, linewidth, figsize, fontsize):"
      ],
      "metadata": {
        "id": "804HW5oieUyy"
      },
      "execution_count": null,
      "outputs": []
    },
    {
      "cell_type": "markdown",
      "source": [
        "### 10\n",
        "Update the PlotSignal function so that it adds a legend with labels for each signal.\n",
        "Hint: This will require also adding an extra input to the function for labels."
      ],
      "metadata": {
        "id": "Ym_S8qqlfRYp"
      }
    },
    {
      "cell_type": "markdown",
      "source": [
        "<font color='red'>Plot each of the tones in *tones* together in seperate subplots using PlotSignal, and add labels for the fundamental and harmonics."
      ],
      "metadata": {
        "id": "jelTr2WSejiB"
      }
    },
    {
      "cell_type": "code",
      "source": [
        "#Your code here"
      ],
      "metadata": {
        "id": "b_y-yGyIf3ms"
      },
      "execution_count": null,
      "outputs": []
    },
    {
      "cell_type": "markdown",
      "source": [
        "## Finally a complex tone!"
      ],
      "metadata": {
        "id": "p49mRAL_f99M"
      }
    },
    {
      "cell_type": "markdown",
      "source": [
        "### 11\n",
        "You still need to actually play the complex tone! \n",
        "<font color='red'> Use ipd.Audio to listen to the complex tone."
      ],
      "metadata": {
        "id": "8GQvLr9Pf2EN"
      }
    },
    {
      "cell_type": "code",
      "source": [
        "#Your code here"
      ],
      "metadata": {
        "id": "OH82eX6Pg4bV"
      },
      "execution_count": null,
      "outputs": []
    },
    {
      "cell_type": "markdown",
      "source": [
        "### 12\n",
        "Plot the complex tone using PlotSignal()."
      ],
      "metadata": {
        "id": "Dy9nyXKZg5g4"
      }
    },
    {
      "cell_type": "code",
      "source": [
        "#Your code here"
      ],
      "metadata": {
        "id": "lxBKYk2jhBEB"
      },
      "execution_count": null,
      "outputs": []
    },
    {
      "cell_type": "markdown",
      "source": [
        "###13\n",
        "Using the sf.write function, write your complex tone to a wav file. The file should be named [your drexel username]_complextone.wav. It should be saved in the provided path for the shared class drive.\n",
        "\n",
        "Important!: The file must be named correctly (MUST HAVE YOUR DRXEL USERNAME) to be counted for credit."
      ],
      "metadata": {
        "id": "SZR2QsTcm_7r"
      }
    },
    {
      "cell_type": "code",
      "source": [
        "YourDrexelUsername = #Be sure to fill this in and include the username in the filename\n",
        "GDrivePath = '/content/drive/MyDrive/eces435-work/Labs/Lab1/'\n",
        "\n",
        "#Your code here"
      ],
      "metadata": {
        "id": "ervwF6BAm_7r"
      },
      "execution_count": null,
      "outputs": []
    },
    {
      "cell_type": "markdown",
      "source": [
        "#Part 3: Loading Audio"
      ],
      "metadata": {
        "id": "Cd5bpnaXhCZi"
      }
    },
    {
      "cell_type": "markdown",
      "source": [
        "## Load a File from Class Drive"
      ],
      "metadata": {
        "id": "dR_8JAOdpdnf"
      }
    },
    {
      "cell_type": "markdown",
      "source": [
        "### 14\n",
        "Load the .wav file ['/content/drive/MyDrive/eces435-work/Labs/Lab1/SampleWav/Sample.wav'] from the class google drive using the sound file load function (sf.read). This will return the audio and its sample rate."
      ],
      "metadata": {
        "id": "_N8UePR9n8iI"
      }
    },
    {
      "cell_type": "code",
      "source": [
        "#Your code here"
      ],
      "metadata": {
        "id": "Gp2mYIEBo0ZY"
      },
      "execution_count": null,
      "outputs": []
    },
    {
      "cell_type": "markdown",
      "source": [
        "<font color='red'>Answer the following questions. \n",
        "\n",
        "  a. What is the sampling rate of your audio file?\n",
        "\n",
        "  b. How many samples long is your audio? (Hint: use the len function)\n",
        "\n",
        "  c. How long is it in seconds?\n",
        "\n",
        "  Your response here:\n",
        "\n",
        "  a.\n",
        "\n",
        "  b.\n",
        "\n",
        "  c."
      ],
      "metadata": {
        "id": "cErCW8gEqrZl"
      }
    },
    {
      "cell_type": "markdown",
      "source": [
        "## Clip the audio"
      ],
      "metadata": {
        "id": "3KBHPMRtphVY"
      }
    },
    {
      "cell_type": "markdown",
      "source": [
        "### 15\n",
        "Create a new audio array that contains just the first 3 seconds of your original signal. Listen to the cropped audio and make sure it is the first 3 seconds.\n",
        "\n",
        "  Hint: Use square brackets for array slicing."
      ],
      "metadata": {
        "id": "v_003oZkryvX"
      }
    },
    {
      "cell_type": "code",
      "source": [
        "#Your code here"
      ],
      "metadata": {
        "id": "pQWGG0QFsGlE"
      },
      "execution_count": null,
      "outputs": []
    },
    {
      "cell_type": "markdown",
      "source": [
        "\n",
        "<font color='red'>Plot the 3 second clip using PlotSignal()."
      ],
      "metadata": {
        "id": "d3xfnc_AkM2E"
      }
    },
    {
      "cell_type": "code",
      "source": [
        "#Your code here"
      ],
      "metadata": {
        "id": "XUgEuglZkidI"
      },
      "execution_count": null,
      "outputs": []
    },
    {
      "cell_type": "markdown",
      "source": [
        "## Modify the Audio Clip"
      ],
      "metadata": {
        "id": "XnlJ9lbGpkoZ"
      }
    },
    {
      "cell_type": "markdown",
      "source": [
        "### 16\n",
        "Change the amplitude (turn the volume up or down!)of the 3 second clip and save it to a seperate array."
      ],
      "metadata": {
        "id": "kW7rzJqfkDUQ"
      }
    },
    {
      "cell_type": "code",
      "source": [
        "#Your code here"
      ],
      "metadata": {
        "id": "RHecwlnJkgrm"
      },
      "execution_count": null,
      "outputs": []
    },
    {
      "cell_type": "markdown",
      "source": [
        "<font color='red'>Plot the original 3 second clip and the modified 3 second clip together using PlotSignal()."
      ],
      "metadata": {
        "id": "K1zDlTbUkkMH"
      }
    },
    {
      "cell_type": "code",
      "source": [
        "#Your code here"
      ],
      "metadata": {
        "id": "4igRtNckksIA"
      },
      "execution_count": null,
      "outputs": []
    },
    {
      "cell_type": "markdown",
      "source": [
        "###17\n",
        "Using the sf.write function, write your 3 second clip to a wav file. The file should be named [your drexel username]_clip.wav. It should be saved in the provided path for the shared class drive.\n",
        "\n",
        "Important!: The file must be named correctly (MUST HAVE YOUR DRXEL USERNAME) to be counted for credit."
      ],
      "metadata": {
        "id": "_Fe9Fprknwrd"
      }
    },
    {
      "cell_type": "code",
      "source": [
        "YourDrexelUsername = #Be sure to fill this in and include the username in the filename\n",
        "GDrivePath = '/content/drive/MyDrive/eces435-work/Labs/Lab1/'\n",
        "\n",
        "#Your code here"
      ],
      "metadata": {
        "id": "5QwiY_wLnwrd"
      },
      "execution_count": null,
      "outputs": []
    },
    {
      "cell_type": "markdown",
      "source": [
        "# Extra Credit: Multiplying Signals by Sinusoids"
      ],
      "metadata": {
        "id": "AWjsBBivlJT7"
      }
    },
    {
      "cell_type": "markdown",
      "source": [
        "## Generate Sine and Cosine"
      ],
      "metadata": {
        "id": "mRpvTSpmp1s4"
      }
    },
    {
      "cell_type": "markdown",
      "source": [
        "### 18\n",
        "Generate a sine and cosine signal with the same sampling rate and duration as your audio clip. \n",
        "<font color='red'>Use a frequency different from the signal in Part 1."
      ],
      "metadata": {
        "id": "9Rk74HeWlUH0"
      }
    },
    {
      "cell_type": "code",
      "source": [
        "#Your code here (if needed)"
      ],
      "metadata": {
        "id": "_BfFgj-zlxsv"
      },
      "execution_count": null,
      "outputs": []
    },
    {
      "cell_type": "markdown",
      "source": [
        "## Audio from .wav"
      ],
      "metadata": {
        "id": "kW2l2kSgpqLD"
      }
    },
    {
      "cell_type": "markdown",
      "source": [
        "### 19\n",
        "Multiply each of the sinusoids you just created with the clip from part 3, and plot the audio and the two resulting signals as a figure with three subplots.\n"
      ],
      "metadata": {
        "id": "-0CQwPDklyzp"
      }
    },
    {
      "cell_type": "code",
      "source": [
        "#Your code here"
      ],
      "metadata": {
        "id": "duiiMu7bmJBw"
      },
      "execution_count": null,
      "outputs": []
    },
    {
      "cell_type": "markdown",
      "source": [
        "<font color='red'>What can you information can you interpret from results of the plot above?\n",
        "\n",
        "Your answer here:"
      ],
      "metadata": {
        "id": "FzH0DMzGmKKf"
      }
    },
    {
      "cell_type": "markdown",
      "source": [
        "## Generated Signal"
      ],
      "metadata": {
        "id": "8LJMkcJjpw6Z"
      }
    },
    {
      "cell_type": "markdown",
      "source": [
        "### 20\n",
        "Multiply each of the sinusoids you just created with the signal from  part 1, and plot the original signal and the two resulting signals as a figure with three subplots."
      ],
      "metadata": {
        "id": "wpE4kTfbmXsn"
      }
    },
    {
      "cell_type": "code",
      "source": [
        "#Your code here"
      ],
      "metadata": {
        "id": "Bs6mSJW7mjrk"
      },
      "execution_count": null,
      "outputs": []
    },
    {
      "cell_type": "markdown",
      "source": [
        "<font color='red'>What can you information can you interpret from results of the plot above?\n",
        "\n",
        "Your answer here:"
      ],
      "metadata": {
        "id": "PepoXQ4eml8d"
      }
    },
    {
      "cell_type": "markdown",
      "source": [
        "# Completeing the Lab\n",
        "\n",
        "To submit this lab make sure first that you have saved three files to the [Lab1 ](https://drive.google.com/drive/folders/13pzqGFHwIPHO_Y_gbk78-aXzXcd0CGhl?usp=sharing)folder:\n",
        "* [your drexel username]_[f].wav\n",
        "* [your drexel username]_complextone.wav\n",
        "* [your drexel username]_clip.wav\n",
        "\n",
        "Now, *share the notebook with charis.cochran@excitecenter.org* AND *submit the link as a text submission on the lab1 assignment on bblearn* to receive credit for this lab. (ONLY share with charis.cochran@excitecenter.org)\n",
        "\n",
        "*Ensure all plots have been run and are visible in the notebook before submitting. Submiting the link to bblearn means the lab has been submitted and is ready for grading. DO THIS LAST. "
      ],
      "metadata": {
        "id": "HWrTJwIss9zw"
      }
    }
  ]
}