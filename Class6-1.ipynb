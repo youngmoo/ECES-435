{
  "nbformat": 4,
  "nbformat_minor": 0,
  "metadata": {
    "colab": {
      "provenance": [],
      "collapsed_sections": [
        "leCBR9y1whNm",
        "qw76fQQBw3rZ",
        "eOs9hdwgz95L",
        "7N_b3ft0ch_9",
        "mjS5j6HnSl3J",
        "Q52aAF56TapR"
      ],
      "toc_visible": true,
      "include_colab_link": true
    },
    "kernelspec": {
      "display_name": "Python 3",
      "name": "python3"
    }
  },
  "cells": [
    {
      "cell_type": "markdown",
      "metadata": {
        "id": "view-in-github",
        "colab_type": "text"
      },
      "source": [
        "<a href=\"https://colab.research.google.com/github/youngmoo/ECES-435/blob/main/Class6-1.ipynb\" target=\"_parent\"><img src=\"https://colab.research.google.com/assets/colab-badge.svg\" alt=\"Open In Colab\"/></a>"
      ]
    },
    {
      "cell_type": "markdown",
      "metadata": {
        "id": "qHxN8R_ItyXz"
      },
      "source": [
        "# **ECES-435: Class 6.1**\n",
        "\n",
        "**Announcements**\n",
        "* Midterm Lab due before next class\n",
        "* Next class (Wed 10/26) is *virtual* (I will be out of town)\n",
        "  * Zoom link here (will also share via Discord)\n",
        "  * It's fine to come to the classroom, but you might want to bring headphones.\n",
        "\n"
      ]
    },
    {
      "cell_type": "markdown",
      "source": [
        "# Optional stuff"
      ],
      "metadata": {
        "id": "LNs1mQ6RwalY"
      }
    },
    {
      "cell_type": "markdown",
      "source": [
        "## Interactive Matplotlib\n",
        "\n",
        "Install `ipympl` for  Matplotlib\n"
      ],
      "metadata": {
        "id": "leCBR9y1whNm"
      }
    },
    {
      "cell_type": "code",
      "source": [
        "#!pip install ipympl   # Also installs a more recent version of matplotlib (v3.5.3)"
      ],
      "metadata": {
        "id": "ez5UrP3WwWa-"
      },
      "execution_count": null,
      "outputs": []
    },
    {
      "cell_type": "markdown",
      "source": [
        "Enable interactive Matplotlib figures"
      ],
      "metadata": {
        "id": "rIs1kGVvw1hn"
      }
    },
    {
      "cell_type": "code",
      "source": [
        "# from google.colab import output\n",
        "# output.enable_custom_widget_manager()\n",
        "# %matplotlib widget"
      ],
      "metadata": {
        "id": "lryCz_51wldf"
      },
      "execution_count": null,
      "outputs": []
    },
    {
      "cell_type": "markdown",
      "source": [
        "## My plot style defaults"
      ],
      "metadata": {
        "id": "qw76fQQBw3rZ"
      }
    },
    {
      "cell_type": "code",
      "source": [
        "from matplotlib import rc\n",
        "\n",
        "rc('figure', figsize=(12,4))\n",
        "rc('figure', facecolor='#aaaaaa')     # Better figure background for dark mode\n",
        "\n",
        "rc('font', family='Liberation Serif') # Nicer font\n",
        "rc('font', size=20)                   # Larger font size for labels"
      ],
      "metadata": {
        "id": "NE9dlTZIwt_e"
      },
      "execution_count": null,
      "outputs": []
    },
    {
      "cell_type": "markdown",
      "source": [
        "# Setup\n",
        "A few new modules we'll be using..."
      ],
      "metadata": {
        "id": "ljWJhD2HwY3v"
      }
    },
    {
      "cell_type": "code",
      "metadata": {
        "id": "eDaoDgqCs1mp"
      },
      "source": [
        "import numpy as np\n",
        "import matplotlib.pyplot as plt\n",
        "import IPython.display as ipd\n",
        "import soundfile as sf\n",
        "from matplotlib import animation, rc\n",
        "from scipy import signal\n",
        "import numpy.fft as fft\n",
        "#import sys       # NEW: System-specific parameters & functions\n",
        "import pickle    # NEW: For serializing objects & data\n",
        "\n",
        "rc('animation', html='jshtml')\n",
        "\n",
        "path = '/content/drive/My Drive/eces435-work/class6.1/'"
      ],
      "execution_count": null,
      "outputs": []
    },
    {
      "cell_type": "code",
      "metadata": {
        "id": "QUiMfqMhOWCI"
      },
      "source": [
        "# CHANGE THIS to your Drexel username!!\n",
        "username = 'ncc1864'"
      ],
      "execution_count": null,
      "outputs": []
    },
    {
      "cell_type": "code",
      "metadata": {
        "id": "7f-OzFc_mN4w"
      },
      "source": [
        "from google.colab import drive\n",
        "drive.mount('/content/drive')"
      ],
      "execution_count": null,
      "outputs": []
    },
    {
      "cell_type": "markdown",
      "source": [
        "# Helper functions"
      ],
      "metadata": {
        "id": "eOs9hdwgz95L"
      }
    },
    {
      "cell_type": "markdown",
      "source": [
        "## `myPlot()`\n",
        "A quick time-domain signal plot function with my default figure settings and a time x-axis (in seconds).\n",
        "* Required arguments:\n",
        "  * `sig` Input signal (first argument)\n",
        "* Optional arguments:\n",
        "  * `N=#` Number of samples to plot (default: length of signal)\n",
        "  * `fs=#` Sample rate of signal (default: 44100 Hz)\n",
        "  * `fig_size=(W,H)` Change figure dimensions (width, height)\n",
        "  * `x_ax=True/False` Show x-axis (default: True)\n",
        "  * `y_ax=True/False` Show y-axis (default: True)\n",
        "  * `lw=#` Change linewdith of signal (default: 1)\n",
        "  * `fmt='...'` Plot format string (default: none)\n",
        "  * *New* `x_lim=#` or `x_lim=[x1,x2]` Specify the x-axis limit(s) of the plot\n",
        "  * *New* `y_lim=#` or `y_lim=[y1,y2]` Specificy the y-axis limit(s) of the plot"
      ],
      "metadata": {
        "id": "7N_b3ft0ch_9"
      }
    },
    {
      "cell_type": "code",
      "source": [
        "def myPlot(sig, N=0, fs=44100, fig_size=(16,4), x_ax=True, y_ax=True, lw=1, fmt='', x_lim=0, y_lim=0):\n",
        "  if N==0:\n",
        "    N = len(sig)\n",
        "\n",
        "  fig = plt.figure(figsize=fig_size)\n",
        "  t = np.arange(N)/fs\n",
        "\n",
        "  plt.plot( t[:N], sig[:N], fmt, linewidth=lw)\n",
        "\n",
        "  plt.xlabel('Time (sec)')\n",
        "  ax = plt.gca()    # gca(): \"Get current axis\", the graph object that's currently plotted\n",
        "  \n",
        "  if x_ax == False:\n",
        "    ax.xaxis.set_visible(False)\n",
        "  if y_ax == False:\n",
        "    ax.yaxis.set_visible(False)\n",
        "\n",
        "  if np.isscalar(x_lim):\n",
        "    if x_lim == 0:\n",
        "      x_lim2 = N/fs   # End of input signal\n",
        "    else:\n",
        "      x_lim2 = x_lim\n",
        "    plt.xlim(0, x_lim2)\n",
        "  else:\n",
        "    plt.xlim(x_lim)\n",
        "\n",
        "  if np.isscalar(y_lim):\n",
        "    if y_lim != 0:\n",
        "      plt.ylim(-y_lim, y_lim)\n",
        "  else:\n",
        "    plt.ylim(y_lim)\n",
        "\n",
        "  fig.tight_layout()\n",
        "  #plt.ion()\n",
        "  plt.close()\n",
        "\n",
        "  # Returning the figure causes issues with interactive matplotlib\n",
        "  return fig\n",
        "  # For saving the figure, use the interactive buton, instead.\n",
        "  # For further customization and command-line saving, more changes are required."
      ],
      "metadata": {
        "id": "aNLccM7sz9SE"
      },
      "execution_count": null,
      "outputs": []
    },
    {
      "cell_type": "markdown",
      "source": [
        "## `myPlotFFT()`\n",
        "Plot the magnitude frequency response (in dB FS) of a signal with my default figure settings and a frequency x-axis (in Hz), based on the Nyquist rate.\n",
        "* Required arguments:\n",
        "  * `sig` Input signal (first argument)\n",
        "* Optional arguments:\n",
        "  * `n_fft=#` The size of FFT to use (default: length of input signal)\n",
        "  * `n_win=#` The length of window to use (default: length of input)\n",
        "  * `win='hann'` The type of window to use (default: `hann`, or `rect`)\n",
        "  * `fs=#` Sample rate of signal (default: 44100 Hz)\n",
        "  * `x_lim=# or (#,#)` Frequency axis limits (max or range, in Hz)\n",
        "  * `fig_size=(W,H)` Change figure dimensions (width, height)\n",
        "  * `x_ax=True/False` Show x-axis (default: True)\n",
        "  * `y_ax=True/False` Show y-axis (default: True)\n",
        "  * `lw=#` Change linewdith of signal (default: 1)\n",
        "  * `fmt='...'` Change plot formatting (default: none)"
      ],
      "metadata": {
        "id": "7jSL6pxMXfgi"
      }
    },
    {
      "cell_type": "code",
      "source": [
        "def myPlotFFT(sig, fs=44100, n_fft=0, n_win=0, win='hann', neg_f=False, x_lim=0, y_lim=0, fig_size=(16,6),x_ax=True, y_ax=True, lw=1, fmt=''):\n",
        "  if n_fft==0:\n",
        "    n_fft = len(sig)\n",
        "  if n_win==0:\n",
        "    n_win = len(sig)\n",
        "\n",
        "  if win=='hann':  \n",
        "    win = np.hanning(n_win)\n",
        "    win_scale = 2\n",
        "  else:\n",
        "    win = np.ones(n_win)\n",
        "    win_scale = 1\n",
        "\n",
        "  S = np.fft.fft(sig * win, n_fft)\n",
        "  N = len(S)\n",
        "  f = np.arange(N) * fs / N\n",
        "  if neg_f:\n",
        "    f = f - (fs/2)\n",
        "    S = np.fft.fftshift(S)\n",
        "\n",
        "  S_mag = 2*win_scale*np.abs(S) / n_win     # Frequency magnitude, normalized by length\n",
        "                                            #    x2 because cos(w) = 0.5e^jw + 0.5e^-jw\n",
        "                                            #    x2 for Hann because window has 0.5 average\n",
        "\n",
        "  S_mag += 1e-15                  # Add a small offset to avoid log(0) errors\n",
        "  S_dBFS = 20*np.log10(S_mag)     # Freq. magnitude in dB full scale (dB FS):\n",
        "                                  #    cos(w) -> 0 dBFS peak at w\n",
        "\n",
        "\n",
        "  fig = plt.figure(figsize=fig_size)\n",
        "  plt.plot(f, S_dBFS, fmt, linewidth=lw) \n",
        "  if np.isscalar(x_lim):\n",
        "    if x_lim == 0:\n",
        "      x_lim2 = fs/2\n",
        "    if neg_f:\n",
        "      x_lim = -fs/2\n",
        "    plt.xlim(x_lim, x_lim2)\n",
        "  else:\n",
        "    plt.xlim(x_lim)\n",
        "\n",
        "  if np.isscalar(y_lim):\n",
        "    if y_lim < 0:\n",
        "      plt.ylim(y_lim, 0)\n",
        "    elif y_lim > 0:\n",
        "      plt.ylim(0, y_lim)\n",
        "  else:\n",
        "    plt.ylim(y_lim)\n",
        "\n",
        "  plt.xlabel('Frequency (Hz)')\n",
        "  plt.ylabel('Magnitude (dB FS)')\n",
        "\n",
        "  ax = plt.gca()\n",
        "  if x_ax == False:\n",
        "    ax.xaxis.set_visible(False)\n",
        "  if y_ax == False:\n",
        "    ax.yaxis.set_visible(False)\n",
        "  fig.tight_layout()\n",
        "\n",
        "  # Returning the figure causes issues with interactive matplotlib\n",
        "  return fig\n",
        "  # For saving the figure, use the interactive buton, instead.\n",
        "  # For further customization and command-line saving, more changes are required."
      ],
      "metadata": {
        "id": "wKGq7SuNXTeS"
      },
      "execution_count": null,
      "outputs": []
    },
    {
      "cell_type": "markdown",
      "source": [
        "## `mySpectrogram()`\n",
        "A simple wrapper to compute and plot the spectrogram of a signal with my default figure settings, a time x-axis (in seconds) and a frequency y-axis (in Hz), based on the Nyquist rate.\n",
        "* Required arguments:\n",
        "  * `sig` Input signal (first argument)\n",
        "* Optional arguments:\n",
        "  * `fs=#` Sample rate of signal (default: 44100 Hz)\n",
        "  * `win='window_name'` The type of analysis window to use (default: 'hann')\n",
        "  * `n_win=#` The length of window to use per frame (default: 1024)\n",
        "  * `n_fft=#` The size of FFT to use (default: 1024)\n",
        "  * `x_lim=# or (#,#)` x-axis limit or range (in seconds)\n",
        "  * `y_lim=# or (#,#)` y-axis limit or range (in Hz)\n",
        "  * `fig_size=(W,H)` Change figure dimensions (width, height)\n",
        "  * `x-ax=True/False` Show x-axis (default: True)\n",
        "  * `y-ax=True/False` Show y-axis (default: True)"
      ],
      "metadata": {
        "id": "kAxTI9wgkEs8"
      }
    },
    {
      "cell_type": "code",
      "source": [
        "def mySpectrogram(sig, fs=44100, win='hann', n_win=1024, olap=512, n_fft=1024, x_lim=0, y_lim=0, fig_size=(12,6), x_ax=True, y_ax=True):\n",
        "  f1, t1, Sxx = signal.stft(sig, fs, window=win, nperseg=n_win, noverlap=olap, nfft=n_fft)\n",
        "\n",
        "  fig = plt.figure(figsize=fig_size)\n",
        "\n",
        "  S_mag = 4*np.abs(Sxx) + 1e-15\n",
        "  S_dBFS = 20*np.log10(S_mag)\n",
        "  \n",
        "  plt.pcolormesh(t1, f1, S_dBFS)\n",
        "  plt.ylabel('Frequency (Hz)')\n",
        "  plt.xlabel('Time (sec)')\n",
        "\n",
        "  if np.isscalar(x_lim):\n",
        "    if x_lim == 0:\n",
        "      x_lim = len(sig) / fs\n",
        "    plt.xlim(0, x_lim)\n",
        "  else:\n",
        "    plt.xlim(x_lim)\n",
        "\n",
        "  if np.isscalar(y_lim):\n",
        "    if y_lim == 0:\n",
        "      y_lim = fs/2\n",
        "    plt.ylim(0, y_lim)\n",
        "  else:\n",
        "    plt.ylim(y_lim)\n",
        "\n",
        "  ax = plt.gca()\n",
        "  if x_ax == False:\n",
        "    ax.xaxis.set_visible(False)\n",
        "  if y_ax == False:\n",
        "    ax.yaxis.set_visible(False)\n",
        "  fig.tight_layout()\n",
        "\n",
        "  # plt.ion()\n",
        "  \n",
        "  # Returning the figure causes issues with interactive matplotlib\n",
        "  # return fig\n",
        "  # For saving the figure, use the interactive buton, instead.\n",
        "  # For further customization and command-line saving, more changes are required."
      ],
      "metadata": {
        "id": "gaonAlsvmEbT"
      },
      "execution_count": null,
      "outputs": []
    },
    {
      "cell_type": "markdown",
      "metadata": {
        "id": "cWj0eW-qEjxf"
      },
      "source": [
        "# Load audio sample\n",
        "\n",
        "* Go, Phillies!"
      ]
    },
    {
      "cell_type": "code",
      "metadata": {
        "id": "xMUmfBZ0-9XL"
      },
      "source": [
        "x, fs44 = sf.read(path + 'GoPhils.wav')\n",
        "ipd.Audio(x, rate=fs44)"
      ],
      "execution_count": null,
      "outputs": []
    },
    {
      "cell_type": "code",
      "source": [
        "myPlot(x)"
      ],
      "metadata": {
        "id": "L2r6OZiIkXiP"
      },
      "execution_count": null,
      "outputs": []
    },
    {
      "cell_type": "markdown",
      "source": [
        "# Revisiting STFT data requirements"
      ],
      "metadata": {
        "id": "dobJoxWPkiKq"
      }
    },
    {
      "cell_type": "code",
      "source": [
        "f1, t1, X = signal.stft(x, fs44, nperseg=2048, noverlap=0, nfft=2048, window='boxcar')\n",
        "\n",
        "S_mag = np.abs(X) + 1e-15\n",
        "S_dB = 20*np.log10(S_mag)\n",
        "\n",
        "plt.pcolormesh(t1, f1, S_dB)\n",
        "plt.ylabel('Frequency (Hz)')\n",
        "plt.xlabel('Time (sec)')\n",
        "plt.xlim(0,5)\n",
        "# plt.ylim(0,15000)"
      ],
      "metadata": {
        "id": "KTuBcMH6kdiD"
      },
      "execution_count": null,
      "outputs": []
    },
    {
      "cell_type": "code",
      "source": [
        "n_freqs, n_frames = np.shape(X)\n",
        "print('Frequency bins: ', n_freqs)\n",
        "print('Time frames: ', n_frames)"
      ],
      "metadata": {
        "id": "k2JpE2ZtlPxU"
      },
      "execution_count": null,
      "outputs": []
    },
    {
      "cell_type": "code",
      "source": [
        "n_freqs * n_frames"
      ],
      "metadata": {
        "id": "Iv-CijrDlRZE"
      },
      "execution_count": null,
      "outputs": []
    },
    {
      "cell_type": "code",
      "source": [
        "len(x)"
      ],
      "metadata": {
        "id": "zajlI7o3le8L"
      },
      "execution_count": null,
      "outputs": []
    },
    {
      "cell_type": "code",
      "source": [
        "t2, x2 = signal.istft(X, fs44, nperseg=2048, noverlap=0, nfft=2048, window='boxcar')\n",
        "myPlot(x2)"
      ],
      "metadata": {
        "id": "dYVA-PTvlzpT"
      },
      "execution_count": null,
      "outputs": []
    },
    {
      "cell_type": "code",
      "source": [
        "remove_idx = np.where(S_dB < -75)\n",
        "X_c = np.copy(X)\n",
        "X_c[remove_idx] = 0\n",
        "\n",
        "plt.pcolormesh(t1, f1, 20*np.log10(np.abs(X_c)+1e-15))\n",
        "plt.ylabel('Frequency (Hz)')\n",
        "plt.xlabel('Time (sec)')"
      ],
      "metadata": {
        "id": "KST81F1il7e-"
      },
      "execution_count": null,
      "outputs": []
    },
    {
      "cell_type": "code",
      "source": [
        "t_c, x_c = signal.istft(X_c, fs44, nperseg=2048, noverlap=0, nfft=2048, window='boxcar')"
      ],
      "metadata": {
        "id": "W49qyWWImdWf"
      },
      "execution_count": null,
      "outputs": []
    },
    {
      "cell_type": "code",
      "source": [
        "myPlot(x_c)"
      ],
      "metadata": {
        "id": "dKX5Z1ynmjCW"
      },
      "execution_count": null,
      "outputs": []
    },
    {
      "cell_type": "code",
      "source": [
        "ipd.Audio(x_c, rate=fs44)"
      ],
      "metadata": {
        "id": "QcafSHMfmk6L"
      },
      "execution_count": null,
      "outputs": []
    },
    {
      "cell_type": "code",
      "source": [
        "n1,n2 = np.shape(remove_idx)\n",
        "print('Size (bytes): ', (n_freqs*n_frames - n2) * 4)"
      ],
      "metadata": {
        "id": "mVQoGD14nFXt"
      },
      "execution_count": null,
      "outputs": []
    },
    {
      "cell_type": "markdown",
      "source": [
        "# Previously: Filtering = Multiplying in the frequency-domain\n",
        "  * $H_{id} = 1$, $f \\leq f_c$\n",
        "  * $H_{id} = 0$, $f > f_c$"
      ],
      "metadata": {
        "id": "6LDhF_C4DQuV"
      }
    },
    {
      "cell_type": "code",
      "source": [
        "L = 512\n",
        "\n",
        "H_id = np.zeros(L)\n",
        "f_c = 500              # in Hz\n",
        "n_c = f_c/fs44 * L  # Convert Hz to a DFT index\n",
        "print(n_c)\n",
        "\n",
        "H_id[:int(n_c)] = 1\n",
        "H_id[-int(n_c):] = 1\n",
        "\n",
        "f = fs44 * np.arange(L) / L\n",
        "plt.plot(f, H_id)\n",
        "plt.xlabel('Frequency (Hz)')"
      ],
      "metadata": {
        "id": "eufvOtKSjfp9"
      },
      "execution_count": null,
      "outputs": []
    },
    {
      "cell_type": "code",
      "source": [
        "h_id = fft.ifft(H_id)\n",
        "h_id = fft.fftshift(h_id)\n",
        "plt.plot(h_id)"
      ],
      "metadata": {
        "id": "LRsST2qbovSD"
      },
      "execution_count": null,
      "outputs": []
    },
    {
      "cell_type": "code",
      "source": [
        "x1 = x[:512]\n",
        "plt.plot(x1)"
      ],
      "metadata": {
        "id": "HjPPUu1qs8P1"
      },
      "execution_count": null,
      "outputs": []
    },
    {
      "cell_type": "code",
      "source": [
        "y1 = np.convolve(x1, h_id)\n",
        "plt.plot(y1)"
      ],
      "metadata": {
        "id": "oeXUk9DytEJa"
      },
      "execution_count": null,
      "outputs": []
    },
    {
      "cell_type": "code",
      "source": [
        "x1a = np.zeros(1024)\n",
        "x1a[:512] = x1\n",
        "\n",
        "y1 = signal.lfilter(h_id, 1, x[:512])\n",
        "plt.plot(y1)"
      ],
      "metadata": {
        "id": "Sx_bRGrWw0DZ"
      },
      "execution_count": null,
      "outputs": []
    },
    {
      "cell_type": "code",
      "source": [
        "X1 = fft.fft(x1)\n",
        "Y_id = X1 * H_id\n",
        "y_id = fft.ifft(Y_id)\n",
        "plt.plot(y_id)"
      ],
      "metadata": {
        "id": "jA88KEN0i2hj"
      },
      "execution_count": null,
      "outputs": []
    },
    {
      "cell_type": "code",
      "source": [
        "L = 1024\n",
        "X2 = fft.fft(x1, n=L)\n",
        "H2 = np.zeros(L)\n",
        "f_c = 500              # in Hz\n",
        "n_c = f_c/fs44 * L  # Convert Hz to a DFT index\n",
        "print(n_c)\n",
        "\n",
        "H2[:int(n_c)] = 1\n",
        "H2[-int(n_c):] = 1\n",
        "# plt.plot(H2)\n",
        "\n",
        "Y2 = X2 * H2\n",
        "y2 = fft.ifft(Y2)\n",
        "plt.plot(y2)"
      ],
      "metadata": {
        "id": "fW__pBJqvdok"
      },
      "execution_count": null,
      "outputs": []
    },
    {
      "cell_type": "markdown",
      "source": [
        "## Returning to filtering with the STFT (and Inverse STFT)\n",
        "\n",
        "Some signals are going to be too long to multiply the full FFT.\n",
        "* Does filtering via frequency-domain multiplication still work when we break up a long signal into smaller, windowed frames?"
      ],
      "metadata": {
        "id": "RIRFmftooZ7t"
      }
    },
    {
      "cell_type": "code",
      "source": [
        "n_fft = 1024\n",
        "n_win = 1024\n",
        "n_overlap = 512\n",
        "win = 'boxcar'\n",
        "\n",
        "f1, t1, S = signal.stft(x, fs44, nperseg=n_win, noverlap=n_overlap, nfft=n_fft, window=win)\n",
        "\n",
        "S_mag = np.abs(S) + 1e-15\n",
        "S_dB = 20*np.log10(S_mag)\n",
        "\n",
        "plt.pcolormesh(t1, f1, S_dB)\n",
        "plt.ylabel('Frequency (Hz)')\n",
        "plt.xlabel('Time (sec)')\n",
        "# plt.xlim(2,3)\n",
        "plt.ylim(0,15000)"
      ],
      "metadata": {
        "id": "MTLheRjVo7Gb"
      },
      "execution_count": null,
      "outputs": []
    },
    {
      "cell_type": "code",
      "source": [
        "S_lp = np.copy(S)\n",
        "\n",
        "f_c = 12000\n",
        "f_idx = int( np.ceil(f_c * n_fft / 44100) )\n",
        "print(f_idx)\n",
        "\n",
        "S_lp[f_idx:,:] = 0\n",
        "\n",
        "S_lp_dB = 20*np.log10( np.abs(S_lp) + 1e-15 )\n",
        "\n",
        "plt.pcolormesh(t1, f1, S_lp_dB)\n",
        "plt.ylabel('Frequency (Hz)')\n",
        "plt.xlabel('Time (sec)')"
      ],
      "metadata": {
        "id": "DPAxcvOHk9Mq"
      },
      "execution_count": null,
      "outputs": []
    },
    {
      "cell_type": "code",
      "source": [
        "t, s_lp = signal.istft(S_lp, fs44, nperseg=n_win, noverlap=n_overlap, nfft=n_fft)\n",
        "myPlot(s_lp)"
      ],
      "metadata": {
        "id": "nREZ0KU1lhIQ"
      },
      "execution_count": null,
      "outputs": []
    },
    {
      "cell_type": "code",
      "source": [
        "ipd.Audio(s_lp, rate=fs44)"
      ],
      "metadata": {
        "id": "d0TQMQrnl2cq"
      },
      "execution_count": null,
      "outputs": []
    },
    {
      "cell_type": "code",
      "source": [
        "mySpectrogram(s_lp)"
      ],
      "metadata": {
        "id": "UTpdm81Aqq9v"
      },
      "execution_count": null,
      "outputs": []
    },
    {
      "cell_type": "markdown",
      "source": [
        "# Compression via STFT\n"
      ],
      "metadata": {
        "id": "SQWpWA0zPBq0"
      }
    },
    {
      "cell_type": "markdown",
      "source": [
        "## Filter out very high frequencies"
      ],
      "metadata": {
        "id": "Rh6F1xtsPLEI"
      }
    },
    {
      "cell_type": "code",
      "source": [
        "f_c = 16000\n",
        "f_idx = int( f_c * 2048 / 44100 )\n",
        "print(f_idx)\n",
        "\n",
        "S_c = S[:f_idx, :]\n",
        "np.shape(S_c)"
      ],
      "metadata": {
        "id": "8LPHOPf-O4IK"
      },
      "execution_count": null,
      "outputs": []
    },
    {
      "cell_type": "code",
      "source": [
        "D = pickle.dumps(S)\n",
        "print( type(D) )\n",
        "len(D)"
      ],
      "metadata": {
        "id": "C_oPEaXgQQK6"
      },
      "execution_count": null,
      "outputs": []
    },
    {
      "cell_type": "code",
      "source": [
        "type(S[0,0])"
      ],
      "metadata": {
        "id": "v2W6eQprPSqd"
      },
      "execution_count": null,
      "outputs": []
    },
    {
      "cell_type": "code",
      "source": [
        "(1025*777) * 16"
      ],
      "metadata": {
        "id": "VeT4TywpO6Mt"
      },
      "execution_count": null,
      "outputs": []
    },
    {
      "cell_type": "code",
      "source": [
        "sys.getsizeof(D)"
      ],
      "metadata": {
        "id": "wyGkeYwMu0Xb"
      },
      "execution_count": null,
      "outputs": []
    },
    {
      "cell_type": "code",
      "source": [
        "D_c = pickle.dumps(S_c)\n",
        "len(D_c)"
      ],
      "metadata": {
        "id": "bFUS3OyRQq_u"
      },
      "execution_count": null,
      "outputs": []
    },
    {
      "cell_type": "code",
      "source": [
        "len(x16) * 2"
      ],
      "metadata": {
        "id": "vWwUezQzQ2mm"
      },
      "execution_count": null,
      "outputs": []
    },
    {
      "cell_type": "markdown",
      "source": [
        "## What is the DataType of our STFT matrix?\n",
        "* Can we make this smaller?"
      ],
      "metadata": {
        "id": "_1HBgxTORKQ-"
      }
    },
    {
      "cell_type": "code",
      "source": [
        "type(S_c[0,0])"
      ],
      "metadata": {
        "id": "nVV2pp19RJQc"
      },
      "execution_count": null,
      "outputs": []
    },
    {
      "cell_type": "code",
      "source": [
        "S_re16 = np.float16(np.real(S_c))\n",
        "\n",
        "len( pickle.dumps(S_re16) )"
      ],
      "metadata": {
        "id": "1wXjze-ARhXY"
      },
      "execution_count": null,
      "outputs": []
    },
    {
      "cell_type": "code",
      "source": [
        "S_im16 = np.float16(np.imag(S_c))\n",
        "len( pickle.dumps(S_im16) )"
      ],
      "metadata": {
        "id": "ggWcOUYcSRWF"
      },
      "execution_count": null,
      "outputs": []
    },
    {
      "cell_type": "code",
      "source": [
        "len( pickle.dumps(S_re16) ) + len( pickle.dumps(S_im16) )"
      ],
      "metadata": {
        "id": "ptiPDpMbSZTH"
      },
      "execution_count": null,
      "outputs": []
    },
    {
      "cell_type": "markdown",
      "source": [],
      "metadata": {
        "id": "ceN7CnZrUEGH"
      }
    },
    {
      "cell_type": "code",
      "source": [],
      "metadata": {
        "id": "U5-Wjxe9vVc6"
      },
      "execution_count": null,
      "outputs": []
    },
    {
      "cell_type": "code",
      "source": [
        "S_16 = np.zeros([1025, 777], dtype='complex128')\n",
        "S_16[:f_idx, :] = S_re16 + 1j*S_im16\n",
        "\n",
        "S_16_dB = 20*np.log10( np.abs(S_16) + 1e-15 )\n",
        "\n",
        "plt.pcolormesh(t1, f1, S_16_dB)\n",
        "plt.ylabel('Frequency (Hz)')\n",
        "plt.xlabel('Time (sec)')"
      ],
      "metadata": {
        "id": "Kl1XiXZ-UCPD"
      },
      "execution_count": null,
      "outputs": []
    },
    {
      "cell_type": "code",
      "source": [
        "t, s_16 = signal.istft(S_16, fs44, nperseg=2048, noverlap=1024, nfft=2048)\n",
        "ipd.Audio(s_16, rate=fs44)"
      ],
      "metadata": {
        "id": "8SwsN7-OUmEZ"
      },
      "execution_count": null,
      "outputs": []
    },
    {
      "cell_type": "markdown",
      "source": [
        "## Do we really need both real and imaginary parts?"
      ],
      "metadata": {
        "id": "mjS5j6HnSl3J"
      }
    },
    {
      "cell_type": "code",
      "source": [
        "n_frames = 777\n",
        "S_re = np.zeros([1025, n_frames])\n",
        "S_re[:f_idx,:] = S_re16"
      ],
      "metadata": {
        "id": "1gYJlrOCSlKp"
      },
      "execution_count": null,
      "outputs": []
    },
    {
      "cell_type": "code",
      "source": [
        "S_re_dB = 20*np.log10( np.abs(S_re) + 1e-15 )\n",
        "\n",
        "plt.pcolormesh(t1, f1, S_re_dB)\n",
        "plt.ylabel('Frequency (Hz)')\n",
        "plt.xlabel('Time (sec)')"
      ],
      "metadata": {
        "id": "hW98dNSMTNlr"
      },
      "execution_count": null,
      "outputs": []
    },
    {
      "cell_type": "code",
      "source": [
        "t, s_re = signal.istft(S_re, fs44, nperseg=2048, noverlap=1024, nfft=2048)"
      ],
      "metadata": {
        "id": "dEccFch0S3si"
      },
      "execution_count": null,
      "outputs": []
    },
    {
      "cell_type": "code",
      "source": [
        "ipd.Audio(s_re, rate=fs44)"
      ],
      "metadata": {
        "id": "LtWWOJwnTDUS"
      },
      "execution_count": null,
      "outputs": []
    },
    {
      "cell_type": "markdown",
      "source": [
        "## How about just the magnitudes?"
      ],
      "metadata": {
        "id": "Q52aAF56TapR"
      }
    },
    {
      "cell_type": "code",
      "source": [
        "S_16 = S_re16 + 1j*S_im16"
      ],
      "metadata": {
        "id": "D996oEKuTtwd"
      },
      "execution_count": null,
      "outputs": []
    },
    {
      "cell_type": "code",
      "source": [
        "S_mag = np.zeros([1025, 777])\n",
        "S_mag[:f_idx,:] = np.abs(S_16)\n",
        "\n",
        "t, s_mag = signal.istft(S_mag, fs44, nperseg=2048, noverlap=1024, nfft=2048)\n",
        "ipd.Audio(s_mag, rate=fs44)"
      ],
      "metadata": {
        "id": "m4ZlNuCdTaQ4"
      },
      "execution_count": null,
      "outputs": []
    },
    {
      "cell_type": "code",
      "source": [
        "t, s_lp = signal.istft(S_lp, fs44, nperseg=2048, noverlap=1024, nfft=2048)"
      ],
      "metadata": {
        "id": "RK9xtrHoPTMH"
      },
      "execution_count": null,
      "outputs": []
    },
    {
      "cell_type": "code",
      "source": [
        "ipd.Audio(s_lp, rate=fs44)"
      ],
      "metadata": {
        "id": "H-dSbV4dPXMQ"
      },
      "execution_count": null,
      "outputs": []
    },
    {
      "cell_type": "markdown",
      "source": [
        "## How many STFT bins allow us to 'break even'?"
      ],
      "metadata": {
        "id": "zsm6TBFBvj8K"
      }
    },
    {
      "cell_type": "code",
      "source": [
        "len(x16) * 2"
      ],
      "metadata": {
        "id": "LNd2Qddzwjbu"
      },
      "execution_count": null,
      "outputs": []
    },
    {
      "cell_type": "code",
      "source": [
        "n_bins = 511\n",
        "n_frames = 777\n",
        "\n",
        "S_be = np.zeros([n_bins, n_frames], dtype='float16')\n",
        "2 * len( pickle.dumps(S_be))"
      ],
      "metadata": {
        "id": "Noj32CjqvjWL"
      },
      "execution_count": null,
      "outputs": []
    },
    {
      "cell_type": "code",
      "source": [
        "S_c2 = np.copy(S)\n",
        "\n",
        "S_c2[n_bins:, :] = 0\n",
        "\n",
        "S_c2_dB = 20*np.log10( np.abs(S_c2) + 1e-15 )\n",
        "\n",
        "plt.pcolormesh(t1, f1, S_c2_dB)\n",
        "plt.ylabel('Frequency (Hz)')\n",
        "plt.xlabel('Time (sec)')"
      ],
      "metadata": {
        "id": "BJfB3aj-6Ppz"
      },
      "execution_count": null,
      "outputs": []
    },
    {
      "cell_type": "code",
      "source": [
        "t, s_c2 = signal.istft(S_c2, fs44, nperseg=2048, noverlap=1024, nfft=2048)"
      ],
      "metadata": {
        "id": "MFasaXMu6s4k"
      },
      "execution_count": null,
      "outputs": []
    },
    {
      "cell_type": "code",
      "source": [
        "ipd.Audio(s_c2, rate=fs44)"
      ],
      "metadata": {
        "id": "YMmx3Q0H61In"
      },
      "execution_count": null,
      "outputs": []
    },
    {
      "cell_type": "markdown",
      "source": [
        "## We need to remove a lot of frequency data. How?"
      ],
      "metadata": {
        "id": "Kyrd3DmUVarB"
      }
    },
    {
      "cell_type": "code",
      "source": [
        "remove_idx = np.where(S_dB < -40)\n",
        "S_c3 = np.copy(S)\n",
        "S_c3[remove_idx] = 0\n",
        "\n",
        "plt.pcolormesh(t1, f1, 20*np.log10(np.abs(S_c3)+1e-15))\n",
        "plt.ylabel('Frequency (Hz)')\n",
        "plt.xlabel('Time (sec)')"
      ],
      "metadata": {
        "id": "423XikzAmFl3"
      },
      "execution_count": null,
      "outputs": []
    },
    {
      "cell_type": "code",
      "source": [
        "S_c3_16 = np.float16(np.real(S_c3)) + 1j*np.float16(np.imag(S_c3))"
      ],
      "metadata": {
        "id": "1HdauK3gsr4P"
      },
      "execution_count": null,
      "outputs": []
    },
    {
      "cell_type": "code",
      "source": [
        "t, s_c3_16 = signal.istft(S_c3_16, fs44, nperseg=2048, noverlap=1024, nfft=2048)"
      ],
      "metadata": {
        "id": "FuhTmfO_n-Sq"
      },
      "execution_count": null,
      "outputs": []
    },
    {
      "cell_type": "code",
      "source": [
        "ipd.Audio(s_c3_16, rate=fs44)"
      ],
      "metadata": {
        "id": "sm1wsKHsoDbG"
      },
      "execution_count": null,
      "outputs": []
    },
    {
      "cell_type": "code",
      "source": [
        "n1,n2 = np.shape(remove_idx)\n",
        "# print('Removed points: ', n2)\n",
        "print('Size (bytes): ', (1025*777 - n2) * 4)"
      ],
      "metadata": {
        "id": "McJbatBX80OZ"
      },
      "execution_count": null,
      "outputs": []
    }
  ]
}