{
  "cells": [
    {
      "cell_type": "markdown",
      "metadata": {
        "id": "view-in-github",
        "colab_type": "text"
      },
      "source": [
        "<a href=\"https://colab.research.google.com/github/youngmoo/ECES-435/blob/main/Class9-1a.ipynb\" target=\"_parent\"><img src=\"https://colab.research.google.com/assets/colab-badge.svg\" alt=\"Open In Colab\"/></a>"
      ]
    },
    {
      "cell_type": "markdown",
      "metadata": {
        "id": "qHxN8R_ItyXz"
      },
      "source": [
        "# **ECES-435: Class 9.1**\n",
        "\n",
        "**Includes in-class updates**\n",
        "\n",
        "\n",
        "**Announcements**\n",
        "* Code for your Final Project is due in *one week:* Nov. 21!\n",
        "\n"
      ]
    },
    {
      "cell_type": "markdown",
      "metadata": {
        "id": "qw76fQQBw3rZ"
      },
      "source": [
        "## My plot style defaults"
      ]
    },
    {
      "cell_type": "code",
      "execution_count": null,
      "metadata": {
        "id": "NE9dlTZIwt_e"
      },
      "outputs": [],
      "source": [
        "from matplotlib import rc\n",
        "\n",
        "rc('figure', figsize=(12,4))\n",
        "rc('figure', facecolor='#aaaaaa')     # Better figure background for dark mode\n",
        "\n",
        "rc('font', family='Liberation Serif') # Nicer font\n",
        "rc('font', size=20)                   # Larger font size for labels"
      ]
    },
    {
      "cell_type": "markdown",
      "metadata": {
        "id": "ljWJhD2HwY3v"
      },
      "source": [
        "# Setup\n",
        "The usual modules..."
      ]
    },
    {
      "cell_type": "code",
      "execution_count": null,
      "metadata": {
        "id": "JrrK2TXwV4mp"
      },
      "outputs": [],
      "source": [
        "import numpy as np\n",
        "import matplotlib.pyplot as plt\n",
        "import IPython.display as ipd\n",
        "import soundfile as sf\n",
        "from matplotlib import animation, rc\n",
        "from scipy import signal\n",
        "import numpy.fft as fft\n",
        "import pickle\n",
        "import time\n",
        "# import matplotlib.patches as patches\n",
        "# import matplotlib.colors\n",
        "# import matplotlib.cm\n",
        "\n",
        "rc('animation', html='jshtml')\n",
        "rc('animation', embed_limit=2**30)\n",
        "\n",
        "path = '/content/drive/My Drive/eces435-work/class8.1/'"
      ]
    },
    {
      "cell_type": "code",
      "execution_count": null,
      "metadata": {
        "id": "QUiMfqMhOWCI"
      },
      "outputs": [],
      "source": [
        "# CHANGE THIS to your Drexel username!!\n",
        "username = 'atari2600'"
      ]
    },
    {
      "cell_type": "code",
      "execution_count": null,
      "metadata": {
        "id": "7f-OzFc_mN4w"
      },
      "outputs": [],
      "source": [
        "from google.colab import drive\n",
        "drive.mount('/content/drive')"
      ]
    },
    {
      "cell_type": "markdown",
      "metadata": {
        "id": "eOs9hdwgz95L"
      },
      "source": [
        "## Helper functions"
      ]
    },
    {
      "cell_type": "markdown",
      "metadata": {
        "id": "7N_b3ft0ch_9"
      },
      "source": [
        "`myPlot()`\n",
        "\n",
        "A quick time-domain signal plot function with my default figure settings and a time x-axis (in seconds).\n",
        "* Required arguments:\n",
        "  * `sig` Input signal (first argument)\n",
        "* Optional arguments:\n",
        "  * `N=#` Number of samples to plot (default: length of signal)\n",
        "  * `fs=#` Sample rate of signal (default: 44100 Hz)\n",
        "  * `fig_size=(W,H)` Change figure dimensions (width, height)\n",
        "  * `x_ax=True/False` Show x-axis (default: True)\n",
        "  * `y_ax=True/False` Show y-axis (default: True)\n",
        "  * `lw=#` Change linewdith of signal (default: 1)\n",
        "  * `fmt='...'` Plot format string (default: none)\n",
        "  * *New* `x_lim=#` or `x_lim=[x1,x2]` Specify the x-axis limit(s) of the plot\n",
        "  * *New* `y_lim=#` or `y_lim=[y1,y2]` Specificy the y-axis limit(s) of the plot"
      ]
    },
    {
      "cell_type": "code",
      "execution_count": null,
      "metadata": {
        "id": "aNLccM7sz9SE"
      },
      "outputs": [],
      "source": [
        "def myPlot(sig, N=0, fs=44100, fig_size=(16,4), x_ax=True, y_ax=True, lw=1, fmt='', x_lim=0, y_lim=0):\n",
        "  if N==0:\n",
        "    N = len(sig)\n",
        "\n",
        "  fig = plt.figure(figsize=fig_size)\n",
        "  t = np.arange(N)/fs\n",
        "\n",
        "  plt.plot( t[:N], sig[:N], fmt, linewidth=lw)\n",
        "\n",
        "  plt.xlabel('Time (sec)')\n",
        "  ax = plt.gca()    # gca(): \"Get current axis\", the graph object that's currently plotted\n",
        "  \n",
        "  if x_ax == False:\n",
        "    ax.xaxis.set_visible(False)\n",
        "  if y_ax == False:\n",
        "    ax.yaxis.set_visible(False)\n",
        "\n",
        "  if np.isscalar(x_lim):\n",
        "    if x_lim == 0:\n",
        "      x_lim2 = N/fs   # End of input signal\n",
        "    else:\n",
        "      x_lim2 = x_lim\n",
        "    plt.xlim(0, x_lim2)\n",
        "  else:\n",
        "    plt.xlim(x_lim)\n",
        "\n",
        "  if np.isscalar(y_lim):\n",
        "    if y_lim != 0:\n",
        "      plt.ylim(-y_lim, y_lim)\n",
        "  else:\n",
        "    plt.ylim(y_lim)\n",
        "\n",
        "  fig.tight_layout()\n",
        "  #plt.ion()\n",
        "  plt.close()\n",
        "\n",
        "  # Returning the figure causes issues with interactive matplotlib\n",
        "  return fig\n",
        "  # For saving the figure, use the interactive buton, instead.\n",
        "  # For further customization and command-line saving, more changes are required."
      ]
    },
    {
      "cell_type": "markdown",
      "metadata": {
        "id": "7jSL6pxMXfgi"
      },
      "source": [
        "`myPlotFFT()`\n",
        "\n",
        "Plot the magnitude frequency response (in dB FS) of a signal with my default figure settings and a frequency x-axis (in Hz), based on the Nyquist rate.\n",
        "* Required arguments:\n",
        "  * `sig` Input signal (first argument)\n",
        "* Optional arguments:\n",
        "  * `n_fft=#` The size of FFT to use (default: length of input signal)\n",
        "  * `n_win=#` The length of window to use (default: length of input)\n",
        "  * `win='hann'` The type of window to use (default: `hann`, or `rect`)\n",
        "  * `fs=#` Sample rate of signal (default: 44100 Hz)\n",
        "  * `x_lim=# or (#,#)` Frequency axis limits (max or range, in Hz)\n",
        "  * `fig_size=(W,H)` Change figure dimensions (width, height)\n",
        "  * `x_ax=True/False` Show x-axis (default: True)\n",
        "  * `y_ax=True/False` Show y-axis (default: True)\n",
        "  * `lw=#` Change linewdith of signal (default: 1)\n",
        "  * `fmt='...'` Change plot formatting (default: none)"
      ]
    },
    {
      "cell_type": "code",
      "execution_count": null,
      "metadata": {
        "id": "wKGq7SuNXTeS"
      },
      "outputs": [],
      "source": [
        "def myPlotFFT(sig, fs=44100, n_fft=0, n_win=0, win='hann', neg_f=False, x_lim=0, y_lim=0, fig_size=(16,6),x_ax=True, y_ax=True, lw=1, fmt=''):\n",
        "  if n_fft==0:\n",
        "    n_fft = len(sig)\n",
        "  if n_win==0:\n",
        "    n_win = len(sig)\n",
        "\n",
        "  if win=='hann':  \n",
        "    win = np.hanning(n_win)\n",
        "    win_scale = 2\n",
        "  else:\n",
        "    win = np.ones(n_win)\n",
        "    win_scale = 1\n",
        "\n",
        "  S = np.fft.fft(sig * win, n_fft)\n",
        "  N = len(S)\n",
        "  f = np.arange(N) * fs / N\n",
        "  if neg_f:\n",
        "    f = f - (fs/2)\n",
        "    S = np.fft.fftshift(S)\n",
        "\n",
        "  S_mag = 2*win_scale*np.abs(S) / n_win     # Frequency magnitude, normalized by length\n",
        "                                            #    x2 because cos(w) = 0.5e^jw + 0.5e^-jw\n",
        "                                            #    x2 for Hann because window has 0.5 average\n",
        "\n",
        "  S_mag += 1e-15                  # Add a small offset to avoid log(0) errors\n",
        "  S_dBFS = 20*np.log10(S_mag)     # Freq. magnitude in dB full scale (dB FS):\n",
        "                                  #    cos(w) -> 0 dBFS peak at w\n",
        "\n",
        "\n",
        "  fig = plt.figure(figsize=fig_size)\n",
        "  plt.plot(f, S_dBFS, fmt, linewidth=lw) \n",
        "  if np.isscalar(x_lim):\n",
        "    if x_lim == 0:\n",
        "      x_lim2 = fs/2\n",
        "    if neg_f:\n",
        "      x_lim = -fs/2\n",
        "    plt.xlim(x_lim, x_lim2)\n",
        "  else:\n",
        "    plt.xlim(x_lim)\n",
        "\n",
        "  if np.isscalar(y_lim):\n",
        "    if y_lim < 0:\n",
        "      plt.ylim(y_lim, 0)\n",
        "    elif y_lim > 0:\n",
        "      plt.ylim(0, y_lim)\n",
        "  else:\n",
        "    plt.ylim(y_lim)\n",
        "\n",
        "  plt.xlabel('Frequency (Hz)')\n",
        "  plt.ylabel('Magnitude (dB FS)')\n",
        "\n",
        "  ax = plt.gca()\n",
        "  if x_ax == False:\n",
        "    ax.xaxis.set_visible(False)\n",
        "  if y_ax == False:\n",
        "    ax.yaxis.set_visible(False)\n",
        "  fig.tight_layout()\n",
        "\n",
        "  # Returning the figure causes issues with interactive matplotlib\n",
        "  return fig\n",
        "  # For saving the figure, use the interactive buton, instead.\n",
        "  # For further customization and command-line saving, more changes are required."
      ]
    },
    {
      "cell_type": "markdown",
      "metadata": {
        "id": "kAxTI9wgkEs8"
      },
      "source": [
        "`mySpectrogram()`\n",
        "\n",
        "A simple wrapper to compute and plot the spectrogram of a signal with my default figure settings, a time x-axis (in seconds) and a frequency y-axis (in Hz), based on the Nyquist rate.\n",
        "* Required arguments:\n",
        "  * `sig` Input signal (first argument)\n",
        "* Optional arguments:\n",
        "  * `fs=#` Sample rate of signal (default: 44100 Hz)\n",
        "  * `win='window_name'` The type of analysis window to use (default: 'hann')\n",
        "  * `n_win=#` The length of window to use per frame (default: 1024)\n",
        "  * `n_fft=#` The size of FFT to use (default: 1024)\n",
        "  * `x_lim=# or (#,#)` x-axis limit or range (in seconds)\n",
        "  * `y_lim=# or (#,#)` y-axis limit or range (in Hz)\n",
        "  * `fig_size=(W,H)` Change figure dimensions (width, height)\n",
        "  * `x-ax=True/False` Show x-axis (default: True)\n",
        "  * `y-ax=True/False` Show y-axis (default: True)"
      ]
    },
    {
      "cell_type": "code",
      "execution_count": null,
      "metadata": {
        "id": "gaonAlsvmEbT"
      },
      "outputs": [],
      "source": [
        "def mySpectrogram(sig, fs=44100, win='hann', n_win=1024, olap=512, n_fft=1024, x_lim=0, y_lim=0, fig_size=(12,6), x_ax=True, y_ax=True):\n",
        "  f1, t1, Sxx = signal.stft(sig, fs, window=win, nperseg=n_win, noverlap=olap, nfft=n_fft)\n",
        "\n",
        "  fig = plt.figure(figsize=fig_size)\n",
        "\n",
        "  S_mag = 4*np.abs(Sxx) + 1e-15\n",
        "  S_dBFS = 20*np.log10(S_mag)\n",
        "  \n",
        "  plt.pcolormesh(t1, f1, S_dBFS)\n",
        "  plt.ylabel('Frequency (Hz)')\n",
        "  plt.xlabel('Time (sec)')\n",
        "\n",
        "  if np.isscalar(x_lim):\n",
        "    if x_lim == 0:\n",
        "      x_lim = len(sig) / fs\n",
        "    plt.xlim(0, x_lim)\n",
        "  else:\n",
        "    plt.xlim(x_lim)\n",
        "\n",
        "  if np.isscalar(y_lim):\n",
        "    if y_lim == 0:\n",
        "      y_lim = fs/2\n",
        "    plt.ylim(0, y_lim)\n",
        "  else:\n",
        "    plt.ylim(y_lim)\n",
        "\n",
        "  ax = plt.gca()\n",
        "  if x_ax == False:\n",
        "    ax.xaxis.set_visible(False)\n",
        "  if y_ax == False:\n",
        "    ax.yaxis.set_visible(False)\n",
        "  fig.tight_layout()\n",
        "\n",
        "  # plt.ion()\n",
        "  \n",
        "  # Returning the figure causes issues with interactive matplotlib\n",
        "  # return fig\n",
        "  # For saving the figure, use the interactive buton, instead.\n",
        "  # For further customization and command-line saving, more changes are required."
      ]
    },
    {
      "cell_type": "markdown",
      "metadata": {
        "id": "H8nlGbp7fF98"
      },
      "source": [
        "`zplane()` New function to plot system (filter) information in the $z$-plane.\n",
        "\n"
      ]
    },
    {
      "cell_type": "code",
      "execution_count": null,
      "metadata": {
        "id": "6orebH2Ie_SE"
      },
      "outputs": [],
      "source": [
        "def zplane(zeros=[], poles=[], xy_lim=[-1.5,1.5]):\n",
        "  fig = plt.figure(figsize=(6,6))\n",
        "  ax = plt.axes()\n",
        "\n",
        "  # Create radial coordinates as for unit circle contour\n",
        "  N_pts = 200\n",
        "  w = np.linspace(0, 2*np.pi, N_pts)\n",
        "  z_uc = np.exp(1j*w)\n",
        "  re_uc = np.real(z_uc)\n",
        "  im_uc = np.imag(z_uc)\n",
        "\n",
        "  # Draw unit circle and set axis limits\n",
        "  ax.plot(re_uc, im_uc, 'k:', linewidth=1)\n",
        "  ax.set_ylim(xy_lim)\n",
        "  ax.set_xlim(xy_lim)\n",
        "\n",
        "  # Plot zeros (o) and poles (x)\n",
        "  re_z = np.real(zeros)\n",
        "  im_z = np.imag(zeros)\n",
        "  ax.plot(re_z, im_z, 'bo', markersize=15, fillstyle='none')\n",
        "  re_p = np.real(poles)\n",
        "  im_p = np.imag(poles)\n",
        "  ax.plot(re_p, im_p, 'bx', markersize=13, fillstyle='none')\n",
        "  \n",
        "  # X-Y axis labels\n",
        "  ax.set_xlabel('Real')\n",
        "  ax.set_ylabel('Imag')"
      ]
    },
    {
      "cell_type": "markdown",
      "metadata": {
        "id": "z1O06izCeyB5"
      },
      "source": [
        "`freqz3D()` A function to visualize the full response across the $z$-plane.\n",
        "\n",
        "Lots of code here, most of it is to handle the graphics."
      ]
    },
    {
      "cell_type": "code",
      "execution_count": null,
      "metadata": {
        "id": "tGz_MbpJerfl"
      },
      "outputs": [],
      "source": [
        "def freqz3D(B=[1], A=[1], azim=-60,\n",
        "            x_lim=(-1.5,1.5), y_lim=(-1.5,1.5), z_lim=(-30,10),\n",
        "            x_ticks=(-1,0,1), y_ticks=(-1,0,1),\n",
        "            fig_size=(14,8), lw=2, xy_spacing=0.005, init_elev=45,\n",
        "            draw_uc=True, draw_pz=True, draw_contour=True,\n",
        "            hide_ax=False, hide_z=True, show_fig=True):\n",
        "\n",
        "  fig = plt.figure(figsize=(14,8))\n",
        "  ax = plt.axes(projection='3d') \n",
        "  z_dB_min = z_lim[0]\n",
        "\n",
        "  if show_fig==False:\n",
        "    plt.close()\n",
        "\n",
        "  # Make cartesian grid in z-plane for freqz surface\n",
        "  X = np.arange(-1.5, 1.501, xy_spacing) # dB requires different spacing\n",
        "  Y = np.arange(-1.5, 1.501, xy_spacing) # dB spacing\n",
        "  X, Y = np.meshgrid(X, Y)\n",
        "  R = np.sqrt(X**2 + Y**2)\n",
        "  z = X + Y*1j\n",
        "\n",
        "  # Create radial coordinates as for unit circle contour(s)\n",
        "  w = np.linspace(0, 2*np.pi, 200)\n",
        "  z_c = np.exp(1j*w)\n",
        "  X_c = np.real(z_c)\n",
        "  Y_c = np.imag(z_c)\n",
        "\n",
        "  # If transfer function is provided, plot the freqz surface\n",
        "  if len(B) > 0:\n",
        "    Bz =  B[0] * np.ones(np.shape(z))\n",
        "    Bz_c = B[0] * np.ones(len(z_c))\n",
        "    for n in range(1,len(B)):\n",
        "      Bz = Bz + np.divide( B[n], z**n )\n",
        "      Bz_c = Bz_c + np.divide( B[n], z_c**n )\n",
        "\n",
        "    if len(A) > 0:\n",
        "      Az = A[0] * np.ones(np.shape(z))\n",
        "      Az_c = A[0] * np.ones(len(z_c))\n",
        "      for n in range(1,len(A)):\n",
        "        Az = Az + np.divide( A[n], z**n )\n",
        "        Az_c = Az_c + np.divide( A[n], z_c**n )\n",
        "    else:\n",
        "      Az = 1\n",
        "      Az_c = 1\n",
        "\n",
        "    Hz = Bz / Az\n",
        "    Hz_c = Bz_c / Az_c\n",
        "    Z = np.abs(Hz)\n",
        "    Z_c = np.abs(Hz_c)\n",
        "    Z_dB = 20 * np.log10(Z)\n",
        "    Z_c_dB = 20 * np.log10(Z_c)\n",
        "\n",
        "    # Plot the freqz surface\n",
        "    surf = ax.plot_surface(X, Y, Z_dB, color='lightgoldenrodyellow', alpha=0.4, linewidth=0 )\n",
        "    \n",
        "  Z_proj = np.zeros(len(w))\n",
        "  Z_proj_dB = Z_proj + z_lim[0] # include dB offset, depends on z-axis lower limit\n",
        "\n",
        "  # Draw unit circle at bottom face of z-plane\n",
        "  if draw_uc:\n",
        "    ax.plot3D(X_c, Y_c, Z_proj_dB, 'w',linewidth=1)\n",
        "\n",
        "  # Draw freqz contour on unit circle\n",
        "  an_object, = ax.plot3D(X_c, Y_c, Z_c_dB, 'y',linewidth=lw)\n",
        "  if draw_contour == False:\n",
        "    #Z_c_dB += 200 # Hopefully, +200dB is out of view\n",
        "    an_object.set_linewidth(0.)\n",
        "\n",
        "  # Create placeholder animation object for frequency marker\n",
        "  an_object2, = ax.plot3D([0], [0], [-60], 'w:',linewidth=1)\n",
        "\n",
        "  if draw_pz:\n",
        "    if len(B) > 0:\n",
        "      # Plot pole-zero markers\n",
        "      zeros,poles,k = signal.tf2zpk(B, A)\n",
        "      x_z = np.real(zeros)\n",
        "      y_z = np.imag(zeros)\n",
        "      x_p = np.real(poles)\n",
        "      y_p = np.imag(poles)\n",
        "      z_object, = ax.plot3D(x_z, y_z, z_dB_min*np.ones(len(x_z)), 'wo', markersize=15, fillstyle='none')\n",
        "      p_object, = ax.plot3D(x_p, y_p, z_dB_min*np.ones(len(x_p)), 'wx', markersize=13, fillstyle='none')\n",
        "  else:\n",
        "    # Create empty objects\n",
        "    z_object, = ax.plot3D([0], [0], [z_dB_min], linewidth=0)\n",
        "    p_object, = ax.plot3D([0], [0], [z_dB_min], linewidth=0)\n",
        "\n",
        "\n",
        "  # Set camera view angle\n",
        "  ax.elev = init_elev\n",
        "  ax.azim = azim\n",
        "\n",
        "  # make the panes transparent\n",
        "  ax.xaxis.set_pane_color((1.0, 1.0, 1.0, 0.0))\n",
        "  ax.yaxis.set_pane_color((1.0, 1.0, 1.0, 0.0))\n",
        "  ax.zaxis.set_pane_color((1.0, 1.0, 1.0, 0.05))\n",
        "\n",
        "  # make the grid lines transparent\n",
        "  ax.xaxis._axinfo[\"grid\"]['color'] =  (1,1,1,0)\n",
        "  ax.yaxis._axinfo[\"grid\"]['color'] =  (1,1,1,0)\n",
        "  ax.zaxis._axinfo[\"grid\"]['color'] =  (1,1,1,0)\n",
        "\n",
        "  ax.zaxis.set_alpha(0.5)\n",
        "\n",
        "  ax.set_zlim(z_lim) #dB\n",
        "  ax.set_xlim(x_lim)\n",
        "  ax.set_ylim(y_lim)\n",
        "\n",
        "  if hide_ax:\n",
        "    ax.set_axis_off()\n",
        "  else:\n",
        "    ax.set_xticks(x_ticks)\n",
        "    ax.set_yticks(y_ticks)\n",
        "\n",
        "    ax.tick_params(colors='white')\n",
        "    ax.tick_params(length=10,width=2,labelsize=20)\n",
        "    for tick in ax.get_xticklabels():\n",
        "        tick.set_fontname(\"Liberation Serif\")\n",
        "\n",
        "    for tick in ax.get_yticklabels():\n",
        "        tick.set_fontname(\"Liberation Serif\")\n",
        "\n",
        "    fig.patch.set_facecolor('#111111')    # I think this makes the background dark, for preview in Colab\n",
        "\n",
        "    #ax.set_frame_on(False)\n",
        "    ax.set_facecolor('#212121')\n",
        "    ax.get_xaxis().line.set_color('w')\n",
        "    ax.get_yaxis().line.set_color('w')\n",
        "\n",
        "    # X-Y axis labels\n",
        "    ax.set_xlabel('Re', color='w', size=24, fontname='Liberation Serif')\n",
        "    ax.xaxis.labelpad = 20\n",
        "    ax.set_ylabel('Im', color='w', size=24, fontname='Liberation Serif')\n",
        "    ax.yaxis.labelpad = 20\n",
        "\n",
        "    if hide_z:\n",
        "      ax.zaxis.line.set_lw(0.)\n",
        "      ax.set_zticks([])\n",
        "\n",
        "  fig.tight_layout()\n",
        "\n",
        "#  if show_fig:\n",
        "#    plt.show()\n",
        "\n",
        "  return fig #, ax, an_object, an_object2, surf, p_object, z_object,"
      ]
    },
    {
      "cell_type": "markdown",
      "metadata": {
        "id": "-INeK5JcbXPX"
      },
      "source": [
        "# Improving your CODEC"
      ]
    },
    {
      "cell_type": "markdown",
      "metadata": {
        "id": "-S-n9EtqbhNq"
      },
      "source": [
        "## Load audio files"
      ]
    },
    {
      "cell_type": "code",
      "execution_count": null,
      "metadata": {
        "id": "WMsfOcSCbWzy"
      },
      "outputs": [],
      "source": [
        "load_path_1 = '/content/drive/MyDrive/eces435-work/Labs/Lab5/data/CoolSong_mono.wav'\n",
        "load_path_2 = '/content/drive/MyDrive/eces435-work/Labs/Lab5/data/WildSong_mono.wav'\n",
        "load_path_3 = '/content/drive/MyDrive/eces435-work/class8.1/u2.wav'\n",
        "paths = [load_path_1,load_path_2,load_path_3]"
      ]
    },
    {
      "cell_type": "code",
      "execution_count": null,
      "metadata": {
        "colab": {
          "background_save": true
        },
        "id": "QP85nx0Qbe4K"
      },
      "outputs": [],
      "source": [
        "y = []\n",
        "fs = []\n",
        "dur = 30    # Load first 20 seconds\n",
        "\n",
        "for p in paths:\n",
        "  y_i, fs_i = sf.read(p)\n",
        "  y_i = np.float16(y_i) #This will make sure that the audio you are comparing with for the project is 16 bit\n",
        "  display(ipd.Audio(y_i[0:fs_i*dur], rate=fs_i))\n",
        "  y.append(y_i[0:fs_i*dur])\n",
        "  fs.append(fs_i)"
      ]
    },
    {
      "cell_type": "markdown",
      "metadata": {
        "id": "v2GzC7BibouY"
      },
      "source": [
        "## Reference encoder and decoder"
      ]
    },
    {
      "cell_type": "code",
      "execution_count": null,
      "metadata": {
        "id": "d_3TYLLnnbEh"
      },
      "outputs": [],
      "source": [
        "#@title Reference ENCODER\n",
        "\n",
        "def encode(y, fs): \n",
        "  #Paste Encoder Code here. Inputs and Outputs MUST be the same as seen here.\n",
        "\n",
        "  f1, t1, X = signal.stft(y, 44100, nperseg=1024, noverlap=512, nfft=1024)\n",
        "  n_freqs, n_frames = np.shape(X)\n",
        "  N_c = 60\n",
        "\n",
        "  X_mag = np.abs(X)\n",
        "  x_sortIdx = np.argsort(X_mag, axis=0) \n",
        "\n",
        "  fft_idx = np.int16(x_sortIdx[-N_c:,:])\n",
        "  fft_real = np.zeros([N_c, n_frames], dtype='float16')\n",
        "  fft_imag = np.zeros([N_c, n_frames], dtype='float16')\n",
        "  \n",
        "  for n in range(n_frames):\n",
        "    X_sort = X[fft_idx[:,n], n] \n",
        "    fft_real[:,n] = np.real(X_sort)\n",
        "    fft_imag[:,n] = np.imag(X_sort)\n",
        "\n",
        "  y_compressed = [fft_idx, fft_real, fft_imag]\n",
        "  return y_compressed"
      ]
    },
    {
      "cell_type": "code",
      "execution_count": null,
      "metadata": {
        "id": "ahog-twqngBK"
      },
      "outputs": [],
      "source": [
        "#@title Your DECODER\n",
        "\n",
        "def decode(y_compressed):\n",
        "  #Paste Decoder Code here. Inputs and Outputs MUST be the same as seen here.\n",
        "\n",
        "  fft_idx = y_compressed[0]\n",
        "  fft_real = y_compressed[1]\n",
        "  fft_imag = y_compressed[2]\n",
        "\n",
        "  n_freqs, n_frames = np.shape(fft_idx)\n",
        "  X_c = 1j * np.zeros([513, n_frames])\n",
        "  \n",
        "  # f1, t1, X_n = signal.stft(x_n, 44100, nperseg=N_fft, noverlap=N_olap, nfft=N_fft) \n",
        "\n",
        "  for n in range(n_frames):\n",
        "    X_c[fft_idx[:,n],n] = fft_real[:,n] + 1j*fft_imag[:,n]\n",
        "\n",
        "  t_c, y_reconstructed = signal.istft(X_c, 44100, nperseg=1024, noverlap=512, nfft=1024)\n",
        "\n",
        "  return y_reconstructed"
      ]
    },
    {
      "cell_type": "markdown",
      "metadata": {
        "id": "5FjLtionns1v"
      },
      "source": [
        "## Test encoder upgrades"
      ]
    },
    {
      "cell_type": "code",
      "execution_count": null,
      "metadata": {
        "id": "iYZZ6DP8bjQV"
      },
      "outputs": [],
      "source": [
        "from sys import ps1\n",
        "#@title ENCODER upgrades\n",
        "\n",
        "def encode2(y, fs): \n",
        "  #Paste Encoder Code here. Inputs and Outputs MUST be the same as seen here.\n",
        "  f1, t1, X = signal.stft(y, 44100, nperseg=1024, noverlap=512, nfft=1024)\n",
        "  n_freqs, n_frames = np.shape(X)\n",
        "  N_c = 50\n",
        "\n",
        "  X_out = np.copy(X)\n",
        "  X_mag = np.abs(X)\n",
        "  # x_sortIdx = np.argsort(X_mag, axis=0) \n",
        "\n",
        "  # fft_idx = np.int16(x_sortIdx[-N_c:,:])\n",
        "  fft_idx = np.zeros([N_c, n_frames], dtype='int16')\n",
        "  fft_real = np.zeros([N_c, n_frames], dtype='float16')\n",
        "  fft_imag = np.zeros([N_c, n_frames], dtype='float16')\n",
        "  noise_pow = np.zeros([5, n_frames])\n",
        "\n",
        "  hann513 = np.hanning(513)\n",
        "  hann257 = np.hanning(257)\n",
        "  hann129 = np.hanning(129)\n",
        "\n",
        "  channels = np.zeros([5,513])\n",
        "  channels[0,:65] = hann129[-65:]\n",
        "  channels[1,:129] = hann129\n",
        "  channels[2,64:129] = hann129[:65]\n",
        "  channels[2,128:257] = hann257[-129:]\n",
        "  channels[3,128:257] = hann257[:129]\n",
        "  channels[3,256:] = hann513[-257:]\n",
        "  channels[4,256:] = hann513[:257]\n",
        "\n",
        "  for n in range(n_frames):\n",
        "    # X_sort = X[fft_idx[:,n], n]\n",
        "    for k in range(N_c): \n",
        "      peak_idx = np.argmax(X_mag[:,n])\n",
        "      fft_idx[k,n] = peak_idx\n",
        "      fft_real[k,n] = np.real(X[peak_idx,n])\n",
        "      fft_imag[k,n] = np.imag(X[peak_idx,n])\n",
        "      # X_mag[peak_idx,n] = 0\n",
        "\n",
        "      # This is a really bad implementation of Masking\n",
        "      # Do better than this.\n",
        "      peak_pm = int( peak_idx / 25 )\n",
        "      p1 = max(peak_idx - peak_pm, 0)\n",
        "      p2 = min(peak_idx + peak_pm, 512)\n",
        "      if p1 == p2:\n",
        "        X_mag[p1,n] = 0\n",
        "        X_out[p1,n] = 0\n",
        "      else:\n",
        "        X_mag[p1:p2,n] = 0\n",
        "        X_out[p1:p2,n] = 0\n",
        "    \n",
        "    X_n = X_mag[:,n]\n",
        "    noise_pow[0,n] = np.sum(np.multiply(channels[0,:], X_n**2))\n",
        "    noise_pow[1,n] = np.sum(np.multiply(channels[1,:], X_n**2))\n",
        "    noise_pow[2,n] = np.sum(np.multiply(channels[2,:], X_n**2))\n",
        "    noise_pow[3,n] = np.sum(np.multiply(channels[3,:], X_n**2))\n",
        "    noise_pow[4,n] = np.sum(np.multiply(channels[4,:], X_n**2))\n",
        "\n",
        "    if n==2100:\n",
        "      plt.plot(20*np.log10(X_mag[:,n] + 1e-15))\n",
        "\n",
        "  y_compressed = [fft_idx, fft_real, fft_imag, noise_pow]\n",
        "  return y_compressed #, X_out"
      ]
    },
    {
      "cell_type": "code",
      "source": [
        "temp = np.ones(10)\n",
        "temp[3:3]"
      ],
      "metadata": {
        "id": "MeVeeFdKWOAU"
      },
      "execution_count": null,
      "outputs": []
    },
    {
      "cell_type": "markdown",
      "metadata": {
        "id": "_VvStFnfJtEI"
      },
      "source": [
        "### Residual (noise) channels"
      ]
    },
    {
      "cell_type": "markdown",
      "metadata": {
        "id": "Ke7gH3xOKdvK"
      },
      "source": [
        "#### Uniform channels"
      ]
    },
    {
      "cell_type": "code",
      "execution_count": null,
      "metadata": {
        "id": "EJ21Ey3bKbbx"
      },
      "outputs": [],
      "source": [
        "hann257 = np.hanning(257)\n",
        "\n",
        "channels = np.zeros([5,513])\n",
        "channels[0,:129] = hann257[-129:]\n",
        "channels[1,:257] = hann257\n",
        "channels[2,128:385] = hann257\n",
        "channels[3,256:] = hann257\n",
        "channels[4,384:] = hann257[:129]\n",
        "\n",
        "plt.plot(channels.T)"
      ]
    },
    {
      "cell_type": "markdown",
      "metadata": {
        "id": "0losXikoKkTd"
      },
      "source": [
        "#### Non-uniform channels (better)"
      ]
    },
    {
      "cell_type": "code",
      "execution_count": null,
      "metadata": {
        "id": "rHFFLap-Kjb6"
      },
      "outputs": [],
      "source": [
        "hann513 = np.hanning(513)\n",
        "hann257 = np.hanning(257)\n",
        "hann129 = np.hanning(129)\n",
        "\n",
        "channels = np.zeros([5,513])\n",
        "\n",
        "channels[0,:65] = hann129[-65:]\n",
        "\n",
        "channels[1,:129] = hann129\n",
        "\n",
        "channels[2,64:129] = hann129[:65]\n",
        "channels[2,128:257] = hann257[-129:]\n",
        "\n",
        "channels[3,128:257] = hann257[:129]\n",
        "channels[3,256:] = hann513[-257:]\n",
        "\n",
        "channels[4,256:] = hann513[:257]\n",
        "\n",
        "plt.plot(channels.T)"
      ]
    },
    {
      "cell_type": "markdown",
      "metadata": {
        "id": "6WBUUuEGKAyi"
      },
      "source": [
        "## Decoder upgrades"
      ]
    },
    {
      "cell_type": "code",
      "execution_count": null,
      "metadata": {
        "id": "U-ljhJKhbtKA"
      },
      "outputs": [],
      "source": [
        "#@title DECODER upgrades\n",
        "\n",
        "def decode2(y_compressed):\n",
        "  #Paste Decoder Code here. Inputs and Outputs MUST be the same as seen here.\n",
        "  fft_idx = y_compressed[0]\n",
        "  fft_real = y_compressed[1]\n",
        "  fft_imag = y_compressed[2]\n",
        "\n",
        "  n_freqs, n_frames = np.shape(fft_idx)\n",
        "  X_c = 1j * np.zeros([513, n_frames])\n",
        "  \n",
        "  for n in range(n_frames):\n",
        "    X_c[fft_idx[:,n],n] = fft_real[:,n] + 1j*fft_imag[:,n]\n",
        "\n",
        "  t_c, y_reconstructed = signal.istft(X_c, 44100, nperseg=1024, noverlap=512, nfft=1024)\n",
        "\n",
        "  return y_reconstructed"
      ]
    },
    {
      "cell_type": "markdown",
      "metadata": {
        "id": "xKD0IbWabv-b"
      },
      "source": [
        "## Test Codec"
      ]
    },
    {
      "cell_type": "code",
      "source": [
        "#@title Original Audio\n",
        "\n",
        "ipd.Audio(y[2], rate=44100)"
      ],
      "metadata": {
        "id": "jpLXkBYtPTYD"
      },
      "execution_count": null,
      "outputs": []
    },
    {
      "cell_type": "code",
      "execution_count": null,
      "metadata": {
        "id": "n265Ynl2btsz"
      },
      "outputs": [],
      "source": [
        "#@title Reference Codec\n",
        "\n",
        "y_c0 = encode(y[2], 44100)  # Encode the audio sample\n",
        "y_r0 = decode(y_c0)\n",
        "ipd.Audio(y_r0, rate=44100)"
      ]
    },
    {
      "cell_type": "code",
      "execution_count": null,
      "metadata": {
        "id": "xmDj7br05wVg"
      },
      "outputs": [],
      "source": [
        "#@title Upgraded Codec\n",
        "y_c2 = encode2(y[2], 44100)\n",
        "y_r2 = decode2(y_c2)\n",
        "ipd.Audio(y_r2, rate=44100)\n",
        "# plt.xlim(0,512)"
      ]
    },
    {
      "cell_type": "code",
      "source": [
        "#@title Residual power output\n",
        "noise_pow = y_c2[3]\n",
        "plt.plot(noise_pow.T)"
      ],
      "metadata": {
        "id": "3c0QVtxpeXUG"
      },
      "execution_count": null,
      "outputs": []
    },
    {
      "cell_type": "code",
      "source": [
        "plt.pcolormesh(20*np.log10(np.abs(X_out)))"
      ],
      "metadata": {
        "id": "ptDngXpfXx5s"
      },
      "execution_count": null,
      "outputs": []
    },
    {
      "cell_type": "markdown",
      "metadata": {
        "id": "U-E_ucj3cBxU"
      },
      "source": [
        "# Evaluation"
      ]
    },
    {
      "cell_type": "code",
      "execution_count": null,
      "metadata": {
        "id": "1eMoN1bcb-n-"
      },
      "outputs": [],
      "source": [
        "#@title Run Codec on Audio Samples\n",
        "ert_ave = 0\n",
        "drt_ave = 0\n",
        "\n",
        "y_compressed = []\n",
        "y_reconstructed = []\n",
        "# S_reconstructed = []\n",
        "\n",
        "for i in [0,1,2]:                       # Loops through the test audio samples\n",
        "  sample = y[i]\n",
        "  rate = fs[i]\n",
        "\n",
        "  encodeStartTime = time.time()         # Starts the execution timer\n",
        "  y_compressed_i = encode(sample,rate)  # Encode the audio sample\n",
        "  ert = time.time() - encodeStartTime   # Saves the encoder execution time\n",
        "  y_compressed.append(y_compressed_i)\n",
        "\n",
        "  decodeStartTime = time.time()         # Start the execution timer\n",
        "  y_reconstructed_i = decode(y_compressed_i)  # Decode the compressed audio\n",
        "  drt = time.time() - decodeStartTime   # Saves the decoder execution time\n",
        "\n",
        "  y_reconstructed.append(y_reconstructed_i)\n",
        "  \n",
        "  ert_ave += ert                        # Sum the encode exectution time\n",
        "  drt_ave += drt                        # Sum the decode execution time\n",
        "\n",
        "ert_ave /= 3                            # Average encode execution times\n",
        "drt_ave /= 3                            # Average decode execution times\n",
        "print(ert_ave)\n",
        "print(drt_ave)"
      ]
    },
    {
      "cell_type": "code",
      "execution_count": null,
      "metadata": {
        "id": "pTmYCCrgcFDJ"
      },
      "outputs": [],
      "source": [
        "#@title Compute Compression Ratio\n",
        "\n",
        "def compression(song, song_compressed):\n",
        "  Size_y = len(pickle.dumps(song))\n",
        "  print('Size of original file: ', Size_y)\n",
        "  Size_y_compressed = len(pickle.dumps(song_compressed))\n",
        "  print('Size of compressed file: ', Size_y_compressed)\n",
        "  Comp_Ratio = Size_y_compressed / Size_y\n",
        "  print('Compression ratio: ', Comp_Ratio)\n",
        "  \n",
        "  return Comp_Ratio\n",
        "\n",
        "comp_ave = 0\n",
        "\n",
        "for i in [0,1,2]:\n",
        "  Compression_Ratio = compression(y[i], y_compressed[i])\n",
        "  comp_ave += Compression_Ratio\n",
        "\n",
        "comp_ave /= 3\n",
        "print(\"Average Compression Ratio: \", comp_ave)"
      ]
    },
    {
      "cell_type": "code",
      "execution_count": null,
      "metadata": {
        "id": "Zm2GxXx4cGhA"
      },
      "outputs": [],
      "source": [
        "#@title Compute SNR\n",
        "\n",
        "def SNR(original, output):\n",
        "    # Normalize\n",
        "    # original = original/np.max(np.abs(original)) # Normalize to -1 to 1\n",
        "    # output =  output/np.max(np.abs(output)) # Normalize to -1 to 1\n",
        "    \n",
        "    # Find the shorter of the original vs. output\n",
        "    L = min(len(original), len(output))\n",
        "\n",
        "    # Compute SNR\n",
        "    noise = original[:L] - output[:L]\n",
        "    \n",
        "    powS = np.mean(original**2)\n",
        "    powN = np.mean(noise**2)\n",
        "\n",
        "    snr = powS/powN\n",
        "    snr = 10*np.log10(snr)\n",
        "    return snr\n",
        "\n",
        "snr_ave = 0\n",
        "\n",
        "for i in [0,1,2]:\n",
        "  snr = SNR(y[i],y_reconstructed[i])\n",
        "  print(\"SNR for compressed audio: \", snr)\n",
        "\n",
        "  snr_ave += snr\n",
        "\n",
        "snr_ave /= 3\n",
        "print(\"Average SNR: \", snr_ave)"
      ]
    },
    {
      "cell_type": "code",
      "execution_count": null,
      "metadata": {
        "id": "eShOmRPwcIbA"
      },
      "outputs": [],
      "source": [
        "#@title Display Overall Codec Results\n",
        "print(\"Results Averaged over Three Test Samples:\")\n",
        "print(\"--------------------------------------------\")\n",
        "print(\"Avg. Compression Ratio\")\n",
        "print(comp_ave)\n",
        "print()\n",
        "print(\"Avg. SNR\")\n",
        "print(snr_ave)\n",
        "print()\n",
        "print(\"Avg. Run Time \")\n",
        "print(\"Encode:\", ert, \"      Decode:\", drt)\n",
        "print()\n",
        "print(\"Audio for Perception Test\")\n",
        "display(ipd.Audio(y_reconstructed[0], rate=fs[0]))\n",
        "display(ipd.Audio(y_reconstructed[1], rate=fs[1]))\n",
        "display(ipd.Audio(y_reconstructed[2], rate=fs[2]))"
      ]
    }
  ],
  "metadata": {
    "colab": {
      "collapsed_sections": [
        "qw76fQQBw3rZ",
        "eOs9hdwgz95L",
        "v2GzC7BibouY"
      ],
      "provenance": [],
      "include_colab_link": true
    },
    "kernelspec": {
      "display_name": "Python 3",
      "name": "python3"
    }
  },
  "nbformat": 4,
  "nbformat_minor": 0
}