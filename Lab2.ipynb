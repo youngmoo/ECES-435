{
  "cells": [
    {
      "cell_type": "markdown",
      "metadata": {
        "id": "view-in-github",
        "colab_type": "text"
      },
      "source": [
        "<a href=\"https://colab.research.google.com/github/youngmoo/ECES-435/blob/main/Lab2.ipynb\" target=\"_parent\"><img src=\"https://colab.research.google.com/assets/colab-badge.svg\" alt=\"Open In Colab\"/></a>"
      ]
    },
    {
      "cell_type": "markdown",
      "metadata": {
        "id": "ksWVziWvX6kt"
      },
      "source": [
        "# Lab Overview\n",
        "\n",
        "In this week's lab, you will compute and plot the Short Time Fourier Transform.\n",
        "\n"
      ]
    },
    {
      "cell_type": "markdown",
      "metadata": {
        "id": "0SyWV0NZqihH"
      },
      "source": [
        "## Set Up Your Colab Enviornment"
      ]
    },
    {
      "cell_type": "markdown",
      "metadata": {
        "id": "jCDKfwvgp8Da"
      },
      "source": [
        "\n",
        "First, mount google drive so that you can access the shared class drive and files. (You may want to check the notebooks from lecture for a reminder of how this is done.)"
      ]
    },
    {
      "cell_type": "code",
      "execution_count": null,
      "metadata": {
        "colab": {
          "base_uri": "https://localhost:8080/"
        },
        "id": "FeOyEWz1k6zm",
        "outputId": "566a2939-9945-48bb-fdfb-9c3017365653"
      },
      "outputs": [
        {
          "output_type": "stream",
          "name": "stdout",
          "text": [
            "Mounted at /content/drive\n"
          ]
        }
      ],
      "source": [
        "from google.colab import drive\n",
        "drive.mount('/content/drive')"
      ]
    },
    {
      "cell_type": "markdown",
      "metadata": {
        "id": "N9e4v2S4m5s8"
      },
      "source": [
        "Import the libraries you'll be using:\n",
        "\n",
        "\n",
        "*   `soundfile as sf` for audio signal processing\n",
        "*   `IPython.display as ipd ` for audio playback\n",
        "*   `matplotlib as rc` for figure customization\n",
        "*   `matplotlib.pyplot as plt` for plotting\n",
        "*   `numpy as np` for some math functions\n",
        "* from `scipy` (Scientific Python) import `signal` for signal processing functions"
      ]
    },
    {
      "cell_type": "code",
      "execution_count": null,
      "metadata": {
        "id": "0um89XU4nS5p"
      },
      "outputs": [],
      "source": [
        "#Your code here\n",
        "import soundfile as sf\n",
        "import IPython.display as ipd\n",
        "import matplotlib as rc\n",
        "import matplotlib.pyplot as plt\n",
        "import numpy as np\n",
        "from scipy import signal"
      ]
    },
    {
      "cell_type": "markdown",
      "metadata": {
        "id": "iwqQ53Wtnja9"
      },
      "source": [
        "Tip: To quickly view documentation for a function, you can use the help function. See below."
      ]
    },
    {
      "cell_type": "code",
      "execution_count": null,
      "metadata": {
        "id": "4PauIZPTn4cm"
      },
      "outputs": [],
      "source": [
        "help(ipd.Audio)"
      ]
    },
    {
      "cell_type": "markdown",
      "metadata": {
        "id": "Y-4mN-1pT66S"
      },
      "source": [
        "Tip: To quickly and neatly hide code cell outputs, press Ctrl + C + M + O (for Windows) or Cmnd + C + M + O (for Mac)."
      ]
    },
    {
      "cell_type": "markdown",
      "metadata": {
        "id": "SsqJf1leakHt"
      },
      "source": [
        "#Part 1: Plotting the DFT using `np.fft.fft()`\n",
        "\n",
        "\n",
        "First, lets grab an audio clip. Run the following code to load load the audio and its sampling rate from the Lab 2 folder, and then listen to the tune you will be analyzing for the rest of the Lab.\n",
        "\n"
      ]
    },
    {
      "cell_type": "code",
      "source": [
        "load_path = '/content/drive/MyDrive/eces435-work/Labs/Lab2/Data/FunkySample.wav'\n",
        "y, fs = sf.read(load_path)\n",
        "ipd.Audio(y, rate=fs)"
      ],
      "metadata": {
        "id": "7uTKFJJjSyki"
      },
      "execution_count": null,
      "outputs": []
    },
    {
      "cell_type": "markdown",
      "metadata": {
        "id": "saoetoNddPnf"
      },
      "source": [
        "#### 1. Plot The Full Clip\n",
        "\n"
      ]
    },
    {
      "cell_type": "markdown",
      "source": [
        "Below is your favorite plotting function `myPlot()`! \n",
        "<font color='red'>Use `myPlot()` to plot the time domain signal you just imported with your favorite settings."
      ],
      "metadata": {
        "id": "OI0gSz0J0Xbk"
      }
    },
    {
      "cell_type": "code",
      "source": [
        "def myPlot(sig, N=0, fs=44100, fig_size=(16,4), x_ax=True, y_ax=True, lw=1, fmt=''):\n",
        "  if N==0:\n",
        "    N = len(sig)\n",
        "\n",
        "  fig = plt.figure(figsize=fig_size)\n",
        "  t = np.arange(N)/fs\n",
        "  plt.plot(t[:N],sig[:N],fmt,linewidth=lw)\n",
        "  plt.xlabel('Time (sec)')\n",
        "  ax = plt.gca()\n",
        "  \n",
        "  if x_ax == False:\n",
        "    ax.xaxis.set_visible(False)\n",
        "  if y_ax == False:\n",
        "    ax.yaxis.set_visible(False)\n",
        "\n",
        "  fig.tight_layout()\n",
        "  plt.ion()\n",
        "\n",
        "  # Returning the figure causes issues with interactive matplotlib\n",
        "  #return fig\n",
        "  # For saving the figure, use the interactive buton, instead.\n",
        "  # For further customization and command-line saving, more changes are required."
      ],
      "metadata": {
        "id": "9PGHrHpT0PB7"
      },
      "execution_count": null,
      "outputs": []
    },
    {
      "cell_type": "code",
      "source": [
        "#Your code here to plot the signal\n"
      ],
      "metadata": {
        "id": "fO7Z4LFwSv6e"
      },
      "execution_count": null,
      "outputs": []
    },
    {
      "cell_type": "markdown",
      "metadata": {
        "id": "AnVNSj9AkbHh"
      },
      "source": [
        "### 2. Calculate Discrete Fourier Transfrom\n",
        "\n",
        "You have seen in class that the (Discrete) Fourier Transform is calculated using\n",
        "\n",
        "$X[k] = \\sum_{n=0}^{N-1}x[n] e^\\frac{-j 2 \\pi f_k n}{N}$\n",
        "\n",
        "where each X[k] is the contrubution from the $f_k = f_0 * k$ frequency where k is an integer.  <br>\n",
        "\n",
        " <br>\n",
        "\n",
        "As you learned in class, the fast and efficient way to compute the DFT is using `np.fft.fft()`. \n",
        "\n",
        "\n",
        "* <font color='red'> Use `np.fft.fft()` to compute the full DFT, and save it to the variable `full_dft`. \n",
        "* <font color='red'> Plot the magnitude portion of the DFT ($|X[k]|$) in decibels (dB).\n",
        "X_Title` and `Y_Title`\n",
        "  * Generate a vector `F `(frequency) to use as the X input that is **the length of `dft_mag_db`** (Scale F so that the frequency axis is in Hz)\n",
        "  * Plot `dft_mag_db` (the decibel-scaled magnitude from `full_dft`)  on the Y axis\n",
        "  * Plot *only* the frequencies up to the Nyquist frequency ($f_s/2$), i.e. the positive frequencies.\n",
        " * Change the X and Y axis titles to \"Frequency (Hz)\" and \"Magnitude (dB)\", respectively."
      ]
    },
    {
      "cell_type": "code",
      "source": [
        "#Create a function to scale the frequency values to Hz\n",
        "\n",
        "full_dft =    # Compute the dft\n",
        "dft_mag =     # Take just the magnitude, normalize by length, then multiply x2 because cos(w) = 0.5e^jw + 0.5e^-jw\n",
        "\n",
        "dft_mag += 1e-15  # Add this so that when you scale to dB log doesnt cause any issues\n",
        "dft_mag_db = #Scale to dB\n",
        "\n",
        "F =   # Create an apropriate vector for the frequency components of the DFT scaled to Hz\n",
        "\n",
        "#Plot DFT: F vs Magnitude\n",
        "fig = plt.figure(figsize = (12,8))\n"
      ],
      "metadata": {
        "id": "MZAYLJ0PQMWe"
      },
      "execution_count": null,
      "outputs": []
    },
    {
      "cell_type": "markdown",
      "metadata": {
        "id": "I1iIeeXHa-wu"
      },
      "source": [
        "# Part 2: The Short Time Fourier Transform and Frequncy Spectrogram\n",
        "\n",
        "Now that you have reviewed the DFT using `np.fft.fft()`, you want to find the balance between frequency and time resolution when analyzing the sample you have for this lab. In Part 1, you obtained a very detailed picture of frequencies present in the audio clip but you have no idea where!\n",
        "\n",
        "<font color='red'>To solve this you need to do two things in Part 2:\n",
        "\n",
        "* Create a function that computes the Short Time Fourier Transform (STFT) and...\n",
        "* Create a function that plots the STFT as a time-frequency spectrogram (time on the x axis and frequency on the y)"
      ]
    },
    {
      "cell_type": "markdown",
      "source": [
        "### 6. Create Your STFT Function\n"
      ],
      "metadata": {
        "id": "dActoySu5d6W"
      }
    },
    {
      "cell_type": "markdown",
      "source": [
        "#### <font color='red'> a. Sliding Window \n",
        "<br>\n",
        "\n",
        "To create the STFT, you first need to make a function that computes the DFT for a short window of the input sample, then slides the window over and computes the next DFT, and so on... <br>\n",
        "\n",
        "* Create a function `compute_stft()` with inputs  `sig` (input signal), `fs` (sampling rate), `n_fft` (lenth of fft, for now set this equal to n_win inside the function) `n_win` (length of window per frame), and `n_hop` (overlap between windows).\n",
        "* Within the function create a loop that\n",
        " * Loops through the signal based indexing it `sig[frame_start:frame_start + n_win]`\n",
        " * Calculates np.fft.fft for sig[0:n_win] using n_win as the size of the fft, \n",
        " * Then slides the window over by n_hop and computes the next frame of fft...etc. *and* stops when the number of samples between frame_start and the end of the signal is less than n_win"
      ],
      "metadata": {
        "id": "vSWOvswgBWI8"
      }
    },
    {
      "cell_type": "code",
      "source": [
        "#Need to update inputs to NFFT, window_length, hop_length, fs\n",
        "def compute_stft(sig,fs,n_fft,n_win,n_hop):\n",
        "  frame_start  = 0\n",
        "  #Create an empty array to append STFT frames to\n",
        "  stft = []\n",
        "  #Create the STFT loop\n",
        "  while (): #You should keep taking the STFT and sliding the window over; stop when the window has less samples than n_win\n",
        "      #Make sure you only append the first hald of the result of np.fft.fft() - Up to the Nyquist Frequency\n",
        "\n",
        "\n",
        "      frame_start +=\n",
        "   \n",
        "    stft = np.asarray(stft) #Turn a list of np arrays into a proper np array\n",
        "    return(stft)"
      ],
      "metadata": {
        "id": "OgGLNNM-7BRC"
      },
      "execution_count": null,
      "outputs": []
    },
    {
      "cell_type": "markdown",
      "source": [
        "#### <font color='red'> b. Zero Padding and Window Functions\n",
        "<br>\n",
        "\n",
        "Now that you have the basic STFT, you want to add two \"hacks\" mentioned in class which will greatly improve the quality of the STFT you generate.\n",
        "\n",
        "* First, you want to add the option to have n_fft be longer than n_win by padding the window with zeros. Remember, the frequency resolution of the FFT will be determined by the length of the input so if you pad a short segment with zeros, you will have higher frequency resolution. \n",
        "* Second, once you have done padded the signal you will have created an area of abrupt change that will add artifacts to the FFt. To fix this add in a line of code to multiply your signal by a window function before padding it with zeros.\n",
        "* <font color='red'> Revise your `compute_stft()` function below so that you:\n",
        " * Use `np.hanning(n_win)` to create a window function the length of the window you are using from the signal.\n",
        " * Multiply the frame of the signal with the window function.\n",
        " * Make sure the number of DFT points you compute is `n_fft`."
      ],
      "metadata": {
        "id": "P7TXjbtMBHOq"
      }
    },
    {
      "cell_type": "code",
      "source": [
        "def compute_stft(sig,fs,n_fft,n_win,n_hop):\n",
        "    \n",
        "    return(stft)"
      ],
      "metadata": {
        "id": "NdDIg4NHD3Fc"
      },
      "execution_count": null,
      "outputs": []
    },
    {
      "cell_type": "code",
      "source": [
        "# Add code here to compute the STFT and print the shape\n",
        "n_fft =  # Make the FFT length 2048\n",
        "n_win =  # Make the Analysis frame 20 milliseconds\n",
        "n_hop =  # Make the Hop Length 1/2 n_win\n",
        "\n",
        "\n",
        "STFT = compute_stft()\n",
        "print(STFT.shape)"
      ],
      "metadata": {
        "id": "iPmVuKL5BGmf"
      },
      "execution_count": null,
      "outputs": []
    },
    {
      "cell_type": "markdown",
      "source": [
        "### 7. Plot STFT as a Time-Frequency Spectrogram"
      ],
      "metadata": {
        "id": "hYA6t3pj76bT"
      }
    },
    {
      "cell_type": "markdown",
      "source": [
        "Alright, so now you should have the complete STFT function. You may realise now that you can't use `plt.plot()` to visualize the resulting of the STFT because it is actually a 2D array instead of a 1D signal like you were used to. <br>\n",
        "\n",
        "So, you need to create a function called `plot_spectrogram() `that allows you to plot the STFT as a full 2D array using `plt.pcolormesh()`. <br>\n",
        "\n",
        "`plt.pcolormesh(X,Y,mesh)` take the inputs X (the corresponding X axis values for each row in the image matrix), Y (the corresponding Y axis values for each column in the image matrix), and mesh (the spectrogram you want to plot in our case). Using this function you can easily plot the spectrogram and just calculate two vectors X and Y which are the apropriate time (X) and frequncy (Y) values for the rows and columns of the spectrogram.\n",
        "\n",
        "* <font color='red'>Create a function `plot_spectrogram()`\n",
        " * Required inputs: `sig `(signal to plot spectrogram of), `fs `(sampling frequency), and apropriate `compute_stft` inputs (`n_fft, f_win, n_hop`)\n",
        "* <font color='red'>Within the function:\n",
        " * Compute the STFT\n",
        " * Take just the magnitude portion and scale it to dB\n",
        " * Create X and Y vectors for Time (in seconds) and Frequency (in Hz) labels\n",
        " * Plot the spectrogram and add axis labels \"Time (in Seconds)\" and \"Frequency (in Hz)\" for X and Y axis respectively.\n",
        "  "
      ],
      "metadata": {
        "id": "pj2uwXxpn2Dm"
      }
    },
    {
      "cell_type": "code",
      "source": [
        "def plot_spectrogram( sig, fs, fig_size,n_fft,n_win,n_hop):\n",
        "    STFT = compute_stft()\n",
        "    STFT = np.swapaxes(STFT, 0,1) # Do this becuase the way currently the first axis (rows) in STFT corresponds to a window in time\n",
        "                                  # We want Frequncy on the Y axis\n",
        "    #Get magnitude and scale to dB\n",
        "\n",
        "\n",
        "    #Find the X vector (what are the times for each frame?)\n",
        "    x_lim = \n",
        "    X = \n",
        "\n",
        "    #Find the X vector (what are the frequencies for each row of the stft?)\n",
        "    y_lim = \n",
        "    Y = \n",
        "    \n",
        "    plt.pcolormesh(X, Y, STFT_dB)\n",
        "    \n",
        "    #Add X and Y labels and a Title\n",
        "\n",
        "\n"
      ],
      "metadata": {
        "id": "rCO_AgxQok55"
      },
      "execution_count": null,
      "outputs": []
    },
    {
      "cell_type": "code",
      "source": [
        "# Add code here to plot Spectrogram\n",
        "plot_spectrogram()"
      ],
      "metadata": {
        "id": "QD_vNO1ARa3K"
      },
      "execution_count": null,
      "outputs": []
    },
    {
      "cell_type": "markdown",
      "source": [
        "### 8. Compare to Spectrogram\n",
        "\n",
        "Fantastic! You now know how to compute the STFT (mostly) from scratch! You may be wondering...is there a way I can do this faster and maybe change out things like the window function with ease? <br>\n",
        "\n",
        "Wow! What great intuition you have! <font color='red'> You can finish off the code below to easily compare the output of `scipy.signal.spectrogram() `to your own spectrogram."
      ],
      "metadata": {
        "id": "ZUmcOf2c8JeU"
      }
    },
    {
      "cell_type": "code",
      "source": [
        "f1, t1, Sxx = signal.spectrogram(y, fs, window='hann', nperseg=n_win, noverlap=n_win - n_hop, nfft=n_fft)\n",
        "fig = plt.figure(figsize=(20,8))\n",
        "S_mag = np.abs(Sxx) \n",
        "S_dB = #Scale to dB\n",
        "plt.pcolormesh(t1, f1, S_dB)\n",
        "plt.ylabel('Frequency (Hz)')\n",
        "plt.xlabel('Time (sec)')"
      ],
      "metadata": {
        "id": "eY8bylvMRxT2"
      },
      "execution_count": null,
      "outputs": []
    },
    {
      "cell_type": "markdown",
      "source": [
        "From the Time-Frequency Spectrogram, what information can you get about the music? Can you tell when say the voice or an instrument come in? Listen to the audio from earlier in the lab and then look at this spectrogram. <br>\n",
        "<br>\n",
        "* What can you tell me about how the voice of the singer relates to the spectrogram? How and at what time? <br>\n",
        "* What can you tell me about how some of the instruments relate to the spectrogram? How and at what time?<br>"
      ],
      "metadata": {
        "id": "KNvaJ88eGn85"
      }
    },
    {
      "cell_type": "markdown",
      "source": [
        "<font color='red'> Your answers here:\n",
        "\n",
        "* \n",
        "*"
      ],
      "metadata": {
        "id": "HtsGffOFHY6Q"
      }
    },
    {
      "cell_type": "markdown",
      "source": [
        "# Completing the Lab\n",
        "\n",
        "To submit this lab *share the notebook with charis.cochran@excitecenter.org* AND *submit the link as a text submission on the Lab2 assignment on BbLearn* to receive credit for this lab. (ONLY share with charis.cochran@excitecenter.org)\n",
        "\n",
        "*Ensure all cells and plots have been run and are visible in the notebook before submitting. Also, make sure you responded to the short answer question about the Spectrogram plot. Submiting the link to BbLearn means the lab has been submitted and is ready for grading. DO THIS LAST. "
      ],
      "metadata": {
        "id": "HWrTJwIss9zw"
      }
    }
  ],
  "metadata": {
    "colab": {
      "provenance": [],
      "collapsed_sections": [],
      "toc_visible": true,
      "include_colab_link": true
    },
    "kernelspec": {
      "display_name": "Python 3",
      "name": "python3"
    },
    "language_info": {
      "name": "python"
    }
  },
  "nbformat": 4,
  "nbformat_minor": 0
}