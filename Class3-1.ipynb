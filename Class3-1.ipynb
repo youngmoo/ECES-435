{
  "nbformat": 4,
  "nbformat_minor": 0,
  "metadata": {
    "colab": {
      "provenance": [],
      "collapsed_sections": [
        "7N_b3ft0ch_9",
        "AyHIAwtNpFtj",
        "jTWO-zp4oT9l",
        "ZhEkG64Eog4e"
      ],
      "include_colab_link": true
    },
    "kernelspec": {
      "display_name": "Python 3",
      "name": "python3"
    }
  },
  "cells": [
    {
      "cell_type": "markdown",
      "metadata": {
        "id": "view-in-github",
        "colab_type": "text"
      },
      "source": [
        "<a href=\"https://colab.research.google.com/github/youngmoo/ECES-435/blob/main/Class3-1.ipynb\" target=\"_parent\"><img src=\"https://colab.research.google.com/assets/colab-badge.svg\" alt=\"Open In Colab\"/></a>"
      ]
    },
    {
      "cell_type": "markdown",
      "metadata": {
        "id": "qHxN8R_ItyXz"
      },
      "source": [
        "# **ECES-435: Class 3.1**\n",
        "Week 3!  You are 20% done with the class.\n",
        "\n",
        "**Announcements**\n",
        "* Watch [Video No. 5: Quantization](https://youtu.be/T2i5ddP4dFQ) for next class\n",
        "* [Music Tech Link event](https://bit.ly/phl-mtl) tomorrow (Tue 10/1) at 5pm (ExCITe Center: 3401 Market St.)\n",
        "* Lectures are in-person only, for now.\n",
        "\n",
        "\n",
        "\n"
      ]
    },
    {
      "cell_type": "markdown",
      "source": [
        "# Optional stuff"
      ],
      "metadata": {
        "id": "LNs1mQ6RwalY"
      }
    },
    {
      "cell_type": "markdown",
      "source": [
        "Install `ipympl` for  Matplotlib\n"
      ],
      "metadata": {
        "id": "leCBR9y1whNm"
      }
    },
    {
      "cell_type": "code",
      "source": [
        "!pip install ipympl   # Also installs a more recent version of matplotlib (v3.5.3)"
      ],
      "metadata": {
        "id": "ez5UrP3WwWa-"
      },
      "execution_count": null,
      "outputs": []
    },
    {
      "cell_type": "markdown",
      "source": [
        "Enable interactive Matplotlib figures"
      ],
      "metadata": {
        "id": "rIs1kGVvw1hn"
      }
    },
    {
      "cell_type": "markdown",
      "source": [],
      "metadata": {
        "id": "kJZe9bmdrRMY"
      }
    },
    {
      "cell_type": "code",
      "source": [
        "from google.colab import output\n",
        "output.enable_custom_widget_manager()\n",
        "%matplotlib widget"
      ],
      "metadata": {
        "id": "lryCz_51wldf"
      },
      "execution_count": null,
      "outputs": []
    },
    {
      "cell_type": "markdown",
      "source": [
        "My plot style defaults"
      ],
      "metadata": {
        "id": "qw76fQQBw3rZ"
      }
    },
    {
      "cell_type": "code",
      "source": [
        "from matplotlib import rc\n",
        "\n",
        "rc('figure', figsize=(12,4))\n",
        "rc('figure', facecolor='#aaaaaa')     # Better figure background for dark mode\n",
        "\n",
        "rc('font', family='Liberation Serif') # Nicer font\n",
        "rc('font', size=20)                   # Larger font size for labels"
      ],
      "metadata": {
        "id": "NE9dlTZIwt_e"
      },
      "execution_count": null,
      "outputs": []
    },
    {
      "cell_type": "markdown",
      "source": [
        "# Setup\n",
        "As always, start by importing the \"usual\" modules we'll be using..."
      ],
      "metadata": {
        "id": "ljWJhD2HwY3v"
      }
    },
    {
      "cell_type": "code",
      "metadata": {
        "id": "eDaoDgqCs1mp"
      },
      "source": [
        "import numpy as np\n",
        "import matplotlib.pyplot as plt\n",
        "import IPython.display as ipd\n",
        "import soundfile as sf\n",
        "from matplotlib import animation, rc\n",
        "from scipy import signal\n",
        "\n",
        "rc('animation', html='jshtml')\n",
        "\n",
        "path = '/content/drive/My Drive/eces435-work/class3.1/'"
      ],
      "execution_count": null,
      "outputs": []
    },
    {
      "cell_type": "code",
      "metadata": {
        "id": "QUiMfqMhOWCI"
      },
      "source": [
        "# CHANGE THIS to your Drexel username!!\n",
        "username = 'thx1138'"
      ],
      "execution_count": null,
      "outputs": []
    },
    {
      "cell_type": "code",
      "metadata": {
        "id": "7f-OzFc_mN4w"
      },
      "source": [
        "from google.colab import drive\n",
        "drive.mount('/content/drive')"
      ],
      "execution_count": null,
      "outputs": []
    },
    {
      "cell_type": "markdown",
      "source": [
        "## Helper functions"
      ],
      "metadata": {
        "id": "eOs9hdwgz95L"
      }
    },
    {
      "cell_type": "markdown",
      "source": [
        "## `myPlot()` function\n",
        "A quick time-domain signal plot function with my default figure settings and a time x-axis (in seconds).\n",
        "* Required arguments:\n",
        "  * `sig` Input signal (first argument)\n",
        "* Optional arguments:\n",
        "  * `N=#` Number of samples to plot (default: length of signal)\n",
        "  * `fs=#` Sample rate of signal (default: 44100 Hz)\n",
        "  * `fig_size=(W,H)` Change figure dimensions (width, height)\n",
        "  * `x_ax=True/False` Show x-axis (default: True)\n",
        "  * `y_ax=True/False` Show y-axis (default: True)\n",
        "  * `lw=#` Change linewdith of signal (default: 1)\n",
        "  * `fmt='...'` Plot format string (default: none)"
      ],
      "metadata": {
        "id": "7N_b3ft0ch_9"
      }
    },
    {
      "cell_type": "code",
      "source": [
        "def myPlot(sig, N=0, fs=44100, fig_size=(16,4), x_ax=True, y_ax=True, lw=1, fmt=''):\n",
        "  if N==0:\n",
        "    N = len(sig)\n",
        "\n",
        "  fig = plt.figure(figsize=fig_size)\n",
        "  t = np.arange(N)/fs\n",
        "\n",
        "  plt.plot( t[:N], sig[:N], fmt, linewidth=lw)\n",
        "\n",
        "  plt.xlabel('Time (sec)')\n",
        "  ax = plt.gca()    # gca(): \"Get current axis\", the graph object that's currently plotted\n",
        "  \n",
        "  if x_ax == False:\n",
        "    ax.xaxis.set_visible(False)\n",
        "  if y_ax == False:\n",
        "    ax.yaxis.set_visible(False)\n",
        "\n",
        "  fig.tight_layout()\n",
        "  plt.ion()\n",
        "\n",
        "  # Returning the figure causes issues with interactive matplotlib\n",
        "  #return fig\n",
        "  # For saving the figure, use the interactive buton, instead.\n",
        "  # For further customization and command-line saving, more changes are required."
      ],
      "metadata": {
        "id": "aNLccM7sz9SE"
      },
      "execution_count": null,
      "outputs": []
    },
    {
      "cell_type": "markdown",
      "metadata": {
        "id": "XcXJbG4XV5vW"
      },
      "source": [
        "# Sinusoids, revisited"
      ]
    },
    {
      "cell_type": "markdown",
      "metadata": {
        "id": "AyHIAwtNpFtj"
      },
      "source": [
        "## Complex exponential phasor with $\\cos()$ and $\\sin()$ lines"
      ]
    },
    {
      "cell_type": "code",
      "metadata": {
        "id": "WUIFP7vgpOKT"
      },
      "source": [
        "# First set up the figure, the axis, and the plot element we want to animate\n",
        "fig = plt.figure(figsize = (8,8))\n",
        "\n",
        "ax = plt.axes(xlim=(-2.2, 2.2), ylim=(-2.2, 2.2))\n",
        "plt.close()   # Don't output the final figure separately\n",
        "\n",
        "N = 100\n",
        "c_n = np.arange(N+1)\n",
        "c_x = np.cos(2*np.pi*c_n/N)\n",
        "c_y = np.sin(2*np.pi*c_n/N)\n",
        "\n",
        "fig.tight_layout()\n",
        "\n",
        "f = 1/30 / 2\n",
        "circle, = ax.plot(c_x,c_y,'lightgray') \n",
        "cos_guide, = ax.plot([], [], 'g:')\n",
        "sin_guide, = ax.plot([], [], 'r:')\n",
        "dot_ccw, = ax.plot([], [], 'yo', markersize=15)\n",
        "\n",
        "# animation function.  This is called sequentially\n",
        "def animate(n):\n",
        "    x0 = np.cos(2*np.pi * n*f)\n",
        "    y0 = np.sin(2*np.pi * n*f)\n",
        "    dot_ccw.set_data(x0, y0)\n",
        "    cos_guide.set_data([0, x0], [0, 0])\n",
        "    sin_guide.set_data([x0, x0], [0, y0])\n",
        "    return dot_ccw, \n",
        "\n",
        "# call the animator.  blit=True means only re-draw the parts that have changed.=\n",
        "anim = animation.FuncAnimation(fig, animate, frames=60, interval=1000/30, blit=True)\n",
        "\n",
        "anim"
      ],
      "execution_count": null,
      "outputs": []
    },
    {
      "cell_type": "markdown",
      "metadata": {
        "id": "jTWO-zp4oT9l"
      },
      "source": [
        "##Two phasors on unit circle with sum"
      ]
    },
    {
      "cell_type": "code",
      "metadata": {
        "id": "pOcpT7wBRlYt"
      },
      "source": [
        "# First set up the figure, the axis, and the plot element we want to animate\n",
        "fig = plt.figure(figsize = (8,8))\n",
        "ax = plt.axes(xlim=(-2.2, 2.2), ylim=(-2.2, 2.2))\n",
        "ax.set_xlabel('Real')\n",
        "ax.set_ylabel('Imag')\n",
        "plt.close()   # Don't output the final figure separately\n",
        "\n",
        "# Compute the x,y coordinates of the unit circle\n",
        "N = 100   # 100 points is plenty\n",
        "c_n = np.arange(N+1)\n",
        "c_x = np.cos(2*np.pi*c_n/N)\n",
        "c_y = np.sin(2*np.pi*c_n/N)\n",
        "\n",
        "fig.tight_layout()\n",
        "\n",
        "# Setup the plot objects that will update frame-to-frame\n",
        "f = 1 / 30 / 2   # A frequency of 1/2 Hz (2 seconds around the circle, 30 frames per second)\n",
        "circle, = ax.plot(c_x,c_y,'lightgray') \n",
        "dot_ccw, = ax.plot([], [], 'yo', markersize=15)\n",
        "dot_cw, = ax.plot([], [], 'co', markersize=15)\n",
        "dot_sum, = ax.plot([], [], 'go', markersize=15)\n",
        "\n",
        "# Function to compute next animation frame.  This is called sequentially.\n",
        "def cos_frame(n):\n",
        "    x0 = np.cos(2*np.pi * n*f)\n",
        "    y0 = np.sin(2*np.pi * n*f)\n",
        "    dot_ccw.set_data(x0, y0)\n",
        "    dot_cw.set_data(x0, -y0)\n",
        "    dot_sum.set_data(2*x0, 0)\n",
        "\n",
        "    return dot_ccw, #dot_cw, dot_sum, #line, head, guide\n",
        "\n",
        "cos_anim = animation.FuncAnimation(fig, cos_frame, frames=60, interval=1000/30, blit=True)\n",
        "\n",
        "cos_anim  # Display the animated frames"
      ],
      "execution_count": null,
      "outputs": []
    },
    {
      "cell_type": "markdown",
      "metadata": {
        "id": "ZhEkG64Eog4e"
      },
      "source": [
        "##Two phasors on unit circle for $\\sin()$"
      ]
    },
    {
      "cell_type": "code",
      "metadata": {
        "id": "dTJpS-Ekon7F"
      },
      "source": [
        "# First set up the figure, the axis, and the plot element we want to animate\n",
        "fig = plt.figure(figsize = (8,8))\n",
        "\n",
        "ax = plt.axes(xlim=(-2.2, 2.2), ylim=(-2.2, 2.2))\n",
        "plt.close()   # Don't output the final figure separately\n",
        "\n",
        "N = 100\n",
        "c_n = np.arange(N+1)\n",
        "c_x = np.cos(2*np.pi*c_n/N)\n",
        "c_y = np.sin(2*np.pi*c_n/N)\n",
        "\n",
        "fig.tight_layout()\n",
        "\n",
        "f = 1/30 / 2\n",
        "circle, = ax.plot(c_x,c_y,'lightgray') \n",
        "dot_ccw, = ax.plot([], [], 'yo', markersize=15)\n",
        "dot_cw, = ax.plot([], [], 'mo', markersize=15)\n",
        "dot_sum, = ax.plot([], [], 'ro', markersize=15)\n",
        "\n",
        "# animation function.  This is called sequentially\n",
        "def animate(n):\n",
        "    x0 = np.cos(2*np.pi * n*f)\n",
        "    y0 = np.sin(2*np.pi * n*f)\n",
        "    dot_ccw.set_data(x0, y0)\n",
        "    dot_cw.set_data(-x0, y0)\n",
        "    dot_sum.set_data(0, 2*y0)\n",
        "\n",
        "    return dot_ccw, #dot_cw, dot_sum, #line, head, guide\n",
        "\n",
        "# call the animator.  blit=True means only re-draw the parts that have changed.=\n",
        "anim = animation.FuncAnimation(fig, animate, #init_func=init,\n",
        "                               frames=60, interval=1000/30, blit=True)\n",
        "\n",
        "# Note: below is the part which makes it work on Colab\n",
        "#rc('animation', html='jshtml')\n",
        "anim"
      ],
      "execution_count": null,
      "outputs": []
    },
    {
      "cell_type": "markdown",
      "metadata": {
        "id": "cWj0eW-qEjxf"
      },
      "source": [
        "# Load a new audio example\n",
        "Yo Yo Ma: Bach Cello Suite No. 1\n",
        "* 44.1 kHz sampling rate"
      ]
    },
    {
      "cell_type": "code",
      "metadata": {
        "id": "xMUmfBZ0-9XL"
      },
      "source": [
        "yy44,fs44 = sf.read(path + 'YoYoMa-44kHz.wav')\n",
        "ipd.Audio(yy44,rate=fs44)"
      ],
      "execution_count": null,
      "outputs": []
    },
    {
      "cell_type": "code",
      "metadata": {
        "id": "AvhFkx6JZL9T"
      },
      "source": [
        "myPlot(yy44)"
      ],
      "execution_count": null,
      "outputs": []
    },
    {
      "cell_type": "markdown",
      "metadata": {
        "id": "oh2z9CPwuOFR"
      },
      "source": [
        "# The `fft` and `fftshift` functions"
      ]
    },
    {
      "cell_type": "code",
      "source": [
        "N = 2048\n",
        "h_win = np.hanning(N)\n",
        "\n",
        "YY = np.fft.fft(yy44[:N] * h_win)\n",
        "YY_mag = np.abs(YY)\n",
        "YY_norm = 4 * YY_mag / N    # Frequency magnitude, normalized by length. Why 4?\n",
        "                            #    x2 because cos(w) = 0.5e^jw + 0.5e^-jw\n",
        "                            #    x2 because hanning window has 0.5 average\n",
        "\n",
        "fig = plt.figure(figsize=(16,6))\n",
        "f = np.arange(N) * fs44 / N\n",
        "plt.plot(f, 20*np.log10(np.abs(YY_norm)))\n",
        "plt.xlabel('Frequency (Hz)')"
      ],
      "metadata": {
        "id": "MAvmTfQ8eatu"
      },
      "execution_count": null,
      "outputs": []
    },
    {
      "cell_type": "code",
      "metadata": {
        "id": "soOWfQ63cczL"
      },
      "source": [
        "YY_shift = np.fft.fftshift(YY)\n",
        "YY_shift_norm = 4 * np.abs(YY_shift) / N\n",
        "f_shift = (np.arange(N) - N/2) * fs44 / N\n",
        "\n",
        "fig = plt.figure(figsize=(16,6))\n",
        "plt.plot(f_shift, 20*np.log10(np.abs(YY_shift_norm)))\n",
        "plt.xlabel('Frequency (Hz)')"
      ],
      "execution_count": null,
      "outputs": []
    },
    {
      "cell_type": "markdown",
      "source": [
        "## myPlotFFT\n",
        "Plot the magnitude frequency response (in dB FS) of a signal with my default figure settings and a frequency x-axis (in Hz), based on the Nyquist rate.\n",
        "* Required arguments:\n",
        "  * `sig` Input signal (first argument)\n",
        "* Optional arguments:\n",
        "  * `n_fft=#` The size of FFT to use (default: length of input signal)\n",
        "  * `n_win=#` The length of window to use (default: length of input)\n",
        "  * `win='hann'` The type of window to use (default: `hann`, or `rect`)\n",
        "  * `fs=#` Sample rate of signal (default: 44100 Hz)\n",
        "  * `x_lim=# or (#,#)` Frequency axis limits (max or range, in Hz)\n",
        "  * `fig_size=(W,H)` Change figure dimensions (width, height)\n",
        "  * `x_ax=True/False` Show x-axis (default: True)\n",
        "  * `y_ax=True/False` Show y-axis (default: True)\n",
        "  * `lw=#` Change linewdith of signal (default: 1)\n",
        "  * `fmt='...'` Change plot formatting (default: none)"
      ],
      "metadata": {
        "id": "sJVM9Z8MyKma"
      }
    },
    {
      "cell_type": "code",
      "source": [
        "def myPlotFFT(sig, fs=44100, n_fft=0, n_win=0, win='hann', neg_f=False, x_lim=0, fig_size=(16,6),x_ax=True, y_ax=True, lw=1, fmt=''):\n",
        "  if n_fft==0:\n",
        "    n_fft = len(sig)\n",
        "  if n_win==0:\n",
        "    n_win = len(sig)\n",
        "\n",
        "  if win=='hann':  \n",
        "    win = np.hanning(n_win)\n",
        "    win_scale = 2\n",
        "  else:\n",
        "    win = np.ones(n_win)\n",
        "    win_scale = 1\n",
        "\n",
        "  S = \n",
        "  \n",
        "  N = len(S)\n",
        "  f = np.arange(N) * fs / N\n",
        "  if neg_f:\n",
        "    f = f - (fs/2)\n",
        "    S = np.fft.fftshift(S)\n",
        "\n",
        "  S_mag = 2*win_scale*np.abs(S) / n_fft     # Frequency magnitude, normalized by length\n",
        "                                            #    x2 because cos(w) = 0.5e^jw + 0.5e^-jw\n",
        "                                            #    x2 for Hann because window has 0.5 average\n",
        "\n",
        "  S_mag += 1e-15                  # Add a small offset to avoid log(0) errors\n",
        "  S_dBFS = 20*np.log10(S_mag)     # Freq. magnitude in dB full scale (dB FS):\n",
        "                                  #    cos(w) -> 0 dBFS peak at w\n",
        "\n",
        "\n",
        "  fig = plt.figure(figsize=fig_size)\n",
        "  plt.plot(f, S_dBFS, fmt, linewidth=lw) \n",
        "  if np.isscalar(x_lim):\n",
        "    if x_lim == 0:\n",
        "      x_lim2 = fs/2\n",
        "    if neg_f:\n",
        "      x_lim = -fs/2\n",
        "    plt.xlim(x_lim, x_lim2)\n",
        "  else:\n",
        "    plt.xlim(x_lim)\n",
        "  plt.xlabel('Frequency (Hz)')\n",
        "  plt.ylabel('Magnitude (dB)')\n",
        "\n",
        "  ax = plt.gca()\n",
        "  if x_ax == False:\n",
        "    ax.xaxis.set_visible(False)\n",
        "  if y_ax == False:\n",
        "    ax.yaxis.set_visible(False)\n",
        "  fig.tight_layout()\n",
        "\n",
        "  # Returning the figure causes issues with interactive matplotlib\n",
        "  #return fig\n",
        "  # For saving the figure, use the interactive buton, instead.\n",
        "  # For further customization and command-line saving, more changes are required."
      ],
      "metadata": {
        "id": "EHUlZ6kLyD7I"
      },
      "execution_count": null,
      "outputs": []
    },
    {
      "cell_type": "code",
      "source": [
        "myPlotFFT(yy44[:44100], win='rect', neg_f=True)"
      ],
      "metadata": {
        "id": "0zFPgSdpzPaP"
      },
      "execution_count": null,
      "outputs": []
    },
    {
      "cell_type": "markdown",
      "source": [
        "# STFT: Spectrogram"
      ],
      "metadata": {
        "id": "mFL5nrVakInc"
      }
    },
    {
      "cell_type": "code",
      "metadata": {
        "id": "CgIwbrdHZuDT"
      },
      "source": [
        "f1, t1, Sxx = signal.spectrogram(yy44, fs44, window='hann', nperseg=2048, noverlap=2048-512, nfft=4096)\n",
        "\n",
        "fig = plt.figure(figsize=(16,6))\n",
        "\n",
        "plt.pcolormesh(t1, f1, 20*np.log10(np.abs(Sxx)+1e-15))\n",
        "plt.ylabel('Frequency (Hz)')\n",
        "plt.xlabel('Time (sec)')\n"
      ],
      "execution_count": null,
      "outputs": []
    },
    {
      "cell_type": "markdown",
      "metadata": {
        "id": "69W9BiAtNvEg"
      },
      "source": [
        "# Load low sampling rate version (11025 Hz sampling)"
      ]
    },
    {
      "cell_type": "code",
      "metadata": {
        "id": "iqpNiFORNuNI"
      },
      "source": [
        "yy11,fs11 = sf.read(path + 'YoYoMa-11kHz.wav')\n",
        "ipd.Audio(yy11,rate=fs11)"
      ],
      "execution_count": null,
      "outputs": []
    },
    {
      "cell_type": "code",
      "metadata": {
        "id": "mGnf6L4cq-UI"
      },
      "source": [
        "f1, t1, Sxx = signal.spectrogram(yy11, fs11, window='hann', nperseg=512, noverlap=256, nfft=512)\n",
        "\n",
        "fig = plt.figure(figsize=(16,6))\n",
        "#ax = plt.axes(xlim=(0,13),ylim=(0,5000))\n",
        "\n",
        "plt.pcolormesh(t1, f1, 20*np.log10(np.abs(Sxx)))\n",
        "plt.ylabel('Frequency (Hz)')\n",
        "plt.xlabel('Time (sec)')\n",
        "\n",
        "plt.ylim(0,15000)\n",
        "\n",
        "#fig.savefig(path + username + '-Spectrogram-YY.png', dpi=200)"
      ],
      "execution_count": null,
      "outputs": []
    },
    {
      "cell_type": "markdown",
      "metadata": {
        "id": "7dMX-Z4j3Y3i"
      },
      "source": [
        "#Sample rate conversion: done poorly\n"
      ]
    },
    {
      "cell_type": "markdown",
      "source": [
        "## Upsampling: insert zeros between existing samples"
      ],
      "metadata": {
        "id": "JqgTzoIYkoPU"
      }
    },
    {
      "cell_type": "code",
      "source": [
        "L = 4\n",
        "yy11_44u = np.zeros( len(yy11)*L - (L-1) )\n",
        "yy11_44u[::4] = yy11                # Put our 11 kHz wave every 4th sample\n",
        "\n",
        "ipd.Audio(yy11_44u,rate=fs44)\n"
      ],
      "metadata": {
        "id": "4K1elF9X2WB8"
      },
      "execution_count": null,
      "outputs": []
    },
    {
      "cell_type": "code",
      "source": [
        "myPlot(yy11_44u[:200])"
      ],
      "metadata": {
        "id": "qLqgGh_DwanC"
      },
      "execution_count": null,
      "outputs": []
    },
    {
      "cell_type": "code",
      "source": [
        "f1, t1, Sxx = signal.spectrogram(yy11_44c, fs44, window='hann', nperseg=512, noverlap=256, nfft=512)\n",
        "\n",
        "fig = plt.figure(figsize=(16,6))\n",
        "#ax = plt.axes(xlim=(0,13),ylim=(0,5000))\n",
        "\n",
        "plt.pcolormesh(t1, f1, 20*np.log10(np.abs(Sxx)))\n",
        "plt.ylabel('Frequency (Hz)')\n",
        "plt.xlabel('Time (sec)')\n",
        "\n",
        "#plt.xlim(0,4)\n",
        "# plt.ylim(0,15000)\n",
        "\n",
        "#fig.savefig(path + username + '-Spectrogram-YY.png', dpi=200)\n",
        "plt.show()"
      ],
      "metadata": {
        "id": "w4KciDiVwpUw"
      },
      "execution_count": null,
      "outputs": []
    },
    {
      "cell_type": "markdown",
      "source": [
        "# Moving Average"
      ],
      "metadata": {
        "id": "pmzkvpvf0XGp"
      }
    },
    {
      "cell_type": "code",
      "source": [
        "L = 5  # Number of samples to average\n",
        "\n",
        "yy11_44_ma = np.zeros(len(yy11_44u))               # Create an output array of zeros\n",
        "\n",
        "for n in range(len(yy11_44u)-L):\n",
        "  yy11_44_ma[n] = np.sum(yy11_44u[n:n+L]) / L   # Compute moving average of L samples"
      ],
      "metadata": {
        "id": "q9bKNvb60BoT"
      },
      "execution_count": null,
      "outputs": []
    },
    {
      "cell_type": "code",
      "source": [
        "myPlot(yy11_44_ma[:200])\n",
        "ipd.Audio(y11_44_ma, rate=44100)"
      ],
      "metadata": {
        "id": "yu3E32cJ1vEm"
      },
      "execution_count": null,
      "outputs": []
    },
    {
      "cell_type": "markdown",
      "source": [
        "## Look at the moving average in the frequency domain"
      ],
      "metadata": {
        "id": "cd3EIwkam0Jr"
      }
    },
    {
      "cell_type": "code",
      "source": [
        "mv_avg = np.ones(L) / L\n",
        "\n",
        "myPlotFFT(mv_avg, n_fft=2048, win='rect')"
      ],
      "metadata": {
        "id": "zesyr-rD3yrV"
      },
      "execution_count": null,
      "outputs": []
    },
    {
      "cell_type": "code",
      "source": [
        "f1, t1, Sxx = signal.spectrogram(yy11_44_ma, fs44, window='hann', nperseg=512, noverlap=256, nfft=512)\n",
        "\n",
        "fig = plt.figure(figsize=(16,6))\n",
        "\n",
        "plt.pcolormesh(t1, f1, 20*np.log10(np.abs(Sxx)))\n",
        "plt.ylabel('Frequency (Hz)')\n",
        "plt.xlabel('Time (sec)')\n",
        "\n",
        "#fig.savefig(path + username + '-Spectrogram-YY_ma.png', dpi=200)\n",
        "plt.show()"
      ],
      "metadata": {
        "id": "KEtDnh_llvA8"
      },
      "execution_count": null,
      "outputs": []
    },
    {
      "cell_type": "markdown",
      "source": [
        "## mySpectrogram\n",
        "A simple wrapper to compute and plot the spectrogram of a signal with my default figure settings, a time x-axis (in seconds) and a frequency y-axis (in Hz), based on the Nyquist rate.\n",
        "* Required arguments:\n",
        "  * `sig` Input signal (first argument)\n",
        "* Optional arguments:\n",
        "  * `fs=#` Sample rate of signal (default: 44100 Hz)\n",
        "  * `win='window_name'` The type of analysis window to use (default: 'hann')\n",
        "  * `n_win=#` The length of window to use per frame (default: 1024)\n",
        "  * `n_fft=#` The size of FFT to use (default: 1024)\n",
        "  * `x_lim=# or (#,#)` x-axis limit or range (in seconds)\n",
        "  * `y_lim=# or (#,#)` y-axis limit or range (in Hz)\n",
        "  * `fig_size=(W,H)` Change figure dimensions (width, height)\n",
        "  * `x-ax=True/False` Show x-axis (default: True)\n",
        "  * `y-ax=True/False` Show y-axis (default: True)"
      ],
      "metadata": {
        "id": "kAxTI9wgkEs8"
      }
    },
    {
      "cell_type": "code",
      "source": [
        "def mySpectrogram(sig, fs=44100, win='hann', n_win=1024, olap=512, n_fft=1024, x_lim=0, y_lim=0, fig_size=(12,6), x_ax=True, y_ax=True):\n",
        "  f1, t1, Sxx = signal.spectrogram(sig, fs, window=win, nperseg=n_win, noverlap=olap, nfft=n_fft)\n",
        "\n",
        "  fig = plt.figure(figsize=fig_size)\n",
        "\n",
        "  S_mag = \n",
        "  S_dBFS = \n",
        "  \n",
        "  plt.pcolormesh(t1, f1, S_dBFS)\n",
        "  plt.ylabel('Frequency (Hz)')\n",
        "  plt.xlabel('Time (sec)')\n",
        "\n",
        "  if np.isscalar(x_lim):\n",
        "    if x_lim == 0:\n",
        "      x_lim = len(sig) / fs\n",
        "    plt.xlim(0, x_lim)\n",
        "  else:\n",
        "    plt.xlim(x_lim)\n",
        "\n",
        "  if np.isscalar(y_lim):\n",
        "    if y_lim == 0:\n",
        "      y_lim = fs/2\n",
        "    plt.ylim(0, y_lim)\n",
        "  else:\n",
        "    plt.ylim(y_lim)\n",
        "\n",
        "  ax = plt.gca()\n",
        "  if x_ax == False:\n",
        "    ax.xaxis.set_visible(False)\n",
        "  if y_ax == False:\n",
        "    ax.yaxis.set_visible(False)\n",
        "  fig.tight_layout()\n",
        "\n",
        "  plt.ion()\n",
        "  \n",
        "  # Returning the figure causes issues with interactive matplotlib\n",
        "  #return fig\n",
        "  # For saving the figure, use the interactive buton, instead.\n",
        "  # For further customization and command-line saving, more changes are required."
      ],
      "metadata": {
        "id": "gaonAlsvmEbT"
      },
      "execution_count": null,
      "outputs": []
    },
    {
      "cell_type": "code",
      "source": [
        "mySpectrogram(yy11_44_ma)"
      ],
      "metadata": {
        "id": "Sw_NbP72z1YN"
      },
      "execution_count": null,
      "outputs": []
    }
  ]
}